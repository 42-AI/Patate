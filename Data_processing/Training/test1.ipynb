{
 "cells": [
  {
   "cell_type": "code",
   "execution_count": 1,
   "metadata": {},
   "outputs": [
    {
     "name": "stderr",
     "output_type": "stream",
     "text": [
      "Using TensorFlow backend.\n"
     ]
    }
   ],
   "source": [
    "from os import listdir\n",
    "from keras.preprocessing.image import load_img\n",
    "from keras.preprocessing.image import img_to_array\n",
    "from PIL import Image\n",
    "import numpy as np\n",
    "import pandas as pd\n",
    "%matplotlib inline\n",
    "import matplotlib.pyplot as plt"
   ]
  },
  {
   "cell_type": "code",
   "execution_count": 2,
   "metadata": {},
   "outputs": [],
   "source": [
    "def load_photos(directory):\n",
    "    images = []\n",
    "    labels1 = []\n",
    "    labels2 = []\n",
    "    for name in listdir(directory):\n",
    "        filename = directory + '/' + name\n",
    "        # convert image to gray\n",
    "        img = Image.open(filename).convert('L')\n",
    "        img.save(filename)\n",
    "        # load an image from file\n",
    "        image = load_img(filename, target_size=(160, 128), grayscale=True)\n",
    "        # convert the image pixels to a numpy array\n",
    "        image = img_to_array(image)\n",
    "        # get image id + labels\n",
    "        labels1.append(round(float(name.split('_')[0].split('-')[0]), 1))\n",
    "        labels2.append(round(float(name.split('_')[0].split('-')[1]), 1))\n",
    "        images.append(image)\n",
    "    return images, labels1, labels2"
   ]
  },
  {
   "cell_type": "code",
   "execution_count": 3,
   "metadata": {},
   "outputs": [
    {
     "name": "stdout",
     "output_type": "stream",
     "text": [
      "Loaded Images and labels for training: 824\n",
      "Loaded Images and labels for validation: 240\n"
     ]
    }
   ],
   "source": [
    "# load images from both train and test groups\n",
    "directory = '../data/Patate_Pics/Training'\n",
    "images, labels1, labels2 = load_photos(directory)\n",
    "nb_images = len(images)\n",
    "print('Loaded Images and labels for training: %d' % nb_images)\n",
    "directory = '../data/Patate_Pics/Validation'\n",
    "images_val, labels1_val, labels2_val = load_photos(directory)\n",
    "nb_images_val = len(images_val)\n",
    "print('Loaded Images and labels for validation: %d' % nb_images_val)"
   ]
  },
  {
   "cell_type": "code",
   "execution_count": 4,
   "metadata": {
    "scrolled": false
   },
   "outputs": [],
   "source": [
    "#normalise datas\n",
    "images = np.array(images)\n",
    "images /= 255\n",
    "images_val = np.array(images_val)\n",
    "images_val /= 255"
   ]
  },
  {
   "cell_type": "code",
   "execution_count": 5,
   "metadata": {},
   "outputs": [],
   "source": [
    "#convert to np.array\n",
    "labels1 = np.array(labels1)\n",
    "labels2 = np.array(labels2)\n",
    "labels1_val = np.array(labels1_val)\n",
    "labels2_val = np.array(labels2_val)"
   ]
  },
  {
   "cell_type": "code",
   "execution_count": null,
   "metadata": {},
   "outputs": [],
   "source": []
  },
  {
   "cell_type": "code",
   "execution_count": 6,
   "metadata": {},
   "outputs": [],
   "source": [
    "#convert datas to dummyvalues\n",
    "labels1d = pd.get_dummies(labels1)\n",
    "labels2d = pd.get_dummies(labels2)"
   ]
  },
  {
   "cell_type": "code",
   "execution_count": 7,
   "metadata": {},
   "outputs": [
    {
     "data": {
      "text/plain": [
       "((824, 9), (824, 9))"
      ]
     },
     "execution_count": 7,
     "metadata": {},
     "output_type": "execute_result"
    }
   ],
   "source": [
    "labels1d.shape, labels2d.shape"
   ]
  },
  {
   "cell_type": "code",
   "execution_count": 8,
   "metadata": {},
   "outputs": [
    {
     "data": {
      "text/plain": [
       "(     0.1  0.2  0.3  0.4  0.5  0.6  0.7  0.8  0.9  1.0\n",
       " 0      0    1    0    0    0    0    0    0    0    0\n",
       " 1      0    0    1    0    0    0    0    0    0    0\n",
       " 2      0    0    1    0    0    0    0    0    0    0\n",
       " 3      0    0    1    0    0    0    0    0    0    0\n",
       " 4      0    0    1    0    0    0    0    0    0    0\n",
       " 5      0    0    1    0    0    0    0    0    0    0\n",
       " 6      0    0    1    0    0    0    0    0    0    0\n",
       " 7      0    0    0    1    0    0    0    0    0    0\n",
       " 8      0    0    0    1    0    0    0    0    0    0\n",
       " 9      0    0    0    1    0    0    0    0    0    0\n",
       " 10     0    0    0    1    0    0    0    0    0    0\n",
       " 11     0    0    0    0    1    0    0    0    0    0\n",
       " 12     0    0    0    0    1    0    0    0    0    0\n",
       " 13     0    0    0    0    1    0    0    0    0    0\n",
       " 14     0    0    0    0    1    0    0    0    0    0\n",
       " 15     0    0    0    0    1    0    0    0    0    0\n",
       " 16     0    0    0    0    1    0    0    0    0    0\n",
       " 17     0    0    0    0    1    0    0    0    0    0\n",
       " 18     0    0    0    0    1    0    0    0    0    0\n",
       " 19     0    0    0    0    1    0    0    0    0    0\n",
       " 20     0    0    0    0    1    0    0    0    0    0\n",
       " 21     0    0    0    0    1    0    0    0    0    0\n",
       " 22     0    0    0    0    1    0    0    0    0    0\n",
       " 23     0    0    0    0    1    0    0    0    0    0\n",
       " 24     0    0    0    0    1    0    0    0    0    0\n",
       " 25     0    0    0    0    1    0    0    0    0    0\n",
       " 26     0    0    0    0    1    0    0    0    0    0\n",
       " 27     0    0    0    0    1    0    0    0    0    0\n",
       " 28     0    0    0    0    1    0    0    0    0    0\n",
       " 29     0    0    0    0    1    0    0    0    0    0\n",
       " ..   ...  ...  ...  ...  ...  ...  ...  ...  ...  ...\n",
       " 794    0    0    0    0    0    0    0    0    1    0\n",
       " 795    0    0    0    0    0    0    0    0    1    0\n",
       " 796    0    0    0    0    0    0    0    0    1    0\n",
       " 797    0    0    0    0    0    0    0    0    1    0\n",
       " 798    0    0    0    0    0    0    0    0    1    0\n",
       " 799    0    0    0    0    0    0    0    0    1    0\n",
       " 800    0    0    0    0    0    0    0    0    1    0\n",
       " 801    0    0    0    0    0    0    0    0    1    0\n",
       " 802    0    0    0    0    0    0    0    0    1    0\n",
       " 803    0    0    0    0    0    0    0    0    1    0\n",
       " 804    0    0    0    0    0    0    0    0    1    0\n",
       " 805    0    0    0    0    0    0    0    0    1    0\n",
       " 806    0    0    0    0    0    0    0    0    1    0\n",
       " 807    0    0    0    0    0    0    0    0    1    0\n",
       " 808    0    0    0    0    0    0    0    0    0    1\n",
       " 809    0    0    0    0    0    0    0    0    0    1\n",
       " 810    0    0    0    0    0    0    0    0    0    1\n",
       " 811    0    0    0    0    0    0    0    0    0    1\n",
       " 812    0    0    0    0    0    0    0    0    0    1\n",
       " 813    0    0    0    0    0    0    0    0    0    1\n",
       " 814    0    0    0    0    0    0    0    0    0    1\n",
       " 815    0    0    0    0    0    0    0    0    0    1\n",
       " 816    0    0    0    0    0    0    0    0    0    1\n",
       " 817    0    0    0    0    0    0    0    0    0    1\n",
       " 818    0    0    0    0    0    0    0    0    0    1\n",
       " 819    0    0    0    0    0    0    0    0    0    1\n",
       " 820    0    0    0    0    0    0    0    0    0    1\n",
       " 821    0    0    0    0    0    0    0    0    0    1\n",
       " 822    0    0    0    0    0    0    0    0    0    1\n",
       " 823    0    0    0    0    0    0    0    0    0    1\n",
       " \n",
       " [824 rows x 10 columns],      0.1  0.2  0.3  0.4  0.5  0.6  0.7  0.8  0.9  1.0\n",
       " 0      0    0    0    0    0    1    0    0    0    0\n",
       " 1      0    0    1    0    0    0    0    0    0    0\n",
       " 2      0    0    0    0    0    1    0    0    0    0\n",
       " 3      0    0    0    0    0    1    0    0    0    0\n",
       " 4      0    0    1    0    0    0    0    0    0    0\n",
       " 5      0    0    0    0    0    0    1    0    0    0\n",
       " 6      0    0    0    0    0    0    1    0    0    0\n",
       " 7      0    0    0    0    0    1    0    0    0    0\n",
       " 8      0    0    0    0    0    1    0    0    0    0\n",
       " 9      0    1    0    0    0    0    0    0    0    0\n",
       " 10     0    0    0    0    0    0    1    0    0    0\n",
       " 11     0    0    1    0    0    0    0    0    0    0\n",
       " 12     0    0    0    1    0    0    0    0    0    0\n",
       " 13     0    0    0    1    0    0    0    0    0    0\n",
       " 14     0    0    0    0    1    0    0    0    0    0\n",
       " 15     0    0    0    0    1    0    0    0    0    0\n",
       " 16     0    0    0    1    0    0    0    0    0    0\n",
       " 17     0    0    0    0    1    0    0    0    0    0\n",
       " 18     0    0    0    0    0    0    1    0    0    0\n",
       " 19     0    0    1    0    0    0    0    0    0    0\n",
       " 20     0    0    0    0    1    0    0    0    0    0\n",
       " 21     0    0    0    0    1    0    0    0    0    0\n",
       " 22     0    0    0    0    1    0    0    0    0    0\n",
       " 23     0    0    0    0    0    0    1    0    0    0\n",
       " 24     0    0    0    0    0    0    1    0    0    0\n",
       " 25     0    0    0    0    0    0    1    0    0    0\n",
       " 26     0    0    0    1    0    0    0    0    0    0\n",
       " 27     0    0    0    0    1    0    0    0    0    0\n",
       " 28     0    0    0    0    1    0    0    0    0    0\n",
       " 29     0    0    0    0    0    1    0    0    0    0\n",
       " ..   ...  ...  ...  ...  ...  ...  ...  ...  ...  ...\n",
       " 794    0    0    0    0    0    0    0    1    0    0\n",
       " 795    0    0    0    0    0    0    0    0    0    1\n",
       " 796    0    0    0    0    0    0    0    0    0    1\n",
       " 797    0    0    0    0    0    0    0    1    0    0\n",
       " 798    0    0    0    0    0    0    0    0    1    0\n",
       " 799    0    0    0    0    0    0    0    0    1    0\n",
       " 800    0    0    0    0    0    0    0    1    0    0\n",
       " 801    0    0    0    0    0    0    0    0    1    0\n",
       " 802    0    0    0    0    0    0    0    0    0    1\n",
       " 803    0    0    0    0    0    0    1    0    0    0\n",
       " 804    0    0    0    0    0    0    0    1    0    0\n",
       " 805    0    0    0    0    0    0    0    0    1    0\n",
       " 806    0    0    0    0    0    0    0    0    1    0\n",
       " 807    0    0    0    0    0    0    0    0    0    1\n",
       " 808    0    0    0    0    0    0    0    1    0    0\n",
       " 809    0    0    0    0    0    0    0    0    1    0\n",
       " 810    0    0    0    0    0    0    0    0    1    0\n",
       " 811    0    0    0    0    0    0    0    0    1    0\n",
       " 812    0    0    0    0    0    0    0    1    0    0\n",
       " 813    0    0    0    0    0    0    0    1    0    0\n",
       " 814    0    0    0    0    0    0    0    0    1    0\n",
       " 815    0    0    0    0    0    0    0    0    0    1\n",
       " 816    0    0    0    0    0    0    0    0    1    0\n",
       " 817    0    0    0    0    0    0    0    0    1    0\n",
       " 818    0    0    0    0    0    0    0    0    1    0\n",
       " 819    0    0    0    0    0    0    0    0    0    1\n",
       " 820    0    0    0    0    0    0    1    0    0    0\n",
       " 821    0    0    0    0    0    0    0    1    0    0\n",
       " 822    0    0    0    0    0    0    0    1    0    0\n",
       " 823    0    0    0    0    0    0    0    0    1    0\n",
       " \n",
       " [824 rows x 10 columns])"
      ]
     },
     "execution_count": 8,
     "metadata": {},
     "output_type": "execute_result"
    }
   ],
   "source": [
    "#append empty columns\n",
    "labels1d.insert(0, column='0.1', value=0, allow_duplicates=False)\n",
    "labels2d.insert(0, column='0.1', value=0, allow_duplicates=False)\n",
    "labels1d, labels2d"
   ]
  },
  {
   "cell_type": "code",
   "execution_count": 9,
   "metadata": {},
   "outputs": [],
   "source": [
    "#convert to np.array again\n",
    "labels1d = np.array(labels1d)\n",
    "labels2d = np.array(labels2d)"
   ]
  },
  {
   "cell_type": "code",
   "execution_count": 10,
   "metadata": {},
   "outputs": [
    {
     "data": {
      "text/plain": [
       "(0.29999999999999999, array([0, 0, 1, 0, 0, 0, 0, 0, 0, 0], dtype=int64))"
      ]
     },
     "execution_count": 10,
     "metadata": {},
     "output_type": "execute_result"
    }
   ],
   "source": [
    "#check if OK\n",
    "labels1[1], labels1d[1]"
   ]
  },
  {
   "cell_type": "code",
   "execution_count": 11,
   "metadata": {},
   "outputs": [],
   "source": [
    "from keras.models import Model\n",
    "from keras.layers import *\n",
    "import keras.backend as K\n",
    "import keras.optimizers as Optimizers"
   ]
  },
  {
   "cell_type": "code",
   "execution_count": 12,
   "metadata": {
    "scrolled": true
   },
   "outputs": [],
   "source": [
    "K.clear_session()\n",
    "\n",
    "img_in = Input(shape=(160, 128, 1), name='img_in')\n",
    "\n",
    "x = img_in\n",
    "\n",
    "x = Conv2D(8, (3, 3), padding='same', activation='relu')(x)\n",
    "x = MaxPooling2D(pool_size=(2, 2))(x)\n",
    "\n",
    "x = Conv2D(16, (3, 3), padding='same', activation='relu')(x)\n",
    "x = MaxPooling2D(pool_size=(2, 2))(x)\n",
    "\n",
    "x = Conv2D(32, (3, 3), padding='same', activation='relu')(x)\n",
    "x = MaxPooling2D(pool_size=(2, 2))(x)\n",
    "\n",
    "x = Conv2D(64, (3, 3), padding='same', activation='relu')(x)\n",
    "x = MaxPooling2D(pool_size=(2, 2))(x)\n",
    "\n",
    "x = Conv2D(128, (3, 3), padding='same', activation='relu')(x)\n",
    "x = MaxPooling2D(pool_size=(2, 2))(x)\n",
    "\n",
    "flat = Flatten()(x)\n",
    "\n",
    "out1 = Dense(10, activation='softmax')(flat)\n",
    "out2 = Dense(10, activation='softmax')(flat)\n",
    "\n",
    "model = Model(inputs=[img_in], outputs=[out1, out2])\n",
    "model.compile(loss=['categorical_crossentropy', 'categorical_crossentropy'], optimizer='adadelta', metrics=['accuracy'])"
   ]
  },
  {
   "cell_type": "code",
   "execution_count": 13,
   "metadata": {
    "scrolled": true
   },
   "outputs": [
    {
     "name": "stdout",
     "output_type": "stream",
     "text": [
      "____________________________________________________________________________________________________\n",
      "Layer (type)                     Output Shape          Param #     Connected to                     \n",
      "====================================================================================================\n",
      "img_in (InputLayer)              (None, 160, 128, 1)   0                                            \n",
      "____________________________________________________________________________________________________\n",
      "conv2d_1 (Conv2D)                (None, 160, 128, 8)   80          img_in[0][0]                     \n",
      "____________________________________________________________________________________________________\n",
      "max_pooling2d_1 (MaxPooling2D)   (None, 80, 64, 8)     0           conv2d_1[0][0]                   \n",
      "____________________________________________________________________________________________________\n",
      "conv2d_2 (Conv2D)                (None, 80, 64, 16)    1168        max_pooling2d_1[0][0]            \n",
      "____________________________________________________________________________________________________\n",
      "max_pooling2d_2 (MaxPooling2D)   (None, 40, 32, 16)    0           conv2d_2[0][0]                   \n",
      "____________________________________________________________________________________________________\n",
      "conv2d_3 (Conv2D)                (None, 40, 32, 32)    4640        max_pooling2d_2[0][0]            \n",
      "____________________________________________________________________________________________________\n",
      "max_pooling2d_3 (MaxPooling2D)   (None, 20, 16, 32)    0           conv2d_3[0][0]                   \n",
      "____________________________________________________________________________________________________\n",
      "conv2d_4 (Conv2D)                (None, 20, 16, 64)    18496       max_pooling2d_3[0][0]            \n",
      "____________________________________________________________________________________________________\n",
      "max_pooling2d_4 (MaxPooling2D)   (None, 10, 8, 64)     0           conv2d_4[0][0]                   \n",
      "____________________________________________________________________________________________________\n",
      "conv2d_5 (Conv2D)                (None, 10, 8, 128)    73856       max_pooling2d_4[0][0]            \n",
      "____________________________________________________________________________________________________\n",
      "max_pooling2d_5 (MaxPooling2D)   (None, 5, 4, 128)     0           conv2d_5[0][0]                   \n",
      "____________________________________________________________________________________________________\n",
      "flatten_1 (Flatten)              (None, 2560)          0           max_pooling2d_5[0][0]            \n",
      "____________________________________________________________________________________________________\n",
      "dense_1 (Dense)                  (None, 10)            25610       flatten_1[0][0]                  \n",
      "____________________________________________________________________________________________________\n",
      "dense_2 (Dense)                  (None, 10)            25610       flatten_1[0][0]                  \n",
      "====================================================================================================\n",
      "Total params: 149,460\n",
      "Trainable params: 149,460\n",
      "Non-trainable params: 0\n",
      "____________________________________________________________________________________________________\n"
     ]
    }
   ],
   "source": [
    "model.summary()"
   ]
  },
  {
   "cell_type": "code",
   "execution_count": 14,
   "metadata": {},
   "outputs": [
    {
     "name": "stdout",
     "output_type": "stream",
     "text": [
      "Epoch 1/50\n",
      "824/824 [==============================] - 17s - loss: 3.4210 - dense_1_loss: 1.6541 - dense_2_loss: 1.7669 - dense_1_acc: 0.3046 - dense_2_acc: 0.2973    \n",
      "Epoch 2/50\n",
      "824/824 [==============================] - 21s - loss: 3.3423 - dense_1_loss: 1.6118 - dense_2_loss: 1.7305 - dense_1_acc: 0.3155 - dense_2_acc: 0.2864    \n",
      "Epoch 3/50\n",
      "824/824 [==============================] - 23s - loss: 3.3037 - dense_1_loss: 1.5995 - dense_2_loss: 1.7042 - dense_1_acc: 0.3337 - dense_2_acc: 0.3131    \n",
      "Epoch 4/50\n",
      "824/824 [==============================] - 23s - loss: 3.2386 - dense_1_loss: 1.5793 - dense_2_loss: 1.6593 - dense_1_acc: 0.3592 - dense_2_acc: 0.3301    \n",
      "Epoch 5/50\n",
      "824/824 [==============================] - 23s - loss: 3.1724 - dense_1_loss: 1.5562 - dense_2_loss: 1.6162 - dense_1_acc: 0.3604 - dense_2_acc: 0.3495    \n",
      "Epoch 6/50\n",
      "824/824 [==============================] - 21s - loss: 3.0996 - dense_1_loss: 1.5214 - dense_2_loss: 1.5782 - dense_1_acc: 0.3677 - dense_2_acc: 0.3823    \n",
      "Epoch 7/50\n",
      "824/824 [==============================] - 22s - loss: 3.0511 - dense_1_loss: 1.5129 - dense_2_loss: 1.5382 - dense_1_acc: 0.3871 - dense_2_acc: 0.3908    \n",
      "Epoch 8/50\n",
      "824/824 [==============================] - 23s - loss: 2.9768 - dense_1_loss: 1.4617 - dense_2_loss: 1.5151 - dense_1_acc: 0.4260 - dense_2_acc: 0.3968    \n",
      "Epoch 9/50\n",
      "824/824 [==============================] - 23s - loss: 2.9362 - dense_1_loss: 1.4428 - dense_2_loss: 1.4934 - dense_1_acc: 0.4235 - dense_2_acc: 0.4175    \n",
      "Epoch 10/50\n",
      "824/824 [==============================] - 21s - loss: 2.8875 - dense_1_loss: 1.4182 - dense_2_loss: 1.4692 - dense_1_acc: 0.4393 - dense_2_acc: 0.4320    \n",
      "Epoch 11/50\n",
      "824/824 [==============================] - 22s - loss: 2.8246 - dense_1_loss: 1.3868 - dense_2_loss: 1.4378 - dense_1_acc: 0.4539 - dense_2_acc: 0.4539    \n",
      "Epoch 12/50\n",
      "824/824 [==============================] - 22s - loss: 2.7555 - dense_1_loss: 1.3507 - dense_2_loss: 1.4048 - dense_1_acc: 0.4806 - dense_2_acc: 0.4575    \n",
      "Epoch 13/50\n",
      "824/824 [==============================] - 22s - loss: 2.7017 - dense_1_loss: 1.3233 - dense_2_loss: 1.3784 - dense_1_acc: 0.4794 - dense_2_acc: 0.4891    \n",
      "Epoch 14/50\n",
      "824/824 [==============================] - 22s - loss: 2.6145 - dense_1_loss: 1.2773 - dense_2_loss: 1.3372 - dense_1_acc: 0.5279 - dense_2_acc: 0.5024    \n",
      "Epoch 15/50\n",
      "824/824 [==============================] - 23s - loss: 2.5210 - dense_1_loss: 1.2323 - dense_2_loss: 1.2888 - dense_1_acc: 0.5473 - dense_2_acc: 0.5291    \n",
      "Epoch 16/50\n",
      "824/824 [==============================] - 21s - loss: 2.4480 - dense_1_loss: 1.1992 - dense_2_loss: 1.2488 - dense_1_acc: 0.5607 - dense_2_acc: 0.5534    \n",
      "Epoch 17/50\n",
      "824/824 [==============================] - 23s - loss: 2.2790 - dense_1_loss: 1.1164 - dense_2_loss: 1.1626 - dense_1_acc: 0.6032 - dense_2_acc: 0.5752    \n",
      "Epoch 18/50\n",
      "824/824 [==============================] - 22s - loss: 2.1392 - dense_1_loss: 1.0511 - dense_2_loss: 1.0881 - dense_1_acc: 0.6274 - dense_2_acc: 0.6056    \n",
      "Epoch 19/50\n",
      "824/824 [==============================] - 23s - loss: 1.9484 - dense_1_loss: 0.9745 - dense_2_loss: 0.9739 - dense_1_acc: 0.6614 - dense_2_acc: 0.6529    \n",
      "Epoch 20/50\n",
      "824/824 [==============================] - 21s - loss: 1.7589 - dense_1_loss: 0.8831 - dense_2_loss: 0.8758 - dense_1_acc: 0.6954 - dense_2_acc: 0.7027    \n",
      "Epoch 21/50\n",
      "824/824 [==============================] - 22s - loss: 1.5654 - dense_1_loss: 0.7876 - dense_2_loss: 0.7779 - dense_1_acc: 0.7184 - dense_2_acc: 0.7464    \n",
      "Epoch 22/50\n",
      "824/824 [==============================] - 22s - loss: 1.3541 - dense_1_loss: 0.6893 - dense_2_loss: 0.6647 - dense_1_acc: 0.7718 - dense_2_acc: 0.7670    \n",
      "Epoch 23/50\n",
      "824/824 [==============================] - 22s - loss: 1.1641 - dense_1_loss: 0.5891 - dense_2_loss: 0.5751 - dense_1_acc: 0.8167 - dense_2_acc: 0.8192    \n",
      "Epoch 24/50\n",
      "824/824 [==============================] - 23s - loss: 0.9945 - dense_1_loss: 0.5115 - dense_2_loss: 0.4830 - dense_1_acc: 0.8313 - dense_2_acc: 0.8374    \n",
      "Epoch 25/50\n",
      "824/824 [==============================] - 23s - loss: 0.8471 - dense_1_loss: 0.4177 - dense_2_loss: 0.4293 - dense_1_acc: 0.8665 - dense_2_acc: 0.8786    \n",
      "Epoch 26/50\n",
      "824/824 [==============================] - 21s - loss: 0.6773 - dense_1_loss: 0.3585 - dense_2_loss: 0.3188 - dense_1_acc: 0.8908 - dense_2_acc: 0.9029    \n",
      "Epoch 27/50\n",
      "824/824 [==============================] - 22s - loss: 0.5503 - dense_1_loss: 0.2968 - dense_2_loss: 0.2535 - dense_1_acc: 0.9138 - dense_2_acc: 0.9223    \n",
      "Epoch 28/50\n",
      "824/824 [==============================] - 22s - loss: 0.4287 - dense_1_loss: 0.2265 - dense_2_loss: 0.2023 - dense_1_acc: 0.9284 - dense_2_acc: 0.9381    \n",
      "Epoch 29/50\n",
      "824/824 [==============================] - 23s - loss: 0.3307 - dense_1_loss: 0.1761 - dense_2_loss: 0.1546 - dense_1_acc: 0.9442 - dense_2_acc: 0.9575    \n",
      "Epoch 30/50\n",
      "824/824 [==============================] - 23s - loss: 0.2506 - dense_1_loss: 0.1279 - dense_2_loss: 0.1227 - dense_1_acc: 0.9587 - dense_2_acc: 0.9721    \n",
      "Epoch 31/50\n",
      "824/824 [==============================] - 23s - loss: 0.1804 - dense_1_loss: 0.0932 - dense_2_loss: 0.0872 - dense_1_acc: 0.9733 - dense_2_acc: 0.9745    \n",
      "Epoch 32/50\n",
      "824/824 [==============================] - 22s - loss: 0.1342 - dense_1_loss: 0.0809 - dense_2_loss: 0.0533 - dense_1_acc: 0.9794 - dense_2_acc: 0.9842    \n",
      "Epoch 33/50\n",
      "824/824 [==============================] - 23s - loss: 0.1113 - dense_1_loss: 0.0634 - dense_2_loss: 0.0479 - dense_1_acc: 0.9842 - dense_2_acc: 0.9891    \n",
      "Epoch 34/50\n",
      "824/824 [==============================] - 23s - loss: 0.0616 - dense_1_loss: 0.0335 - dense_2_loss: 0.0282 - dense_1_acc: 0.9939 - dense_2_acc: 0.9964    \n",
      "Epoch 35/50\n",
      "824/824 [==============================] - 23s - loss: 0.0715 - dense_1_loss: 0.0366 - dense_2_loss: 0.0349 - dense_1_acc: 0.9879 - dense_2_acc: 0.9903    \n",
      "Epoch 36/50\n",
      "824/824 [==============================] - 21s - loss: 0.0742 - dense_1_loss: 0.0474 - dense_2_loss: 0.0268 - dense_1_acc: 0.9842 - dense_2_acc: 0.9976    \n",
      "Epoch 37/50\n",
      "824/824 [==============================] - 22s - loss: 0.0382 - dense_1_loss: 0.0241 - dense_2_loss: 0.0141 - dense_1_acc: 0.9915 - dense_2_acc: 0.9964    \n",
      "Epoch 38/50\n",
      "824/824 [==============================] - 22s - loss: 0.0267 - dense_1_loss: 0.0170 - dense_2_loss: 0.0097 - dense_1_acc: 0.9964 - dense_2_acc: 0.9976    \n",
      "Epoch 39/50\n",
      "824/824 [==============================] - 22s - loss: 0.0585 - dense_1_loss: 0.0491 - dense_2_loss: 0.0094 - dense_1_acc: 0.9891 - dense_2_acc: 0.9976    \n",
      "Epoch 40/50\n",
      "824/824 [==============================] - 22s - loss: 0.0326 - dense_1_loss: 0.0245 - dense_2_loss: 0.0081 - dense_1_acc: 0.9964 - dense_2_acc: 0.9964    \n",
      "Epoch 41/50\n",
      "824/824 [==============================] - 22s - loss: 0.0091 - dense_1_loss: 0.0053 - dense_2_loss: 0.0039 - dense_1_acc: 0.9988 - dense_2_acc: 1.0000    \n",
      "Epoch 42/50\n",
      "824/824 [==============================] - 22s - loss: 0.0249 - dense_1_loss: 0.0131 - dense_2_loss: 0.0117 - dense_1_acc: 0.9964 - dense_2_acc: 0.9976    \n",
      "Epoch 43/50\n",
      "824/824 [==============================] - 22s - loss: 0.0704 - dense_1_loss: 0.0467 - dense_2_loss: 0.0237 - dense_1_acc: 0.9891 - dense_2_acc: 0.9939    \n",
      "Epoch 44/50\n",
      "824/824 [==============================] - 23s - loss: 0.0213 - dense_1_loss: 0.0096 - dense_2_loss: 0.0117 - dense_1_acc: 0.9976 - dense_2_acc: 0.9964    \n",
      "Epoch 45/50\n",
      "824/824 [==============================] - 23s - loss: 0.0055 - dense_1_loss: 0.0014 - dense_2_loss: 0.0042 - dense_1_acc: 1.0000 - dense_2_acc: 0.9988    \n",
      "Epoch 46/50\n",
      "824/824 [==============================] - 21s - loss: 0.0961 - dense_1_loss: 0.0611 - dense_2_loss: 0.0350 - dense_1_acc: 0.9915 - dense_2_acc: 0.9939    \n",
      "Epoch 47/50\n",
      "824/824 [==============================] - 22s - loss: 0.0070 - dense_1_loss: 0.0033 - dense_2_loss: 0.0037 - dense_1_acc: 0.9988 - dense_2_acc: 0.9988    \n",
      "Epoch 48/50\n",
      "824/824 [==============================] - 23s - loss: 0.0124 - dense_1_loss: 0.0115 - dense_2_loss: 8.3922e-04 - dense_1_acc: 0.9976 - dense_2_acc: 1.0000    \n",
      "Epoch 49/50\n"
     ]
    },
    {
     "name": "stdout",
     "output_type": "stream",
     "text": [
      "824/824 [==============================] - 23s - loss: 0.0101 - dense_1_loss: 0.0098 - dense_2_loss: 3.0614e-04 - dense_1_acc: 0.9976 - dense_2_acc: 1.0000    \n",
      "Epoch 50/50\n",
      "824/824 [==============================] - 23s - loss: 0.0313 - dense_1_loss: 0.0084 - dense_2_loss: 0.0229 - dense_1_acc: 0.9964 - dense_2_acc: 0.9964    \n"
     ]
    }
   ],
   "source": [
    "h = model.fit(images, [labels1d, labels2d], batch_size=1, epochs=50, verbose=1)"
   ]
  },
  {
   "cell_type": "code",
   "execution_count": 44,
   "metadata": {},
   "outputs": [
    {
     "data": {
      "text/plain": [
       "<matplotlib.axes._subplots.AxesSubplot at 0x1da2e107f28>"
      ]
     },
     "execution_count": 44,
     "metadata": {},
     "output_type": "execute_result"
    },
    {
     "data": {
      "image/png": "[encoded data removed]",
      "text/plain": [
       "<matplotlib.figure.Figure at 0x1da2e115860>"
      ]
     },
     "metadata": {},
     "output_type": "display_data"
    }
   ],
   "source": [
    "#print History graph\n",
    "historydf = pd.DataFrame(h.history, index=h.epoch)\n",
    "historydf.plot(ylim=(0,1))"
   ]
  },
  {
   "cell_type": "code",
   "execution_count": 46,
   "metadata": {},
   "outputs": [
    {
     "data": {
      "text/plain": [
       "(array([ 8,  5,  6,  8,  6,  6,  6,  8,  6,  7,  6,  7,  8,  8,  8,  6,  7,\n",
       "         9,  6,  7,  7,  7,  7,  9,  7,  7,  6,  7,  7,  8,  7,  7,  8,  8,\n",
       "         8,  7,  6,  8,  6,  8,  9,  7,  8,  9,  7,  8,  7,  7,  8,  8,  8,\n",
       "         7,  9,  8,  7,  7,  8,  8,  8,  7,  7,  7,  8,  7,  8,  8,  8,  8,\n",
       "         7, 10,  7,  8,  7,  9,  9,  8,  7,  9,  9,  8,  7,  7,  8,  6,  9,\n",
       "         6,  9,  8,  8,  7,  8,  7,  7,  7,  9,  7, 10,  9,  7,  7,  7,  6,\n",
       "         9,  8, 10], dtype=int64),\n",
       " array([ 0.5,  0.7,  0.7,  0.6,  0.7,  0.7,  0.7,  0.8,  0.8,  0.6,  0.9,\n",
       "         0.5,  0.5,  0.6,  0.6,  0.7,  0.7,  0.7,  0.7,  0.7,  0.9,  0.3,\n",
       "         0.5,  0.7,  0.7,  0.5,  0.5,  0.5,  0.6,  0.6,  0.5,  0.5,  0.7,\n",
       "         0.7,  0.8,  0.8,  0.8,  0.8,  0.8,  0.8,  0.8,  0.8,  0.8,  0.8,\n",
       "         0.9,  0.7,  0.7,  0.8,  0.8,  0.8,  0.8,  0.8,  0.8,  0.8,  0.8,\n",
       "         0.8,  0.8,  0.8,  0.8,  0.8,  0.6,  0.6,  0.7,  0.7,  0.7,  0.7,\n",
       "         0.7,  0.7,  0.7,  0.8,  0.7,  0.7,  0.7,  0.8,  0.8,  0.8,  0.8,\n",
       "         0.8,  0.8,  0.8,  0.7,  0.7,  0.8,  0.8,  0.8,  0.9,  0.9,  0.9,\n",
       "         0.7,  0.8,  0.9,  0.9,  1. ,  1. ,  0.8,  0.8,  0.8,  0.8,  0.8,\n",
       "         0.8,  0.7,  0.8,  0.8,  0.8,  0.9]),\n",
       " array([ 8,  8,  9, 10,  8,  6,  9,  8,  8,  9,  8,  7,  7,  6,  7,  6,  7,\n",
       "         8,  8,  8,  8,  5,  6,  7,  8,  7,  6,  8,  6,  6,  5,  7,  8,  8,\n",
       "         9,  7,  7,  8,  8,  8,  7,  8,  9,  9,  8,  7,  7,  7,  8,  9,  8,\n",
       "         8,  8,  8,  9,  9,  8,  8,  8,  7,  7,  5,  7,  7,  6,  6,  8,  8,\n",
       "         7,  6,  6,  7,  7,  8,  9,  8,  8,  6,  9,  8,  7,  5,  8,  7,  9,\n",
       "         5,  8,  9,  8,  6,  9,  9,  9,  8,  8,  8,  9,  4,  8,  7,  6,  8,\n",
       "         7,  7,  6], dtype=int64),\n",
       " array([ 0.4,  0.4,  0.4,  0.4,  0.4,  0.6,  0.6,  0.6,  0.6,  0.6,  0.6,\n",
       "         0.6,  0.6,  0.6,  0.6,  0.6,  0.6,  0.6,  0.6,  0.6,  0.7,  0.7,\n",
       "         0.7,  0.7,  0.7,  0.7,  0.7,  0.7,  0.7,  0.7,  0.7,  0.7,  0.7,\n",
       "         0.7,  0.7,  0.7,  0.7,  0.7,  0.7,  0.7,  0.7,  0.7,  0.7,  0.7,\n",
       "         0.7,  0.7,  0.7,  0.7,  0.7,  0.7,  0.8,  0.8,  0.8,  0.8,  0.8,\n",
       "         0.8,  0.8,  0.8,  0.8,  0.8,  0.8,  0.8,  0.8,  0.8,  0.8,  0.8,\n",
       "         0.8,  0.8,  0.8,  0.8,  0.8,  0.8,  0.8,  0.8,  0.8,  0.8,  0.8,\n",
       "         0.8,  0.8,  0.8,  0.8,  0.8,  0.8,  0.8,  0.8,  0.8,  0.8,  0.8,\n",
       "         0.8,  0.8,  0.9,  0.9,  0.9,  0.9,  0.9,  0.9,  0.9,  0.9,  0.9,\n",
       "         0.9,  0.9,  0.9,  0.9,  0.9,  0.9]))"
      ]
     },
     "execution_count": 46,
     "metadata": {},
     "output_type": "execute_result"
    }
   ],
   "source": [
    "# Get predictions\n",
    "all_preds = model.predict(images_val)\n",
    "\n",
    "# Check predictions\n",
    "idx1 = np.argmax(all_preds[0], axis=1)\n",
    "idx2 = np.argmax(all_preds[1], axis=1)\n",
    "\n",
    "i = 0\n",
    "for value1 in idx1:\n",
    "    idx1[i] = value1 + 1\n",
    "    i = i + 1\n",
    "i = 0\n",
    "for value2 in idx2:\n",
    "    idx2[i] = value2 + 1\n",
    "    i = i + 1\n",
    "\n",
    "idx1, labels2_val, idx2, labels1_val"
   ]
  },
  {
   "cell_type": "code",
   "execution_count": null,
   "metadata": {},
   "outputs": [],
   "source": []
  },
  {
   "cell_type": "code",
   "execution_count": 48,
   "metadata": {},
   "outputs": [
    {
     "data": {
      "text/plain": [
       "0.059656946993965163"
      ]
     },
     "execution_count": 48,
     "metadata": {},
     "output_type": "execute_result"
    }
   ],
   "source": [
    "predicted_ratio = []\n",
    "label_ratio = []\n",
    "se = 0\n",
    "i = 0\n",
    "for value in idx1:\n",
    "    predicted_ratio.append(value / idx2[i])\n",
    "    label_ratio.append(labels1_val[i] / labels2_val[i])\n",
    "    se += ((predicted_ratio[i]-label_ratio[i])*(predicted_ratio[i]-label_ratio[i]))\n",
    "    i = i + 1\n",
    "mse = se/nb_images_val\n",
    "mse"
   ]
  },
  {
   "cell_type": "code",
   "execution_count": 52,
   "metadata": {},
   "outputs": [],
   "source": []
  },
  {
   "cell_type": "code",
   "execution_count": 53,
   "metadata": {},
   "outputs": [],
   "source": [
    "model.save('test_model.h5')"
   ]
  },
  {
   "cell_type": "code",
   "execution_count": 54,
   "metadata": {},
   "outputs": [],
   "source": [
    "from keras.models import load_model\n",
    "model = load_model('test_model.h5')"
   ]
  },
  {
   "cell_type": "markdown",
   "metadata": {},
   "source": []
  }
 ],
 "metadata": {
  "kernelspec": {
   "display_name": "Python 3",
   "language": "python",
   "name": "python3"
  },
  "language_info": {
   "codemirror_mode": {
    "name": "ipython",
    "version": 3
   },
   "file_extension": ".py",
   "mimetype": "text/x-python",
   "name": "python",
   "nbconvert_exporter": "python",
   "pygments_lexer": "ipython3",
   "version": "3.5.4"
  }
 },
 "nbformat": 4,
 "nbformat_minor": 2
}
