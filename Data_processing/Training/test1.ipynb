{
 "cells": [
  {
   "cell_type": "code",
   "execution_count": 24,
   "metadata": {},
   "outputs": [],
   "source": [
    "from os import listdir\n",
    "from keras.preprocessing.image import load_img\n",
    "from keras.preprocessing.image import img_to_array\n",
    "from PIL import Image\n",
    "import numpy as np\n",
    "import pandas as pd\n",
    "%matplotlib inline\n",
    "import matplotlib.pyplot as plt"
   ]
  },
  {
   "cell_type": "code",
   "execution_count": 25,
   "metadata": {},
   "outputs": [],
   "source": [
    "def load_photos(directory):\n",
    "    images = []\n",
    "    labels1 = []\n",
    "    labels2 = []\n",
    "    for name in listdir(directory):\n",
    "        filename = directory + '/' + name\n",
    "        # convert image to gray\n",
    "        img = Image.open(filename).convert('L')\n",
    "        img.save(filename)\n",
    "        # load an image from file\n",
    "        image = load_img(filename, target_size=(160, 128), grayscale=True)\n",
    "        # convert the image pixels to a numpy array\n",
    "        image = img_to_array(image)\n",
    "        # get image id + labels\n",
    "        labels1.append(round(float(name.split('_')[0].split('-')[0]), 1))\n",
    "        labels2.append(round(float(name.split('_')[0].split('-')[1]), 1))\n",
    "        images.append(image)\n",
    "    return images, labels1, labels2"
   ]
  },
  {
   "cell_type": "code",
   "execution_count": 26,
   "metadata": {},
   "outputs": [
    {
     "name": "stdout",
     "output_type": "stream",
     "text": [
      "Loaded Images and labels for training: 643\n",
      "Loaded Images and labels for validation: 105\n"
     ]
    }
   ],
   "source": [
    "# load images from both train and test groups\n",
    "directory = '../data/Patate_Pics/Training'\n",
    "images, labels1, labels2 = load_photos(directory)\n",
    "nb_images = len(images)\n",
    "print('Loaded Images and labels for training: %d' % nb_images)\n",
    "directory = '../data/Patate_Pics/Validation'\n",
    "images_val, labels1_val, labels2_val = load_photos(directory)\n",
    "nb_images_val = len(images_val)\n",
    "print('Loaded Images and labels for validation: %d' % nb_images_val)"
   ]
  },
  {
   "cell_type": "code",
   "execution_count": 27,
   "metadata": {
    "scrolled": false
   },
   "outputs": [],
   "source": [
    "#normalise datas\n",
    "images = np.array(images)\n",
    "images /= 255\n",
    "images_val = np.array(images_val)\n",
    "images_val /= 255"
   ]
  },
  {
   "cell_type": "code",
   "execution_count": 28,
   "metadata": {},
   "outputs": [],
   "source": [
    "#convert to np.array\n",
    "labels1 = np.array(labels1)\n",
    "labels2 = np.array(labels2)\n",
    "labels1_val = np.array(labels1_val)\n",
    "labels2_val = np.array(labels2_val)"
   ]
  },
  {
   "cell_type": "code",
   "execution_count": null,
   "metadata": {},
   "outputs": [],
   "source": []
  },
  {
   "cell_type": "code",
   "execution_count": 29,
   "metadata": {},
   "outputs": [],
   "source": [
    "#convert datas to dummyvalues\n",
    "labels1d = pd.get_dummies(labels1)\n",
    "labels2d = pd.get_dummies(labels2)"
   ]
  },
  {
   "cell_type": "code",
   "execution_count": 30,
   "metadata": {},
   "outputs": [
    {
     "data": {
      "text/plain": [
       "((643, 9), (643, 9))"
      ]
     },
     "execution_count": 30,
     "metadata": {},
     "output_type": "execute_result"
    }
   ],
   "source": [
    "labels1d.shape, labels2d.shape"
   ]
  },
  {
   "cell_type": "code",
   "execution_count": 31,
   "metadata": {},
   "outputs": [
    {
     "data": {
      "text/plain": [
       "(     0.1  0.2  0.3  0.4  0.5  0.6  0.7  0.8  0.9  1.0\n",
       " 0      0    1    0    0    0    0    0    0    0    0\n",
       " 1      0    0    1    0    0    0    0    0    0    0\n",
       " 2      0    0    1    0    0    0    0    0    0    0\n",
       " 3      0    0    1    0    0    0    0    0    0    0\n",
       " 4      0    0    1    0    0    0    0    0    0    0\n",
       " 5      0    0    0    1    0    0    0    0    0    0\n",
       " 6      0    0    0    1    0    0    0    0    0    0\n",
       " 7      0    0    0    0    1    0    0    0    0    0\n",
       " 8      0    0    0    0    1    0    0    0    0    0\n",
       " 9      0    0    0    0    1    0    0    0    0    0\n",
       " 10     0    0    0    0    1    0    0    0    0    0\n",
       " 11     0    0    0    0    1    0    0    0    0    0\n",
       " 12     0    0    0    0    1    0    0    0    0    0\n",
       " 13     0    0    0    0    1    0    0    0    0    0\n",
       " 14     0    0    0    0    1    0    0    0    0    0\n",
       " 15     0    0    0    0    1    0    0    0    0    0\n",
       " 16     0    0    0    0    1    0    0    0    0    0\n",
       " 17     0    0    0    0    1    0    0    0    0    0\n",
       " 18     0    0    0    0    1    0    0    0    0    0\n",
       " 19     0    0    0    0    1    0    0    0    0    0\n",
       " 20     0    0    0    0    1    0    0    0    0    0\n",
       " 21     0    0    0    0    1    0    0    0    0    0\n",
       " 22     0    0    0    0    1    0    0    0    0    0\n",
       " 23     0    0    0    0    1    0    0    0    0    0\n",
       " 24     0    0    0    0    1    0    0    0    0    0\n",
       " 25     0    0    0    0    1    0    0    0    0    0\n",
       " 26     0    0    0    0    1    0    0    0    0    0\n",
       " 27     0    0    0    0    1    0    0    0    0    0\n",
       " 28     0    0    0    0    1    0    0    0    0    0\n",
       " 29     0    0    0    0    1    0    0    0    0    0\n",
       " ..   ...  ...  ...  ...  ...  ...  ...  ...  ...  ...\n",
       " 613    0    0    0    0    0    0    0    0    1    0\n",
       " 614    0    0    0    0    0    0    0    0    1    0\n",
       " 615    0    0    0    0    0    0    0    0    1    0\n",
       " 616    0    0    0    0    0    0    0    0    1    0\n",
       " 617    0    0    0    0    0    0    0    0    1    0\n",
       " 618    0    0    0    0    0    0    0    0    1    0\n",
       " 619    0    0    0    0    0    0    0    0    1    0\n",
       " 620    0    0    0    0    0    0    0    0    1    0\n",
       " 621    0    0    0    0    0    0    0    0    1    0\n",
       " 622    0    0    0    0    0    0    0    0    1    0\n",
       " 623    0    0    0    0    0    0    0    0    1    0\n",
       " 624    0    0    0    0    0    0    0    0    1    0\n",
       " 625    0    0    0    0    0    0    0    0    1    0\n",
       " 626    0    0    0    0    0    0    0    0    1    0\n",
       " 627    0    0    0    0    0    0    0    0    0    1\n",
       " 628    0    0    0    0    0    0    0    0    0    1\n",
       " 629    0    0    0    0    0    0    0    0    0    1\n",
       " 630    0    0    0    0    0    0    0    0    0    1\n",
       " 631    0    0    0    0    0    0    0    0    0    1\n",
       " 632    0    0    0    0    0    0    0    0    0    1\n",
       " 633    0    0    0    0    0    0    0    0    0    1\n",
       " 634    0    0    0    0    0    0    0    0    0    1\n",
       " 635    0    0    0    0    0    0    0    0    0    1\n",
       " 636    0    0    0    0    0    0    0    0    0    1\n",
       " 637    0    0    0    0    0    0    0    0    0    1\n",
       " 638    0    0    0    0    0    0    0    0    0    1\n",
       " 639    0    0    0    0    0    0    0    0    0    1\n",
       " 640    0    0    0    0    0    0    0    0    0    1\n",
       " 641    0    0    0    0    0    0    0    0    0    1\n",
       " 642    0    0    0    0    0    0    0    0    0    1\n",
       " \n",
       " [643 rows x 10 columns],      0.1  0.2  0.3  0.4  0.5  0.6  0.7  0.8  0.9  1.0\n",
       " 0      0    0    0    0    0    1    0    0    0    0\n",
       " 1      0    0    0    0    0    1    0    0    0    0\n",
       " 2      0    0    0    0    0    1    0    0    0    0\n",
       " 3      0    0    1    0    0    0    0    0    0    0\n",
       " 4      0    0    0    0    0    0    1    0    0    0\n",
       " 5      0    0    0    0    0    1    0    0    0    0\n",
       " 6      0    1    0    0    0    0    0    0    0    0\n",
       " 7      0    0    0    1    0    0    0    0    0    0\n",
       " 8      0    0    0    1    0    0    0    0    0    0\n",
       " 9      0    0    0    0    1    0    0    0    0    0\n",
       " 10     0    0    0    0    1    0    0    0    0    0\n",
       " 11     0    0    0    1    0    0    0    0    0    0\n",
       " 12     0    0    0    0    0    0    1    0    0    0\n",
       " 13     0    0    0    0    1    0    0    0    0    0\n",
       " 14     0    0    0    0    1    0    0    0    0    0\n",
       " 15     0    0    0    0    0    0    1    0    0    0\n",
       " 16     0    0    0    0    0    0    1    0    0    0\n",
       " 17     0    0    0    0    0    0    1    0    0    0\n",
       " 18     0    0    0    1    0    0    0    0    0    0\n",
       " 19     0    0    0    0    1    0    0    0    0    0\n",
       " 20     0    0    0    1    0    0    0    0    0    0\n",
       " 21     0    0    0    0    1    0    0    0    0    0\n",
       " 22     0    0    0    0    1    0    0    0    0    0\n",
       " 23     0    0    0    0    0    0    1    0    0    0\n",
       " 24     0    0    0    0    0    0    1    0    0    0\n",
       " 25     0    0    0    0    0    0    0    1    0    0\n",
       " 26     0    0    0    0    1    0    0    0    0    0\n",
       " 27     0    0    1    0    0    0    0    0    0    0\n",
       " 28     0    0    0    0    0    0    1    0    0    0\n",
       " 29     0    0    0    0    0    1    0    0    0    0\n",
       " ..   ...  ...  ...  ...  ...  ...  ...  ...  ...  ...\n",
       " 613    0    0    0    0    0    0    0    0    1    0\n",
       " 614    0    0    0    0    0    0    0    0    1    0\n",
       " 615    0    0    0    0    0    0    0    0    0    1\n",
       " 616    0    0    0    0    0    0    0    0    0    1\n",
       " 617    0    0    0    0    0    0    0    1    0    0\n",
       " 618    0    0    0    0    0    0    0    0    1    0\n",
       " 619    0    0    0    0    0    0    0    0    1    0\n",
       " 620    0    0    0    0    0    0    0    0    1    0\n",
       " 621    0    0    0    0    0    0    0    0    0    1\n",
       " 622    0    0    0    0    0    0    1    0    0    0\n",
       " 623    0    0    0    0    0    0    0    1    0    0\n",
       " 624    0    0    0    0    0    0    0    0    1    0\n",
       " 625    0    0    0    0    0    0    0    0    1    0\n",
       " 626    0    0    0    0    0    0    0    0    0    1\n",
       " 627    0    0    0    0    0    0    0    1    0    0\n",
       " 628    0    0    0    0    0    0    0    0    1    0\n",
       " 629    0    0    0    0    0    0    0    0    1    0\n",
       " 630    0    0    0    0    0    0    0    0    1    0\n",
       " 631    0    0    0    0    0    0    0    1    0    0\n",
       " 632    0    0    0    0    0    0    0    1    0    0\n",
       " 633    0    0    0    0    0    0    0    0    1    0\n",
       " 634    0    0    0    0    0    0    0    0    0    1\n",
       " 635    0    0    0    0    0    0    0    0    1    0\n",
       " 636    0    0    0    0    0    0    0    0    1    0\n",
       " 637    0    0    0    0    0    0    0    0    1    0\n",
       " 638    0    0    0    0    0    0    0    0    0    1\n",
       " 639    0    0    0    0    0    0    1    0    0    0\n",
       " 640    0    0    0    0    0    0    0    1    0    0\n",
       " 641    0    0    0    0    0    0    0    1    0    0\n",
       " 642    0    0    0    0    0    0    0    0    1    0\n",
       " \n",
       " [643 rows x 10 columns])"
      ]
     },
     "execution_count": 31,
     "metadata": {},
     "output_type": "execute_result"
    }
   ],
   "source": [
    "#append empty columns\n",
    "labels1d.insert(0, column='0.1', value=0, allow_duplicates=False)\n",
    "labels2d.insert(0, column='0.1', value=0, allow_duplicates=False)\n",
    "labels1d, labels2d"
   ]
  },
  {
   "cell_type": "code",
   "execution_count": 32,
   "metadata": {},
   "outputs": [],
   "source": [
    "#convert to np.array again\n",
    "labels1d = np.array(labels1d)\n",
    "labels2d = np.array(labels2d)"
   ]
  },
  {
   "cell_type": "code",
   "execution_count": 33,
   "metadata": {},
   "outputs": [
    {
     "data": {
      "text/plain": [
       "(0.29999999999999999, array([0, 0, 1, 0, 0, 0, 0, 0, 0, 0], dtype=int64))"
      ]
     },
     "execution_count": 33,
     "metadata": {},
     "output_type": "execute_result"
    }
   ],
   "source": [
    "#check if OK\n",
    "labels1[1], labels1d[1]"
   ]
  },
  {
   "cell_type": "code",
   "execution_count": 34,
   "metadata": {},
   "outputs": [],
   "source": [
    "from keras.models import Model\n",
    "from keras.layers import *\n",
    "import keras.backend as K\n",
    "import keras.optimizers as Optimizers"
   ]
  },
  {
   "cell_type": "code",
   "execution_count": 35,
   "metadata": {
    "scrolled": true
   },
   "outputs": [],
   "source": [
    "K.clear_session()\n",
    "\n",
    "img_in = Input(shape=(160, 128, 1), name='img_in')\n",
    "\n",
    "x = img_in\n",
    "\n",
    "x = Conv2D(8, (3, 3), padding='same', activation='relu')(x)\n",
    "x = MaxPooling2D(pool_size=(2, 2))(x)\n",
    "\n",
    "x = Conv2D(16, (3, 3), padding='same', activation='relu')(x)\n",
    "x = MaxPooling2D(pool_size=(2, 2))(x)\n",
    "\n",
    "x = Conv2D(32, (3, 3), padding='same', activation='relu')(x)\n",
    "x = MaxPooling2D(pool_size=(2, 2))(x)\n",
    "\n",
    "x = Conv2D(64, (3, 3), padding='same', activation='relu')(x)\n",
    "x = MaxPooling2D(pool_size=(2, 2))(x)\n",
    "\n",
    "x = Conv2D(128, (3, 3), padding='same', activation='relu')(x)\n",
    "x = MaxPooling2D(pool_size=(2, 2))(x)\n",
    "\n",
    "flat = Flatten()(x)\n",
    "\n",
    "out1 = Dense(10, activation='softmax')(flat)\n",
    "out2 = Dense(10, activation='softmax')(flat)\n",
    "\n",
    "model = Model(inputs=[img_in], outputs=[out1, out2])\n",
    "model.compile(loss=['categorical_crossentropy', 'categorical_crossentropy'], optimizer='adadelta', metrics=['accuracy'])"
   ]
  },
  {
   "cell_type": "code",
   "execution_count": 36,
   "metadata": {
    "scrolled": true
   },
   "outputs": [
    {
     "name": "stdout",
     "output_type": "stream",
     "text": [
      "____________________________________________________________________________________________________\n",
      "Layer (type)                     Output Shape          Param #     Connected to                     \n",
      "====================================================================================================\n",
      "img_in (InputLayer)              (None, 160, 128, 1)   0                                            \n",
      "____________________________________________________________________________________________________\n",
      "conv2d_1 (Conv2D)                (None, 160, 128, 8)   80          img_in[0][0]                     \n",
      "____________________________________________________________________________________________________\n",
      "max_pooling2d_1 (MaxPooling2D)   (None, 80, 64, 8)     0           conv2d_1[0][0]                   \n",
      "____________________________________________________________________________________________________\n",
      "conv2d_2 (Conv2D)                (None, 80, 64, 16)    1168        max_pooling2d_1[0][0]            \n",
      "____________________________________________________________________________________________________\n",
      "max_pooling2d_2 (MaxPooling2D)   (None, 40, 32, 16)    0           conv2d_2[0][0]                   \n",
      "____________________________________________________________________________________________________\n",
      "conv2d_3 (Conv2D)                (None, 40, 32, 32)    4640        max_pooling2d_2[0][0]            \n",
      "____________________________________________________________________________________________________\n",
      "max_pooling2d_3 (MaxPooling2D)   (None, 20, 16, 32)    0           conv2d_3[0][0]                   \n",
      "____________________________________________________________________________________________________\n",
      "conv2d_4 (Conv2D)                (None, 20, 16, 64)    18496       max_pooling2d_3[0][0]            \n",
      "____________________________________________________________________________________________________\n",
      "max_pooling2d_4 (MaxPooling2D)   (None, 10, 8, 64)     0           conv2d_4[0][0]                   \n",
      "____________________________________________________________________________________________________\n",
      "conv2d_5 (Conv2D)                (None, 10, 8, 128)    73856       max_pooling2d_4[0][0]            \n",
      "____________________________________________________________________________________________________\n",
      "max_pooling2d_5 (MaxPooling2D)   (None, 5, 4, 128)     0           conv2d_5[0][0]                   \n",
      "____________________________________________________________________________________________________\n",
      "flatten_1 (Flatten)              (None, 2560)          0           max_pooling2d_5[0][0]            \n",
      "____________________________________________________________________________________________________\n",
      "dense_1 (Dense)                  (None, 10)            25610       flatten_1[0][0]                  \n",
      "____________________________________________________________________________________________________\n",
      "dense_2 (Dense)                  (None, 10)            25610       flatten_1[0][0]                  \n",
      "====================================================================================================\n",
      "Total params: 149,460\n",
      "Trainable params: 149,460\n",
      "Non-trainable params: 0\n",
      "____________________________________________________________________________________________________\n"
     ]
    }
   ],
   "source": [
    "model.summary()"
   ]
  },
  {
   "cell_type": "code",
   "execution_count": 42,
   "metadata": {},
   "outputs": [
    {
     "name": "stdout",
     "output_type": "stream",
     "text": [
      "Epoch 1/10\n",
      "643/643 [==============================] - 18s - loss: 7.8812e-07 - dense_1_loss: 4.1974e-07 - dense_2_loss: 3.6838e-07 - dense_1_acc: 1.0000 - dense_2_acc: 1.0000    \n",
      "Epoch 2/10\n",
      "109/643 [====>.........................] - ETA: 15s - loss: 7.3385e-07 - dense_1_loss: 3.5271e-07 - dense_2_loss: 3.8114e-07 - dense_1_acc: 1.0000 - dense_2_acc: 1.0000"
     ]
    },
    {
     "ename": "KeyboardInterrupt",
     "evalue": "",
     "output_type": "error",
     "traceback": [
      "\u001b[1;31m---------------------------------------------------------------------------\u001b[0m",
      "\u001b[1;31mKeyboardInterrupt\u001b[0m                         Traceback (most recent call last)",
      "\u001b[1;32m<ipython-input-42-826d84a99227>\u001b[0m in \u001b[0;36m<module>\u001b[1;34m()\u001b[0m\n\u001b[1;32m----> 1\u001b[1;33m \u001b[0mh\u001b[0m \u001b[1;33m=\u001b[0m \u001b[0mmodel\u001b[0m\u001b[1;33m.\u001b[0m\u001b[0mfit\u001b[0m\u001b[1;33m(\u001b[0m\u001b[0mimages\u001b[0m\u001b[1;33m,\u001b[0m \u001b[1;33m[\u001b[0m\u001b[0mlabels1d\u001b[0m\u001b[1;33m,\u001b[0m \u001b[0mlabels2d\u001b[0m\u001b[1;33m]\u001b[0m\u001b[1;33m,\u001b[0m \u001b[0mbatch_size\u001b[0m\u001b[1;33m=\u001b[0m\u001b[1;36m1\u001b[0m\u001b[1;33m,\u001b[0m \u001b[0mepochs\u001b[0m\u001b[1;33m=\u001b[0m\u001b[1;36m10\u001b[0m\u001b[1;33m,\u001b[0m \u001b[0mverbose\u001b[0m\u001b[1;33m=\u001b[0m\u001b[1;36m1\u001b[0m\u001b[1;33m)\u001b[0m\u001b[1;33m\u001b[0m\u001b[0m\n\u001b[0m",
      "\u001b[1;32m~\\Anaconda2\\envs\\ztdl\\lib\\site-packages\\keras\\engine\\training.py\u001b[0m in \u001b[0;36mfit\u001b[1;34m(self, x, y, batch_size, epochs, verbose, callbacks, validation_split, validation_data, shuffle, class_weight, sample_weight, initial_epoch, **kwargs)\u001b[0m\n\u001b[0;32m   1496\u001b[0m                               \u001b[0mval_f\u001b[0m\u001b[1;33m=\u001b[0m\u001b[0mval_f\u001b[0m\u001b[1;33m,\u001b[0m \u001b[0mval_ins\u001b[0m\u001b[1;33m=\u001b[0m\u001b[0mval_ins\u001b[0m\u001b[1;33m,\u001b[0m \u001b[0mshuffle\u001b[0m\u001b[1;33m=\u001b[0m\u001b[0mshuffle\u001b[0m\u001b[1;33m,\u001b[0m\u001b[1;33m\u001b[0m\u001b[0m\n\u001b[0;32m   1497\u001b[0m                               \u001b[0mcallback_metrics\u001b[0m\u001b[1;33m=\u001b[0m\u001b[0mcallback_metrics\u001b[0m\u001b[1;33m,\u001b[0m\u001b[1;33m\u001b[0m\u001b[0m\n\u001b[1;32m-> 1498\u001b[1;33m                               initial_epoch=initial_epoch)\n\u001b[0m\u001b[0;32m   1499\u001b[0m \u001b[1;33m\u001b[0m\u001b[0m\n\u001b[0;32m   1500\u001b[0m     \u001b[1;32mdef\u001b[0m \u001b[0mevaluate\u001b[0m\u001b[1;33m(\u001b[0m\u001b[0mself\u001b[0m\u001b[1;33m,\u001b[0m \u001b[0mx\u001b[0m\u001b[1;33m,\u001b[0m \u001b[0my\u001b[0m\u001b[1;33m,\u001b[0m \u001b[0mbatch_size\u001b[0m\u001b[1;33m=\u001b[0m\u001b[1;36m32\u001b[0m\u001b[1;33m,\u001b[0m \u001b[0mverbose\u001b[0m\u001b[1;33m=\u001b[0m\u001b[1;36m1\u001b[0m\u001b[1;33m,\u001b[0m \u001b[0msample_weight\u001b[0m\u001b[1;33m=\u001b[0m\u001b[1;32mNone\u001b[0m\u001b[1;33m)\u001b[0m\u001b[1;33m:\u001b[0m\u001b[1;33m\u001b[0m\u001b[0m\n",
      "\u001b[1;32m~\\Anaconda2\\envs\\ztdl\\lib\\site-packages\\keras\\engine\\training.py\u001b[0m in \u001b[0;36m_fit_loop\u001b[1;34m(self, f, ins, out_labels, batch_size, epochs, verbose, callbacks, val_f, val_ins, shuffle, callback_metrics, initial_epoch)\u001b[0m\n\u001b[0;32m   1150\u001b[0m                 \u001b[0mbatch_logs\u001b[0m\u001b[1;33m[\u001b[0m\u001b[1;34m'size'\u001b[0m\u001b[1;33m]\u001b[0m \u001b[1;33m=\u001b[0m \u001b[0mlen\u001b[0m\u001b[1;33m(\u001b[0m\u001b[0mbatch_ids\u001b[0m\u001b[1;33m)\u001b[0m\u001b[1;33m\u001b[0m\u001b[0m\n\u001b[0;32m   1151\u001b[0m                 \u001b[0mcallbacks\u001b[0m\u001b[1;33m.\u001b[0m\u001b[0mon_batch_begin\u001b[0m\u001b[1;33m(\u001b[0m\u001b[0mbatch_index\u001b[0m\u001b[1;33m,\u001b[0m \u001b[0mbatch_logs\u001b[0m\u001b[1;33m)\u001b[0m\u001b[1;33m\u001b[0m\u001b[0m\n\u001b[1;32m-> 1152\u001b[1;33m                 \u001b[0mouts\u001b[0m \u001b[1;33m=\u001b[0m \u001b[0mf\u001b[0m\u001b[1;33m(\u001b[0m\u001b[0mins_batch\u001b[0m\u001b[1;33m)\u001b[0m\u001b[1;33m\u001b[0m\u001b[0m\n\u001b[0m\u001b[0;32m   1153\u001b[0m                 \u001b[1;32mif\u001b[0m \u001b[1;32mnot\u001b[0m \u001b[0misinstance\u001b[0m\u001b[1;33m(\u001b[0m\u001b[0mouts\u001b[0m\u001b[1;33m,\u001b[0m \u001b[0mlist\u001b[0m\u001b[1;33m)\u001b[0m\u001b[1;33m:\u001b[0m\u001b[1;33m\u001b[0m\u001b[0m\n\u001b[0;32m   1154\u001b[0m                     \u001b[0mouts\u001b[0m \u001b[1;33m=\u001b[0m \u001b[1;33m[\u001b[0m\u001b[0mouts\u001b[0m\u001b[1;33m]\u001b[0m\u001b[1;33m\u001b[0m\u001b[0m\n",
      "\u001b[1;32m~\\Anaconda2\\envs\\ztdl\\lib\\site-packages\\keras\\backend\\tensorflow_backend.py\u001b[0m in \u001b[0;36m__call__\u001b[1;34m(self, inputs)\u001b[0m\n\u001b[0;32m   2227\u001b[0m         \u001b[0msession\u001b[0m \u001b[1;33m=\u001b[0m \u001b[0mget_session\u001b[0m\u001b[1;33m(\u001b[0m\u001b[1;33m)\u001b[0m\u001b[1;33m\u001b[0m\u001b[0m\n\u001b[0;32m   2228\u001b[0m         updated = session.run(self.outputs + [self.updates_op],\n\u001b[1;32m-> 2229\u001b[1;33m                               feed_dict=feed_dict)\n\u001b[0m\u001b[0;32m   2230\u001b[0m         \u001b[1;32mreturn\u001b[0m \u001b[0mupdated\u001b[0m\u001b[1;33m[\u001b[0m\u001b[1;33m:\u001b[0m\u001b[0mlen\u001b[0m\u001b[1;33m(\u001b[0m\u001b[0mself\u001b[0m\u001b[1;33m.\u001b[0m\u001b[0moutputs\u001b[0m\u001b[1;33m)\u001b[0m\u001b[1;33m]\u001b[0m\u001b[1;33m\u001b[0m\u001b[0m\n\u001b[0;32m   2231\u001b[0m \u001b[1;33m\u001b[0m\u001b[0m\n",
      "\u001b[1;32m~\\Anaconda2\\envs\\ztdl\\lib\\site-packages\\tensorflow\\python\\client\\session.py\u001b[0m in \u001b[0;36mrun\u001b[1;34m(self, fetches, feed_dict, options, run_metadata)\u001b[0m\n\u001b[0;32m    776\u001b[0m     \u001b[1;32mtry\u001b[0m\u001b[1;33m:\u001b[0m\u001b[1;33m\u001b[0m\u001b[0m\n\u001b[0;32m    777\u001b[0m       result = self._run(None, fetches, feed_dict, options_ptr,\n\u001b[1;32m--> 778\u001b[1;33m                          run_metadata_ptr)\n\u001b[0m\u001b[0;32m    779\u001b[0m       \u001b[1;32mif\u001b[0m \u001b[0mrun_metadata\u001b[0m\u001b[1;33m:\u001b[0m\u001b[1;33m\u001b[0m\u001b[0m\n\u001b[0;32m    780\u001b[0m         \u001b[0mproto_data\u001b[0m \u001b[1;33m=\u001b[0m \u001b[0mtf_session\u001b[0m\u001b[1;33m.\u001b[0m\u001b[0mTF_GetBuffer\u001b[0m\u001b[1;33m(\u001b[0m\u001b[0mrun_metadata_ptr\u001b[0m\u001b[1;33m)\u001b[0m\u001b[1;33m\u001b[0m\u001b[0m\n",
      "\u001b[1;32m~\\Anaconda2\\envs\\ztdl\\lib\\site-packages\\tensorflow\\python\\client\\session.py\u001b[0m in \u001b[0;36m_run\u001b[1;34m(self, handle, fetches, feed_dict, options, run_metadata)\u001b[0m\n\u001b[0;32m    980\u001b[0m     \u001b[1;32mif\u001b[0m \u001b[0mfinal_fetches\u001b[0m \u001b[1;32mor\u001b[0m \u001b[0mfinal_targets\u001b[0m\u001b[1;33m:\u001b[0m\u001b[1;33m\u001b[0m\u001b[0m\n\u001b[0;32m    981\u001b[0m       results = self._do_run(handle, final_targets, final_fetches,\n\u001b[1;32m--> 982\u001b[1;33m                              feed_dict_string, options, run_metadata)\n\u001b[0m\u001b[0;32m    983\u001b[0m     \u001b[1;32melse\u001b[0m\u001b[1;33m:\u001b[0m\u001b[1;33m\u001b[0m\u001b[0m\n\u001b[0;32m    984\u001b[0m       \u001b[0mresults\u001b[0m \u001b[1;33m=\u001b[0m \u001b[1;33m[\u001b[0m\u001b[1;33m]\u001b[0m\u001b[1;33m\u001b[0m\u001b[0m\n",
      "\u001b[1;32m~\\Anaconda2\\envs\\ztdl\\lib\\site-packages\\tensorflow\\python\\client\\session.py\u001b[0m in \u001b[0;36m_do_run\u001b[1;34m(self, handle, target_list, fetch_list, feed_dict, options, run_metadata)\u001b[0m\n\u001b[0;32m   1030\u001b[0m     \u001b[1;32mif\u001b[0m \u001b[0mhandle\u001b[0m \u001b[1;32mis\u001b[0m \u001b[1;32mNone\u001b[0m\u001b[1;33m:\u001b[0m\u001b[1;33m\u001b[0m\u001b[0m\n\u001b[0;32m   1031\u001b[0m       return self._do_call(_run_fn, self._session, feed_dict, fetch_list,\n\u001b[1;32m-> 1032\u001b[1;33m                            target_list, options, run_metadata)\n\u001b[0m\u001b[0;32m   1033\u001b[0m     \u001b[1;32melse\u001b[0m\u001b[1;33m:\u001b[0m\u001b[1;33m\u001b[0m\u001b[0m\n\u001b[0;32m   1034\u001b[0m       return self._do_call(_prun_fn, self._session, handle, feed_dict,\n",
      "\u001b[1;32m~\\Anaconda2\\envs\\ztdl\\lib\\site-packages\\tensorflow\\python\\client\\session.py\u001b[0m in \u001b[0;36m_do_call\u001b[1;34m(self, fn, *args)\u001b[0m\n\u001b[0;32m   1037\u001b[0m   \u001b[1;32mdef\u001b[0m \u001b[0m_do_call\u001b[0m\u001b[1;33m(\u001b[0m\u001b[0mself\u001b[0m\u001b[1;33m,\u001b[0m \u001b[0mfn\u001b[0m\u001b[1;33m,\u001b[0m \u001b[1;33m*\u001b[0m\u001b[0margs\u001b[0m\u001b[1;33m)\u001b[0m\u001b[1;33m:\u001b[0m\u001b[1;33m\u001b[0m\u001b[0m\n\u001b[0;32m   1038\u001b[0m     \u001b[1;32mtry\u001b[0m\u001b[1;33m:\u001b[0m\u001b[1;33m\u001b[0m\u001b[0m\n\u001b[1;32m-> 1039\u001b[1;33m       \u001b[1;32mreturn\u001b[0m \u001b[0mfn\u001b[0m\u001b[1;33m(\u001b[0m\u001b[1;33m*\u001b[0m\u001b[0margs\u001b[0m\u001b[1;33m)\u001b[0m\u001b[1;33m\u001b[0m\u001b[0m\n\u001b[0m\u001b[0;32m   1040\u001b[0m     \u001b[1;32mexcept\u001b[0m \u001b[0merrors\u001b[0m\u001b[1;33m.\u001b[0m\u001b[0mOpError\u001b[0m \u001b[1;32mas\u001b[0m \u001b[0me\u001b[0m\u001b[1;33m:\u001b[0m\u001b[1;33m\u001b[0m\u001b[0m\n\u001b[0;32m   1041\u001b[0m       \u001b[0mmessage\u001b[0m \u001b[1;33m=\u001b[0m \u001b[0mcompat\u001b[0m\u001b[1;33m.\u001b[0m\u001b[0mas_text\u001b[0m\u001b[1;33m(\u001b[0m\u001b[0me\u001b[0m\u001b[1;33m.\u001b[0m\u001b[0mmessage\u001b[0m\u001b[1;33m)\u001b[0m\u001b[1;33m\u001b[0m\u001b[0m\n",
      "\u001b[1;32m~\\Anaconda2\\envs\\ztdl\\lib\\site-packages\\tensorflow\\python\\client\\session.py\u001b[0m in \u001b[0;36m_run_fn\u001b[1;34m(session, feed_dict, fetch_list, target_list, options, run_metadata)\u001b[0m\n\u001b[0;32m   1019\u001b[0m         return tf_session.TF_Run(session, options,\n\u001b[0;32m   1020\u001b[0m                                  \u001b[0mfeed_dict\u001b[0m\u001b[1;33m,\u001b[0m \u001b[0mfetch_list\u001b[0m\u001b[1;33m,\u001b[0m \u001b[0mtarget_list\u001b[0m\u001b[1;33m,\u001b[0m\u001b[1;33m\u001b[0m\u001b[0m\n\u001b[1;32m-> 1021\u001b[1;33m                                  status, run_metadata)\n\u001b[0m\u001b[0;32m   1022\u001b[0m \u001b[1;33m\u001b[0m\u001b[0m\n\u001b[0;32m   1023\u001b[0m     \u001b[1;32mdef\u001b[0m \u001b[0m_prun_fn\u001b[0m\u001b[1;33m(\u001b[0m\u001b[0msession\u001b[0m\u001b[1;33m,\u001b[0m \u001b[0mhandle\u001b[0m\u001b[1;33m,\u001b[0m \u001b[0mfeed_dict\u001b[0m\u001b[1;33m,\u001b[0m \u001b[0mfetch_list\u001b[0m\u001b[1;33m)\u001b[0m\u001b[1;33m:\u001b[0m\u001b[1;33m\u001b[0m\u001b[0m\n",
      "\u001b[1;31mKeyboardInterrupt\u001b[0m: "
     ]
    }
   ],
   "source": [
    "h = model.fit(images, [labels1d, labels2d], batch_size=1, epochs=10, verbose=1)"
   ]
  },
  {
   "cell_type": "code",
   "execution_count": 44,
   "metadata": {},
   "outputs": [
    {
     "data": {
      "text/plain": [
       "<matplotlib.axes._subplots.AxesSubplot at 0x1da2e107f28>"
      ]
     },
     "execution_count": 44,
     "metadata": {},
     "output_type": "execute_result"
    },
    {
     "data": {
      "image/png": "[encoded data removed]",
      "text/plain": [
       "<matplotlib.figure.Figure at 0x1da2e115860>"
      ]
     },
     "metadata": {},
     "output_type": "display_data"
    }
   ],
   "source": [
    "#print History graph\n",
    "historydf = pd.DataFrame(h.history, index=h.epoch)\n",
    "historydf.plot(ylim=(0,1))"
   ]
  },
  {
   "cell_type": "code",
   "execution_count": 46,
   "metadata": {},
   "outputs": [
    {
     "data": {
      "text/plain": [
       "(array([ 8,  5,  6,  8,  6,  6,  6,  8,  6,  7,  6,  7,  8,  8,  8,  6,  7,\n",
       "         9,  6,  7,  7,  7,  7,  9,  7,  7,  6,  7,  7,  8,  7,  7,  8,  8,\n",
       "         8,  7,  6,  8,  6,  8,  9,  7,  8,  9,  7,  8,  7,  7,  8,  8,  8,\n",
       "         7,  9,  8,  7,  7,  8,  8,  8,  7,  7,  7,  8,  7,  8,  8,  8,  8,\n",
       "         7, 10,  7,  8,  7,  9,  9,  8,  7,  9,  9,  8,  7,  7,  8,  6,  9,\n",
       "         6,  9,  8,  8,  7,  8,  7,  7,  7,  9,  7, 10,  9,  7,  7,  7,  6,\n",
       "         9,  8, 10], dtype=int64),\n",
       " array([ 0.5,  0.7,  0.7,  0.6,  0.7,  0.7,  0.7,  0.8,  0.8,  0.6,  0.9,\n",
       "         0.5,  0.5,  0.6,  0.6,  0.7,  0.7,  0.7,  0.7,  0.7,  0.9,  0.3,\n",
       "         0.5,  0.7,  0.7,  0.5,  0.5,  0.5,  0.6,  0.6,  0.5,  0.5,  0.7,\n",
       "         0.7,  0.8,  0.8,  0.8,  0.8,  0.8,  0.8,  0.8,  0.8,  0.8,  0.8,\n",
       "         0.9,  0.7,  0.7,  0.8,  0.8,  0.8,  0.8,  0.8,  0.8,  0.8,  0.8,\n",
       "         0.8,  0.8,  0.8,  0.8,  0.8,  0.6,  0.6,  0.7,  0.7,  0.7,  0.7,\n",
       "         0.7,  0.7,  0.7,  0.8,  0.7,  0.7,  0.7,  0.8,  0.8,  0.8,  0.8,\n",
       "         0.8,  0.8,  0.8,  0.7,  0.7,  0.8,  0.8,  0.8,  0.9,  0.9,  0.9,\n",
       "         0.7,  0.8,  0.9,  0.9,  1. ,  1. ,  0.8,  0.8,  0.8,  0.8,  0.8,\n",
       "         0.8,  0.7,  0.8,  0.8,  0.8,  0.9]),\n",
       " array([ 8,  8,  9, 10,  8,  6,  9,  8,  8,  9,  8,  7,  7,  6,  7,  6,  7,\n",
       "         8,  8,  8,  8,  5,  6,  7,  8,  7,  6,  8,  6,  6,  5,  7,  8,  8,\n",
       "         9,  7,  7,  8,  8,  8,  7,  8,  9,  9,  8,  7,  7,  7,  8,  9,  8,\n",
       "         8,  8,  8,  9,  9,  8,  8,  8,  7,  7,  5,  7,  7,  6,  6,  8,  8,\n",
       "         7,  6,  6,  7,  7,  8,  9,  8,  8,  6,  9,  8,  7,  5,  8,  7,  9,\n",
       "         5,  8,  9,  8,  6,  9,  9,  9,  8,  8,  8,  9,  4,  8,  7,  6,  8,\n",
       "         7,  7,  6], dtype=int64),\n",
       " array([ 0.4,  0.4,  0.4,  0.4,  0.4,  0.6,  0.6,  0.6,  0.6,  0.6,  0.6,\n",
       "         0.6,  0.6,  0.6,  0.6,  0.6,  0.6,  0.6,  0.6,  0.6,  0.7,  0.7,\n",
       "         0.7,  0.7,  0.7,  0.7,  0.7,  0.7,  0.7,  0.7,  0.7,  0.7,  0.7,\n",
       "         0.7,  0.7,  0.7,  0.7,  0.7,  0.7,  0.7,  0.7,  0.7,  0.7,  0.7,\n",
       "         0.7,  0.7,  0.7,  0.7,  0.7,  0.7,  0.8,  0.8,  0.8,  0.8,  0.8,\n",
       "         0.8,  0.8,  0.8,  0.8,  0.8,  0.8,  0.8,  0.8,  0.8,  0.8,  0.8,\n",
       "         0.8,  0.8,  0.8,  0.8,  0.8,  0.8,  0.8,  0.8,  0.8,  0.8,  0.8,\n",
       "         0.8,  0.8,  0.8,  0.8,  0.8,  0.8,  0.8,  0.8,  0.8,  0.8,  0.8,\n",
       "         0.8,  0.8,  0.9,  0.9,  0.9,  0.9,  0.9,  0.9,  0.9,  0.9,  0.9,\n",
       "         0.9,  0.9,  0.9,  0.9,  0.9,  0.9]))"
      ]
     },
     "execution_count": 46,
     "metadata": {},
     "output_type": "execute_result"
    }
   ],
   "source": [
    "# Get predictions\n",
    "all_preds = model.predict(images_val)\n",
    "\n",
    "# Check predictions\n",
    "idx1 = np.argmax(all_preds[0], axis=1)\n",
    "idx2 = np.argmax(all_preds[1], axis=1)\n",
    "\n",
    "i = 0\n",
    "for value1 in idx1:\n",
    "    idx1[i] = value1 + 1\n",
    "    i = i + 1\n",
    "i = 0\n",
    "for value2 in idx2:\n",
    "    idx2[i] = value2 + 1\n",
    "    i = i + 1\n",
    "\n",
    "idx1, labels2_val, idx2, labels1_val"
   ]
  },
  {
   "cell_type": "code",
   "execution_count": null,
   "metadata": {},
   "outputs": [],
   "source": []
  },
  {
   "cell_type": "code",
   "execution_count": 48,
   "metadata": {},
   "outputs": [
    {
     "data": {
      "text/plain": [
       "0.059656946993965163"
      ]
     },
     "execution_count": 48,
     "metadata": {},
     "output_type": "execute_result"
    }
   ],
   "source": [
    "predicted_ratio = []\n",
    "label_ratio = []\n",
    "se = 0\n",
    "i = 0\n",
    "for value in idx1:\n",
    "    predicted_ratio.append(value / idx2[i])\n",
    "    label_ratio.append(labels1_val[i] / labels2_val[i])\n",
    "    se += ((predicted_ratio[i]-label_ratio[i])*(predicted_ratio[i]-label_ratio[i]))\n",
    "    i = i + 1\n",
    "mse = se/nb_images_val\n",
    "mse"
   ]
  },
  {
   "cell_type": "code",
   "execution_count": 52,
   "metadata": {},
   "outputs": [],
   "source": []
  },
  {
   "cell_type": "code",
   "execution_count": 53,
   "metadata": {},
   "outputs": [],
   "source": [
    "model.save('test_model.h5')"
   ]
  },
  {
   "cell_type": "code",
   "execution_count": 54,
   "metadata": {},
   "outputs": [],
   "source": [
    "from keras.models import load_model\n",
    "model = load_model('test_model.h5')"
   ]
  },
  {
   "cell_type": "markdown",
   "metadata": {},
   "source": []
  }
 ],
 "metadata": {
  "kernelspec": {
   "display_name": "Python 3",
   "language": "python",
   "name": "python3"
  },
  "language_info": {
   "codemirror_mode": {
    "name": "ipython",
    "version": 3
   },
   "file_extension": ".py",
   "mimetype": "text/x-python",
   "name": "python",
   "nbconvert_exporter": "python",
   "pygments_lexer": "ipython3",
   "version": "3.5.4"
  }
 },
 "nbformat": 4,
 "nbformat_minor": 2
}
