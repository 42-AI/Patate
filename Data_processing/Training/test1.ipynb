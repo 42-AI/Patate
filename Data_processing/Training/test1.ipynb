{
 "cells": [
  {
   "cell_type": "code",
   "execution_count": 1,
   "metadata": {},
   "outputs": [
    {
     "name": "stderr",
     "output_type": "stream",
     "text": [
      "Using TensorFlow backend.\n"
     ]
    }
   ],
   "source": [
    "from os import listdir\n",
    "from keras.preprocessing.image import load_img\n",
    "from keras.preprocessing.image import img_to_array\n",
    "from PIL import Image\n",
    "import numpy as np\n",
    "import pandas as pd\n",
    "%matplotlib inline\n",
    "import matplotlib.pyplot as plt"
   ]
  },
  {
   "cell_type": "code",
   "execution_count": 2,
   "metadata": {},
   "outputs": [],
   "source": [
    "def load_photos(directory):\n",
    "    images = []\n",
    "    labels1 = []\n",
    "    labels2 = []\n",
    "    for name in listdir(directory):\n",
    "        filename = directory + '/' + name\n",
    "        # convert image to gray\n",
    "        img = Image.open(filename).convert('L')\n",
    "        img.save(filename)\n",
    "        # load an image from file\n",
    "        image = load_img(filename, target_size=(160, 128), grayscale=True)\n",
    "        # convert the image pixels to a numpy array\n",
    "        image = img_to_array(image)\n",
    "        # get image id + labels\n",
    "        labels1.append(round(float(name.split('_')[0].split('-')[0]), 1))\n",
    "        labels2.append(round(float(name.split('_')[0].split('-')[1]), 1))\n",
    "        images.append(image)\n",
    "    return images, labels1, labels2"
   ]
  },
  {
   "cell_type": "code",
   "execution_count": 22,
   "metadata": {},
   "outputs": [
    {
     "name": "stdout",
     "output_type": "stream",
     "text": [
      "Loaded Images and labels for training: 643\n",
      "Loaded Images and labels for validation: 105\n"
     ]
    }
   ],
   "source": [
    "# load images from both train and test groups\n",
    "directory = '../data/Patate_Pics/Training'\n",
    "images, labels1, labels2 = load_photos(directory)\n",
    "nb_images = len(images)\n",
    "print('Loaded Images and labels for training: %d' % nb_images)\n",
    "directory = '../data/Patate_Pics/Validation'\n",
    "images_val, labels1_val, labels2_val = load_photos(directory)\n",
    "nb_images_val = len(images_val)\n",
    "print('Loaded Images and labels for validation: %d' % nb_images_val)"
   ]
  },
  {
   "cell_type": "code",
   "execution_count": 23,
   "metadata": {
    "scrolled": false
   },
   "outputs": [],
   "source": [
    "#normalise datas\n",
    "images = np.array(images)\n",
    "images /= 255\n",
    "images_val = np.array(images_val)\n",
    "images_val /= 255"
   ]
  },
  {
   "cell_type": "code",
   "execution_count": 24,
   "metadata": {},
   "outputs": [],
   "source": [
    "#convert to np.array\n",
    "labels1 = np.array(labels1)\n",
    "labels2 = np.array(labels2)\n",
    "labels1_val = np.array(labels1_val)\n",
    "labels2_val = np.array(labels2_val)"
   ]
  },
  {
   "cell_type": "code",
   "execution_count": null,
   "metadata": {},
   "outputs": [],
   "source": []
  },
  {
   "cell_type": "code",
   "execution_count": 25,
   "metadata": {},
   "outputs": [],
   "source": [
    "#convert datas to dummyvalues\n",
    "labels1d = pd.get_dummies(labels1)\n",
    "labels2d = pd.get_dummies(labels2)"
   ]
  },
  {
   "cell_type": "code",
   "execution_count": 28,
   "metadata": {},
   "outputs": [
    {
     "data": {
      "text/plain": [
       "((643, 10), (643, 10))"
      ]
     },
     "execution_count": 28,
     "metadata": {},
     "output_type": "execute_result"
    }
   ],
   "source": [
    "labels1d.shape, labels2d.shape"
   ]
  },
  {
   "cell_type": "code",
   "execution_count": 27,
   "metadata": {},
   "outputs": [
    {
     "data": {
      "text/plain": [
       "(     0.1  0.2  0.3  0.4  0.5  0.6  0.7  0.8  0.9  1.0\n",
       " 0      0    1    0    0    0    0    0    0    0    0\n",
       " 1      0    0    1    0    0    0    0    0    0    0\n",
       " 2      0    0    1    0    0    0    0    0    0    0\n",
       " 3      0    0    1    0    0    0    0    0    0    0\n",
       " 4      0    0    1    0    0    0    0    0    0    0\n",
       " 5      0    0    0    1    0    0    0    0    0    0\n",
       " 6      0    0    0    1    0    0    0    0    0    0\n",
       " 7      0    0    0    0    1    0    0    0    0    0\n",
       " 8      0    0    0    0    1    0    0    0    0    0\n",
       " 9      0    0    0    0    1    0    0    0    0    0\n",
       " 10     0    0    0    0    1    0    0    0    0    0\n",
       " 11     0    0    0    0    1    0    0    0    0    0\n",
       " 12     0    0    0    0    1    0    0    0    0    0\n",
       " 13     0    0    0    0    1    0    0    0    0    0\n",
       " 14     0    0    0    0    1    0    0    0    0    0\n",
       " 15     0    0    0    0    1    0    0    0    0    0\n",
       " 16     0    0    0    0    1    0    0    0    0    0\n",
       " 17     0    0    0    0    1    0    0    0    0    0\n",
       " 18     0    0    0    0    1    0    0    0    0    0\n",
       " 19     0    0    0    0    1    0    0    0    0    0\n",
       " 20     0    0    0    0    1    0    0    0    0    0\n",
       " 21     0    0    0    0    1    0    0    0    0    0\n",
       " 22     0    0    0    0    1    0    0    0    0    0\n",
       " 23     0    0    0    0    1    0    0    0    0    0\n",
       " 24     0    0    0    0    1    0    0    0    0    0\n",
       " 25     0    0    0    0    1    0    0    0    0    0\n",
       " 26     0    0    0    0    1    0    0    0    0    0\n",
       " 27     0    0    0    0    1    0    0    0    0    0\n",
       " 28     0    0    0    0    1    0    0    0    0    0\n",
       " 29     0    0    0    0    1    0    0    0    0    0\n",
       " ..   ...  ...  ...  ...  ...  ...  ...  ...  ...  ...\n",
       " 613    0    0    0    0    0    0    0    0    1    0\n",
       " 614    0    0    0    0    0    0    0    0    1    0\n",
       " 615    0    0    0    0    0    0    0    0    1    0\n",
       " 616    0    0    0    0    0    0    0    0    1    0\n",
       " 617    0    0    0    0    0    0    0    0    1    0\n",
       " 618    0    0    0    0    0    0    0    0    1    0\n",
       " 619    0    0    0    0    0    0    0    0    1    0\n",
       " 620    0    0    0    0    0    0    0    0    1    0\n",
       " 621    0    0    0    0    0    0    0    0    1    0\n",
       " 622    0    0    0    0    0    0    0    0    1    0\n",
       " 623    0    0    0    0    0    0    0    0    1    0\n",
       " 624    0    0    0    0    0    0    0    0    1    0\n",
       " 625    0    0    0    0    0    0    0    0    1    0\n",
       " 626    0    0    0    0    0    0    0    0    1    0\n",
       " 627    0    0    0    0    0    0    0    0    0    1\n",
       " 628    0    0    0    0    0    0    0    0    0    1\n",
       " 629    0    0    0    0    0    0    0    0    0    1\n",
       " 630    0    0    0    0    0    0    0    0    0    1\n",
       " 631    0    0    0    0    0    0    0    0    0    1\n",
       " 632    0    0    0    0    0    0    0    0    0    1\n",
       " 633    0    0    0    0    0    0    0    0    0    1\n",
       " 634    0    0    0    0    0    0    0    0    0    1\n",
       " 635    0    0    0    0    0    0    0    0    0    1\n",
       " 636    0    0    0    0    0    0    0    0    0    1\n",
       " 637    0    0    0    0    0    0    0    0    0    1\n",
       " 638    0    0    0    0    0    0    0    0    0    1\n",
       " 639    0    0    0    0    0    0    0    0    0    1\n",
       " 640    0    0    0    0    0    0    0    0    0    1\n",
       " 641    0    0    0    0    0    0    0    0    0    1\n",
       " 642    0    0    0    0    0    0    0    0    0    1\n",
       " \n",
       " [643 rows x 10 columns],      0.1  0.2  0.3  0.4  0.5  0.6  0.7  0.8  0.9  1.0\n",
       " 0      0    0    0    0    0    1    0    0    0    0\n",
       " 1      0    0    0    0    0    1    0    0    0    0\n",
       " 2      0    0    0    0    0    1    0    0    0    0\n",
       " 3      0    0    1    0    0    0    0    0    0    0\n",
       " 4      0    0    0    0    0    0    1    0    0    0\n",
       " 5      0    0    0    0    0    1    0    0    0    0\n",
       " 6      0    1    0    0    0    0    0    0    0    0\n",
       " 7      0    0    0    1    0    0    0    0    0    0\n",
       " 8      0    0    0    1    0    0    0    0    0    0\n",
       " 9      0    0    0    0    1    0    0    0    0    0\n",
       " 10     0    0    0    0    1    0    0    0    0    0\n",
       " 11     0    0    0    1    0    0    0    0    0    0\n",
       " 12     0    0    0    0    0    0    1    0    0    0\n",
       " 13     0    0    0    0    1    0    0    0    0    0\n",
       " 14     0    0    0    0    1    0    0    0    0    0\n",
       " 15     0    0    0    0    0    0    1    0    0    0\n",
       " 16     0    0    0    0    0    0    1    0    0    0\n",
       " 17     0    0    0    0    0    0    1    0    0    0\n",
       " 18     0    0    0    1    0    0    0    0    0    0\n",
       " 19     0    0    0    0    1    0    0    0    0    0\n",
       " 20     0    0    0    1    0    0    0    0    0    0\n",
       " 21     0    0    0    0    1    0    0    0    0    0\n",
       " 22     0    0    0    0    1    0    0    0    0    0\n",
       " 23     0    0    0    0    0    0    1    0    0    0\n",
       " 24     0    0    0    0    0    0    1    0    0    0\n",
       " 25     0    0    0    0    0    0    0    1    0    0\n",
       " 26     0    0    0    0    1    0    0    0    0    0\n",
       " 27     0    0    1    0    0    0    0    0    0    0\n",
       " 28     0    0    0    0    0    0    1    0    0    0\n",
       " 29     0    0    0    0    0    1    0    0    0    0\n",
       " ..   ...  ...  ...  ...  ...  ...  ...  ...  ...  ...\n",
       " 613    0    0    0    0    0    0    0    0    1    0\n",
       " 614    0    0    0    0    0    0    0    0    1    0\n",
       " 615    0    0    0    0    0    0    0    0    0    1\n",
       " 616    0    0    0    0    0    0    0    0    0    1\n",
       " 617    0    0    0    0    0    0    0    1    0    0\n",
       " 618    0    0    0    0    0    0    0    0    1    0\n",
       " 619    0    0    0    0    0    0    0    0    1    0\n",
       " 620    0    0    0    0    0    0    0    0    1    0\n",
       " 621    0    0    0    0    0    0    0    0    0    1\n",
       " 622    0    0    0    0    0    0    1    0    0    0\n",
       " 623    0    0    0    0    0    0    0    1    0    0\n",
       " 624    0    0    0    0    0    0    0    0    1    0\n",
       " 625    0    0    0    0    0    0    0    0    1    0\n",
       " 626    0    0    0    0    0    0    0    0    0    1\n",
       " 627    0    0    0    0    0    0    0    1    0    0\n",
       " 628    0    0    0    0    0    0    0    0    1    0\n",
       " 629    0    0    0    0    0    0    0    0    1    0\n",
       " 630    0    0    0    0    0    0    0    0    1    0\n",
       " 631    0    0    0    0    0    0    0    1    0    0\n",
       " 632    0    0    0    0    0    0    0    1    0    0\n",
       " 633    0    0    0    0    0    0    0    0    1    0\n",
       " 634    0    0    0    0    0    0    0    0    0    1\n",
       " 635    0    0    0    0    0    0    0    0    1    0\n",
       " 636    0    0    0    0    0    0    0    0    1    0\n",
       " 637    0    0    0    0    0    0    0    0    1    0\n",
       " 638    0    0    0    0    0    0    0    0    0    1\n",
       " 639    0    0    0    0    0    0    1    0    0    0\n",
       " 640    0    0    0    0    0    0    0    1    0    0\n",
       " 641    0    0    0    0    0    0    0    1    0    0\n",
       " 642    0    0    0    0    0    0    0    0    1    0\n",
       " \n",
       " [643 rows x 10 columns])"
      ]
     },
     "execution_count": 27,
     "metadata": {},
     "output_type": "execute_result"
    }
   ],
   "source": [
    "#append empty columns\n",
    "labels1d.insert(0, column='0.1', value=0, allow_duplicates=False)\n",
    "labels2d.insert(0, column='0.1', value=0, allow_duplicates=False)\n",
    "labels1d, labels2d"
   ]
  },
  {
   "cell_type": "code",
   "execution_count": 29,
   "metadata": {},
   "outputs": [],
   "source": [
    "#convert to np.array again\n",
    "labels1d = np.array(labels1d)\n",
    "labels2d = np.array(labels2d)"
   ]
  },
  {
   "cell_type": "code",
   "execution_count": 30,
   "metadata": {},
   "outputs": [
    {
     "data": {
      "text/plain": [
       "(0.29999999999999999, array([0, 0, 1, 0, 0, 0, 0, 0, 0, 0], dtype=int64))"
      ]
     },
     "execution_count": 30,
     "metadata": {},
     "output_type": "execute_result"
    }
   ],
   "source": [
    "#check if OK\n",
    "labels1[1], labels1d[1]"
   ]
  },
  {
   "cell_type": "code",
   "execution_count": 31,
   "metadata": {},
   "outputs": [],
   "source": [
    "from keras.models import Model\n",
    "from keras.layers import *\n",
    "import keras.backend as K\n",
    "import keras.optimizers as Optimizers"
   ]
  },
  {
   "cell_type": "code",
   "execution_count": 32,
   "metadata": {
    "scrolled": true
   },
   "outputs": [],
   "source": [
    "K.clear_session()\n",
    "\n",
    "img_in = Input(shape=(160, 128, 1), name='img_in')\n",
    "\n",
    "x = img_in\n",
    "\n",
    "x = Conv2D(8, (3, 3), padding='same', activation='relu')(x)\n",
    "x = MaxPooling2D(pool_size=(2, 2))(x)\n",
    "\n",
    "x = Conv2D(16, (3, 3), padding='same', activation='relu')(x)\n",
    "x = MaxPooling2D(pool_size=(2, 2))(x)\n",
    "\n",
    "x = Conv2D(32, (3, 3), padding='same', activation='relu')(x)\n",
    "x = MaxPooling2D(pool_size=(2, 2))(x)\n",
    "\n",
    "x = Conv2D(64, (3, 3), padding='same', activation='relu')(x)\n",
    "x = MaxPooling2D(pool_size=(2, 2))(x)\n",
    "\n",
    "x = Conv2D(128, (3, 3), padding='same', activation='relu')(x)\n",
    "x = MaxPooling2D(pool_size=(2, 2))(x)\n",
    "\n",
    "flat = Flatten()(x)\n",
    "\n",
    "out1 = Dense(10, activation='softmax')(flat)\n",
    "out2 = Dense(10, activation='softmax')(flat)\n",
    "\n",
    "model = Model(inputs=[img_in], outputs=[out1, out2])\n",
    "model.compile(loss=['categorical_crossentropy', 'categorical_crossentropy'], optimizer='adadelta', metrics=['accuracy'])"
   ]
  },
  {
   "cell_type": "code",
   "execution_count": 33,
   "metadata": {
    "scrolled": true
   },
   "outputs": [
    {
     "name": "stdout",
     "output_type": "stream",
     "text": [
      "____________________________________________________________________________________________________\n",
      "Layer (type)                     Output Shape          Param #     Connected to                     \n",
      "====================================================================================================\n",
      "img_in (InputLayer)              (None, 160, 128, 1)   0                                            \n",
      "____________________________________________________________________________________________________\n",
      "conv2d_1 (Conv2D)                (None, 160, 128, 8)   80          img_in[0][0]                     \n",
      "____________________________________________________________________________________________________\n",
      "max_pooling2d_1 (MaxPooling2D)   (None, 80, 64, 8)     0           conv2d_1[0][0]                   \n",
      "____________________________________________________________________________________________________\n",
      "conv2d_2 (Conv2D)                (None, 80, 64, 16)    1168        max_pooling2d_1[0][0]            \n",
      "____________________________________________________________________________________________________\n",
      "max_pooling2d_2 (MaxPooling2D)   (None, 40, 32, 16)    0           conv2d_2[0][0]                   \n",
      "____________________________________________________________________________________________________\n",
      "conv2d_3 (Conv2D)                (None, 40, 32, 32)    4640        max_pooling2d_2[0][0]            \n",
      "____________________________________________________________________________________________________\n",
      "max_pooling2d_3 (MaxPooling2D)   (None, 20, 16, 32)    0           conv2d_3[0][0]                   \n",
      "____________________________________________________________________________________________________\n",
      "conv2d_4 (Conv2D)                (None, 20, 16, 64)    18496       max_pooling2d_3[0][0]            \n",
      "____________________________________________________________________________________________________\n",
      "max_pooling2d_4 (MaxPooling2D)   (None, 10, 8, 64)     0           conv2d_4[0][0]                   \n",
      "____________________________________________________________________________________________________\n",
      "conv2d_5 (Conv2D)                (None, 10, 8, 128)    73856       max_pooling2d_4[0][0]            \n",
      "____________________________________________________________________________________________________\n",
      "max_pooling2d_5 (MaxPooling2D)   (None, 5, 4, 128)     0           conv2d_5[0][0]                   \n",
      "____________________________________________________________________________________________________\n",
      "flatten_1 (Flatten)              (None, 2560)          0           max_pooling2d_5[0][0]            \n",
      "____________________________________________________________________________________________________\n",
      "dense_1 (Dense)                  (None, 10)            25610       flatten_1[0][0]                  \n",
      "____________________________________________________________________________________________________\n",
      "dense_2 (Dense)                  (None, 10)            25610       flatten_1[0][0]                  \n",
      "====================================================================================================\n",
      "Total params: 149,460\n",
      "Trainable params: 149,460\n",
      "Non-trainable params: 0\n",
      "____________________________________________________________________________________________________\n"
     ]
    }
   ],
   "source": [
    "model.summary()"
   ]
  },
  {
   "cell_type": "code",
   "execution_count": 34,
   "metadata": {},
   "outputs": [
    {
     "name": "stdout",
     "output_type": "stream",
     "text": [
      "Epoch 1/50\n",
      "643/643 [==============================] - 19s - loss: 3.3591 - dense_1_loss: 1.6455 - dense_2_loss: 1.7136 - dense_1_acc: 0.3530 - dense_2_acc: 0.2830    \n",
      "Epoch 2/50\n",
      "643/643 [==============================] - 18s - loss: 3.2470 - dense_1_loss: 1.5845 - dense_2_loss: 1.6625 - dense_1_acc: 0.3530 - dense_2_acc: 0.2955    \n",
      "Epoch 3/50\n",
      "643/643 [==============================] - 18s - loss: 3.2297 - dense_1_loss: 1.5871 - dense_2_loss: 1.6425 - dense_1_acc: 0.3530 - dense_2_acc: 0.3002    \n",
      "Epoch 4/50\n",
      "643/643 [==============================] - 18s - loss: 3.1917 - dense_1_loss: 1.5695 - dense_2_loss: 1.6222 - dense_1_acc: 0.3593 - dense_2_acc: 0.3406    \n",
      "Epoch 5/50\n",
      "643/643 [==============================] - 18s - loss: 3.1116 - dense_1_loss: 1.5497 - dense_2_loss: 1.5618 - dense_1_acc: 0.3639 - dense_2_acc: 0.3593    \n",
      "Epoch 6/50\n",
      "643/643 [==============================] - 18s - loss: 3.0735 - dense_1_loss: 1.5348 - dense_2_loss: 1.5387 - dense_1_acc: 0.3888 - dense_2_acc: 0.3904    \n",
      "Epoch 7/50\n",
      "643/643 [==============================] - 17s - loss: 3.0130 - dense_1_loss: 1.5067 - dense_2_loss: 1.5062 - dense_1_acc: 0.3950 - dense_2_acc: 0.3981    \n",
      "Epoch 8/50\n",
      "643/643 [==============================] - 18s - loss: 2.9623 - dense_1_loss: 1.4829 - dense_2_loss: 1.4794 - dense_1_acc: 0.3919 - dense_2_acc: 0.4137    \n",
      "Epoch 9/50\n",
      "643/643 [==============================] - 18s - loss: 2.9070 - dense_1_loss: 1.4588 - dense_2_loss: 1.4482 - dense_1_acc: 0.4121 - dense_2_acc: 0.4246    \n",
      "Epoch 10/50\n",
      "643/643 [==============================] - 18s - loss: 2.8703 - dense_1_loss: 1.4313 - dense_2_loss: 1.4390 - dense_1_acc: 0.4526 - dense_2_acc: 0.4432    \n",
      "Epoch 11/50\n",
      "643/643 [==============================] - 18s - loss: 2.8176 - dense_1_loss: 1.4118 - dense_2_loss: 1.4058 - dense_1_acc: 0.4479 - dense_2_acc: 0.4448    \n",
      "Epoch 12/50\n",
      "643/643 [==============================] - 18s - loss: 2.7707 - dense_1_loss: 1.3913 - dense_2_loss: 1.3794 - dense_1_acc: 0.4681 - dense_2_acc: 0.4650    \n",
      "Epoch 13/50\n",
      "643/643 [==============================] - 17s - loss: 2.7214 - dense_1_loss: 1.3622 - dense_2_loss: 1.3592 - dense_1_acc: 0.4868 - dense_2_acc: 0.4681    \n",
      "Epoch 14/50\n",
      "643/643 [==============================] - 18s - loss: 2.6606 - dense_1_loss: 1.3394 - dense_2_loss: 1.3212 - dense_1_acc: 0.4961 - dense_2_acc: 0.4883    \n",
      "Epoch 15/50\n",
      "643/643 [==============================] - 18s - loss: 2.6106 - dense_1_loss: 1.3155 - dense_2_loss: 1.2952 - dense_1_acc: 0.5350 - dense_2_acc: 0.5148    \n",
      "Epoch 16/50\n",
      "643/643 [==============================] - 18s - loss: 2.5297 - dense_1_loss: 1.2832 - dense_2_loss: 1.2465 - dense_1_acc: 0.5319 - dense_2_acc: 0.5319    \n",
      "Epoch 17/50\n",
      "643/643 [==============================] - 18s - loss: 2.4479 - dense_1_loss: 1.2288 - dense_2_loss: 1.2191 - dense_1_acc: 0.5599 - dense_2_acc: 0.5568    \n",
      "Epoch 18/50\n",
      "643/643 [==============================] - 18s - loss: 2.3459 - dense_1_loss: 1.1794 - dense_2_loss: 1.1664 - dense_1_acc: 0.5785 - dense_2_acc: 0.5770    \n",
      "Epoch 19/50\n",
      "643/643 [==============================] - 18s - loss: 2.2190 - dense_1_loss: 1.1127 - dense_2_loss: 1.1063 - dense_1_acc: 0.6096 - dense_2_acc: 0.6096    \n",
      "Epoch 20/50\n",
      "643/643 [==============================] - 18s - loss: 2.0808 - dense_1_loss: 1.0266 - dense_2_loss: 1.0542 - dense_1_acc: 0.6345 - dense_2_acc: 0.6205    \n",
      "Epoch 21/50\n",
      "643/643 [==============================] - 18s - loss: 1.9174 - dense_1_loss: 0.9676 - dense_2_loss: 0.9498 - dense_1_acc: 0.6672 - dense_2_acc: 0.6812    \n",
      "Epoch 22/50\n",
      "643/643 [==============================] - 18s - loss: 1.7048 - dense_1_loss: 0.8574 - dense_2_loss: 0.8474 - dense_1_acc: 0.6998 - dense_2_acc: 0.7061    \n",
      "Epoch 23/50\n",
      "643/643 [==============================] - 18s - loss: 1.5182 - dense_1_loss: 0.7547 - dense_2_loss: 0.7635 - dense_1_acc: 0.7434 - dense_2_acc: 0.7465    \n",
      "Epoch 24/50\n",
      "643/643 [==============================] - 17s - loss: 1.3111 - dense_1_loss: 0.6659 - dense_2_loss: 0.6452 - dense_1_acc: 0.7636 - dense_2_acc: 0.7947    \n",
      "Epoch 25/50\n",
      "643/643 [==============================] - 18s - loss: 1.0726 - dense_1_loss: 0.5509 - dense_2_loss: 0.5217 - dense_1_acc: 0.8134 - dense_2_acc: 0.8445    \n",
      "Epoch 26/50\n",
      "643/643 [==============================] - 18s - loss: 0.8927 - dense_1_loss: 0.4510 - dense_2_loss: 0.4417 - dense_1_acc: 0.8398 - dense_2_acc: 0.8600    \n",
      "Epoch 27/50\n",
      "643/643 [==============================] - 16s - loss: 0.7043 - dense_1_loss: 0.3639 - dense_2_loss: 0.3404 - dense_1_acc: 0.8756 - dense_2_acc: 0.8911    \n",
      "Epoch 28/50\n",
      "643/643 [==============================] - 18s - loss: 0.5618 - dense_1_loss: 0.2937 - dense_2_loss: 0.2681 - dense_1_acc: 0.9129 - dense_2_acc: 0.9098    \n",
      "Epoch 29/50\n",
      "643/643 [==============================] - 17s - loss: 0.4335 - dense_1_loss: 0.2211 - dense_2_loss: 0.2124 - dense_1_acc: 0.9300 - dense_2_acc: 0.9347    \n",
      "Epoch 30/50\n",
      "643/643 [==============================] - 15s - loss: 0.3138 - dense_1_loss: 0.1682 - dense_2_loss: 0.1455 - dense_1_acc: 0.9502 - dense_2_acc: 0.9627    \n",
      "Epoch 31/50\n",
      "643/643 [==============================] - 17s - loss: 0.2110 - dense_1_loss: 0.1155 - dense_2_loss: 0.0955 - dense_1_acc: 0.9642 - dense_2_acc: 0.9751    \n",
      "Epoch 32/50\n",
      "643/643 [==============================] - 17s - loss: 0.1611 - dense_1_loss: 0.0904 - dense_2_loss: 0.0707 - dense_1_acc: 0.9751 - dense_2_acc: 0.9860    \n",
      "Epoch 33/50\n",
      "643/643 [==============================] - 17s - loss: 0.1168 - dense_1_loss: 0.0587 - dense_2_loss: 0.0581 - dense_1_acc: 0.9876 - dense_2_acc: 0.9891    \n",
      "Epoch 34/50\n",
      "643/643 [==============================] - 17s - loss: 0.0828 - dense_1_loss: 0.0461 - dense_2_loss: 0.0368 - dense_1_acc: 0.9891 - dense_2_acc: 0.9907    \n",
      "Epoch 35/50\n",
      "643/643 [==============================] - 17s - loss: 0.0656 - dense_1_loss: 0.0388 - dense_2_loss: 0.0268 - dense_1_acc: 0.9860 - dense_2_acc: 0.9938    \n",
      "Epoch 36/50\n",
      "643/643 [==============================] - 17s - loss: 0.0524 - dense_1_loss: 0.0293 - dense_2_loss: 0.0230 - dense_1_acc: 0.9876 - dense_2_acc: 0.9938    \n",
      "Epoch 37/50\n",
      "643/643 [==============================] - 17s - loss: 0.0310 - dense_1_loss: 0.0213 - dense_2_loss: 0.0097 - dense_1_acc: 0.9907 - dense_2_acc: 1.0000    \n",
      "Epoch 38/50\n",
      "643/643 [==============================] - 17s - loss: 0.0167 - dense_1_loss: 0.0088 - dense_2_loss: 0.0079 - dense_1_acc: 0.9984 - dense_2_acc: 0.9969    \n",
      "Epoch 39/50\n",
      "643/643 [==============================] - 17s - loss: 0.0334 - dense_1_loss: 0.0203 - dense_2_loss: 0.0131 - dense_1_acc: 0.9953 - dense_2_acc: 0.9969    \n",
      "Epoch 40/50\n",
      "643/643 [==============================] - 17s - loss: 0.0206 - dense_1_loss: 0.0135 - dense_2_loss: 0.0070 - dense_1_acc: 0.9969 - dense_2_acc: 0.9953    \n",
      "Epoch 41/50\n",
      "643/643 [==============================] - 16s - loss: 0.0050 - dense_1_loss: 0.0024 - dense_2_loss: 0.0026 - dense_1_acc: 1.0000 - dense_2_acc: 1.0000    - ETA: 4s - loss:\n",
      "Epoch 42/50\n",
      "643/643 [==============================] - 18s - loss: 0.0124 - dense_1_loss: 0.0109 - dense_2_loss: 0.0016 - dense_1_acc: 0.9969 - dense_2_acc: 1.0000    \n",
      "Epoch 43/50\n",
      "643/643 [==============================] - 17s - loss: 0.0047 - dense_1_loss: 0.0038 - dense_2_loss: 9.0160e-04 - dense_1_acc: 0.9984 - dense_2_acc: 1.0000    \n",
      "Epoch 44/50\n",
      "643/643 [==============================] - 14s - loss: 0.0020 - dense_1_loss: 0.0014 - dense_2_loss: 6.3066e-04 - dense_1_acc: 1.0000 - dense_2_acc: 1.0000    \n",
      "Epoch 45/50\n",
      "643/643 [==============================] - 17s - loss: 0.0163 - dense_1_loss: 0.0091 - dense_2_loss: 0.0073 - dense_1_acc: 0.9969 - dense_2_acc: 0.9984    \n",
      "Epoch 46/50\n",
      "643/643 [==============================] - 17s - loss: 0.0139 - dense_1_loss: 0.0128 - dense_2_loss: 0.0011 - dense_1_acc: 0.9969 - dense_2_acc: 1.0000    \n",
      "Epoch 47/50\n",
      "643/643 [==============================] - 17s - loss: 0.0837 - dense_1_loss: 0.0405 - dense_2_loss: 0.0432 - dense_1_acc: 0.9907 - dense_2_acc: 0.9938    \n",
      "Epoch 48/50\n",
      "643/643 [==============================] - 17s - loss: 0.0031 - dense_1_loss: 9.9690e-04 - dense_2_loss: 0.0021 - dense_1_acc: 1.0000 - dense_2_acc: 1.0000 \n",
      "Epoch 49/50\n"
     ]
    },
    {
     "name": "stdout",
     "output_type": "stream",
     "text": [
      "643/643 [==============================] - 18s - loss: 0.0136 - dense_1_loss: 0.0021 - dense_2_loss: 0.0115 - dense_1_acc: 1.0000 - dense_2_acc: 0.9984    \n",
      "Epoch 50/50\n",
      "643/643 [==============================] - 18s - loss: 0.0147 - dense_1_loss: 0.0141 - dense_2_loss: 5.7390e-04 - dense_1_acc: 0.9984 - dense_2_acc: 1.0000    \n"
     ]
    }
   ],
   "source": [
    "h = model.fit(images, [labels1d, labels2d], batch_size=1, epochs=50, verbose=1)"
   ]
  },
  {
   "cell_type": "code",
   "execution_count": 35,
   "metadata": {},
   "outputs": [
    {
     "data": {
      "text/plain": [
       "<matplotlib.axes._subplots.AxesSubplot at 0x1991bd0f320>"
      ]
     },
     "execution_count": 35,
     "metadata": {},
     "output_type": "execute_result"
    },
    {
     "data": {
      "image/png": "[encoded data removed]",
      "text/plain": [
       "<matplotlib.figure.Figure at 0x1991bcfc7b8>"
      ]
     },
     "metadata": {},
     "output_type": "display_data"
    }
   ],
   "source": [
    "#print History graph\n",
    "historydf = pd.DataFrame(h.history, index=h.epoch)\n",
    "historydf.plot(ylim=(0,1))"
   ]
  },
  {
   "cell_type": "code",
   "execution_count": 39,
   "metadata": {},
   "outputs": [
    {
     "data": {
      "text/plain": [
       "(array([ 8,  7,  6,  8,  6,  6,  9,  6,  8,  7,  6,  7,  7,  8,  9,  6,  7,\n",
       "         8,  7,  6,  7,  7,  7,  8,  7,  7,  6,  7,  6,  8,  7,  7,  8,  6,\n",
       "         7,  8,  9,  8,  8,  8,  7,  6,  8,  9,  8,  9,  7,  7,  8,  8,  8,\n",
       "         7,  8,  8,  8,  8,  8,  6,  8,  8,  7,  6,  7,  9,  8,  8,  8,  8,\n",
       "         7, 10,  6,  8,  8,  6,  9,  9,  7,  9,  9,  8,  8,  8,  7,  9,  9,\n",
       "         6,  7,  6,  7,  9,  9,  7,  9,  6,  8,  8,  9, 10,  7,  7,  8,  8,\n",
       "         9,  9,  7], dtype=int64),\n",
       " array([9, 8, 8, 9, 8, 6, 9, 8, 9, 7, 8, 7, 5, 8, 7, 7, 9, 5, 8, 8, 8, 3, 5,\n",
       "        8, 8, 7, 5, 8, 8, 8, 5, 7, 9, 8, 8, 8, 6, 8, 5, 8, 9, 8, 9, 9, 8, 8,\n",
       "        8, 8, 9, 8, 8, 8, 8, 7, 9, 8, 7, 8, 8, 8, 8, 7, 6, 9, 6, 6, 8, 8, 8,\n",
       "        5, 6, 7, 8, 8, 9, 7, 8, 8, 8, 5, 7, 8, 8, 7, 8, 8, 6, 9, 7, 8, 8, 8,\n",
       "        9, 8, 6, 8, 9, 5, 8, 7, 6, 8, 7, 8, 7], dtype=int64),\n",
       " array([ 0.4,  0.4,  0.4,  0.4,  0.4,  0.6,  0.6,  0.6,  0.6,  0.6,  0.6,\n",
       "         0.6,  0.6,  0.6,  0.6,  0.6,  0.6,  0.6,  0.6,  0.6,  0.7,  0.7,\n",
       "         0.7,  0.7,  0.7,  0.7,  0.7,  0.7,  0.7,  0.7,  0.7,  0.7,  0.7,\n",
       "         0.7,  0.7,  0.7,  0.7,  0.7,  0.7,  0.7,  0.7,  0.7,  0.7,  0.7,\n",
       "         0.7,  0.7,  0.7,  0.7,  0.7,  0.7,  0.8,  0.8,  0.8,  0.8,  0.8,\n",
       "         0.8,  0.8,  0.8,  0.8,  0.8,  0.8,  0.8,  0.8,  0.8,  0.8,  0.8,\n",
       "         0.8,  0.8,  0.8,  0.8,  0.8,  0.8,  0.8,  0.8,  0.8,  0.8,  0.8,\n",
       "         0.8,  0.8,  0.8,  0.8,  0.8,  0.8,  0.8,  0.8,  0.8,  0.8,  0.8,\n",
       "         0.8,  0.8,  0.9,  0.9,  0.9,  0.9,  0.9,  0.9,  0.9,  0.9,  0.9,\n",
       "         0.9,  0.9,  0.9,  0.9,  0.9,  0.9]),\n",
       " array([ 0.5,  0.7,  0.7,  0.6,  0.7,  0.7,  0.7,  0.8,  0.8,  0.6,  0.9,\n",
       "         0.5,  0.5,  0.6,  0.6,  0.7,  0.7,  0.7,  0.7,  0.7,  0.9,  0.3,\n",
       "         0.5,  0.7,  0.7,  0.5,  0.5,  0.5,  0.6,  0.6,  0.5,  0.5,  0.7,\n",
       "         0.7,  0.8,  0.8,  0.8,  0.8,  0.8,  0.8,  0.8,  0.8,  0.8,  0.8,\n",
       "         0.9,  0.7,  0.7,  0.8,  0.8,  0.8,  0.8,  0.8,  0.8,  0.8,  0.8,\n",
       "         0.8,  0.8,  0.8,  0.8,  0.8,  0.6,  0.6,  0.7,  0.7,  0.7,  0.7,\n",
       "         0.7,  0.7,  0.7,  0.8,  0.7,  0.7,  0.7,  0.8,  0.8,  0.8,  0.8,\n",
       "         0.8,  0.8,  0.8,  0.7,  0.7,  0.8,  0.8,  0.8,  0.9,  0.9,  0.9,\n",
       "         0.7,  0.8,  0.9,  0.9,  1. ,  1. ,  0.8,  0.8,  0.8,  0.8,  0.8,\n",
       "         0.8,  0.7,  0.8,  0.8,  0.8,  0.9]))"
      ]
     },
     "execution_count": 39,
     "metadata": {},
     "output_type": "execute_result"
    }
   ],
   "source": [
    "# Get predictions\n",
    "all_preds = model.predict(images_val)\n",
    "\n",
    "# Check predictions\n",
    "idx1 = np.argmax(all_preds[0], axis=1)\n",
    "idx2 = np.argmax(all_preds[1], axis=1)\n",
    "\n",
    "i = 0\n",
    "for value1 in idx1:\n",
    "    idx1[i] = value1 + 1\n",
    "    i = i + 1\n",
    "i = 0\n",
    "for value2 in idx2:\n",
    "    idx2[i] = value2 + 1\n",
    "    i = i + 1\n",
    "\n",
    "idx1, idx2, labels1_val, labels2_val"
   ]
  },
  {
   "cell_type": "code",
   "execution_count": null,
   "metadata": {},
   "outputs": [],
   "source": []
  },
  {
   "cell_type": "code",
   "execution_count": 40,
   "metadata": {},
   "outputs": [
    {
     "data": {
      "text/plain": [
       "0.064345816986406568"
      ]
     },
     "execution_count": 40,
     "metadata": {},
     "output_type": "execute_result"
    }
   ],
   "source": [
    "predicted_ratio = []\n",
    "label_ratio = []\n",
    "se = 0\n",
    "i = 0\n",
    "for value in idx1:\n",
    "    predicted_ratio.append(idx1[i] / idx2[i])\n",
    "    label_ratio.append(labels1_val[i] / labels2_val[i])\n",
    "    se += ((predicted_ratio[i]-label_ratio[i])*(predicted_ratio[i]-label_ratio[i]))\n",
    "    i = i + 1\n",
    "mse = se/nb_images_val\n",
    "mse"
   ]
  },
  {
   "cell_type": "code",
   "execution_count": 43,
   "metadata": {},
   "outputs": [],
   "source": []
  },
  {
   "cell_type": "code",
   "execution_count": 41,
   "metadata": {},
   "outputs": [],
   "source": [
    "model.save('test_model.h5')"
   ]
  },
  {
   "cell_type": "code",
   "execution_count": null,
   "metadata": {},
   "outputs": [],
   "source": []
  }
 ],
 "metadata": {
  "kernelspec": {
   "display_name": "Python 3",
   "language": "python",
   "name": "python3"
  },
  "language_info": {
   "codemirror_mode": {
    "name": "ipython",
    "version": 3
   },
   "file_extension": ".py",
   "mimetype": "text/x-python",
   "name": "python",
   "nbconvert_exporter": "python",
   "pygments_lexer": "ipython3",
   "version": "3.5.4"
  }
 },
 "nbformat": 4,
 "nbformat_minor": 2
}
