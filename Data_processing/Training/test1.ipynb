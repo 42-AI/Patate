{
 "cells": [
  {
   "cell_type": "code",
   "execution_count": 1,
   "metadata": {},
   "outputs": [
    {
     "name": "stderr",
     "output_type": "stream",
     "text": [
      "Using TensorFlow backend.\n"
     ]
    }
   ],
   "source": [
    "from os import listdir\n",
    "from keras.preprocessing.image import load_img\n",
    "from keras.preprocessing.image import img_to_array\n",
    "from PIL import Image\n",
    "import numpy as np\n",
    "import pandas as pd\n",
    "%matplotlib inline\n",
    "import matplotlib.pyplot as plt"
   ]
  },
  {
   "cell_type": "code",
   "execution_count": 2,
   "metadata": {},
   "outputs": [],
   "source": [
    "def load_photos(directory):\n",
    "    images = []\n",
    "    labels1 = []\n",
    "    labels2 = []\n",
    "    for name in listdir(directory):\n",
    "        filename = directory + '/' + name\n",
    "        # convert image to gray\n",
    "        img = Image.open(filename).convert('L')\n",
    "        img.save(filename)\n",
    "        # load an image from file\n",
    "        image = load_img(filename, target_size=(160, 128), grayscale=True)\n",
    "        # convert the image pixels to a numpy array\n",
    "        image = img_to_array(image)\n",
    "        # get image id + labels\n",
    "        labels1.append(round(float(name.split('_')[0].split('-')[0]), 1))\n",
    "        labels2.append(round(float(name.split('_')[0].split('-')[1]), 1))\n",
    "        images.append(image)\n",
    "    return images, labels1, labels2"
   ]
  },
  {
   "cell_type": "code",
   "execution_count": 3,
   "metadata": {},
   "outputs": [
    {
     "name": "stdout",
     "output_type": "stream",
     "text": [
      "Loaded Images and labels for training: 182\n",
      "Loaded Images and labels for validation: 30\n"
     ]
    }
   ],
   "source": [
    "# load images from both train and test groups\n",
    "directory = '../data/Patate_Pics/Training'\n",
    "images, labels1, labels2 = load_photos(directory)\n",
    "nb_images = len(images)\n",
    "print('Loaded Images and labels for training: %d' % nb_images)\n",
    "directory = '../data/Patate_Pics/Validation'\n",
    "images_val, labels1_val, labels2_val = load_photos(directory)\n",
    "nb_images_val = len(images_val)\n",
    "print('Loaded Images and labels for validation: %d' % nb_images_val)"
   ]
  },
  {
   "cell_type": "code",
   "execution_count": 4,
   "metadata": {
    "scrolled": false
   },
   "outputs": [],
   "source": [
    "#normalise datas\n",
    "images = np.array(images)\n",
    "images /= 255\n",
    "images_val = np.array(images_val)\n",
    "images_val /= 255"
   ]
  },
  {
   "cell_type": "code",
   "execution_count": 5,
   "metadata": {},
   "outputs": [],
   "source": [
    "#convert to np.array\n",
    "labels1 = np.array(labels1)\n",
    "labels2 = np.array(labels2)\n",
    "labels1_val = np.array(labels1_val)\n",
    "labels2_val = np.array(labels2_val)"
   ]
  },
  {
   "cell_type": "code",
   "execution_count": 6,
   "metadata": {},
   "outputs": [],
   "source": [
    "#convert datas to dummyvalues\n",
    "labels1d = pd.get_dummies(labels1)\n",
    "labels2d = pd.get_dummies(labels2)"
   ]
  },
  {
   "cell_type": "code",
   "execution_count": 7,
   "metadata": {},
   "outputs": [],
   "source": [
    "#append empty columns\n",
    "labels1d.insert(0, column='0.1', value=0, allow_duplicates=False)\n",
    "labels1d.insert(1, column='0.2', value=0, allow_duplicates=False)\n",
    "labels1d.insert(2, column='0.3', value=0, allow_duplicates=False)\n",
    "labels2d.insert(0, column='0.1', value=0, allow_duplicates=False)"
   ]
  },
  {
   "cell_type": "code",
   "execution_count": 8,
   "metadata": {},
   "outputs": [],
   "source": [
    "#convert to np.array again\n",
    "labels1d = np.array(labels1d)\n",
    "labels2d = np.array(labels2d)"
   ]
  },
  {
   "cell_type": "code",
   "execution_count": 9,
   "metadata": {},
   "outputs": [
    {
     "data": {
      "text/plain": [
       "(0.40000000000000002, array([0, 0, 0, 1, 0, 0, 0, 0, 0, 0], dtype=int64))"
      ]
     },
     "execution_count": 9,
     "metadata": {},
     "output_type": "execute_result"
    }
   ],
   "source": [
    "#check if OK\n",
    "labels1[1], labels1d[1]"
   ]
  },
  {
   "cell_type": "code",
   "execution_count": 10,
   "metadata": {},
   "outputs": [],
   "source": [
    "from keras.models import Model\n",
    "from keras.layers import *\n",
    "import keras.backend as K\n",
    "import keras.optimizers as Optimizers"
   ]
  },
  {
   "cell_type": "code",
   "execution_count": 11,
   "metadata": {
    "scrolled": true
   },
   "outputs": [],
   "source": [
    "K.clear_session()\n",
    "\n",
    "img_in = Input(shape=(160, 128, 1), name='img_in')\n",
    "\n",
    "x = img_in\n",
    "\n",
    "x = Conv2D(8, (3, 3), padding='same', activation='relu')(x)\n",
    "x = MaxPooling2D(pool_size=(2, 2))(x)\n",
    "\n",
    "x = Conv2D(16, (3, 3), padding='same', activation='relu')(x)\n",
    "x = MaxPooling2D(pool_size=(2, 2))(x)\n",
    "\n",
    "x = Conv2D(32, (3, 3), padding='same', activation='relu')(x)\n",
    "x = MaxPooling2D(pool_size=(2, 2))(x)\n",
    "\n",
    "x = Conv2D(64, (3, 3), padding='same', activation='relu')(x)\n",
    "x = MaxPooling2D(pool_size=(2, 2))(x)\n",
    "\n",
    "x = Conv2D(128, (3, 3), padding='same', activation='relu')(x)\n",
    "x = MaxPooling2D(pool_size=(2, 2))(x)\n",
    "\n",
    "flat = Flatten()(x)\n",
    "\n",
    "out1 = Dense(10, activation='softmax')(flat)\n",
    "out2 = Dense(10, activation='softmax')(flat)\n",
    "\n",
    "model = Model(inputs=[img_in], outputs=[out1, out2])\n",
    "model.compile(loss=['categorical_crossentropy', 'categorical_crossentropy'], optimizer='adadelta', metrics=['accuracy'])"
   ]
  },
  {
   "cell_type": "code",
   "execution_count": 12,
   "metadata": {
    "scrolled": true
   },
   "outputs": [
    {
     "name": "stdout",
     "output_type": "stream",
     "text": [
      "____________________________________________________________________________________________________\n",
      "Layer (type)                     Output Shape          Param #     Connected to                     \n",
      "====================================================================================================\n",
      "img_in (InputLayer)              (None, 160, 128, 1)   0                                            \n",
      "____________________________________________________________________________________________________\n",
      "conv2d_1 (Conv2D)                (None, 160, 128, 8)   80          img_in[0][0]                     \n",
      "____________________________________________________________________________________________________\n",
      "max_pooling2d_1 (MaxPooling2D)   (None, 80, 64, 8)     0           conv2d_1[0][0]                   \n",
      "____________________________________________________________________________________________________\n",
      "conv2d_2 (Conv2D)                (None, 80, 64, 16)    1168        max_pooling2d_1[0][0]            \n",
      "____________________________________________________________________________________________________\n",
      "max_pooling2d_2 (MaxPooling2D)   (None, 40, 32, 16)    0           conv2d_2[0][0]                   \n",
      "____________________________________________________________________________________________________\n",
      "conv2d_3 (Conv2D)                (None, 40, 32, 32)    4640        max_pooling2d_2[0][0]            \n",
      "____________________________________________________________________________________________________\n",
      "max_pooling2d_3 (MaxPooling2D)   (None, 20, 16, 32)    0           conv2d_3[0][0]                   \n",
      "____________________________________________________________________________________________________\n",
      "conv2d_4 (Conv2D)                (None, 20, 16, 64)    18496       max_pooling2d_3[0][0]            \n",
      "____________________________________________________________________________________________________\n",
      "max_pooling2d_4 (MaxPooling2D)   (None, 10, 8, 64)     0           conv2d_4[0][0]                   \n",
      "____________________________________________________________________________________________________\n",
      "conv2d_5 (Conv2D)                (None, 10, 8, 128)    73856       max_pooling2d_4[0][0]            \n",
      "____________________________________________________________________________________________________\n",
      "max_pooling2d_5 (MaxPooling2D)   (None, 5, 4, 128)     0           conv2d_5[0][0]                   \n",
      "____________________________________________________________________________________________________\n",
      "flatten_1 (Flatten)              (None, 2560)          0           max_pooling2d_5[0][0]            \n",
      "____________________________________________________________________________________________________\n",
      "dense_1 (Dense)                  (None, 10)            25610       flatten_1[0][0]                  \n",
      "____________________________________________________________________________________________________\n",
      "dense_2 (Dense)                  (None, 10)            25610       flatten_1[0][0]                  \n",
      "====================================================================================================\n",
      "Total params: 149,460\n",
      "Trainable params: 149,460\n",
      "Non-trainable params: 0\n",
      "____________________________________________________________________________________________________\n"
     ]
    }
   ],
   "source": [
    "model.summary()"
   ]
  },
  {
   "cell_type": "code",
   "execution_count": 13,
   "metadata": {},
   "outputs": [
    {
     "name": "stdout",
     "output_type": "stream",
     "text": [
      "Epoch 1/50\n",
      "182/182 [==============================] - 2s - loss: 3.8434 - dense_1_loss: 1.9215 - dense_2_loss: 1.9219 - dense_1_acc: 0.1593 - dense_2_acc: 0.2967     \n",
      "Epoch 2/50\n",
      "182/182 [==============================] - 2s - loss: 3.6125 - dense_1_loss: 1.7995 - dense_2_loss: 1.8129 - dense_1_acc: 0.2582 - dense_2_acc: 0.2582     \n",
      "Epoch 3/50\n",
      "182/182 [==============================] - 2s - loss: 3.5692 - dense_1_loss: 1.7622 - dense_2_loss: 1.8070 - dense_1_acc: 0.2582 - dense_2_acc: 0.2637     \n",
      "Epoch 4/50\n",
      "182/182 [==============================] - 2s - loss: 3.5278 - dense_1_loss: 1.7629 - dense_2_loss: 1.7649 - dense_1_acc: 0.2253 - dense_2_acc: 0.3022     \n",
      "Epoch 5/50\n",
      "182/182 [==============================] - 2s - loss: 3.5056 - dense_1_loss: 1.7430 - dense_2_loss: 1.7626 - dense_1_acc: 0.2912 - dense_2_acc: 0.2802     \n",
      "Epoch 6/50\n",
      "182/182 [==============================] - 2s - loss: 3.4215 - dense_1_loss: 1.6943 - dense_2_loss: 1.7272 - dense_1_acc: 0.3187 - dense_2_acc: 0.3352     \n",
      "Epoch 7/50\n",
      "182/182 [==============================] - 2s - loss: 3.3328 - dense_1_loss: 1.6692 - dense_2_loss: 1.6636 - dense_1_acc: 0.3022 - dense_2_acc: 0.3626     \n",
      "Epoch 8/50\n",
      "182/182 [==============================] - 2s - loss: 3.1992 - dense_1_loss: 1.6170 - dense_2_loss: 1.5822 - dense_1_acc: 0.3736 - dense_2_acc: 0.4176     \n",
      "Epoch 9/50\n",
      "182/182 [==============================] - 2s - loss: 3.0128 - dense_1_loss: 1.5024 - dense_2_loss: 1.5104 - dense_1_acc: 0.3901 - dense_2_acc: 0.4560     \n",
      "Epoch 10/50\n",
      "182/182 [==============================] - 2s - loss: 2.8129 - dense_1_loss: 1.4078 - dense_2_loss: 1.4051 - dense_1_acc: 0.4121 - dense_2_acc: 0.4835     \n",
      "Epoch 11/50\n",
      "182/182 [==============================] - 2s - loss: 2.5673 - dense_1_loss: 1.3097 - dense_2_loss: 1.2576 - dense_1_acc: 0.5055 - dense_2_acc: 0.5440     \n",
      "Epoch 12/50\n",
      "182/182 [==============================] - 2s - loss: 2.3187 - dense_1_loss: 1.1697 - dense_2_loss: 1.1490 - dense_1_acc: 0.5385 - dense_2_acc: 0.5659     \n",
      "Epoch 13/50\n",
      "182/182 [==============================] - 2s - loss: 2.0038 - dense_1_loss: 1.0282 - dense_2_loss: 0.9756 - dense_1_acc: 0.5769 - dense_2_acc: 0.6538     \n",
      "Epoch 14/50\n",
      "182/182 [==============================] - 2s - loss: 1.7124 - dense_1_loss: 0.8902 - dense_2_loss: 0.8222 - dense_1_acc: 0.6374 - dense_2_acc: 0.7088     \n",
      "Epoch 15/50\n",
      "182/182 [==============================] - 2s - loss: 1.3744 - dense_1_loss: 0.7159 - dense_2_loss: 0.6585 - dense_1_acc: 0.7473 - dense_2_acc: 0.7912     \n",
      "Epoch 16/50\n",
      "182/182 [==============================] - 2s - loss: 1.0197 - dense_1_loss: 0.5556 - dense_2_loss: 0.4641 - dense_1_acc: 0.7747 - dense_2_acc: 0.8352     \n",
      "Epoch 17/50\n",
      "182/182 [==============================] - 2s - loss: 0.7882 - dense_1_loss: 0.4268 - dense_2_loss: 0.3614 - dense_1_acc: 0.8681 - dense_2_acc: 0.8901     \n",
      "Epoch 18/50\n",
      "182/182 [==============================] - 2s - loss: 0.6487 - dense_1_loss: 0.3630 - dense_2_loss: 0.2857 - dense_1_acc: 0.9011 - dense_2_acc: 0.9231     \n",
      "Epoch 19/50\n",
      "182/182 [==============================] - 2s - loss: 0.4231 - dense_1_loss: 0.2375 - dense_2_loss: 0.1856 - dense_1_acc: 0.9396 - dense_2_acc: 0.9505     \n",
      "Epoch 20/50\n",
      "182/182 [==============================] - 2s - loss: 0.2645 - dense_1_loss: 0.1684 - dense_2_loss: 0.0962 - dense_1_acc: 0.9451 - dense_2_acc: 0.9890     \n",
      "Epoch 21/50\n",
      "182/182 [==============================] - 2s - loss: 0.2326 - dense_1_loss: 0.1531 - dense_2_loss: 0.0795 - dense_1_acc: 0.9505 - dense_2_acc: 0.9835     \n",
      "Epoch 22/50\n",
      "182/182 [==============================] - 2s - loss: 0.1100 - dense_1_loss: 0.0597 - dense_2_loss: 0.0503 - dense_1_acc: 0.9890 - dense_2_acc: 0.9835     \n",
      "Epoch 23/50\n",
      "182/182 [==============================] - 2s - loss: 0.0912 - dense_1_loss: 0.0572 - dense_2_loss: 0.0340 - dense_1_acc: 0.9945 - dense_2_acc: 0.9945     \n",
      "Epoch 24/50\n",
      "182/182 [==============================] - 2s - loss: 0.0634 - dense_1_loss: 0.0480 - dense_2_loss: 0.0154 - dense_1_acc: 0.9835 - dense_2_acc: 1.0000     \n",
      "Epoch 25/50\n",
      "182/182 [==============================] - 2s - loss: 0.0317 - dense_1_loss: 0.0205 - dense_2_loss: 0.0112 - dense_1_acc: 0.9945 - dense_2_acc: 1.0000     \n",
      "Epoch 26/50\n",
      "182/182 [==============================] - 2s - loss: 0.0293 - dense_1_loss: 0.0175 - dense_2_loss: 0.0118 - dense_1_acc: 1.0000 - dense_2_acc: 1.0000     \n",
      "Epoch 27/50\n",
      "182/182 [==============================] - 2s - loss: 0.0234 - dense_1_loss: 0.0167 - dense_2_loss: 0.0067 - dense_1_acc: 0.9945 - dense_2_acc: 1.0000     \n",
      "Epoch 28/50\n",
      "182/182 [==============================] - 2s - loss: 0.0183 - dense_1_loss: 0.0159 - dense_2_loss: 0.0024 - dense_1_acc: 0.9890 - dense_2_acc: 1.0000     \n",
      "Epoch 29/50\n",
      "182/182 [==============================] - 2s - loss: 0.0089 - dense_1_loss: 0.0070 - dense_2_loss: 0.0019 - dense_1_acc: 1.0000 - dense_2_acc: 1.0000     \n",
      "Epoch 30/50\n",
      "182/182 [==============================] - 2s - loss: 0.0042 - dense_1_loss: 0.0036 - dense_2_loss: 6.5072e-04 - dense_1_acc: 1.0000 - dense_2_acc: 1.0000     \n",
      "Epoch 31/50\n",
      "182/182 [==============================] - 2s - loss: 0.0061 - dense_1_loss: 0.0049 - dense_2_loss: 0.0012 - dense_1_acc: 1.0000 - dense_2_acc: 1.0000     \n",
      "Epoch 32/50\n",
      "182/182 [==============================] - 2s - loss: 0.0050 - dense_1_loss: 0.0047 - dense_2_loss: 2.7708e-04 - dense_1_acc: 1.0000 - dense_2_acc: 1.0000     \n",
      "Epoch 33/50\n",
      "182/182 [==============================] - 2s - loss: 0.0011 - dense_1_loss: 8.7184e-04 - dense_2_loss: 2.0257e-04 - dense_1_acc: 1.0000 - dense_2_acc: 1.0000     \n",
      "Epoch 34/50\n",
      "182/182 [==============================] - 2s - loss: 0.0050 - dense_1_loss: 0.0049 - dense_2_loss: 1.0779e-04 - dense_1_acc: 1.0000 - dense_2_acc: 1.0000     \n",
      "Epoch 35/50\n",
      "182/182 [==============================] - 2s - loss: 0.0011 - dense_1_loss: 9.9633e-04 - dense_2_loss: 8.9258e-05 - dense_1_acc: 1.0000 - dense_2_acc: 1.0000 \n",
      "Epoch 36/50\n",
      "182/182 [==============================] - 2s - loss: 0.0178 - dense_1_loss: 0.0012 - dense_2_loss: 0.0166 - dense_1_acc: 1.0000 - dense_2_acc: 0.9945     \n",
      "Epoch 37/50\n",
      "182/182 [==============================] - 2s - loss: 0.0066 - dense_1_loss: 0.0055 - dense_2_loss: 0.0011 - dense_1_acc: 0.9945 - dense_2_acc: 1.0000     \n",
      "Epoch 38/50\n",
      "182/182 [==============================] - 2s - loss: 2.9965e-04 - dense_1_loss: 1.8807e-04 - dense_2_loss: 1.1158e-04 - dense_1_acc: 1.0000 - dense_2_acc: 1.0000     \n",
      "Epoch 39/50\n",
      "182/182 [==============================] - 2s - loss: 2.4051e-04 - dense_1_loss: 2.1575e-04 - dense_2_loss: 2.4754e-05 - dense_1_acc: 1.0000 - dense_2_acc: 1.0000     \n",
      "Epoch 40/50\n",
      "182/182 [==============================] - 2s - loss: 1.1056e-04 - dense_1_loss: 2.4501e-05 - dense_2_loss: 8.6059e-05 - dense_1_acc: 1.0000 - dense_2_acc: 1.0000     \n",
      "Epoch 41/50\n",
      "182/182 [==============================] - 2s - loss: 1.0469e-04 - dense_1_loss: 4.0755e-05 - dense_2_loss: 6.3932e-05 - dense_1_acc: 1.0000 - dense_2_acc: 1.0000     \n",
      "Epoch 42/50\n",
      "182/182 [==============================] - 2s - loss: 8.0069e-06 - dense_1_loss: 5.5467e-06 - dense_2_loss: 2.4602e-06 - dense_1_acc: 1.0000 - dense_2_acc: 1.0000     \n",
      "Epoch 43/50\n",
      "182/182 [==============================] - 2s - loss: 3.0598e-06 - dense_1_loss: 2.1658e-06 - dense_2_loss: 8.9407e-07 - dense_1_acc: 1.0000 - dense_2_acc: 1.0000     \n",
      "Epoch 44/50\n",
      "182/182 [==============================] - 2s - loss: 2.3357e-06 - dense_1_loss: 1.6575e-06 - dense_2_loss: 6.7825e-07 - dense_1_acc: 1.0000 - dense_2_acc: 1.0000     \n",
      "Epoch 45/50\n",
      "182/182 [==============================] - 2s - loss: 1.8864e-06 - dense_1_loss: 1.3192e-06 - dense_2_loss: 5.6723e-07 - dense_1_acc: 1.0000 - dense_2_acc: 1.0000     \n",
      "Epoch 46/50\n",
      "182/182 [==============================] - 2s - loss: 1.6306e-06 - dense_1_loss: 1.1400e-06 - dense_2_loss: 4.9059e-07 - dense_1_acc: 1.0000 - dense_2_acc: 1.0000     \n",
      "Epoch 47/50\n",
      "182/182 [==============================] - 2s - loss: 1.3817e-06 - dense_1_loss: 9.4058e-07 - dense_2_loss: 4.4114e-07 - dense_1_acc: 1.0000 - dense_2_acc: 1.0000     \n",
      "Epoch 48/50\n"
     ]
    },
    {
     "name": "stdout",
     "output_type": "stream",
     "text": [
      "182/182 [==============================] - 2s - loss: 1.2334e-06 - dense_1_loss: 8.3086e-07 - dense_2_loss: 4.0250e-07 - dense_1_acc: 1.0000 - dense_2_acc: 1.0000     \n",
      "Epoch 49/50\n",
      "182/182 [==============================] - 2s - loss: 1.1266e-06 - dense_1_loss: 7.5554e-07 - dense_2_loss: 3.7106e-07 - dense_1_acc: 1.0000 - dense_2_acc: 1.0000     \n",
      "Epoch 50/50\n",
      "182/182 [==============================] - 2s - loss: 1.0385e-06 - dense_1_loss: 6.9102e-07 - dense_2_loss: 3.4748e-07 - dense_1_acc: 1.0000 - dense_2_acc: 1.0000     \n"
     ]
    }
   ],
   "source": [
    "h = model.fit(images, [labels1d, labels2d], batch_size=1, epochs=50, verbose=1)"
   ]
  },
  {
   "cell_type": "code",
   "execution_count": 14,
   "metadata": {},
   "outputs": [
    {
     "data": {
      "text/plain": [
       "<matplotlib.axes._subplots.AxesSubplot at 0x1f3dcbb7d30>"
      ]
     },
     "execution_count": 14,
     "metadata": {},
     "output_type": "execute_result"
    },
    {
     "data": {
      "image/png": "[encoded data removed]",
      "text/plain": [
       "<matplotlib.figure.Figure at 0x1f3dcbb74a8>"
      ]
     },
     "metadata": {},
     "output_type": "display_data"
    }
   ],
   "source": [
    "#print History graph\n",
    "historydf = pd.DataFrame(h.history, index=h.epoch)\n",
    "historydf.plot(ylim=(0,1))"
   ]
  },
  {
   "cell_type": "code",
   "execution_count": 15,
   "metadata": {},
   "outputs": [
    {
     "data": {
      "text/plain": [
       "(array([ 6,  7,  6,  8,  9,  6,  6, 10,  9,  7,  7,  7,  7,  8,  7,  4,  6,\n",
       "         7,  5,  7,  7,  8,  8,  9,  4,  9,  6,  9,  8,  8], dtype=int64),\n",
       " array([9, 9, 9, 9, 7, 9, 8, 9, 4, 8, 8, 7, 7, 9, 9, 9, 9, 8, 7, 7, 9, 8, 6,\n",
       "        8, 8, 9, 8, 6, 9, 8], dtype=int64),\n",
       " array([ 0.6,  0.6,  0.6,  0.6,  0.6,  0.6,  0.7,  0.7,  0.7,  0.7,  0.7,\n",
       "         0.7,  0.7,  0.7,  0.7,  0.7,  0.7,  0.7,  0.7,  0.7,  0.8,  0.8,\n",
       "         0.8,  0.8,  0.8,  0.9,  0.9,  0.9,  0.9,  0.9]),\n",
       " array([ 0.7,  0.7,  0.7,  0.9,  0.4,  0.9,  0.6,  0.6,  0.6,  0.7,  0.8,\n",
       "         0.8,  0.8,  0.8,  0.9,  1. ,  0.9,  0.9,  0.5,  0.9,  0.8,  0.7,\n",
       "         0.6,  0.8,  0.9,  0.8,  0.9,  0.7,  0.8,  0.9]))"
      ]
     },
     "execution_count": 15,
     "metadata": {},
     "output_type": "execute_result"
    }
   ],
   "source": [
    "# Get predictions\n",
    "all_preds = model.predict(images_val)\n",
    "\n",
    "# Check predictions\n",
    "idx1 = np.argmax(all_preds[0], axis=1)\n",
    "idx2 = np.argmax(all_preds[1], axis=1)\n",
    "\n",
    "i = 0\n",
    "for value1 in idx1:\n",
    "    idx1[i] = value1 + 1\n",
    "    i = i + 1\n",
    "i = 0\n",
    "for value2 in idx2:\n",
    "    idx2[i] = value2 + 1\n",
    "    i = i + 1\n",
    "\n",
    "idx1, idx2, labels1_val, labels2_val"
   ]
  },
  {
   "cell_type": "code",
   "execution_count": null,
   "metadata": {},
   "outputs": [],
   "source": []
  },
  {
   "cell_type": "code",
   "execution_count": 16,
   "metadata": {},
   "outputs": [
    {
     "data": {
      "text/plain": [
       "0.086489145040732351"
      ]
     },
     "execution_count": 16,
     "metadata": {},
     "output_type": "execute_result"
    }
   ],
   "source": [
    "predicted_ratio = []\n",
    "label_ratio = []\n",
    "se = 0\n",
    "i = 0\n",
    "for value in idx1:\n",
    "    predicted_ratio.append(idx1[i] / idx2[i])\n",
    "    label_ratio.append(labels1_val[i] / labels2_val[i])\n",
    "    se += ((predicted_ratio[i]-label_ratio[i])*(predicted_ratio[i]-label_ratio[i]))\n",
    "    i = i + 1\n",
    "mse = se/nb_images_val\n",
    "mse"
   ]
  },
  {
   "cell_type": "code",
   "execution_count": 43,
   "metadata": {},
   "outputs": [],
   "source": []
  },
  {
   "cell_type": "code",
   "execution_count": null,
   "metadata": {},
   "outputs": [],
   "source": []
  }
 ],
 "metadata": {
  "kernelspec": {
   "display_name": "Python 3",
   "language": "python",
   "name": "python3"
  },
  "language_info": {
   "codemirror_mode": {
    "name": "ipython",
    "version": 3
   },
   "file_extension": ".py",
   "mimetype": "text/x-python",
   "name": "python",
   "nbconvert_exporter": "python",
   "pygments_lexer": "ipython3",
   "version": "3.5.4"
  }
 },
 "nbformat": 4,
 "nbformat_minor": 2
}
