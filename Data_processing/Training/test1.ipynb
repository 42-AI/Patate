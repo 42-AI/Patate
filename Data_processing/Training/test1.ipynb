{
 "cells": [
  {
   "cell_type": "code",
   "execution_count": 1,
   "metadata": {},
   "outputs": [
    {
     "name": "stderr",
     "output_type": "stream",
     "text": [
      "Using TensorFlow backend.\n"
     ]
    }
   ],
   "source": [
    "from os import listdir\n",
    "from keras.preprocessing.image import load_img\n",
    "from keras.preprocessing.image import img_to_array\n",
    "from PIL import Image\n",
    "import numpy as np\n",
    "import pandas as pd\n",
    "%matplotlib inline\n",
    "import matplotlib.pyplot as plt"
   ]
  },
  {
   "cell_type": "code",
   "execution_count": 2,
   "metadata": {},
   "outputs": [],
   "source": [
    "def load_photos(directory):\n",
    "    images = []\n",
    "    labels1 = []\n",
    "    labels2 = []\n",
    "    for name in listdir(directory):\n",
    "        filename = directory + '/' + name\n",
    "        # convert image to gray\n",
    "        #img = Image.open(filename).convert('L')\n",
    "        #img.save(filename)\n",
    "        # load an image from file\n",
    "        image = load_img(filename, target_size=(160, 128))\n",
    "        # convert the image pixels to a numpy array\n",
    "        image = img_to_array(image)\n",
    "        # get image id + labels\n",
    "        labels1.append(round(float(name.split('_')[0].split('-')[0]), 1))\n",
    "        labels2.append(round(float(name.split('_')[0].split('-')[1]), 1))\n",
    "        images.append(image)\n",
    "    return images, labels1, labels2"
   ]
  },
  {
   "cell_type": "code",
   "execution_count": 11,
   "metadata": {},
   "outputs": [
    {
     "name": "stdout",
     "output_type": "stream",
     "text": [
      "Loaded Images and labels for training: 896\n",
      "Loaded Images and labels for validation: 150\n"
     ]
    }
   ],
   "source": [
    "# load images from both train and test groups\n",
    "directory = '../data/Patate_Pics/Training'\n",
    "images, labels1, labels2 = load_photos(directory)\n",
    "nb_images = len(images)\n",
    "print('Loaded Images and labels for training: %d' % nb_images)\n",
    "directory = '../data/Patate_Pics/Validation'\n",
    "images_val, labels1_val, labels2_val = load_photos(directory)\n",
    "nb_images_val = len(images_val)\n",
    "print('Loaded Images and labels for validation: %d' % nb_images_val)"
   ]
  },
  {
   "cell_type": "code",
   "execution_count": 12,
   "metadata": {
    "scrolled": false
   },
   "outputs": [],
   "source": [
    "#normalise datas\n",
    "images = np.array(images)\n",
    "images /= 255\n",
    "images_val = np.array(images_val)\n",
    "images_val /= 255"
   ]
  },
  {
   "cell_type": "code",
   "execution_count": 13,
   "metadata": {},
   "outputs": [],
   "source": [
    "#convert to np.array\n",
    "labels1 = np.array(labels1)\n",
    "labels2 = np.array(labels2)\n",
    "labels1_val = np.array(labels1_val)\n",
    "labels2_val = np.array(labels2_val)"
   ]
  },
  {
   "cell_type": "code",
   "execution_count": null,
   "metadata": {},
   "outputs": [],
   "source": []
  },
  {
   "cell_type": "code",
   "execution_count": 14,
   "metadata": {},
   "outputs": [],
   "source": [
    "#convert datas to dummyvalues\n",
    "labels1d = pd.get_dummies(labels1)\n",
    "labels2d = pd.get_dummies(labels2)"
   ]
  },
  {
   "cell_type": "code",
   "execution_count": 15,
   "metadata": {},
   "outputs": [
    {
     "data": {
      "text/plain": [
       "(     0.2  0.3  0.4  0.5  0.6  0.7  0.8  0.9  1.0\n",
       " 0      1    0    0    0    0    0    0    0    0\n",
       " 1      0    1    0    0    0    0    0    0    0\n",
       " 2      0    1    0    0    0    0    0    0    0\n",
       " 3      0    1    0    0    0    0    0    0    0\n",
       " 4      0    1    0    0    0    0    0    0    0\n",
       " 5      0    1    0    0    0    0    0    0    0\n",
       " 6      0    1    0    0    0    0    0    0    0\n",
       " 7      0    0    1    0    0    0    0    0    0\n",
       " 8      0    0    1    0    0    0    0    0    0\n",
       " 9      0    0    1    0    0    0    0    0    0\n",
       " 10     0    0    1    0    0    0    0    0    0\n",
       " 11     0    0    1    0    0    0    0    0    0\n",
       " 12     0    0    1    0    0    0    0    0    0\n",
       " 13     0    0    0    1    0    0    0    0    0\n",
       " 14     0    0    0    1    0    0    0    0    0\n",
       " 15     0    0    0    1    0    0    0    0    0\n",
       " 16     0    0    0    1    0    0    0    0    0\n",
       " 17     0    0    0    1    0    0    0    0    0\n",
       " 18     0    0    0    1    0    0    0    0    0\n",
       " 19     0    0    0    1    0    0    0    0    0\n",
       " 20     0    0    0    1    0    0    0    0    0\n",
       " 21     0    0    0    1    0    0    0    0    0\n",
       " 22     0    0    0    1    0    0    0    0    0\n",
       " 23     0    0    0    1    0    0    0    0    0\n",
       " 24     0    0    0    1    0    0    0    0    0\n",
       " 25     0    0    0    1    0    0    0    0    0\n",
       " 26     0    0    0    1    0    0    0    0    0\n",
       " 27     0    0    0    1    0    0    0    0    0\n",
       " 28     0    0    0    1    0    0    0    0    0\n",
       " 29     0    0    0    1    0    0    0    0    0\n",
       " ..   ...  ...  ...  ...  ...  ...  ...  ...  ...\n",
       " 866    0    0    0    0    0    0    0    1    0\n",
       " 867    0    0    0    0    0    0    0    1    0\n",
       " 868    0    0    0    0    0    0    0    1    0\n",
       " 869    0    0    0    0    0    0    0    1    0\n",
       " 870    0    0    0    0    0    0    0    1    0\n",
       " 871    0    0    0    0    0    0    0    1    0\n",
       " 872    0    0    0    0    0    0    0    1    0\n",
       " 873    0    0    0    0    0    0    0    1    0\n",
       " 874    0    0    0    0    0    0    0    1    0\n",
       " 875    0    0    0    0    0    0    0    1    0\n",
       " 876    0    0    0    0    0    0    0    1    0\n",
       " 877    0    0    0    0    0    0    0    1    0\n",
       " 878    0    0    0    0    0    0    0    1    0\n",
       " 879    0    0    0    0    0    0    0    1    0\n",
       " 880    0    0    0    0    0    0    0    1    0\n",
       " 881    0    0    0    0    0    0    0    1    0\n",
       " 882    0    0    0    0    0    0    0    1    0\n",
       " 883    0    0    0    0    0    0    0    1    0\n",
       " 884    0    0    0    0    0    0    0    1    0\n",
       " 885    0    0    0    0    0    0    0    1    0\n",
       " 886    0    0    0    0    0    0    0    1    0\n",
       " 887    0    0    0    0    0    0    0    0    1\n",
       " 888    0    0    0    0    0    0    0    0    1\n",
       " 889    0    0    0    0    0    0    0    0    1\n",
       " 890    0    0    0    0    0    0    0    0    1\n",
       " 891    0    0    0    0    0    0    0    0    1\n",
       " 892    0    0    0    0    0    0    0    0    1\n",
       " 893    0    0    0    0    0    0    0    0    1\n",
       " 894    0    0    0    0    0    0    0    0    1\n",
       " 895    0    0    0    0    0    0    0    0    1\n",
       " \n",
       " [896 rows x 9 columns],      0.3  0.4  0.5  0.6  0.7  0.8  0.9  1.0\n",
       " 0      0    0    0    1    0    0    0    0\n",
       " 1      1    0    0    0    0    0    0    0\n",
       " 2      0    0    0    1    0    0    0    0\n",
       " 3      0    0    0    1    0    0    0    0\n",
       " 4      1    0    0    0    0    0    0    0\n",
       " 5      0    0    0    0    1    0    0    0\n",
       " 6      0    0    0    0    1    0    0    0\n",
       " 7      0    0    1    0    0    0    0    0\n",
       " 8      0    0    0    0    1    0    0    0\n",
       " 9      0    0    0    1    0    0    0    0\n",
       " 10     0    0    0    0    1    0    0    0\n",
       " 11     0    0    1    0    0    0    0    0\n",
       " 12     0    0    0    0    1    0    0    0\n",
       " 13     1    0    0    0    0    0    0    0\n",
       " 14     0    1    0    0    0    0    0    0\n",
       " 15     0    1    0    0    0    0    0    0\n",
       " 16     0    0    1    0    0    0    0    0\n",
       " 17     0    0    1    0    0    0    0    0\n",
       " 18     0    1    0    0    0    0    0    0\n",
       " 19     0    0    1    0    0    0    0    0\n",
       " 20     0    0    0    0    1    0    0    0\n",
       " 21     0    0    0    0    1    0    0    0\n",
       " 22     0    0    0    0    1    0    0    0\n",
       " 23     0    0    0    1    0    0    0    0\n",
       " 24     0    0    0    0    1    0    0    0\n",
       " 25     0    1    0    0    0    0    0    0\n",
       " 26     0    0    1    0    0    0    0    0\n",
       " 27     0    1    0    0    0    0    0    0\n",
       " 28     0    0    1    0    0    0    0    0\n",
       " 29     0    0    0    1    0    0    0    0\n",
       " ..   ...  ...  ...  ...  ...  ...  ...  ...\n",
       " 866    0    0    0    0    0    0    1    0\n",
       " 867    0    0    0    0    0    0    1    0\n",
       " 868    0    0    0    0    1    0    0    0\n",
       " 869    0    0    0    0    0    1    0    0\n",
       " 870    0    0    0    0    0    1    0    0\n",
       " 871    0    0    0    0    0    1    0    0\n",
       " 872    0    0    0    0    0    0    1    0\n",
       " 873    0    0    0    0    0    0    1    0\n",
       " 874    0    0    0    0    0    0    0    1\n",
       " 875    0    0    0    0    0    0    0    1\n",
       " 876    0    0    0    0    0    1    0    0\n",
       " 877    0    0    0    0    0    0    1    0\n",
       " 878    0    0    0    0    0    0    1    0\n",
       " 879    0    0    0    0    0    1    0    0\n",
       " 880    0    0    0    0    0    0    1    0\n",
       " 881    0    0    0    0    0    0    0    1\n",
       " 882    0    0    0    0    1    0    0    0\n",
       " 883    0    0    0    0    0    1    0    0\n",
       " 884    0    0    0    0    0    0    1    0\n",
       " 885    0    0    0    0    0    0    1    0\n",
       " 886    0    0    0    0    0    0    0    1\n",
       " 887    0    0    0    0    0    0    1    0\n",
       " 888    0    0    0    0    0    0    0    1\n",
       " 889    0    0    0    0    0    0    1    0\n",
       " 890    0    0    0    0    0    0    1    0\n",
       " 891    0    0    0    0    0    0    0    1\n",
       " 892    0    0    0    0    1    0    0    0\n",
       " 893    0    0    0    0    0    1    0    0\n",
       " 894    0    0    0    0    0    1    0    0\n",
       " 895    0    0    0    0    0    0    1    0\n",
       " \n",
       " [896 rows x 8 columns])"
      ]
     },
     "execution_count": 15,
     "metadata": {},
     "output_type": "execute_result"
    }
   ],
   "source": [
    "labels1d.shape, labels2d.shape\n",
    "labels1d, labels2d"
   ]
  },
  {
   "cell_type": "code",
   "execution_count": 16,
   "metadata": {},
   "outputs": [
    {
     "data": {
      "text/plain": [
       "(     0.1  0.2  0.3  0.4  0.5  0.6  0.7  0.8  0.9  1.0\n",
       " 0      0    1    0    0    0    0    0    0    0    0\n",
       " 1      0    0    1    0    0    0    0    0    0    0\n",
       " 2      0    0    1    0    0    0    0    0    0    0\n",
       " 3      0    0    1    0    0    0    0    0    0    0\n",
       " 4      0    0    1    0    0    0    0    0    0    0\n",
       " 5      0    0    1    0    0    0    0    0    0    0\n",
       " 6      0    0    1    0    0    0    0    0    0    0\n",
       " 7      0    0    0    1    0    0    0    0    0    0\n",
       " 8      0    0    0    1    0    0    0    0    0    0\n",
       " 9      0    0    0    1    0    0    0    0    0    0\n",
       " 10     0    0    0    1    0    0    0    0    0    0\n",
       " 11     0    0    0    1    0    0    0    0    0    0\n",
       " 12     0    0    0    1    0    0    0    0    0    0\n",
       " 13     0    0    0    0    1    0    0    0    0    0\n",
       " 14     0    0    0    0    1    0    0    0    0    0\n",
       " 15     0    0    0    0    1    0    0    0    0    0\n",
       " 16     0    0    0    0    1    0    0    0    0    0\n",
       " 17     0    0    0    0    1    0    0    0    0    0\n",
       " 18     0    0    0    0    1    0    0    0    0    0\n",
       " 19     0    0    0    0    1    0    0    0    0    0\n",
       " 20     0    0    0    0    1    0    0    0    0    0\n",
       " 21     0    0    0    0    1    0    0    0    0    0\n",
       " 22     0    0    0    0    1    0    0    0    0    0\n",
       " 23     0    0    0    0    1    0    0    0    0    0\n",
       " 24     0    0    0    0    1    0    0    0    0    0\n",
       " 25     0    0    0    0    1    0    0    0    0    0\n",
       " 26     0    0    0    0    1    0    0    0    0    0\n",
       " 27     0    0    0    0    1    0    0    0    0    0\n",
       " 28     0    0    0    0    1    0    0    0    0    0\n",
       " 29     0    0    0    0    1    0    0    0    0    0\n",
       " ..   ...  ...  ...  ...  ...  ...  ...  ...  ...  ...\n",
       " 866    0    0    0    0    0    0    0    0    1    0\n",
       " 867    0    0    0    0    0    0    0    0    1    0\n",
       " 868    0    0    0    0    0    0    0    0    1    0\n",
       " 869    0    0    0    0    0    0    0    0    1    0\n",
       " 870    0    0    0    0    0    0    0    0    1    0\n",
       " 871    0    0    0    0    0    0    0    0    1    0\n",
       " 872    0    0    0    0    0    0    0    0    1    0\n",
       " 873    0    0    0    0    0    0    0    0    1    0\n",
       " 874    0    0    0    0    0    0    0    0    1    0\n",
       " 875    0    0    0    0    0    0    0    0    1    0\n",
       " 876    0    0    0    0    0    0    0    0    1    0\n",
       " 877    0    0    0    0    0    0    0    0    1    0\n",
       " 878    0    0    0    0    0    0    0    0    1    0\n",
       " 879    0    0    0    0    0    0    0    0    1    0\n",
       " 880    0    0    0    0    0    0    0    0    1    0\n",
       " 881    0    0    0    0    0    0    0    0    1    0\n",
       " 882    0    0    0    0    0    0    0    0    1    0\n",
       " 883    0    0    0    0    0    0    0    0    1    0\n",
       " 884    0    0    0    0    0    0    0    0    1    0\n",
       " 885    0    0    0    0    0    0    0    0    1    0\n",
       " 886    0    0    0    0    0    0    0    0    1    0\n",
       " 887    0    0    0    0    0    0    0    0    0    1\n",
       " 888    0    0    0    0    0    0    0    0    0    1\n",
       " 889    0    0    0    0    0    0    0    0    0    1\n",
       " 890    0    0    0    0    0    0    0    0    0    1\n",
       " 891    0    0    0    0    0    0    0    0    0    1\n",
       " 892    0    0    0    0    0    0    0    0    0    1\n",
       " 893    0    0    0    0    0    0    0    0    0    1\n",
       " 894    0    0    0    0    0    0    0    0    0    1\n",
       " 895    0    0    0    0    0    0    0    0    0    1\n",
       " \n",
       " [896 rows x 10 columns],      0.1  0.2  0.3  0.4  0.5  0.6  0.7  0.8  0.9  1.0\n",
       " 0      0    0    0    0    0    1    0    0    0    0\n",
       " 1      0    0    1    0    0    0    0    0    0    0\n",
       " 2      0    0    0    0    0    1    0    0    0    0\n",
       " 3      0    0    0    0    0    1    0    0    0    0\n",
       " 4      0    0    1    0    0    0    0    0    0    0\n",
       " 5      0    0    0    0    0    0    1    0    0    0\n",
       " 6      0    0    0    0    0    0    1    0    0    0\n",
       " 7      0    0    0    0    1    0    0    0    0    0\n",
       " 8      0    0    0    0    0    0    1    0    0    0\n",
       " 9      0    0    0    0    0    1    0    0    0    0\n",
       " 10     0    0    0    0    0    0    1    0    0    0\n",
       " 11     0    0    0    0    1    0    0    0    0    0\n",
       " 12     0    0    0    0    0    0    1    0    0    0\n",
       " 13     0    0    1    0    0    0    0    0    0    0\n",
       " 14     0    0    0    1    0    0    0    0    0    0\n",
       " 15     0    0    0    1    0    0    0    0    0    0\n",
       " 16     0    0    0    0    1    0    0    0    0    0\n",
       " 17     0    0    0    0    1    0    0    0    0    0\n",
       " 18     0    0    0    1    0    0    0    0    0    0\n",
       " 19     0    0    0    0    1    0    0    0    0    0\n",
       " 20     0    0    0    0    0    0    1    0    0    0\n",
       " 21     0    0    0    0    0    0    1    0    0    0\n",
       " 22     0    0    0    0    0    0    1    0    0    0\n",
       " 23     0    0    0    0    0    1    0    0    0    0\n",
       " 24     0    0    0    0    0    0    1    0    0    0\n",
       " 25     0    0    0    1    0    0    0    0    0    0\n",
       " 26     0    0    0    0    1    0    0    0    0    0\n",
       " 27     0    0    0    1    0    0    0    0    0    0\n",
       " 28     0    0    0    0    1    0    0    0    0    0\n",
       " 29     0    0    0    0    0    1    0    0    0    0\n",
       " ..   ...  ...  ...  ...  ...  ...  ...  ...  ...  ...\n",
       " 866    0    0    0    0    0    0    0    0    1    0\n",
       " 867    0    0    0    0    0    0    0    0    1    0\n",
       " 868    0    0    0    0    0    0    1    0    0    0\n",
       " 869    0    0    0    0    0    0    0    1    0    0\n",
       " 870    0    0    0    0    0    0    0    1    0    0\n",
       " 871    0    0    0    0    0    0    0    1    0    0\n",
       " 872    0    0    0    0    0    0    0    0    1    0\n",
       " 873    0    0    0    0    0    0    0    0    1    0\n",
       " 874    0    0    0    0    0    0    0    0    0    1\n",
       " 875    0    0    0    0    0    0    0    0    0    1\n",
       " 876    0    0    0    0    0    0    0    1    0    0\n",
       " 877    0    0    0    0    0    0    0    0    1    0\n",
       " 878    0    0    0    0    0    0    0    0    1    0\n",
       " 879    0    0    0    0    0    0    0    1    0    0\n",
       " 880    0    0    0    0    0    0    0    0    1    0\n",
       " 881    0    0    0    0    0    0    0    0    0    1\n",
       " 882    0    0    0    0    0    0    1    0    0    0\n",
       " 883    0    0    0    0    0    0    0    1    0    0\n",
       " 884    0    0    0    0    0    0    0    0    1    0\n",
       " 885    0    0    0    0    0    0    0    0    1    0\n",
       " 886    0    0    0    0    0    0    0    0    0    1\n",
       " 887    0    0    0    0    0    0    0    0    1    0\n",
       " 888    0    0    0    0    0    0    0    0    0    1\n",
       " 889    0    0    0    0    0    0    0    0    1    0\n",
       " 890    0    0    0    0    0    0    0    0    1    0\n",
       " 891    0    0    0    0    0    0    0    0    0    1\n",
       " 892    0    0    0    0    0    0    1    0    0    0\n",
       " 893    0    0    0    0    0    0    0    1    0    0\n",
       " 894    0    0    0    0    0    0    0    1    0    0\n",
       " 895    0    0    0    0    0    0    0    0    1    0\n",
       " \n",
       " [896 rows x 10 columns])"
      ]
     },
     "execution_count": 16,
     "metadata": {},
     "output_type": "execute_result"
    }
   ],
   "source": [
    "#append empty columns\n",
    "labels1d.insert(0, column='0.1', value=0, allow_duplicates=False)\n",
    "labels2d.insert(0, column='0.2', value=0, allow_duplicates=False)\n",
    "labels2d.insert(0, column='0.1', value=0, allow_duplicates=False)\n",
    "\n",
    "labels1d, labels2d"
   ]
  },
  {
   "cell_type": "code",
   "execution_count": 17,
   "metadata": {},
   "outputs": [],
   "source": [
    "#convert to np.array again\n",
    "labels1d = np.array(labels1d)\n",
    "labels2d = np.array(labels2d)"
   ]
  },
  {
   "cell_type": "code",
   "execution_count": 18,
   "metadata": {},
   "outputs": [
    {
     "data": {
      "text/plain": [
       "(0.29999999999999999, array([0, 0, 1, 0, 0, 0, 0, 0, 0, 0], dtype=int64))"
      ]
     },
     "execution_count": 18,
     "metadata": {},
     "output_type": "execute_result"
    }
   ],
   "source": [
    "#check if OK\n",
    "labels1[1], labels1d[1]"
   ]
  },
  {
   "cell_type": "code",
   "execution_count": 19,
   "metadata": {},
   "outputs": [],
   "source": [
    "from keras.models import Model\n",
    "from keras.layers import *\n",
    "import keras.backend as K\n",
    "import keras.optimizers as Optimizers"
   ]
  },
  {
   "cell_type": "code",
   "execution_count": 20,
   "metadata": {
    "scrolled": true
   },
   "outputs": [],
   "source": [
    "K.clear_session()\n",
    "\n",
    "img_in = Input(shape=(160, 128, 3), name='img_in')\n",
    "\n",
    "x = img_in\n",
    "\n",
    "x = Conv2D(8, (3, 3), padding='same', activation='relu')(x)\n",
    "x = MaxPooling2D(pool_size=(2, 2))(x)\n",
    "\n",
    "x = Conv2D(16, (3, 3), padding='same', activation='relu')(x)\n",
    "x = MaxPooling2D(pool_size=(2, 2))(x)\n",
    "\n",
    "x = Conv2D(32, (3, 3), padding='same', activation='relu')(x)\n",
    "x = MaxPooling2D(pool_size=(2, 2))(x)\n",
    "\n",
    "x = Conv2D(64, (3, 3), padding='same', activation='relu')(x)\n",
    "x = MaxPooling2D(pool_size=(2, 2))(x)\n",
    "\n",
    "x = Conv2D(128, (3, 3), padding='same', activation='relu')(x)\n",
    "x = MaxPooling2D(pool_size=(2, 2))(x)\n",
    "\n",
    "flat = Flatten()(x)\n",
    "\n",
    "out1 = Dense(10, activation='softmax')(flat)\n",
    "out2 = Dense(10, activation='softmax')(flat)\n",
    "\n",
    "model = Model(inputs=[img_in], outputs=[out1, out2])\n",
    "model.compile(loss=['categorical_crossentropy', 'categorical_crossentropy'], optimizer='adadelta', metrics=['accuracy'])"
   ]
  },
  {
   "cell_type": "code",
   "execution_count": 21,
   "metadata": {
    "scrolled": true
   },
   "outputs": [
    {
     "name": "stdout",
     "output_type": "stream",
     "text": [
      "____________________________________________________________________________________________________\n",
      "Layer (type)                     Output Shape          Param #     Connected to                     \n",
      "====================================================================================================\n",
      "img_in (InputLayer)              (None, 160, 128, 3)   0                                            \n",
      "____________________________________________________________________________________________________\n",
      "conv2d_1 (Conv2D)                (None, 160, 128, 8)   224         img_in[0][0]                     \n",
      "____________________________________________________________________________________________________\n",
      "max_pooling2d_1 (MaxPooling2D)   (None, 80, 64, 8)     0           conv2d_1[0][0]                   \n",
      "____________________________________________________________________________________________________\n",
      "conv2d_2 (Conv2D)                (None, 80, 64, 16)    1168        max_pooling2d_1[0][0]            \n",
      "____________________________________________________________________________________________________\n",
      "max_pooling2d_2 (MaxPooling2D)   (None, 40, 32, 16)    0           conv2d_2[0][0]                   \n",
      "____________________________________________________________________________________________________\n",
      "conv2d_3 (Conv2D)                (None, 40, 32, 32)    4640        max_pooling2d_2[0][0]            \n",
      "____________________________________________________________________________________________________\n",
      "max_pooling2d_3 (MaxPooling2D)   (None, 20, 16, 32)    0           conv2d_3[0][0]                   \n",
      "____________________________________________________________________________________________________\n",
      "conv2d_4 (Conv2D)                (None, 20, 16, 64)    18496       max_pooling2d_3[0][0]            \n",
      "____________________________________________________________________________________________________\n",
      "max_pooling2d_4 (MaxPooling2D)   (None, 10, 8, 64)     0           conv2d_4[0][0]                   \n",
      "____________________________________________________________________________________________________\n",
      "conv2d_5 (Conv2D)                (None, 10, 8, 128)    73856       max_pooling2d_4[0][0]            \n",
      "____________________________________________________________________________________________________\n",
      "max_pooling2d_5 (MaxPooling2D)   (None, 5, 4, 128)     0           conv2d_5[0][0]                   \n",
      "____________________________________________________________________________________________________\n",
      "flatten_1 (Flatten)              (None, 2560)          0           max_pooling2d_5[0][0]            \n",
      "____________________________________________________________________________________________________\n",
      "dense_1 (Dense)                  (None, 10)            25610       flatten_1[0][0]                  \n",
      "____________________________________________________________________________________________________\n",
      "dense_2 (Dense)                  (None, 10)            25610       flatten_1[0][0]                  \n",
      "====================================================================================================\n",
      "Total params: 149,604\n",
      "Trainable params: 149,604\n",
      "Non-trainable params: 0\n",
      "____________________________________________________________________________________________________\n"
     ]
    }
   ],
   "source": [
    "model.summary()"
   ]
  },
  {
   "cell_type": "code",
   "execution_count": 22,
   "metadata": {},
   "outputs": [
    {
     "name": "stdout",
     "output_type": "stream",
     "text": [
      "Epoch 1/50\n",
      "896/896 [==============================] - 14s - loss: 3.3762 - dense_1_loss: 1.6138 - dense_2_loss: 1.7624 - dense_1_acc: 0.3069 - dense_2_acc: 0.3114    \n",
      "Epoch 2/50\n",
      "896/896 [==============================] - 13s - loss: 3.2852 - dense_1_loss: 1.5644 - dense_2_loss: 1.7208 - dense_1_acc: 0.3482 - dense_2_acc: 0.2935    \n",
      "Epoch 3/50\n",
      "896/896 [==============================] - 14s - loss: 3.2423 - dense_1_loss: 1.5594 - dense_2_loss: 1.6829 - dense_1_acc: 0.3382 - dense_2_acc: 0.3348    \n",
      "Epoch 4/50\n",
      "896/896 [==============================] - 13s - loss: 3.1463 - dense_1_loss: 1.5228 - dense_2_loss: 1.6235 - dense_1_acc: 0.3516 - dense_2_acc: 0.3471    \n",
      "Epoch 5/50\n",
      "896/896 [==============================] - 14s - loss: 3.0819 - dense_1_loss: 1.5096 - dense_2_loss: 1.5723 - dense_1_acc: 0.3951 - dense_2_acc: 0.3750    \n",
      "Epoch 6/50\n",
      "896/896 [==============================] - 14s - loss: 3.0178 - dense_1_loss: 1.4817 - dense_2_loss: 1.5360 - dense_1_acc: 0.3973 - dense_2_acc: 0.3917    \n",
      "Epoch 7/50\n",
      "896/896 [==============================] - 14s - loss: 2.9504 - dense_1_loss: 1.4399 - dense_2_loss: 1.5105 - dense_1_acc: 0.4118 - dense_2_acc: 0.3962    \n",
      "Epoch 8/50\n",
      "896/896 [==============================] - 14s - loss: 2.8926 - dense_1_loss: 1.4189 - dense_2_loss: 1.4737 - dense_1_acc: 0.4554 - dense_2_acc: 0.4152    \n",
      "Epoch 9/50\n",
      "896/896 [==============================] - 15s - loss: 2.8267 - dense_1_loss: 1.3911 - dense_2_loss: 1.4356 - dense_1_acc: 0.4665 - dense_2_acc: 0.4286    \n",
      "Epoch 10/50\n",
      "896/896 [==============================] - 15s - loss: 2.7696 - dense_1_loss: 1.3615 - dense_2_loss: 1.4081 - dense_1_acc: 0.4967 - dense_2_acc: 0.4576    \n",
      "Epoch 11/50\n",
      "896/896 [==============================] - 16s - loss: 2.6910 - dense_1_loss: 1.3190 - dense_2_loss: 1.3720 - dense_1_acc: 0.5123 - dense_2_acc: 0.4743    \n",
      "Epoch 12/50\n",
      "896/896 [==============================] - 15s - loss: 2.5978 - dense_1_loss: 1.2808 - dense_2_loss: 1.3170 - dense_1_acc: 0.5357 - dense_2_acc: 0.5056    \n",
      "Epoch 13/50\n",
      "896/896 [==============================] - 16s - loss: 2.5071 - dense_1_loss: 1.2365 - dense_2_loss: 1.2706 - dense_1_acc: 0.5614 - dense_2_acc: 0.5268    \n",
      "Epoch 14/50\n",
      "896/896 [==============================] - 16s - loss: 2.3775 - dense_1_loss: 1.1703 - dense_2_loss: 1.2072 - dense_1_acc: 0.5893 - dense_2_acc: 0.5714    \n",
      "Epoch 15/50\n",
      "896/896 [==============================] - 17s - loss: 2.2709 - dense_1_loss: 1.1283 - dense_2_loss: 1.1426 - dense_1_acc: 0.5982 - dense_2_acc: 0.5982    \n",
      "Epoch 16/50\n",
      "896/896 [==============================] - 16s - loss: 2.1401 - dense_1_loss: 1.0719 - dense_2_loss: 1.0682 - dense_1_acc: 0.6272 - dense_2_acc: 0.6172    \n",
      "Epoch 17/50\n",
      "896/896 [==============================] - 15s - loss: 1.9660 - dense_1_loss: 0.9827 - dense_2_loss: 0.9833 - dense_1_acc: 0.6596 - dense_2_acc: 0.6373    \n",
      "Epoch 18/50\n",
      "896/896 [==============================] - 14s - loss: 1.8075 - dense_1_loss: 0.9184 - dense_2_loss: 0.8891 - dense_1_acc: 0.6998 - dense_2_acc: 0.6931    \n",
      "Epoch 19/50\n",
      "896/896 [==============================] - 15s - loss: 1.6114 - dense_1_loss: 0.8261 - dense_2_loss: 0.7853 - dense_1_acc: 0.7344 - dense_2_acc: 0.7522    \n",
      "Epoch 20/50\n",
      "896/896 [==============================] - 15s - loss: 1.4036 - dense_1_loss: 0.7045 - dense_2_loss: 0.6991 - dense_1_acc: 0.7779 - dense_2_acc: 0.7679    \n",
      "Epoch 21/50\n",
      "896/896 [==============================] - 15s - loss: 1.2445 - dense_1_loss: 0.6343 - dense_2_loss: 0.6102 - dense_1_acc: 0.7913 - dense_2_acc: 0.8047    \n",
      "Epoch 22/50\n",
      "896/896 [==============================] - 16s - loss: 1.0505 - dense_1_loss: 0.5419 - dense_2_loss: 0.5087 - dense_1_acc: 0.8225 - dense_2_acc: 0.8371    \n",
      "Epoch 23/50\n",
      "896/896 [==============================] - 16s - loss: 0.8786 - dense_1_loss: 0.4395 - dense_2_loss: 0.4390 - dense_1_acc: 0.8583 - dense_2_acc: 0.8627    \n",
      "Epoch 24/50\n",
      "896/896 [==============================] - 16s - loss: 0.7077 - dense_1_loss: 0.3606 - dense_2_loss: 0.3471 - dense_1_acc: 0.8906 - dense_2_acc: 0.8929    \n",
      "Epoch 25/50\n",
      "896/896 [==============================] - 17s - loss: 0.5631 - dense_1_loss: 0.3017 - dense_2_loss: 0.2614 - dense_1_acc: 0.9040 - dense_2_acc: 0.9297    \n",
      "Epoch 26/50\n",
      "896/896 [==============================] - 17s - loss: 0.4382 - dense_1_loss: 0.2233 - dense_2_loss: 0.2149 - dense_1_acc: 0.9364 - dense_2_acc: 0.9375    \n",
      "Epoch 27/50\n",
      "896/896 [==============================] - 16s - loss: 0.3294 - dense_1_loss: 0.1745 - dense_2_loss: 0.1549 - dense_1_acc: 0.9487 - dense_2_acc: 0.9531    \n",
      "Epoch 28/50\n",
      "896/896 [==============================] - 15s - loss: 0.2497 - dense_1_loss: 0.1341 - dense_2_loss: 0.1156 - dense_1_acc: 0.9598 - dense_2_acc: 0.9721    \n",
      "Epoch 29/50\n",
      "896/896 [==============================] - 15s - loss: 0.1708 - dense_1_loss: 0.0920 - dense_2_loss: 0.0788 - dense_1_acc: 0.9766 - dense_2_acc: 0.9810    \n",
      "Epoch 30/50\n",
      "896/896 [==============================] - 15s - loss: 0.1177 - dense_1_loss: 0.0627 - dense_2_loss: 0.0550 - dense_1_acc: 0.9833 - dense_2_acc: 0.9866    \n",
      "Epoch 31/50\n",
      "896/896 [==============================] - 16s - loss: 0.0919 - dense_1_loss: 0.0547 - dense_2_loss: 0.0372 - dense_1_acc: 0.9821 - dense_2_acc: 0.9978    \n",
      "Epoch 32/50\n",
      "896/896 [==============================] - 16s - loss: 0.0682 - dense_1_loss: 0.0405 - dense_2_loss: 0.0277 - dense_1_acc: 0.9844 - dense_2_acc: 0.9922    \n",
      "Epoch 33/50\n",
      "896/896 [==============================] - 16s - loss: 0.0529 - dense_1_loss: 0.0270 - dense_2_loss: 0.0259 - dense_1_acc: 0.9944 - dense_2_acc: 0.9922    \n",
      "Epoch 34/50\n",
      "896/896 [==============================] - 17s - loss: 0.0405 - dense_1_loss: 0.0199 - dense_2_loss: 0.0206 - dense_1_acc: 0.9955 - dense_2_acc: 0.9944    \n",
      "Epoch 35/50\n",
      "896/896 [==============================] - 17s - loss: 0.0240 - dense_1_loss: 0.0134 - dense_2_loss: 0.0105 - dense_1_acc: 0.9978 - dense_2_acc: 0.9978    \n",
      "Epoch 36/50\n",
      "896/896 [==============================] - 17s - loss: 0.0270 - dense_1_loss: 0.0131 - dense_2_loss: 0.0138 - dense_1_acc: 0.9955 - dense_2_acc: 0.9955    \n",
      "Epoch 37/50\n",
      "896/896 [==============================] - 16s - loss: 0.0189 - dense_1_loss: 0.0131 - dense_2_loss: 0.0058 - dense_1_acc: 0.9967 - dense_2_acc: 0.9989    \n",
      "Epoch 38/50\n",
      "896/896 [==============================] - 15s - loss: 0.0246 - dense_1_loss: 0.0142 - dense_2_loss: 0.0104 - dense_1_acc: 0.9944 - dense_2_acc: 0.9978    \n",
      "Epoch 39/50\n",
      "896/896 [==============================] - 15s - loss: 0.0260 - dense_1_loss: 0.0173 - dense_2_loss: 0.0087 - dense_1_acc: 0.9933 - dense_2_acc: 0.9978    \n",
      "Epoch 40/50\n",
      "896/896 [==============================] - 16s - loss: 0.0143 - dense_1_loss: 0.0086 - dense_2_loss: 0.0057 - dense_1_acc: 0.9967 - dense_2_acc: 0.9989    \n",
      "Epoch 41/50\n",
      "896/896 [==============================] - 16s - loss: 0.0236 - dense_1_loss: 0.0107 - dense_2_loss: 0.0129 - dense_1_acc: 0.9978 - dense_2_acc: 0.9955    \n",
      "Epoch 42/50\n",
      "896/896 [==============================] - 17s - loss: 0.0042 - dense_1_loss: 0.0020 - dense_2_loss: 0.0022 - dense_1_acc: 1.0000 - dense_2_acc: 1.0000    \n",
      "Epoch 43/50\n",
      "896/896 [==============================] - 17s - loss: 0.0061 - dense_1_loss: 0.0054 - dense_2_loss: 6.8367e-04 - dense_1_acc: 0.9989 - dense_2_acc: 1.0000    \n",
      "Epoch 44/50\n",
      "896/896 [==============================] - 18s - loss: 0.0197 - dense_1_loss: 0.0083 - dense_2_loss: 0.0115 - dense_1_acc: 0.9967 - dense_2_acc: 0.9978    \n",
      "Epoch 45/50\n",
      "896/896 [==============================] - 17s - loss: 0.0025 - dense_1_loss: 9.9974e-04 - dense_2_loss: 0.0015 - dense_1_acc: 1.0000 - dense_2_acc: 1.0000\n",
      "Epoch 46/50\n",
      "896/896 [==============================] - 16s - loss: 0.0108 - dense_1_loss: 0.0047 - dense_2_loss: 0.0061 - dense_1_acc: 0.9989 - dense_2_acc: 0.9978    \n",
      "Epoch 47/50\n",
      "896/896 [==============================] - 16s - loss: 0.0498 - dense_1_loss: 0.0219 - dense_2_loss: 0.0278 - dense_1_acc: 0.9933 - dense_2_acc: 0.9922    \n",
      "Epoch 48/50\n",
      "896/896 [==============================] - 16s - loss: 0.0051 - dense_1_loss: 0.0045 - dense_2_loss: 5.7820e-04 - dense_1_acc: 0.9989 - dense_2_acc: 1.0000    \n",
      "Epoch 49/50\n"
     ]
    },
    {
     "name": "stdout",
     "output_type": "stream",
     "text": [
      "896/896 [==============================] - 16s - loss: 0.0040 - dense_1_loss: 0.0030 - dense_2_loss: 0.0010 - dense_1_acc: 0.9978 - dense_2_acc: 1.0000    \n",
      "Epoch 50/50\n",
      "896/896 [==============================] - 16s - loss: 0.0068 - dense_1_loss: 0.0050 - dense_2_loss: 0.0019 - dense_1_acc: 0.9989 - dense_2_acc: 1.0000    \n"
     ]
    }
   ],
   "source": [
    "h = model.fit(images, [labels1d, labels2d], batch_size=1, epochs=50, verbose=1)"
   ]
  },
  {
   "cell_type": "code",
   "execution_count": 23,
   "metadata": {},
   "outputs": [
    {
     "data": {
      "text/plain": [
       "<matplotlib.axes._subplots.AxesSubplot at 0x245e33eaf28>"
      ]
     },
     "execution_count": 23,
     "metadata": {},
     "output_type": "execute_result"
    },
    {
     "data": {
      "image/png": "[encoded data removed]",
      "text/plain": [
       "<matplotlib.figure.Figure at 0x2458ffbd748>"
      ]
     },
     "metadata": {},
     "output_type": "display_data"
    }
   ],
   "source": [
    "#print History graph\n",
    "historydf = pd.DataFrame(h.history, index=h.epoch)\n",
    "historydf.plot(ylim=(0,1))"
   ]
  },
  {
   "cell_type": "code",
   "execution_count": 24,
   "metadata": {},
   "outputs": [
    {
     "data": {
      "text/plain": [
       "(array([ 8,  8,  9,  6,  9,  8,  6,  7,  6,  7,  6,  8,  7,  6,  6,  6,  7,\n",
       "         6,  5,  8,  6,  7,  6,  7,  6,  8,  7,  8,  7,  7,  7,  8,  8,  7,\n",
       "         7, 10,  7,  7,  9,  8,  7,  7,  7,  7,  6,  7,  7,  7,  7,  7,  8,\n",
       "         7,  6,  6,  7,  9,  7,  7,  6,  7,  7,  6,  7,  6,  5,  7,  8,  8,\n",
       "         6,  6,  8,  7,  7,  9,  7,  7,  6,  8,  7,  5,  8,  9,  7,  8,  7,\n",
       "         7,  8,  8,  8,  8,  8,  8,  7,  7,  7,  8,  7,  7, 10,  6,  7,  7,\n",
       "         8,  8,  8,  7,  8,  7,  5,  8,  7,  9,  8,  8,  7,  8,  7,  8,  8,\n",
       "         6,  8,  8,  8,  6,  9,  7,  9,  8,  9,  7,  8,  9,  8,  8,  8,  8,\n",
       "         8,  8,  7,  8,  9,  9,  7,  7,  8,  7,  9,  5,  7,  8], dtype=int64),\n",
       " array([ 0.3,  0.5,  0.5,  0.5,  0.5,  0.5,  0.5,  0.6,  0.6,  0.6,  0.6,\n",
       "         0.6,  0.7,  0.7,  0.7,  0.6,  0.6,  0.6,  0.7,  0.7,  0.6,  0.6,\n",
       "         0.7,  0.7,  0.7,  0.4,  0.5,  0.5,  0.6,  0.6,  0.8,  0.8,  0.8,\n",
       "         0.8,  0.8,  0.6,  0.6,  0.7,  0.7,  0.7,  0.3,  0.5,  0.6,  0.7,\n",
       "         0.7,  0.7,  0.7,  0.7,  0.7,  0.7,  0.7,  0.8,  0.8,  0.8,  0.8,\n",
       "         0.8,  0.8,  0.8,  0.8,  0.9,  0.8,  0.9,  0.9,  0.9,  0.4,  0.8,\n",
       "         0.8,  0.8,  0.8,  0.8,  0.8,  0.8,  0.8,  0.8,  0.8,  0.8,  0.8,\n",
       "         0.8,  0.8,  0.8,  0.7,  0.8,  0.8,  0.8,  0.8,  0.7,  0.7,  0.7,\n",
       "         0.7,  0.7,  0.5,  0.5,  0.6,  0.6,  0.6,  0.7,  0.7,  0.7,  0.7,\n",
       "         0.8,  0.7,  0.7,  0.7,  0.7,  0.7,  0.9,  0.9,  1. ,  0.7,  0.7,\n",
       "         0.7,  0.7,  0.7,  0.7,  0.7,  0.7,  0.7,  0.7,  0.8,  0.8,  0.8,\n",
       "         0.8,  0.8,  0.9,  0.9,  0.9,  0.9,  0.9,  0.8,  0.8,  0.9,  0.9,\n",
       "         0.9,  0.9,  0.9,  0.9,  0.9,  0.9,  0.7,  0.9,  0.9,  0.7,  0.8,\n",
       "         0.8,  0.8,  0.9,  0.8,  0.8,  0.9,  0.9]),\n",
       " array([ 7,  9,  8,  7,  5,  8,  6,  7,  6,  8,  6,  7, 10,  9,  9,  7,  6,\n",
       "         7,  7,  8,  7,  6,  5,  8,  7,  7,  5,  5,  6,  7,  7,  8,  5,  7,\n",
       "         8,  5,  7,  7,  7,  8,  5,  5,  8,  8,  7,  7,  8,  8,  8,  7,  8,\n",
       "         8,  9,  8,  8,  9,  7,  7,  9,  8,  8,  8,  7,  8,  4,  8,  7,  9,\n",
       "         7,  6,  8,  6,  7,  9,  7,  7,  5,  9,  9,  8,  6, 10,  8,  8,  8,\n",
       "         5,  7,  6,  8,  7,  8,  5,  6,  5,  7,  8,  7,  7,  9,  7,  7,  8,\n",
       "         7,  7,  8,  9,  9,  8,  4,  7,  8,  9,  8,  7,  9,  7,  7,  8,  8,\n",
       "         7,  7,  8,  8,  9,  8,  9,  9,  9,  9,  7,  8,  8,  8,  6,  8,  9,\n",
       "         8,  8,  8,  8,  8,  5,  8,  7,  6,  7,  8,  4,  5,  8], dtype=int64),\n",
       " array([ 0.5,  0.5,  0.5,  0.5,  0.5,  0.5,  0.5,  0.5,  0.5,  0.5,  0.6,\n",
       "         0.6,  0.6,  0.6,  0.6,  0.6,  0.6,  0.6,  0.6,  0.6,  0.6,  0.6,\n",
       "         0.6,  0.6,  0.6,  0.6,  0.6,  0.6,  0.6,  0.6,  0.6,  0.6,  0.6,\n",
       "         0.6,  0.6,  0.7,  0.7,  0.7,  0.7,  0.7,  0.7,  0.7,  0.7,  0.7,\n",
       "         0.7,  0.7,  0.7,  0.7,  0.7,  0.7,  0.7,  0.7,  0.7,  0.7,  0.7,\n",
       "         0.7,  0.7,  0.7,  0.7,  0.7,  0.7,  0.7,  0.7,  0.7,  0.7,  0.7,\n",
       "         0.7,  0.7,  0.7,  0.7,  0.7,  0.7,  0.7,  0.7,  0.7,  0.7,  0.7,\n",
       "         0.7,  0.7,  0.7,  0.8,  0.8,  0.8,  0.8,  0.8,  0.8,  0.8,  0.8,\n",
       "         0.8,  0.8,  0.8,  0.8,  0.8,  0.8,  0.8,  0.8,  0.8,  0.8,  0.8,\n",
       "         0.8,  0.8,  0.8,  0.8,  0.8,  0.8,  0.8,  0.8,  0.8,  0.8,  0.8,\n",
       "         0.8,  0.8,  0.8,  0.8,  0.8,  0.8,  0.8,  0.8,  0.8,  0.8,  0.8,\n",
       "         0.8,  0.8,  0.8,  0.8,  0.8,  0.8,  0.8,  0.9,  0.9,  0.9,  0.9,\n",
       "         0.9,  0.9,  0.9,  0.9,  0.9,  0.9,  0.9,  0.9,  0.9,  0.9,  0.9,\n",
       "         0.9,  0.9,  1. ,  1. ,  1. ,  1. ,  1. ]))"
      ]
     },
     "execution_count": 24,
     "metadata": {},
     "output_type": "execute_result"
    }
   ],
   "source": [
    "# Get predictions\n",
    "all_preds = model.predict(images_val)\n",
    "\n",
    "# Check predictions\n",
    "idx1 = np.argmax(all_preds[0], axis=1)\n",
    "idx2 = np.argmax(all_preds[1], axis=1)\n",
    "\n",
    "i = 0\n",
    "for value1 in idx1:\n",
    "    idx1[i] = value1 + 1\n",
    "    i = i + 1\n",
    "i = 0\n",
    "for value2 in idx2:\n",
    "    idx2[i] = value2 + 1\n",
    "    i = i + 1\n",
    "\n",
    "idx1, labels2_val, idx2, labels1_val"
   ]
  },
  {
   "cell_type": "code",
   "execution_count": null,
   "metadata": {},
   "outputs": [],
   "source": []
  },
  {
   "cell_type": "code",
   "execution_count": 25,
   "metadata": {},
   "outputs": [
    {
     "data": {
      "text/plain": [
       "0.05117115877215081"
      ]
     },
     "execution_count": 25,
     "metadata": {},
     "output_type": "execute_result"
    }
   ],
   "source": [
    "predicted_ratio = []\n",
    "label_ratio = []\n",
    "se = 0\n",
    "i = 0\n",
    "for value in idx1:\n",
    "    predicted_ratio.append(value / idx2[i])\n",
    "    label_ratio.append(labels1_val[i] / labels2_val[i])\n",
    "    se += ((predicted_ratio[i]-label_ratio[i])*(predicted_ratio[i]-label_ratio[i]))\n",
    "    i = i + 1\n",
    "mse = se/nb_images_val\n",
    "mse"
   ]
  },
  {
   "cell_type": "code",
   "execution_count": null,
   "metadata": {},
   "outputs": [],
   "source": []
  },
  {
   "cell_type": "code",
   "execution_count": 26,
   "metadata": {},
   "outputs": [],
   "source": [
    "model.save('test_model.h5')"
   ]
  },
  {
   "cell_type": "code",
   "execution_count": 3,
   "metadata": {},
   "outputs": [],
   "source": []
  },
  {
   "cell_type": "code",
   "execution_count": null,
   "metadata": {},
   "outputs": [],
   "source": []
  },
  {
   "cell_type": "code",
   "execution_count": null,
   "metadata": {},
   "outputs": [],
   "source": [
    "from keras.models import load_model\n",
    "model = load_model('test_model.h5')"
   ]
  }
 ],
 "metadata": {
  "kernelspec": {
   "display_name": "Python 3",
   "language": "python",
   "name": "python3"
  },
  "language_info": {
   "codemirror_mode": {
    "name": "ipython",
    "version": 3
   },
   "file_extension": ".py",
   "mimetype": "text/x-python",
   "name": "python",
   "nbconvert_exporter": "python",
   "pygments_lexer": "ipython3",
   "version": "3.5.4"
  }
 },
 "nbformat": 4,
 "nbformat_minor": 2
}
