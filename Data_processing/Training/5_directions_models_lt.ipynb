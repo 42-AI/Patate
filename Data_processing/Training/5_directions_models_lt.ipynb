{
 "cells": [
  {
   "cell_type": "code",
   "execution_count": 68,
   "metadata": {},
   "outputs": [],
   "source": [
    "from os import listdir\n",
    "from keras.preprocessing.image import load_img\n",
    "from keras.preprocessing.image import img_to_array\n",
    "from PIL import Image\n",
    "import numpy as np\n",
    "import pandas as pd\n",
    "%matplotlib inline\n",
    "import matplotlib.pyplot as plt\n",
    "import random\n"
   ]
  },
  {
   "cell_type": "code",
   "execution_count": 69,
   "metadata": {},
   "outputs": [],
   "source": [
    "def load_photos(directory):\n",
    "    images = []\n",
    "    labels_speed = []\n",
    "    labels_dir = []\n",
    "    dir_list = listdir(directory)\n",
    "    random.shuffle(dir_list)\n",
    "    random.shuffle(dir_list)\n",
    "    for name in dir_list:\n",
    "        filename = directory + '/' + name\n",
    "        # load an image from file\n",
    "        image = load_img(filename, target_size=(96, 160))\n",
    "        # convert the image pixels to a numpy array\n",
    "        image = img_to_array(image)\n",
    "        # get image id + labels\n",
    "        value_dir = float(name.split('_')[1])\n",
    "        value_speed = float(name.split('_')[0])\n",
    "        labels_dir.append(value_dir)\n",
    "        labels_speed.append(value_speed)\n",
    "        images.append(image)\n",
    "    return images, labels_speed, labels_dir"
   ]
  },
  {
   "cell_type": "code",
   "execution_count": 70,
   "metadata": {},
   "outputs": [],
   "source": [
    "#dataset = \"../../Pics/TestTrack/cleaned1\"\n",
    "#dataset = \"../../Pics/TestTrack/mirrored1\"\n",
    "#dataset = \"../../Pics/TestTrack/tagged2\"\n",
    "#dataset = \"../../Pics/TestTrack/mirrored2\"\n",
    "#dataset = \"../../Pics/TestTrack/test_noFE_mirrored\"\n",
    "\n",
    "\n",
    "#dataset = \"../../Pics/RaceTrack/Datasets_Axionable/ironcar_pics\"\n",
    "#dataset = \"../../Pics/RaceTrack/Mixed\"\n",
    "#dataset = \"../../Pics/RaceTrack/OldDataset_balanced\"\n",
    "#dataset = \"../../Pics/RaceTrack/OldDataset_balanced_3\"\n",
    "\n",
    "dataset = \"../../Pics/Auto3\""
   ]
  },
  {
   "cell_type": "code",
   "execution_count": 71,
   "metadata": {
    "scrolled": true
   },
   "outputs": [
    {
     "name": "stdout",
     "output_type": "stream",
     "text": [
      "Loaded Images and labels for training: 3812\n",
      "Loaded Images and labels for validation: 611\n"
     ]
    }
   ],
   "source": [
    "# load images from both train and test groups\n",
    "directory = '../../'+dataset+'/Train'\n",
    "images, labels_speed, labels_dir = load_photos(directory)\n",
    "nb_images = len(images)\n",
    "print('Loaded Images and labels for training: %d' % nb_images)\n",
    "directory = '../../'+dataset+'/Val'\n",
    "images_val, labels_speed_val, labels_dir_val = load_photos(directory)\n",
    "nb_images_val = len(images_val)\n",
    "print('Loaded Images and labels for validation: %d' % nb_images_val)"
   ]
  },
  {
   "cell_type": "code",
   "execution_count": null,
   "metadata": {},
   "outputs": [],
   "source": []
  },
  {
   "cell_type": "code",
   "execution_count": 72,
   "metadata": {},
   "outputs": [],
   "source": [
    "#Normalise images\n",
    "images = np.array(images)\n",
    "images /= 255"
   ]
  },
  {
   "cell_type": "code",
   "execution_count": 73,
   "metadata": {},
   "outputs": [],
   "source": [
    "#convert datas to dummyvalues\n",
    "labels_speed = np.array(pd.get_dummies(labels_speed))\n",
    "labels_dir = np.array(pd.get_dummies(labels_dir))"
   ]
  },
  {
   "cell_type": "code",
   "execution_count": 74,
   "metadata": {},
   "outputs": [
    {
     "data": {
      "text/plain": [
       "(array([0, 1], dtype=uint8),\n",
       " array([0, 1, 0], dtype=uint8),\n",
       " <matplotlib.image.AxesImage at 0x22ffee4ebe0>)"
      ]
     },
     "execution_count": 74,
     "metadata": {},
     "output_type": "execute_result"
    },
    {
     "data": {
      "image/png": "[encoded data removed]",
      "text/plain": [
       "<Figure size 432x288 with 1 Axes>"
      ]
     },
     "metadata": {},
     "output_type": "display_data"
    }
   ],
   "source": [
    "labels_speed[42], labels_dir[42], plt.imshow(images[42])"
   ]
  },
  {
   "cell_type": "code",
   "execution_count": null,
   "metadata": {},
   "outputs": [],
   "source": []
  },
  {
   "cell_type": "code",
   "execution_count": 75,
   "metadata": {},
   "outputs": [],
   "source": [
    "from keras.models import Model, Sequential\n",
    "from keras.layers import *\n",
    "import keras.backend as K\n",
    "import keras.optimizers as Optimizers"
   ]
  },
  {
   "cell_type": "code",
   "execution_count": 76,
   "metadata": {},
   "outputs": [],
   "source": [
    "#from keras.models import load_model\n",
    "#model = load_model(\"model.h5\")"
   ]
  },
  {
   "cell_type": "code",
   "execution_count": 77,
   "metadata": {},
   "outputs": [
    {
     "name": "stdout",
     "output_type": "stream",
     "text": [
      "__________________________________________________________________________________________________\n",
      "Layer (type)                    Output Shape         Param #     Connected to                     \n",
      "==================================================================================================\n",
      "img_in (InputLayer)             (None, 96, 160, 3)   0                                            \n",
      "__________________________________________________________________________________________________\n",
      "conv2d_1 (Conv2D)               (None, 23, 40, 8)    776         img_in[0][0]                     \n",
      "__________________________________________________________________________________________________\n",
      "conv2d_2 (Conv2D)               (None, 11, 20, 8)    136         conv2d_1[0][0]                   \n",
      "__________________________________________________________________________________________________\n",
      "conv2d_3 (Conv2D)               (None, 11, 20, 8)    72          conv2d_2[0][0]                   \n",
      "__________________________________________________________________________________________________\n",
      "batch_normalization_1 (BatchNor (None, 11, 20, 8)    32          conv2d_3[0][0]                   \n",
      "__________________________________________________________________________________________________\n",
      "flatten_1 (Flatten)             (None, 1760)         0           batch_normalization_1[0][0]      \n",
      "__________________________________________________________________________________________________\n",
      "dense_1 (Dense)                 (None, 8)            14088       flatten_1[0][0]                  \n",
      "__________________________________________________________________________________________________\n",
      "dropout_1 (Dropout)             (None, 8)            0           dense_1[0][0]                    \n",
      "__________________________________________________________________________________________________\n",
      "dense_2 (Dense)                 (None, 2)            18          dropout_1[0][0]                  \n",
      "__________________________________________________________________________________________________\n",
      "dense_3 (Dense)                 (None, 3)            27          dropout_1[0][0]                  \n",
      "==================================================================================================\n",
      "Total params: 15,149\n",
      "Trainable params: 15,133\n",
      "Non-trainable params: 16\n",
      "__________________________________________________________________________________________________\n"
     ]
    }
   ],
   "source": [
    "K.clear_session()\n",
    "############################################################# Multitask Model 2\n",
    "\n",
    "img_in = Input(shape=(96, 160, 3), name='img_in')\n",
    "x = img_in\n",
    "\n",
    "x = Convolution2D(8, (8,4), strides=(4,4), activation='relu')(x)\n",
    "x = Convolution2D(8, (2,1), strides=(2,2), activation='relu')(x)\n",
    "x = Convolution2D(8, (1,1), strides=(1,1), activation='relu')(x)\n",
    "\n",
    "x = BatchNormalization()(x)\n",
    "\n",
    "x = Flatten()(x)\n",
    "\n",
    "x = Dense(8, activation='relu')(x)\n",
    "x = Dropout(0.4)(x)\n",
    "\n",
    "out_speed = Dense(2, activation='softmax')(x)\n",
    "out_dir = Dense(3, activation='softmax')(x)\n",
    "\n",
    "model = Model(inputs=[img_in], outputs=[out_speed, out_dir])\n",
    "model.compile(loss='categorical_crossentropy', optimizer='adadelta', metrics=['accuracy'])\n",
    "\n",
    "model.summary()"
   ]
  },
  {
   "cell_type": "code",
   "execution_count": null,
   "metadata": {},
   "outputs": [],
   "source": []
  },
  {
   "cell_type": "code",
   "execution_count": 78,
   "metadata": {
    "scrolled": false
   },
   "outputs": [
    {
     "name": "stdout",
     "output_type": "stream",
     "text": [
      "Epoch 1/100\n",
      "3812/3812 [==============================] - 4s 1ms/step - loss: 1.5965 - dense_2_loss: 0.5149 - dense_3_loss: 1.0816 - dense_2_acc: 0.8185 - dense_3_acc: 0.4008\n",
      "Epoch 2/100\n",
      "3812/3812 [==============================] - 4s 955us/step - loss: 1.4235 - dense_2_loss: 0.4121 - dense_3_loss: 1.0115 - dense_2_acc: 0.8266 - dense_3_acc: 0.4861\n",
      "Epoch 3/100\n",
      "3812/3812 [==============================] - 4s 965us/step - loss: 1.2988 - dense_2_loss: 0.3736 - dense_3_loss: 0.9252 - dense_2_acc: 0.8337 - dense_3_acc: 0.5575\n",
      "Epoch 4/100\n",
      "3812/3812 [==============================] - 4s 980us/step - loss: 1.2145 - dense_2_loss: 0.3381 - dense_3_loss: 0.8764 - dense_2_acc: 0.8342 - dense_3_acc: 0.5721\n",
      "Epoch 5/100\n",
      "3812/3812 [==============================] - 4s 960us/step - loss: 1.1545 - dense_2_loss: 0.3262 - dense_3_loss: 0.8284 - dense_2_acc: 0.8358 - dense_3_acc: 0.5981\n",
      "Epoch 6/100\n",
      "3812/3812 [==============================] - 4s 981us/step - loss: 1.1122 - dense_2_loss: 0.3127 - dense_3_loss: 0.7995 - dense_2_acc: 0.8402 - dense_3_acc: 0.6094\n",
      "Epoch 7/100\n",
      "3812/3812 [==============================] - 4s 982us/step - loss: 1.0850 - dense_2_loss: 0.3080 - dense_3_loss: 0.7770 - dense_2_acc: 0.8392 - dense_3_acc: 0.6283\n",
      "Epoch 8/100\n",
      "3812/3812 [==============================] - 4s 979us/step - loss: 1.0578 - dense_2_loss: 0.2970 - dense_3_loss: 0.7608 - dense_2_acc: 0.8528 - dense_3_acc: 0.6320\n",
      "Epoch 9/100\n",
      "3812/3812 [==============================] - 4s 951us/step - loss: 1.0437 - dense_2_loss: 0.2949 - dense_3_loss: 0.7487 - dense_2_acc: 0.8513 - dense_3_acc: 0.6333\n",
      "Epoch 10/100\n",
      "3812/3812 [==============================] - 4s 977us/step - loss: 1.0236 - dense_2_loss: 0.2786 - dense_3_loss: 0.7450 - dense_2_acc: 0.8581 - dense_3_acc: 0.6377\n",
      "Epoch 11/100\n",
      "3812/3812 [==============================] - 4s 1ms/step - loss: 1.0178 - dense_2_loss: 0.2815 - dense_3_loss: 0.7363 - dense_2_acc: 0.8581 - dense_3_acc: 0.6424\n",
      "Epoch 12/100\n",
      "3812/3812 [==============================] - 4s 970us/step - loss: 0.9961 - dense_2_loss: 0.2779 - dense_3_loss: 0.7182 - dense_2_acc: 0.8499 - dense_3_acc: 0.6493\n",
      "Epoch 13/100\n",
      "3812/3812 [==============================] - 4s 990us/step - loss: 0.9758 - dense_2_loss: 0.2669 - dense_3_loss: 0.7089 - dense_2_acc: 0.8612 - dense_3_acc: 0.6503\n",
      "Epoch 14/100\n",
      "3812/3812 [==============================] - 4s 994us/step - loss: 0.9586 - dense_2_loss: 0.2673 - dense_3_loss: 0.6913 - dense_2_acc: 0.8586 - dense_3_acc: 0.6650\n",
      "Epoch 15/100\n",
      "3812/3812 [==============================] - 4s 992us/step - loss: 0.9414 - dense_2_loss: 0.2555 - dense_3_loss: 0.6859 - dense_2_acc: 0.8612 - dense_3_acc: 0.6640\n",
      "Epoch 16/100\n",
      "3812/3812 [==============================] - 4s 987us/step - loss: 0.9321 - dense_2_loss: 0.2551 - dense_3_loss: 0.6770 - dense_2_acc: 0.8628 - dense_3_acc: 0.6663\n",
      "Epoch 17/100\n",
      "3812/3812 [==============================] - 4s 997us/step - loss: 0.9277 - dense_2_loss: 0.2520 - dense_3_loss: 0.6757 - dense_2_acc: 0.8686 - dense_3_acc: 0.6674\n",
      "Epoch 18/100\n",
      "3812/3812 [==============================] - 4s 975us/step - loss: 0.9189 - dense_2_loss: 0.2442 - dense_3_loss: 0.6748 - dense_2_acc: 0.8778 - dense_3_acc: 0.6640\n",
      "Epoch 19/100\n",
      "3812/3812 [==============================] - 4s 931us/step - loss: 0.9007 - dense_2_loss: 0.2442 - dense_3_loss: 0.6565 - dense_2_acc: 0.8775 - dense_3_acc: 0.6752\n",
      "Epoch 20/100\n",
      "3812/3812 [==============================] - 4s 977us/step - loss: 0.8947 - dense_2_loss: 0.2414 - dense_3_loss: 0.6533 - dense_2_acc: 0.8833 - dense_3_acc: 0.6818\n",
      "Epoch 21/100\n",
      "3812/3812 [==============================] - 4s 961us/step - loss: 0.8708 - dense_2_loss: 0.2323 - dense_3_loss: 0.6385 - dense_2_acc: 0.8851 - dense_3_acc: 0.6899\n",
      "Epoch 22/100\n",
      "3812/3812 [==============================] - 4s 984us/step - loss: 0.8671 - dense_2_loss: 0.2282 - dense_3_loss: 0.6389 - dense_2_acc: 0.8877 - dense_3_acc: 0.6949\n",
      "Epoch 23/100\n",
      "3812/3812 [==============================] - 4s 960us/step - loss: 0.8579 - dense_2_loss: 0.2297 - dense_3_loss: 0.6282 - dense_2_acc: 0.8848 - dense_3_acc: 0.6873\n",
      "Epoch 24/100\n",
      "3812/3812 [==============================] - 3s 918us/step - loss: 0.8546 - dense_2_loss: 0.2272 - dense_3_loss: 0.6274 - dense_2_acc: 0.8932 - dense_3_acc: 0.6876\n",
      "Epoch 25/100\n",
      "3812/3812 [==============================] - 4s 946us/step - loss: 0.8344 - dense_2_loss: 0.2184 - dense_3_loss: 0.6160 - dense_2_acc: 0.8869 - dense_3_acc: 0.6920\n",
      "Epoch 26/100\n",
      "3812/3812 [==============================] - 3s 908us/step - loss: 0.8265 - dense_2_loss: 0.2098 - dense_3_loss: 0.6167 - dense_2_acc: 0.8961 - dense_3_acc: 0.6920\n",
      "Epoch 27/100\n",
      "3812/3812 [==============================] - 3s 917us/step - loss: 0.8272 - dense_2_loss: 0.2167 - dense_3_loss: 0.6105 - dense_2_acc: 0.8927 - dense_3_acc: 0.7044\n",
      "Epoch 28/100\n",
      "3812/3812 [==============================] - 4s 926us/step - loss: 0.8133 - dense_2_loss: 0.2120 - dense_3_loss: 0.6013 - dense_2_acc: 0.8917 - dense_3_acc: 0.7017\n",
      "Epoch 29/100\n",
      "3812/3812 [==============================] - 3s 911us/step - loss: 0.8169 - dense_2_loss: 0.2118 - dense_3_loss: 0.6051 - dense_2_acc: 0.8906 - dense_3_acc: 0.7025\n",
      "Epoch 30/100\n",
      "3812/3812 [==============================] - 3s 915us/step - loss: 0.7801 - dense_2_loss: 0.1962 - dense_3_loss: 0.5838 - dense_2_acc: 0.9003 - dense_3_acc: 0.7214\n",
      "Epoch 31/100\n",
      "3812/3812 [==============================] - 3s 909us/step - loss: 0.7878 - dense_2_loss: 0.2039 - dense_3_loss: 0.5838 - dense_2_acc: 0.8977 - dense_3_acc: 0.7196\n",
      "Epoch 32/100\n",
      "3812/3812 [==============================] - 4s 921us/step - loss: 0.7902 - dense_2_loss: 0.2030 - dense_3_loss: 0.5872 - dense_2_acc: 0.8990 - dense_3_acc: 0.7080\n",
      "Epoch 33/100\n",
      "3812/3812 [==============================] - 4s 953us/step - loss: 0.7812 - dense_2_loss: 0.1994 - dense_3_loss: 0.5818 - dense_2_acc: 0.8995 - dense_3_acc: 0.7125\n",
      "Epoch 34/100\n",
      "3812/3812 [==============================] - 3s 915us/step - loss: 0.7762 - dense_2_loss: 0.1966 - dense_3_loss: 0.5796 - dense_2_acc: 0.9027 - dense_3_acc: 0.7177\n",
      "Epoch 35/100\n",
      "3812/3812 [==============================] - 4s 928us/step - loss: 0.7600 - dense_2_loss: 0.2007 - dense_3_loss: 0.5593 - dense_2_acc: 0.8987 - dense_3_acc: 0.7238\n",
      "Epoch 36/100\n",
      "3812/3812 [==============================] - 4s 967us/step - loss: 0.7592 - dense_2_loss: 0.1913 - dense_3_loss: 0.5679 - dense_2_acc: 0.9061 - dense_3_acc: 0.7093\n",
      "Epoch 37/100\n",
      "3812/3812 [==============================] - 4s 952us/step - loss: 0.7467 - dense_2_loss: 0.1912 - dense_3_loss: 0.5555 - dense_2_acc: 0.9056 - dense_3_acc: 0.7185\n",
      "Epoch 38/100\n",
      "3812/3812 [==============================] - 4s 939us/step - loss: 0.7474 - dense_2_loss: 0.1940 - dense_3_loss: 0.5534 - dense_2_acc: 0.9061 - dense_3_acc: 0.7235\n",
      "Epoch 39/100\n",
      "3812/3812 [==============================] - 4s 957us/step - loss: 0.7461 - dense_2_loss: 0.1884 - dense_3_loss: 0.5576 - dense_2_acc: 0.9069 - dense_3_acc: 0.7277\n",
      "Epoch 40/100\n",
      "3812/3812 [==============================] - 4s 944us/step - loss: 0.7244 - dense_2_loss: 0.1847 - dense_3_loss: 0.5396 - dense_2_acc: 0.9119 - dense_3_acc: 0.7385\n",
      "Epoch 41/100\n",
      "3812/3812 [==============================] - 4s 969us/step - loss: 0.7237 - dense_2_loss: 0.1761 - dense_3_loss: 0.5477 - dense_2_acc: 0.9161 - dense_3_acc: 0.7277\n",
      "Epoch 42/100\n",
      "3812/3812 [==============================] - 4s 992us/step - loss: 0.7350 - dense_2_loss: 0.1910 - dense_3_loss: 0.5440 - dense_2_acc: 0.9035 - dense_3_acc: 0.7385\n",
      "Epoch 43/100\n",
      "3812/3812 [==============================] - 4s 962us/step - loss: 0.7081 - dense_2_loss: 0.1769 - dense_3_loss: 0.5312 - dense_2_acc: 0.9192 - dense_3_acc: 0.7392\n",
      "Epoch 44/100\n",
      "3812/3812 [==============================] - 4s 968us/step - loss: 0.7196 - dense_2_loss: 0.1807 - dense_3_loss: 0.5389 - dense_2_acc: 0.9124 - dense_3_acc: 0.7253\n",
      "Epoch 45/100\n",
      "3812/3812 [==============================] - 4s 974us/step - loss: 0.7097 - dense_2_loss: 0.1780 - dense_3_loss: 0.5316 - dense_2_acc: 0.9171 - dense_3_acc: 0.7335\n",
      "Epoch 46/100\n",
      "3812/3812 [==============================] - 4s 982us/step - loss: 0.7156 - dense_2_loss: 0.1775 - dense_3_loss: 0.5381 - dense_2_acc: 0.9113 - dense_3_acc: 0.7327\n",
      "Epoch 47/100\n"
     ]
    },
    {
     "name": "stdout",
     "output_type": "stream",
     "text": [
      "3812/3812 [==============================] - 4s 969us/step - loss: 0.6939 - dense_2_loss: 0.1731 - dense_3_loss: 0.5207 - dense_2_acc: 0.9163 - dense_3_acc: 0.7479\n",
      "Epoch 48/100\n",
      "3812/3812 [==============================] - 4s 981us/step - loss: 0.7000 - dense_2_loss: 0.1800 - dense_3_loss: 0.5200 - dense_2_acc: 0.9140 - dense_3_acc: 0.7382\n",
      "Epoch 49/100\n",
      "3812/3812 [==============================] - 4s 1ms/step - loss: 0.6998 - dense_2_loss: 0.1802 - dense_3_loss: 0.5196 - dense_2_acc: 0.9090 - dense_3_acc: 0.7406\n",
      "Epoch 50/100\n",
      "3812/3812 [==============================] - 4s 993us/step - loss: 0.6799 - dense_2_loss: 0.1681 - dense_3_loss: 0.5118 - dense_2_acc: 0.9195 - dense_3_acc: 0.7484\n",
      "Epoch 51/100\n",
      "3812/3812 [==============================] - 4s 1ms/step - loss: 0.6985 - dense_2_loss: 0.1764 - dense_3_loss: 0.5222 - dense_2_acc: 0.9147 - dense_3_acc: 0.7466\n",
      "Epoch 52/100\n",
      "3812/3812 [==============================] - 4s 1ms/step - loss: 0.6821 - dense_2_loss: 0.1671 - dense_3_loss: 0.5151 - dense_2_acc: 0.9221 - dense_3_acc: 0.7416\n",
      "Epoch 53/100\n",
      "3812/3812 [==============================] - 4s 993us/step - loss: 0.6824 - dense_2_loss: 0.1696 - dense_3_loss: 0.5129 - dense_2_acc: 0.9210 - dense_3_acc: 0.7505\n",
      "Epoch 54/100\n",
      "3812/3812 [==============================] - 4s 1ms/step - loss: 0.6789 - dense_2_loss: 0.1721 - dense_3_loss: 0.5068 - dense_2_acc: 0.9192 - dense_3_acc: 0.7400\n",
      "Epoch 55/100\n",
      "3812/3812 [==============================] - 4s 995us/step - loss: 0.6825 - dense_2_loss: 0.1691 - dense_3_loss: 0.5134 - dense_2_acc: 0.9187 - dense_3_acc: 0.7461\n",
      "Epoch 56/100\n",
      "3812/3812 [==============================] - 4s 967us/step - loss: 0.6563 - dense_2_loss: 0.1588 - dense_3_loss: 0.4975 - dense_2_acc: 0.9294 - dense_3_acc: 0.7555\n",
      "Epoch 57/100\n",
      "3812/3812 [==============================] - 4s 952us/step - loss: 0.6731 - dense_2_loss: 0.1700 - dense_3_loss: 0.5031 - dense_2_acc: 0.9213 - dense_3_acc: 0.7463\n",
      "Epoch 58/100\n",
      "3812/3812 [==============================] - 4s 938us/step - loss: 0.6541 - dense_2_loss: 0.1568 - dense_3_loss: 0.4973 - dense_2_acc: 0.9271 - dense_3_acc: 0.7555\n",
      "Epoch 59/100\n",
      "3812/3812 [==============================] - 4s 959us/step - loss: 0.6665 - dense_2_loss: 0.1703 - dense_3_loss: 0.4962 - dense_2_acc: 0.9147 - dense_3_acc: 0.7531\n",
      "Epoch 60/100\n",
      "3812/3812 [==============================] - 3s 905us/step - loss: 0.6610 - dense_2_loss: 0.1680 - dense_3_loss: 0.4930 - dense_2_acc: 0.9247 - dense_3_acc: 0.7550\n",
      "Epoch 61/100\n",
      "3812/3812 [==============================] - 3s 899us/step - loss: 0.6555 - dense_2_loss: 0.1631 - dense_3_loss: 0.4924 - dense_2_acc: 0.9203 - dense_3_acc: 0.7518\n",
      "Epoch 62/100\n",
      "3812/3812 [==============================] - 3s 883us/step - loss: 0.6648 - dense_2_loss: 0.1648 - dense_3_loss: 0.5000 - dense_2_acc: 0.9200 - dense_3_acc: 0.7445\n",
      "Epoch 63/100\n",
      "3812/3812 [==============================] - 3s 885us/step - loss: 0.6501 - dense_2_loss: 0.1628 - dense_3_loss: 0.4873 - dense_2_acc: 0.9224 - dense_3_acc: 0.7576\n",
      "Epoch 64/100\n",
      "3812/3812 [==============================] - 3s 867us/step - loss: 0.6516 - dense_2_loss: 0.1644 - dense_3_loss: 0.4873 - dense_2_acc: 0.9210 - dense_3_acc: 0.7597\n",
      "Epoch 65/100\n",
      "3812/3812 [==============================] - 3s 870us/step - loss: 0.6518 - dense_2_loss: 0.1646 - dense_3_loss: 0.4872 - dense_2_acc: 0.9218 - dense_3_acc: 0.7490\n",
      "Epoch 66/100\n",
      "3812/3812 [==============================] - 3s 874us/step - loss: 0.6436 - dense_2_loss: 0.1583 - dense_3_loss: 0.4853 - dense_2_acc: 0.9289 - dense_3_acc: 0.7568\n",
      "Epoch 67/100\n",
      "3812/3812 [==============================] - 3s 869us/step - loss: 0.6431 - dense_2_loss: 0.1571 - dense_3_loss: 0.4860 - dense_2_acc: 0.9224 - dense_3_acc: 0.7597\n",
      "Epoch 68/100\n",
      "3812/3812 [==============================] - 3s 873us/step - loss: 0.6204 - dense_2_loss: 0.1512 - dense_3_loss: 0.4692 - dense_2_acc: 0.9284 - dense_3_acc: 0.7673\n",
      "Epoch 69/100\n",
      "3812/3812 [==============================] - 3s 888us/step - loss: 0.6455 - dense_2_loss: 0.1596 - dense_3_loss: 0.4859 - dense_2_acc: 0.9252 - dense_3_acc: 0.7597\n",
      "Epoch 70/100\n",
      "3812/3812 [==============================] - 3s 915us/step - loss: 0.6200 - dense_2_loss: 0.1576 - dense_3_loss: 0.4624 - dense_2_acc: 0.9250 - dense_3_acc: 0.7694\n",
      "Epoch 71/100\n",
      "3812/3812 [==============================] - 3s 881us/step - loss: 0.6383 - dense_2_loss: 0.1559 - dense_3_loss: 0.4823 - dense_2_acc: 0.9271 - dense_3_acc: 0.7613\n",
      "Epoch 72/100\n",
      "3812/3812 [==============================] - 3s 895us/step - loss: 0.6484 - dense_2_loss: 0.1614 - dense_3_loss: 0.4870 - dense_2_acc: 0.9218 - dense_3_acc: 0.7584\n",
      "Epoch 73/100\n",
      "3812/3812 [==============================] - 3s 903us/step - loss: 0.6265 - dense_2_loss: 0.1567 - dense_3_loss: 0.4698 - dense_2_acc: 0.9281 - dense_3_acc: 0.7592\n",
      "Epoch 74/100\n",
      "3812/3812 [==============================] - 3s 907us/step - loss: 0.6219 - dense_2_loss: 0.1501 - dense_3_loss: 0.4718 - dense_2_acc: 0.9305 - dense_3_acc: 0.7657\n",
      "Epoch 75/100\n",
      "3812/3812 [==============================] - 3s 906us/step - loss: 0.6247 - dense_2_loss: 0.1523 - dense_3_loss: 0.4725 - dense_2_acc: 0.9315 - dense_3_acc: 0.7639\n",
      "Epoch 76/100\n",
      "3812/3812 [==============================] - 4s 940us/step - loss: 0.6184 - dense_2_loss: 0.1563 - dense_3_loss: 0.4621 - dense_2_acc: 0.9292 - dense_3_acc: 0.7726\n",
      "Epoch 77/100\n",
      "3812/3812 [==============================] - 3s 912us/step - loss: 0.6292 - dense_2_loss: 0.1641 - dense_3_loss: 0.4650 - dense_2_acc: 0.9187 - dense_3_acc: 0.7626\n",
      "Epoch 78/100\n",
      "3812/3812 [==============================] - 4s 937us/step - loss: 0.6053 - dense_2_loss: 0.1425 - dense_3_loss: 0.4628 - dense_2_acc: 0.9334 - dense_3_acc: 0.7647\n",
      "Epoch 79/100\n",
      "3812/3812 [==============================] - 4s 949us/step - loss: 0.6319 - dense_2_loss: 0.1585 - dense_3_loss: 0.4734 - dense_2_acc: 0.9247 - dense_3_acc: 0.7610\n",
      "Epoch 80/100\n",
      "3812/3812 [==============================] - 4s 938us/step - loss: 0.6237 - dense_2_loss: 0.1590 - dense_3_loss: 0.4647 - dense_2_acc: 0.9268 - dense_3_acc: 0.7665\n",
      "Epoch 81/100\n",
      "3812/3812 [==============================] - 4s 933us/step - loss: 0.6083 - dense_2_loss: 0.1478 - dense_3_loss: 0.4605 - dense_2_acc: 0.9326 - dense_3_acc: 0.7660\n",
      "Epoch 82/100\n",
      "3812/3812 [==============================] - 4s 942us/step - loss: 0.6051 - dense_2_loss: 0.1474 - dense_3_loss: 0.4577 - dense_2_acc: 0.9334 - dense_3_acc: 0.7720\n",
      "Epoch 83/100\n",
      "3812/3812 [==============================] - 4s 978us/step - loss: 0.6162 - dense_2_loss: 0.1510 - dense_3_loss: 0.4652 - dense_2_acc: 0.9313 - dense_3_acc: 0.7660\n",
      "Epoch 84/100\n",
      "3812/3812 [==============================] - 4s 957us/step - loss: 0.6219 - dense_2_loss: 0.1555 - dense_3_loss: 0.4664 - dense_2_acc: 0.9244 - dense_3_acc: 0.7647\n",
      "Epoch 85/100\n",
      "3812/3812 [==============================] - 4s 964us/step - loss: 0.6029 - dense_2_loss: 0.1475 - dense_3_loss: 0.4554 - dense_2_acc: 0.9349 - dense_3_acc: 0.7718\n",
      "Epoch 86/100\n",
      "3812/3812 [==============================] - 4s 978us/step - loss: 0.6125 - dense_2_loss: 0.1525 - dense_3_loss: 0.4601 - dense_2_acc: 0.9286 - dense_3_acc: 0.7710\n",
      "Epoch 87/100\n",
      "3812/3812 [==============================] - 4s 974us/step - loss: 0.5965 - dense_2_loss: 0.1401 - dense_3_loss: 0.4563 - dense_2_acc: 0.9352 - dense_3_acc: 0.7760\n",
      "Epoch 88/100\n",
      "3812/3812 [==============================] - 4s 969us/step - loss: 0.5812 - dense_2_loss: 0.1460 - dense_3_loss: 0.4353 - dense_2_acc: 0.9334 - dense_3_acc: 0.7854\n",
      "Epoch 89/100\n",
      "3812/3812 [==============================] - 4s 952us/step - loss: 0.6101 - dense_2_loss: 0.1495 - dense_3_loss: 0.4607 - dense_2_acc: 0.9281 - dense_3_acc: 0.7663\n",
      "Epoch 90/100\n",
      "3812/3812 [==============================] - 4s 958us/step - loss: 0.6036 - dense_2_loss: 0.1517 - dense_3_loss: 0.4519 - dense_2_acc: 0.9273 - dense_3_acc: 0.7707\n",
      "Epoch 91/100\n",
      "3812/3812 [==============================] - 4s 986us/step - loss: 0.5937 - dense_2_loss: 0.1403 - dense_3_loss: 0.4534 - dense_2_acc: 0.9373 - dense_3_acc: 0.7736\n",
      "Epoch 92/100\n",
      "3812/3812 [==============================] - 4s 968us/step - loss: 0.6028 - dense_2_loss: 0.1496 - dense_3_loss: 0.4532 - dense_2_acc: 0.9313 - dense_3_acc: 0.7705\n",
      "Epoch 93/100\n"
     ]
    },
    {
     "name": "stdout",
     "output_type": "stream",
     "text": [
      "3812/3812 [==============================] - 4s 964us/step - loss: 0.5769 - dense_2_loss: 0.1431 - dense_3_loss: 0.4338 - dense_2_acc: 0.9360 - dense_3_acc: 0.7825\n",
      "Epoch 94/100\n",
      "3812/3812 [==============================] - 4s 963us/step - loss: 0.6022 - dense_2_loss: 0.1515 - dense_3_loss: 0.4507 - dense_2_acc: 0.9286 - dense_3_acc: 0.7710\n",
      "Epoch 95/100\n",
      "3812/3812 [==============================] - 4s 970us/step - loss: 0.5928 - dense_2_loss: 0.1509 - dense_3_loss: 0.4418 - dense_2_acc: 0.9313 - dense_3_acc: 0.7783\n",
      "Epoch 96/100\n",
      "3812/3812 [==============================] - 4s 974us/step - loss: 0.5916 - dense_2_loss: 0.1480 - dense_3_loss: 0.4436 - dense_2_acc: 0.9289 - dense_3_acc: 0.7726\n",
      "Epoch 97/100\n",
      "3812/3812 [==============================] - 4s 1ms/step - loss: 0.5772 - dense_2_loss: 0.1391 - dense_3_loss: 0.4381 - dense_2_acc: 0.9355 - dense_3_acc: 0.7804\n",
      "Epoch 98/100\n",
      "3812/3812 [==============================] - 4s 1ms/step - loss: 0.5949 - dense_2_loss: 0.1448 - dense_3_loss: 0.4500 - dense_2_acc: 0.9357 - dense_3_acc: 0.7747\n",
      "Epoch 99/100\n",
      "3812/3812 [==============================] - 4s 1ms/step - loss: 0.5895 - dense_2_loss: 0.1455 - dense_3_loss: 0.4440 - dense_2_acc: 0.9305 - dense_3_acc: 0.7773\n",
      "Epoch 100/100\n",
      "3812/3812 [==============================] - 4s 997us/step - loss: 0.6064 - dense_2_loss: 0.1492 - dense_3_loss: 0.4572 - dense_2_acc: 0.9318 - dense_3_acc: 0.7626\n"
     ]
    }
   ],
   "source": [
    "h = model.fit(images, [labels_speed, labels_dir], batch_size=128, epochs=100, verbose=1)"
   ]
  },
  {
   "cell_type": "code",
   "execution_count": 79,
   "metadata": {},
   "outputs": [
    {
     "data": {
      "text/plain": [
       "<matplotlib.axes._subplots.AxesSubplot at 0x22fff8bd588>"
      ]
     },
     "execution_count": 79,
     "metadata": {},
     "output_type": "execute_result"
    },
    {
     "data": {
      "image/png": "[encoded data removed]",
      "text/plain": [
       "<Figure size 432x288 with 1 Axes>"
      ]
     },
     "metadata": {},
     "output_type": "display_data"
    }
   ],
   "source": [
    "#print History graph\n",
    "historydf = pd.DataFrame(h.history, index=h.epoch)\n",
    "historydf.plot(ylim=(0,1))"
   ]
  },
  {
   "cell_type": "code",
   "execution_count": 80,
   "metadata": {},
   "outputs": [],
   "source": [
    "model.save('model_1_3classes.h5')"
   ]
  },
  {
   "cell_type": "code",
   "execution_count": null,
   "metadata": {},
   "outputs": [],
   "source": []
  },
  {
   "cell_type": "code",
   "execution_count": 62,
   "metadata": {},
   "outputs": [],
   "source": [
    "#######################  VALIDATION"
   ]
  },
  {
   "cell_type": "code",
   "execution_count": null,
   "metadata": {},
   "outputs": [],
   "source": []
  },
  {
   "cell_type": "code",
   "execution_count": null,
   "metadata": {},
   "outputs": [],
   "source": []
  },
  {
   "cell_type": "code",
   "execution_count": 81,
   "metadata": {},
   "outputs": [],
   "source": [
    "images_val = np.array(images_val)\n",
    "images_val /= 255"
   ]
  },
  {
   "cell_type": "code",
   "execution_count": null,
   "metadata": {},
   "outputs": [],
   "source": []
  },
  {
   "cell_type": "code",
   "execution_count": 82,
   "metadata": {},
   "outputs": [],
   "source": [
    "# Get predictions\n",
    "all_preds = model.predict(images_val)\n",
    "\n",
    "speed_preds = []\n",
    "for elem in all_preds[0]:\n",
    "    speed_preds.append(np.argmax(elem))\n",
    "    \n",
    "dir_preds = []\n",
    "for elem in all_preds[1]:\n",
    "    dir_preds.append(np.argmax(elem))"
   ]
  },
  {
   "cell_type": "code",
   "execution_count": 83,
   "metadata": {},
   "outputs": [
    {
     "name": "stdout",
     "output_type": "stream",
     "text": [
      "speed_error_rate = 0.11475409836065574\n"
     ]
    }
   ],
   "source": [
    "res = 0\n",
    "for i, value in enumerate(speed_preds):\n",
    "    if value != labels_speed_val[i]:\n",
    "        res += 1\n",
    "print(\"speed_error_rate = \" + str(res/i))"
   ]
  },
  {
   "cell_type": "code",
   "execution_count": 84,
   "metadata": {},
   "outputs": [
    {
     "name": "stdout",
     "output_type": "stream",
     "text": [
      "total error = 0.29508196721311475 0_error = 0.2037735849056604 1_error = 0.514018691588785 2_error = 0.29338842975206614 3_error = 0.0 4_error = 0.0\n"
     ]
    }
   ],
   "source": [
    "res = 0\n",
    "\n",
    "i_0 = 1\n",
    "res_0 = 0\n",
    "res_0_1 = 0\n",
    "res_0_2 = 0\n",
    "res_0_3 = 0\n",
    "res_0_4 = 0\n",
    "\n",
    "i_1 = 1\n",
    "res_1 = 0\n",
    "res_1_1 = 0\n",
    "res_1_2 = 0\n",
    "res_1_3 = 0\n",
    "\n",
    "i_2 = 1\n",
    "res_2 = 0\n",
    "res_2_1 = 0\n",
    "res_2_2 = 0\n",
    "\n",
    "i_3 = 1\n",
    "res_3 = 0\n",
    "res_3_1 = 0\n",
    "res_3_2 = 0\n",
    "res_3_3 = 0\n",
    "\n",
    "i_4 = 1\n",
    "res_4 = 0\n",
    "res_4_1 = 0\n",
    "res_4_2 = 0\n",
    "res_4_3 = 0\n",
    "res_4_4 = 0\n",
    "\n",
    "for value in labels_dir_val:\n",
    "    if value == 0:\n",
    "        i_0 += 1\n",
    "    elif value == 1:\n",
    "        i_1 += 1\n",
    "    elif value == 2:\n",
    "        i_2 += 1\n",
    "    elif value == 3:\n",
    "        i_3 += 1\n",
    "    elif value == 4:\n",
    "        i_4 += 1\n",
    "\n",
    "for i, value in enumerate(dir_preds):\n",
    "    if value != labels_dir_val[i]:\n",
    "        res += 1\n",
    "        if labels_dir_val[i] == 0:    \n",
    "            res_0 += 1\n",
    "            if abs(labels_dir_val[i] - value) == 1:\n",
    "                res_0_1 += 1\n",
    "            elif abs(labels_dir_val[i] - value) == 2:\n",
    "                res_0_2 += 1\n",
    "            elif abs(labels_dir_val[i] - value) == 3:\n",
    "                res_0_3 += 1\n",
    "            elif abs(labels_dir_val[i] - value) == 4:\n",
    "                res_0_4 += 1\n",
    "        elif labels_dir_val[i] == 1:\n",
    "            res_1 += 1\n",
    "            if abs(labels_dir_val[i] - value) == 1:\n",
    "                res_1_1 += 1\n",
    "            elif abs(labels_dir_val[i] - value) == 2:\n",
    "                res_1_2 += 1\n",
    "            elif abs(labels_dir_val[i] - value) == 3:\n",
    "                res_1_3 += 1\n",
    "        elif labels_dir_val[i] == 2:\n",
    "            res_2 += 1\n",
    "            if abs(labels_dir_val[i] - value) == 1:\n",
    "                res_2_1 += 1\n",
    "            elif abs(labels_dir_val[i] - value) == 2:\n",
    "                res_2_2 += 1\n",
    "        elif labels_dir_val[i] == 3:\n",
    "            res_3 += 1\n",
    "            if abs(labels_dir_val[i] - value) == 1:\n",
    "                res_3_1 += 1\n",
    "            elif abs(labels_dir_val[i] - value) == 2:\n",
    "                res_3_2 += 1\n",
    "            elif abs(labels_dir_val[i] - value) == 3:\n",
    "                res_3_3 += 1\n",
    "        elif labels_dir_val[i] == 4:\n",
    "            res_4 += 1\n",
    "            if abs(labels_dir_val[i] - value) == 1:\n",
    "                res_4_1 += 1\n",
    "            elif abs(labels_dir_val[i] - value) == 2:\n",
    "                res_4_2 += 1\n",
    "            elif abs(labels_dir_val[i] - value) == 3:\n",
    "                res_4_3 += 1\n",
    "            elif abs(labels_dir_val[i] - value) == 4:\n",
    "                res_4_4 += 1\n",
    "\n",
    "        \n",
    "print(\"total error = \" + str(res/i), \"0_error = \" + str(res_0/i_0), \"1_error = \" + str(res_1/i_1), \"2_error = \" + str(res_2/i_2), \"3_error = \" + str(res_3/i_3), \"4_error = \" + str(res_4/i_4), )"
   ]
  },
  {
   "cell_type": "code",
   "execution_count": 85,
   "metadata": {},
   "outputs": [
    {
     "data": {
      "text/plain": [
       "Text(0.5,1,'Mean Errors by direction')"
      ]
     },
     "execution_count": 85,
     "metadata": {},
     "output_type": "execute_result"
    },
    {
     "data": {
      "image/png": "[encoded data removed]",
      "text/plain": [
       "<Figure size 432x288 with 1 Axes>"
      ]
     },
     "metadata": {},
     "output_type": "display_data"
    }
   ],
   "source": [
    "x = ['0','1','2','3','4']\n",
    "plt.bar(x, height= [res_0/i_0, res_1/i_1, res_2/i_2, res_3/i_3, res_4/i_4])\n",
    "plt.xticks(x, ['0','1','2','3','4']);\n",
    "plt.title(\"Mean Errors by direction\")"
   ]
  },
  {
   "cell_type": "code",
   "execution_count": 86,
   "metadata": {},
   "outputs": [
    {
     "data": {
      "text/plain": [
       "Text(0.5,1,'0 Errors')"
      ]
     },
     "execution_count": 86,
     "metadata": {},
     "output_type": "execute_result"
    },
    {
     "data": {
      "image/png": "[encoded data removed]",
      "text/plain": [
       "<Figure size 432x288 with 1 Axes>"
      ]
     },
     "metadata": {},
     "output_type": "display_data"
    }
   ],
   "source": [
    "x = ['1','2','3','4']\n",
    "plt.bar(x, height= [res_0_1/res_0, res_0_2/res_0, res_0_3/res_0, res_0_4/res_0])\n",
    "plt.xticks(x, ['1','2','3','4']);\n",
    "plt.title(\"0 Errors\")"
   ]
  },
  {
   "cell_type": "code",
   "execution_count": 87,
   "metadata": {},
   "outputs": [
    {
     "data": {
      "text/plain": [
       "Text(0.5,1,'1 Errors')"
      ]
     },
     "execution_count": 87,
     "metadata": {},
     "output_type": "execute_result"
    },
    {
     "data": {
      "image/png": "[encoded data removed]",
      "text/plain": [
       "<Figure size 432x288 with 1 Axes>"
      ]
     },
     "metadata": {},
     "output_type": "display_data"
    }
   ],
   "source": [
    "x = ['1','2','3']\n",
    "plt.bar(x, height= [res_1_1/res_1, res_1_2/res_1, res_1_3/res_1])\n",
    "plt.xticks(x, ['0, 2','3', '4']);\n",
    "plt.title(\"1 Errors\")"
   ]
  },
  {
   "cell_type": "code",
   "execution_count": 88,
   "metadata": {},
   "outputs": [
    {
     "data": {
      "text/plain": [
       "Text(0.5,1,'2 Errors')"
      ]
     },
     "execution_count": 88,
     "metadata": {},
     "output_type": "execute_result"
    },
    {
     "data": {
      "image/png": "[encoded data removed]",
      "text/plain": [
       "<Figure size 432x288 with 1 Axes>"
      ]
     },
     "metadata": {},
     "output_type": "display_data"
    }
   ],
   "source": [
    "x = ['1','2']\n",
    "plt.bar(x, height= [res_2_1/res_2, res_2_2/res_2])\n",
    "plt.xticks(x, ['1, 3','0, 4']);\n",
    "plt.title(\"2 Errors\")"
   ]
  },
  {
   "cell_type": "code",
   "execution_count": 89,
   "metadata": {},
   "outputs": [
    {
     "ename": "ZeroDivisionError",
     "evalue": "division by zero",
     "output_type": "error",
     "traceback": [
      "\u001b[1;31m---------------------------------------------------------------------------\u001b[0m",
      "\u001b[1;31mZeroDivisionError\u001b[0m                         Traceback (most recent call last)",
      "\u001b[1;32m<ipython-input-89-7793623322ad>\u001b[0m in \u001b[0;36m<module>\u001b[1;34m()\u001b[0m\n\u001b[0;32m      1\u001b[0m \u001b[0mx\u001b[0m \u001b[1;33m=\u001b[0m \u001b[1;33m[\u001b[0m\u001b[1;34m'1'\u001b[0m\u001b[1;33m,\u001b[0m\u001b[1;34m'2'\u001b[0m\u001b[1;33m,\u001b[0m\u001b[1;34m'3'\u001b[0m\u001b[1;33m]\u001b[0m\u001b[1;33m\u001b[0m\u001b[0m\n\u001b[1;32m----> 2\u001b[1;33m \u001b[0mplt\u001b[0m\u001b[1;33m.\u001b[0m\u001b[0mbar\u001b[0m\u001b[1;33m(\u001b[0m\u001b[0mx\u001b[0m\u001b[1;33m,\u001b[0m \u001b[0mheight\u001b[0m\u001b[1;33m=\u001b[0m \u001b[1;33m[\u001b[0m\u001b[0mres_3_1\u001b[0m\u001b[1;33m/\u001b[0m\u001b[0mres_3\u001b[0m\u001b[1;33m,\u001b[0m \u001b[0mres_3_2\u001b[0m\u001b[1;33m/\u001b[0m\u001b[0mres_3\u001b[0m\u001b[1;33m,\u001b[0m \u001b[0mres_3_3\u001b[0m\u001b[1;33m/\u001b[0m\u001b[0mres_3\u001b[0m\u001b[1;33m]\u001b[0m\u001b[1;33m)\u001b[0m\u001b[1;33m\u001b[0m\u001b[0m\n\u001b[0m\u001b[0;32m      3\u001b[0m \u001b[0mplt\u001b[0m\u001b[1;33m.\u001b[0m\u001b[0mxticks\u001b[0m\u001b[1;33m(\u001b[0m\u001b[0mx\u001b[0m\u001b[1;33m,\u001b[0m \u001b[1;33m[\u001b[0m\u001b[1;34m'2, 4'\u001b[0m\u001b[1;33m,\u001b[0m\u001b[1;34m'1'\u001b[0m\u001b[1;33m,\u001b[0m \u001b[1;34m'0'\u001b[0m\u001b[1;33m]\u001b[0m\u001b[1;33m)\u001b[0m\u001b[1;33m;\u001b[0m\u001b[1;33m\u001b[0m\u001b[0m\n\u001b[0;32m      4\u001b[0m \u001b[0mplt\u001b[0m\u001b[1;33m.\u001b[0m\u001b[0mtitle\u001b[0m\u001b[1;33m(\u001b[0m\u001b[1;34m\"3 Errors\"\u001b[0m\u001b[1;33m)\u001b[0m\u001b[1;33m\u001b[0m\u001b[0m\n",
      "\u001b[1;31mZeroDivisionError\u001b[0m: division by zero"
     ]
    }
   ],
   "source": [
    "x = ['1','2','3']\n",
    "plt.bar(x, height= [res_3_1/res_3, res_3_2/res_3, res_3_3/res_3])\n",
    "plt.xticks(x, ['2, 4','1', '0']);\n",
    "plt.title(\"3 Errors\")"
   ]
  },
  {
   "cell_type": "code",
   "execution_count": 90,
   "metadata": {},
   "outputs": [
    {
     "ename": "ZeroDivisionError",
     "evalue": "division by zero",
     "output_type": "error",
     "traceback": [
      "\u001b[1;31m---------------------------------------------------------------------------\u001b[0m",
      "\u001b[1;31mZeroDivisionError\u001b[0m                         Traceback (most recent call last)",
      "\u001b[1;32m<ipython-input-90-3873ada9ae3b>\u001b[0m in \u001b[0;36m<module>\u001b[1;34m()\u001b[0m\n\u001b[0;32m      1\u001b[0m \u001b[0mx\u001b[0m \u001b[1;33m=\u001b[0m \u001b[1;33m[\u001b[0m\u001b[1;34m'1'\u001b[0m\u001b[1;33m,\u001b[0m\u001b[1;34m'2'\u001b[0m\u001b[1;33m,\u001b[0m\u001b[1;34m'3'\u001b[0m\u001b[1;33m,\u001b[0m\u001b[1;34m'4'\u001b[0m\u001b[1;33m]\u001b[0m\u001b[1;33m\u001b[0m\u001b[0m\n\u001b[1;32m----> 2\u001b[1;33m \u001b[0mplt\u001b[0m\u001b[1;33m.\u001b[0m\u001b[0mbar\u001b[0m\u001b[1;33m(\u001b[0m\u001b[0mx\u001b[0m\u001b[1;33m,\u001b[0m \u001b[0mheight\u001b[0m\u001b[1;33m=\u001b[0m \u001b[1;33m[\u001b[0m\u001b[0mres_4_1\u001b[0m\u001b[1;33m/\u001b[0m\u001b[0mres_4\u001b[0m\u001b[1;33m,\u001b[0m \u001b[0mres_4_2\u001b[0m\u001b[1;33m/\u001b[0m\u001b[0mres_4\u001b[0m\u001b[1;33m,\u001b[0m \u001b[0mres_4_3\u001b[0m\u001b[1;33m/\u001b[0m\u001b[0mres_4\u001b[0m\u001b[1;33m,\u001b[0m \u001b[0mres_4_4\u001b[0m\u001b[1;33m/\u001b[0m\u001b[0mres_4\u001b[0m\u001b[1;33m]\u001b[0m\u001b[1;33m)\u001b[0m\u001b[1;33m\u001b[0m\u001b[0m\n\u001b[0m\u001b[0;32m      3\u001b[0m \u001b[0mplt\u001b[0m\u001b[1;33m.\u001b[0m\u001b[0mxticks\u001b[0m\u001b[1;33m(\u001b[0m\u001b[0mx\u001b[0m\u001b[1;33m,\u001b[0m \u001b[1;33m[\u001b[0m\u001b[1;34m'3'\u001b[0m\u001b[1;33m,\u001b[0m\u001b[1;34m'2'\u001b[0m\u001b[1;33m,\u001b[0m\u001b[1;34m'1'\u001b[0m\u001b[1;33m,\u001b[0m\u001b[1;34m'0'\u001b[0m\u001b[1;33m]\u001b[0m\u001b[1;33m)\u001b[0m\u001b[1;33m;\u001b[0m\u001b[1;33m\u001b[0m\u001b[0m\n\u001b[0;32m      4\u001b[0m \u001b[0mplt\u001b[0m\u001b[1;33m.\u001b[0m\u001b[0mtitle\u001b[0m\u001b[1;33m(\u001b[0m\u001b[1;34m\"4 Errors\"\u001b[0m\u001b[1;33m)\u001b[0m\u001b[1;33m\u001b[0m\u001b[0m\n",
      "\u001b[1;31mZeroDivisionError\u001b[0m: division by zero"
     ]
    }
   ],
   "source": [
    "x = ['1','2','3','4']\n",
    "plt.bar(x, height= [res_4_1/res_4, res_4_2/res_4, res_4_3/res_4, res_4_4/res_4])\n",
    "plt.xticks(x, ['3','2','1','0']);\n",
    "plt.title(\"4 Errors\")"
   ]
  },
  {
   "cell_type": "code",
   "execution_count": null,
   "metadata": {},
   "outputs": [],
   "source": []
  },
  {
   "cell_type": "code",
   "execution_count": null,
   "metadata": {},
   "outputs": [],
   "source": []
  },
  {
   "cell_type": "code",
   "execution_count": null,
   "metadata": {},
   "outputs": [],
   "source": []
  }
 ],
 "metadata": {
  "kernelspec": {
   "display_name": "Python 3",
   "language": "python",
   "name": "python3"
  },
  "language_info": {
   "codemirror_mode": {
    "name": "ipython",
    "version": 3
   },
   "file_extension": ".py",
   "mimetype": "text/x-python",
   "name": "python",
   "nbconvert_exporter": "python",
   "pygments_lexer": "ipython3",
   "version": "3.6.5"
  }
 },
 "nbformat": 4,
 "nbformat_minor": 2
}
