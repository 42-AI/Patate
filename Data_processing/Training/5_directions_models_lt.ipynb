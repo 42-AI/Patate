{
 "cells": [
  {
   "cell_type": "code",
   "execution_count": 43,
   "metadata": {},
   "outputs": [],
   "source": [
    "from os import listdir\n",
    "from keras.preprocessing.image import load_img\n",
    "from keras.preprocessing.image import img_to_array\n",
    "from PIL import Image\n",
    "import numpy as np\n",
    "import pandas as pd\n",
    "%matplotlib inline\n",
    "import matplotlib.pyplot as plt\n",
    "import random\n"
   ]
  },
  {
   "cell_type": "code",
   "execution_count": 44,
   "metadata": {},
   "outputs": [],
   "source": [
    "def load_photos(directory):\n",
    "    images = []\n",
    "    labels_speed = []\n",
    "    labels_dir = []\n",
    "    dir_list = listdir(directory)\n",
    "    random.shuffle(dir_list)\n",
    "    random.shuffle(dir_list)\n",
    "    for name in dir_list:\n",
    "        filename = directory + '/' + name\n",
    "        # load an image from file\n",
    "        image = load_img(filename, target_size=(96, 160))\n",
    "        # convert the image pixels to a numpy array\n",
    "        image = img_to_array(image)\n",
    "        # get image id + labels\n",
    "        value_dir = float(name.split('_')[1])\n",
    "        value_speed = float(name.split('_')[0])\n",
    "        labels_dir.append(value_dir)\n",
    "        labels_speed.append(value_speed)\n",
    "        images.append(image)\n",
    "    return images, labels_speed, labels_dir"
   ]
  },
  {
   "cell_type": "code",
   "execution_count": 45,
   "metadata": {},
   "outputs": [],
   "source": [
    "#dataset = \"../../Pics/TestTrack/cleaned1\"\n",
    "#dataset = \"../../Pics/TestTrack/mirrored1\"\n",
    "#dataset = \"../../Pics/TestTrack/tagged2\"\n",
    "#dataset = \"../../Pics/TestTrack/mirrored2\"\n",
    "#dataset = \"../../Pics/TestTrack/test_noFE_mirrored\"\n",
    "\n",
    "\n",
    "#dataset = \"../../Pics/RaceTrack/Datasets_Axionable/ironcar_pics\"\n",
    "#dataset = \"../../Pics/RaceTrack/Mixed\"\n",
    "dataset = \"../../Pics/RaceTrack/OldDataset_balanced\"\n",
    "#dataset = \"../../Pics/RaceTrack/OldDataset_balanced_3\"\n",
    "\n"
   ]
  },
  {
   "cell_type": "code",
   "execution_count": 46,
   "metadata": {
    "scrolled": true
   },
   "outputs": [
    {
     "name": "stdout",
     "output_type": "stream",
     "text": [
      "Loaded Images and labels for training: 1404\n",
      "Loaded Images and labels for validation: 295\n"
     ]
    }
   ],
   "source": [
    "# load images from both train and test groups\n",
    "directory = '../../'+dataset+'/Train'\n",
    "images, labels_speed, labels_dir = load_photos(directory)\n",
    "nb_images = len(images)\n",
    "print('Loaded Images and labels for training: %d' % nb_images)\n",
    "directory = '../../'+dataset+'/Val'\n",
    "images_val, labels_speed_val, labels_dir_val = load_photos(directory)\n",
    "nb_images_val = len(images_val)\n",
    "print('Loaded Images and labels for validation: %d' % nb_images_val)"
   ]
  },
  {
   "cell_type": "code",
   "execution_count": null,
   "metadata": {},
   "outputs": [],
   "source": []
  },
  {
   "cell_type": "code",
   "execution_count": 47,
   "metadata": {},
   "outputs": [],
   "source": [
    "#Normalise images\n",
    "images = np.array(images)\n",
    "images /= 255"
   ]
  },
  {
   "cell_type": "code",
   "execution_count": 48,
   "metadata": {},
   "outputs": [],
   "source": [
    "#convert datas to dummyvalues\n",
    "labels_speed = np.array(pd.get_dummies(labels_speed))\n",
    "labels_dir = np.array(pd.get_dummies(labels_dir))"
   ]
  },
  {
   "cell_type": "code",
   "execution_count": 49,
   "metadata": {},
   "outputs": [
    {
     "data": {
      "text/plain": [
       "(array([1, 0], dtype=uint8),\n",
       " array([0, 1, 0, 0, 0], dtype=uint8),\n",
       " <matplotlib.image.AxesImage at 0x24042bdd208>)"
      ]
     },
     "execution_count": 49,
     "metadata": {},
     "output_type": "execute_result"
    },
    {
     "data": {
      "image/png": "[encoded data removed]",
      "text/plain": [
       "<Figure size 432x288 with 1 Axes>"
      ]
     },
     "metadata": {},
     "output_type": "display_data"
    }
   ],
   "source": [
    "labels_speed[42], labels_dir[42], plt.imshow(images[42])"
   ]
  },
  {
   "cell_type": "code",
   "execution_count": null,
   "metadata": {},
   "outputs": [],
   "source": []
  },
  {
   "cell_type": "code",
   "execution_count": 50,
   "metadata": {},
   "outputs": [],
   "source": [
    "from keras.models import Model, Sequential\n",
    "from keras.layers import *\n",
    "import keras.backend as K\n",
    "import keras.optimizers as Optimizers"
   ]
  },
  {
   "cell_type": "code",
   "execution_count": 51,
   "metadata": {},
   "outputs": [],
   "source": [
    "#from keras.models import load_model\n",
    "#model = load_model(\"model.h5\")"
   ]
  },
  {
   "cell_type": "code",
   "execution_count": 52,
   "metadata": {},
   "outputs": [
    {
     "name": "stdout",
     "output_type": "stream",
     "text": [
      "__________________________________________________________________________________________________\n",
      "Layer (type)                    Output Shape         Param #     Connected to                     \n",
      "==================================================================================================\n",
      "img_in (InputLayer)             (None, 96, 160, 3)   0                                            \n",
      "__________________________________________________________________________________________________\n",
      "conv2d_1 (Conv2D)               (None, 23, 40, 8)    776         img_in[0][0]                     \n",
      "__________________________________________________________________________________________________\n",
      "conv2d_2 (Conv2D)               (None, 11, 20, 8)    136         conv2d_1[0][0]                   \n",
      "__________________________________________________________________________________________________\n",
      "conv2d_3 (Conv2D)               (None, 11, 20, 8)    72          conv2d_2[0][0]                   \n",
      "__________________________________________________________________________________________________\n",
      "batch_normalization_1 (BatchNor (None, 11, 20, 8)    32          conv2d_3[0][0]                   \n",
      "__________________________________________________________________________________________________\n",
      "flatten_1 (Flatten)             (None, 1760)         0           batch_normalization_1[0][0]      \n",
      "__________________________________________________________________________________________________\n",
      "dense_1 (Dense)                 (None, 8)            14088       flatten_1[0][0]                  \n",
      "__________________________________________________________________________________________________\n",
      "dropout_1 (Dropout)             (None, 8)            0           dense_1[0][0]                    \n",
      "__________________________________________________________________________________________________\n",
      "dense_2 (Dense)                 (None, 2)            18          dropout_1[0][0]                  \n",
      "__________________________________________________________________________________________________\n",
      "dense_3 (Dense)                 (None, 5)            45          dropout_1[0][0]                  \n",
      "==================================================================================================\n",
      "Total params: 15,167\n",
      "Trainable params: 15,151\n",
      "Non-trainable params: 16\n",
      "__________________________________________________________________________________________________\n"
     ]
    }
   ],
   "source": [
    "K.clear_session()\n",
    "############################################################# Multitask Model 2\n",
    "\n",
    "img_in = Input(shape=(96, 160, 3), name='img_in')\n",
    "x = img_in\n",
    "\n",
    "x = Convolution2D(8, (8,4), strides=(4,4), activation='relu')(x)\n",
    "x = Convolution2D(8, (2,1), strides=(2,2), activation='relu')(x)\n",
    "x = Convolution2D(8, (1,1), strides=(1,1), activation='relu')(x)\n",
    "\n",
    "x = BatchNormalization()(x)\n",
    "\n",
    "x = Flatten()(x)\n",
    "\n",
    "x = Dense(8, activation='relu')(x)\n",
    "x = Dropout(0.4)(x)\n",
    "\n",
    "out_speed = Dense(2, activation='softmax')(x)\n",
    "out_dir = Dense(5, activation='softmax')(x)\n",
    "\n",
    "model = Model(inputs=[img_in], outputs=[out_speed, out_dir])\n",
    "model.compile(loss='categorical_crossentropy', optimizer='adadelta', metrics=['accuracy'])\n",
    "\n",
    "model.summary()"
   ]
  },
  {
   "cell_type": "code",
   "execution_count": null,
   "metadata": {},
   "outputs": [],
   "source": []
  },
  {
   "cell_type": "code",
   "execution_count": 74,
   "metadata": {
    "scrolled": false
   },
   "outputs": [
    {
     "name": "stdout",
     "output_type": "stream",
     "text": [
      "Epoch 1/100\n",
      "1404/1404 [==============================] - 1s 906us/step - loss: 0.4804 - dense_2_loss: 0.1298 - dense_3_loss: 0.3506 - dense_2_acc: 0.9402 - dense_3_acc: 0.8504\n",
      "Epoch 2/100\n",
      "1404/1404 [==============================] - 1s 901us/step - loss: 0.5010 - dense_2_loss: 0.1424 - dense_3_loss: 0.3586 - dense_2_acc: 0.9302 - dense_3_acc: 0.8511\n",
      "Epoch 3/100\n",
      "1404/1404 [==============================] - 1s 937us/step - loss: 0.4948 - dense_2_loss: 0.1405 - dense_3_loss: 0.3543 - dense_2_acc: 0.9295 - dense_3_acc: 0.8447\n",
      "Epoch 4/100\n",
      "1404/1404 [==============================] - 1s 938us/step - loss: 0.4799 - dense_2_loss: 0.1258 - dense_3_loss: 0.3541 - dense_2_acc: 0.9466 - dense_3_acc: 0.8533\n",
      "Epoch 5/100\n",
      "1404/1404 [==============================] - 1s 938us/step - loss: 0.5109 - dense_2_loss: 0.1487 - dense_3_loss: 0.3622 - dense_2_acc: 0.9252 - dense_3_acc: 0.8454\n",
      "Epoch 6/100\n",
      "1404/1404 [==============================] - 1s 914us/step - loss: 0.5130 - dense_2_loss: 0.1415 - dense_3_loss: 0.3715 - dense_2_acc: 0.9309 - dense_3_acc: 0.8440\n",
      "Epoch 7/100\n",
      "1404/1404 [==============================] - 1s 901us/step - loss: 0.4727 - dense_2_loss: 0.1278 - dense_3_loss: 0.3449 - dense_2_acc: 0.9395 - dense_3_acc: 0.8533\n",
      "Epoch 8/100\n",
      "1404/1404 [==============================] - 1s 939us/step - loss: 0.4804 - dense_2_loss: 0.1287 - dense_3_loss: 0.3517 - dense_2_acc: 0.9416 - dense_3_acc: 0.8397\n",
      "Epoch 9/100\n",
      "1404/1404 [==============================] - 1s 956us/step - loss: 0.5023 - dense_2_loss: 0.1435 - dense_3_loss: 0.3588 - dense_2_acc: 0.9316 - dense_3_acc: 0.8483\n",
      "Epoch 10/100\n",
      "1404/1404 [==============================] - 1s 1ms/step - loss: 0.4907 - dense_2_loss: 0.1202 - dense_3_loss: 0.3705 - dense_2_acc: 0.9466 - dense_3_acc: 0.8298\n",
      "Epoch 11/100\n",
      "1404/1404 [==============================] - 1s 969us/step - loss: 0.4952 - dense_2_loss: 0.1346 - dense_3_loss: 0.3606 - dense_2_acc: 0.9338 - dense_3_acc: 0.8540\n",
      "Epoch 12/100\n",
      "1404/1404 [==============================] - 1s 975us/step - loss: 0.4977 - dense_2_loss: 0.1334 - dense_3_loss: 0.3643 - dense_2_acc: 0.9423 - dense_3_acc: 0.8362\n",
      "Epoch 13/100\n",
      "1404/1404 [==============================] - 1s 1ms/step - loss: 0.4872 - dense_2_loss: 0.1391 - dense_3_loss: 0.3480 - dense_2_acc: 0.9281 - dense_3_acc: 0.8454\n",
      "Epoch 14/100\n",
      "1404/1404 [==============================] - 1s 1ms/step - loss: 0.4506 - dense_2_loss: 0.1215 - dense_3_loss: 0.3291 - dense_2_acc: 0.9444 - dense_3_acc: 0.8625\n",
      "Epoch 15/100\n",
      "1404/1404 [==============================] - 1s 988us/step - loss: 0.4632 - dense_2_loss: 0.1276 - dense_3_loss: 0.3356 - dense_2_acc: 0.9430 - dense_3_acc: 0.8483\n",
      "Epoch 16/100\n",
      "1404/1404 [==============================] - 1s 997us/step - loss: 0.4889 - dense_2_loss: 0.1301 - dense_3_loss: 0.3588 - dense_2_acc: 0.9373 - dense_3_acc: 0.8490\n",
      "Epoch 17/100\n",
      "1404/1404 [==============================] - 1s 924us/step - loss: 0.4796 - dense_2_loss: 0.1305 - dense_3_loss: 0.3492 - dense_2_acc: 0.9366 - dense_3_acc: 0.8447\n",
      "Epoch 18/100\n",
      "1404/1404 [==============================] - 1s 907us/step - loss: 0.5129 - dense_2_loss: 0.1484 - dense_3_loss: 0.3646 - dense_2_acc: 0.9302 - dense_3_acc: 0.8390\n",
      "Epoch 19/100\n",
      "1404/1404 [==============================] - 1s 884us/step - loss: 0.4823 - dense_2_loss: 0.1283 - dense_3_loss: 0.3539 - dense_2_acc: 0.9430 - dense_3_acc: 0.8476\n",
      "Epoch 20/100\n",
      "1404/1404 [==============================] - 1s 945us/step - loss: 0.4569 - dense_2_loss: 0.1201 - dense_3_loss: 0.3368 - dense_2_acc: 0.9430 - dense_3_acc: 0.8454\n",
      "Epoch 21/100\n",
      "1404/1404 [==============================] - 1s 878us/step - loss: 0.5058 - dense_2_loss: 0.1357 - dense_3_loss: 0.3701 - dense_2_acc: 0.9352 - dense_3_acc: 0.8369\n",
      "Epoch 22/100\n",
      "1404/1404 [==============================] - 1s 934us/step - loss: 0.4689 - dense_2_loss: 0.1288 - dense_3_loss: 0.3401 - dense_2_acc: 0.9409 - dense_3_acc: 0.8469\n",
      "Epoch 23/100\n",
      "1404/1404 [==============================] - 1s 954us/step - loss: 0.4923 - dense_2_loss: 0.1403 - dense_3_loss: 0.3520 - dense_2_acc: 0.9323 - dense_3_acc: 0.8540\n",
      "Epoch 24/100\n",
      "1404/1404 [==============================] - 1s 952us/step - loss: 0.4821 - dense_2_loss: 0.1378 - dense_3_loss: 0.3443 - dense_2_acc: 0.9359 - dense_3_acc: 0.8526\n",
      "Epoch 25/100\n",
      "1404/1404 [==============================] - 1s 1ms/step - loss: 0.5057 - dense_2_loss: 0.1449 - dense_3_loss: 0.3609 - dense_2_acc: 0.9259 - dense_3_acc: 0.8526\n",
      "Epoch 26/100\n",
      "1404/1404 [==============================] - 1s 949us/step - loss: 0.4924 - dense_2_loss: 0.1340 - dense_3_loss: 0.3585 - dense_2_acc: 0.9330 - dense_3_acc: 0.8469\n",
      "Epoch 27/100\n",
      "1404/1404 [==============================] - 1s 932us/step - loss: 0.4962 - dense_2_loss: 0.1349 - dense_3_loss: 0.3614 - dense_2_acc: 0.9366 - dense_3_acc: 0.8483\n",
      "Epoch 28/100\n",
      "1404/1404 [==============================] - 1s 916us/step - loss: 0.4672 - dense_2_loss: 0.1305 - dense_3_loss: 0.3367 - dense_2_acc: 0.9352 - dense_3_acc: 0.8561\n",
      "Epoch 29/100\n",
      "1404/1404 [==============================] - 1s 953us/step - loss: 0.4818 - dense_2_loss: 0.1417 - dense_3_loss: 0.3401 - dense_2_acc: 0.9266 - dense_3_acc: 0.8640\n",
      "Epoch 30/100\n",
      "1404/1404 [==============================] - 1s 963us/step - loss: 0.4655 - dense_2_loss: 0.1278 - dense_3_loss: 0.3377 - dense_2_acc: 0.9330 - dense_3_acc: 0.8632\n",
      "Epoch 31/100\n",
      "1404/1404 [==============================] - 1s 981us/step - loss: 0.4727 - dense_2_loss: 0.1365 - dense_3_loss: 0.3362 - dense_2_acc: 0.9281 - dense_3_acc: 0.8561\n",
      "Epoch 32/100\n",
      "1404/1404 [==============================] - 1s 979us/step - loss: 0.4600 - dense_2_loss: 0.1251 - dense_3_loss: 0.3349 - dense_2_acc: 0.9395 - dense_3_acc: 0.8526\n",
      "Epoch 33/100\n",
      "1404/1404 [==============================] - 1s 952us/step - loss: 0.4698 - dense_2_loss: 0.1247 - dense_3_loss: 0.3451 - dense_2_acc: 0.9452 - dense_3_acc: 0.8390\n",
      "Epoch 34/100\n",
      "1404/1404 [==============================] - 1s 926us/step - loss: 0.4628 - dense_2_loss: 0.1211 - dense_3_loss: 0.3418 - dense_2_acc: 0.9387 - dense_3_acc: 0.8504\n",
      "Epoch 35/100\n",
      "1404/1404 [==============================] - 1s 894us/step - loss: 0.4834 - dense_2_loss: 0.1357 - dense_3_loss: 0.3477 - dense_2_acc: 0.9345 - dense_3_acc: 0.8568\n",
      "Epoch 36/100\n",
      "1404/1404 [==============================] - 1s 913us/step - loss: 0.4815 - dense_2_loss: 0.1228 - dense_3_loss: 0.3588 - dense_2_acc: 0.9459 - dense_3_acc: 0.8504\n",
      "Epoch 37/100\n",
      "1404/1404 [==============================] - 1s 879us/step - loss: 0.4617 - dense_2_loss: 0.1268 - dense_3_loss: 0.3349 - dense_2_acc: 0.9395 - dense_3_acc: 0.8469\n",
      "Epoch 38/100\n",
      "1404/1404 [==============================] - 1s 911us/step - loss: 0.4298 - dense_2_loss: 0.1131 - dense_3_loss: 0.3167 - dense_2_acc: 0.9444 - dense_3_acc: 0.8697\n",
      "Epoch 39/100\n",
      "1404/1404 [==============================] - 1s 928us/step - loss: 0.4658 - dense_2_loss: 0.1321 - dense_3_loss: 0.3338 - dense_2_acc: 0.9359 - dense_3_acc: 0.8547\n",
      "Epoch 40/100\n",
      "1404/1404 [==============================] - 1s 998us/step - loss: 0.4543 - dense_2_loss: 0.1243 - dense_3_loss: 0.3300 - dense_2_acc: 0.9373 - dense_3_acc: 0.8604\n",
      "Epoch 41/100\n",
      "1404/1404 [==============================] - 1s 1ms/step - loss: 0.4105 - dense_2_loss: 0.1253 - dense_3_loss: 0.2852 - dense_2_acc: 0.9323 - dense_3_acc: 0.8811\n",
      "Epoch 42/100\n",
      "1404/1404 [==============================] - 1s 1ms/step - loss: 0.4434 - dense_2_loss: 0.1258 - dense_3_loss: 0.3176 - dense_2_acc: 0.9366 - dense_3_acc: 0.8640\n",
      "Epoch 43/100\n",
      "1404/1404 [==============================] - 1s 963us/step - loss: 0.4704 - dense_2_loss: 0.1383 - dense_3_loss: 0.3321 - dense_2_acc: 0.9309 - dense_3_acc: 0.8604\n",
      "Epoch 44/100\n",
      "1404/1404 [==============================] - 1s 944us/step - loss: 0.4872 - dense_2_loss: 0.1341 - dense_3_loss: 0.3531 - dense_2_acc: 0.9345 - dense_3_acc: 0.8547\n",
      "Epoch 45/100\n",
      "1404/1404 [==============================] - 1s 979us/step - loss: 0.4994 - dense_2_loss: 0.1425 - dense_3_loss: 0.3570 - dense_2_acc: 0.9302 - dense_3_acc: 0.8504\n",
      "Epoch 46/100\n",
      "1404/1404 [==============================] - 1s 960us/step - loss: 0.4676 - dense_2_loss: 0.1232 - dense_3_loss: 0.3444 - dense_2_acc: 0.9459 - dense_3_acc: 0.8476\n",
      "Epoch 47/100\n"
     ]
    },
    {
     "name": "stdout",
     "output_type": "stream",
     "text": [
      "1404/1404 [==============================] - 1s 923us/step - loss: 0.4462 - dense_2_loss: 0.1209 - dense_3_loss: 0.3254 - dense_2_acc: 0.9444 - dense_3_acc: 0.8661\n",
      "Epoch 48/100\n",
      "1404/1404 [==============================] - 1s 979us/step - loss: 0.4602 - dense_2_loss: 0.1314 - dense_3_loss: 0.3288 - dense_2_acc: 0.9387 - dense_3_acc: 0.8718\n",
      "Epoch 49/100\n",
      "1404/1404 [==============================] - 1s 970us/step - loss: 0.4703 - dense_2_loss: 0.1283 - dense_3_loss: 0.3420 - dense_2_acc: 0.9395 - dense_3_acc: 0.8561\n",
      "Epoch 50/100\n",
      "1404/1404 [==============================] - 1s 1ms/step - loss: 0.4823 - dense_2_loss: 0.1385 - dense_3_loss: 0.3438 - dense_2_acc: 0.9345 - dense_3_acc: 0.8547\n",
      "Epoch 51/100\n",
      "1404/1404 [==============================] - 1s 977us/step - loss: 0.4748 - dense_2_loss: 0.1298 - dense_3_loss: 0.3449 - dense_2_acc: 0.9373 - dense_3_acc: 0.8568\n",
      "Epoch 52/100\n",
      "1404/1404 [==============================] - 1s 928us/step - loss: 0.4547 - dense_2_loss: 0.1250 - dense_3_loss: 0.3297 - dense_2_acc: 0.9338 - dense_3_acc: 0.8625\n",
      "Epoch 53/100\n",
      "1404/1404 [==============================] - 1s 939us/step - loss: 0.4541 - dense_2_loss: 0.1283 - dense_3_loss: 0.3257 - dense_2_acc: 0.9409 - dense_3_acc: 0.8554\n",
      "Epoch 54/100\n",
      "1404/1404 [==============================] - 1s 974us/step - loss: 0.4519 - dense_2_loss: 0.1349 - dense_3_loss: 0.3170 - dense_2_acc: 0.9380 - dense_3_acc: 0.8668\n",
      "Epoch 55/100\n",
      "1404/1404 [==============================] - 1s 983us/step - loss: 0.4716 - dense_2_loss: 0.1286 - dense_3_loss: 0.3431 - dense_2_acc: 0.9387 - dense_3_acc: 0.8575\n",
      "Epoch 56/100\n",
      "1404/1404 [==============================] - 1s 952us/step - loss: 0.4547 - dense_2_loss: 0.1193 - dense_3_loss: 0.3355 - dense_2_acc: 0.9459 - dense_3_acc: 0.8597\n",
      "Epoch 57/100\n",
      "1404/1404 [==============================] - 1s 1ms/step - loss: 0.4418 - dense_2_loss: 0.1157 - dense_3_loss: 0.3261 - dense_2_acc: 0.9452 - dense_3_acc: 0.8675\n",
      "Epoch 58/100\n",
      "1404/1404 [==============================] - 1s 995us/step - loss: 0.4660 - dense_2_loss: 0.1289 - dense_3_loss: 0.3371 - dense_2_acc: 0.9395 - dense_3_acc: 0.8447\n",
      "Epoch 59/100\n",
      "1404/1404 [==============================] - 1s 961us/step - loss: 0.4343 - dense_2_loss: 0.1136 - dense_3_loss: 0.3207 - dense_2_acc: 0.9494 - dense_3_acc: 0.8583\n",
      "Epoch 60/100\n",
      "1404/1404 [==============================] - 1s 1ms/step - loss: 0.4465 - dense_2_loss: 0.1307 - dense_3_loss: 0.3158 - dense_2_acc: 0.9373 - dense_3_acc: 0.8675\n",
      "Epoch 61/100\n",
      "1404/1404 [==============================] - 1s 941us/step - loss: 0.4626 - dense_2_loss: 0.1139 - dense_3_loss: 0.3487 - dense_2_acc: 0.9466 - dense_3_acc: 0.8540\n",
      "Epoch 62/100\n",
      "1404/1404 [==============================] - 1s 957us/step - loss: 0.4352 - dense_2_loss: 0.1173 - dense_3_loss: 0.3179 - dense_2_acc: 0.9452 - dense_3_acc: 0.8597\n",
      "Epoch 63/100\n",
      "1404/1404 [==============================] - 1s 994us/step - loss: 0.4677 - dense_2_loss: 0.1230 - dense_3_loss: 0.3447 - dense_2_acc: 0.9444 - dense_3_acc: 0.8454\n",
      "Epoch 64/100\n",
      "1404/1404 [==============================] - 1s 973us/step - loss: 0.4819 - dense_2_loss: 0.1423 - dense_3_loss: 0.3396 - dense_2_acc: 0.9288 - dense_3_acc: 0.8647\n",
      "Epoch 65/100\n",
      "1404/1404 [==============================] - 1s 970us/step - loss: 0.4322 - dense_2_loss: 0.1254 - dense_3_loss: 0.3068 - dense_2_acc: 0.9352 - dense_3_acc: 0.8675\n",
      "Epoch 66/100\n",
      "1404/1404 [==============================] - 1s 938us/step - loss: 0.4580 - dense_2_loss: 0.1345 - dense_3_loss: 0.3235 - dense_2_acc: 0.9338 - dense_3_acc: 0.8640\n",
      "Epoch 67/100\n",
      "1404/1404 [==============================] - 1s 984us/step - loss: 0.4646 - dense_2_loss: 0.1272 - dense_3_loss: 0.3375 - dense_2_acc: 0.9352 - dense_3_acc: 0.8611\n",
      "Epoch 68/100\n",
      "1404/1404 [==============================] - 1s 916us/step - loss: 0.4811 - dense_2_loss: 0.1255 - dense_3_loss: 0.3556 - dense_2_acc: 0.9380 - dense_3_acc: 0.8497\n",
      "Epoch 69/100\n",
      "1404/1404 [==============================] - 1s 899us/step - loss: 0.4436 - dense_2_loss: 0.1202 - dense_3_loss: 0.3234 - dense_2_acc: 0.9409 - dense_3_acc: 0.8540\n",
      "Epoch 70/100\n",
      "1404/1404 [==============================] - 1s 985us/step - loss: 0.4510 - dense_2_loss: 0.1210 - dense_3_loss: 0.3300 - dense_2_acc: 0.9416 - dense_3_acc: 0.8590\n",
      "Epoch 71/100\n",
      "1404/1404 [==============================] - 1s 970us/step - loss: 0.4493 - dense_2_loss: 0.1394 - dense_3_loss: 0.3100 - dense_2_acc: 0.9295 - dense_3_acc: 0.8739\n",
      "Epoch 72/100\n",
      "1404/1404 [==============================] - 1s 914us/step - loss: 0.4423 - dense_2_loss: 0.1122 - dense_3_loss: 0.3301 - dense_2_acc: 0.9459 - dense_3_acc: 0.8583\n",
      "Epoch 73/100\n",
      "1404/1404 [==============================] - 1s 842us/step - loss: 0.4601 - dense_2_loss: 0.1272 - dense_3_loss: 0.3329 - dense_2_acc: 0.9359 - dense_3_acc: 0.8519\n",
      "Epoch 74/100\n",
      "1404/1404 [==============================] - 1s 870us/step - loss: 0.4322 - dense_2_loss: 0.1191 - dense_3_loss: 0.3131 - dense_2_acc: 0.9452 - dense_3_acc: 0.8618\n",
      "Epoch 75/100\n",
      "1404/1404 [==============================] - 1s 958us/step - loss: 0.4833 - dense_2_loss: 0.1300 - dense_3_loss: 0.3533 - dense_2_acc: 0.9387 - dense_3_acc: 0.8554\n",
      "Epoch 76/100\n",
      "1404/1404 [==============================] - 1s 930us/step - loss: 0.4414 - dense_2_loss: 0.1170 - dense_3_loss: 0.3244 - dense_2_acc: 0.9452 - dense_3_acc: 0.8554\n",
      "Epoch 77/100\n",
      "1404/1404 [==============================] - 1s 845us/step - loss: 0.4612 - dense_2_loss: 0.1280 - dense_3_loss: 0.3332 - dense_2_acc: 0.9373 - dense_3_acc: 0.8590\n",
      "Epoch 78/100\n",
      "1404/1404 [==============================] - 1s 887us/step - loss: 0.4610 - dense_2_loss: 0.1289 - dense_3_loss: 0.3321 - dense_2_acc: 0.9345 - dense_3_acc: 0.8554\n",
      "Epoch 79/100\n",
      "1404/1404 [==============================] - 1s 958us/step - loss: 0.4302 - dense_2_loss: 0.1204 - dense_3_loss: 0.3097 - dense_2_acc: 0.9430 - dense_3_acc: 0.8640\n",
      "Epoch 80/100\n",
      "1404/1404 [==============================] - 1s 930us/step - loss: 0.4314 - dense_2_loss: 0.1192 - dense_3_loss: 0.3122 - dense_2_acc: 0.9444 - dense_3_acc: 0.8689\n",
      "Epoch 81/100\n",
      "1404/1404 [==============================] - 1s 932us/step - loss: 0.4404 - dense_2_loss: 0.1280 - dense_3_loss: 0.3123 - dense_2_acc: 0.9380 - dense_3_acc: 0.8668\n",
      "Epoch 82/100\n",
      "1404/1404 [==============================] - 1s 904us/step - loss: 0.4453 - dense_2_loss: 0.1260 - dense_3_loss: 0.3193 - dense_2_acc: 0.9430 - dense_3_acc: 0.8647\n",
      "Epoch 83/100\n",
      "1404/1404 [==============================] - 1s 907us/step - loss: 0.4256 - dense_2_loss: 0.1248 - dense_3_loss: 0.3008 - dense_2_acc: 0.9373 - dense_3_acc: 0.8754\n",
      "Epoch 84/100\n",
      "1404/1404 [==============================] - 1s 886us/step - loss: 0.4488 - dense_2_loss: 0.1249 - dense_3_loss: 0.3239 - dense_2_acc: 0.9380 - dense_3_acc: 0.8554\n",
      "Epoch 85/100\n",
      "1404/1404 [==============================] - 1s 866us/step - loss: 0.4271 - dense_2_loss: 0.1166 - dense_3_loss: 0.3105 - dense_2_acc: 0.9402 - dense_3_acc: 0.8689\n",
      "Epoch 86/100\n",
      "1404/1404 [==============================] - 1s 891us/step - loss: 0.4718 - dense_2_loss: 0.1252 - dense_3_loss: 0.3466 - dense_2_acc: 0.9359 - dense_3_acc: 0.8447\n",
      "Epoch 87/100\n",
      "1404/1404 [==============================] - 1s 895us/step - loss: 0.4340 - dense_2_loss: 0.1171 - dense_3_loss: 0.3170 - dense_2_acc: 0.9416 - dense_3_acc: 0.8590\n",
      "Epoch 88/100\n",
      "1404/1404 [==============================] - 1s 878us/step - loss: 0.4354 - dense_2_loss: 0.1234 - dense_3_loss: 0.3121 - dense_2_acc: 0.9387 - dense_3_acc: 0.8590\n",
      "Epoch 89/100\n",
      "1404/1404 [==============================] - 1s 878us/step - loss: 0.4505 - dense_2_loss: 0.1217 - dense_3_loss: 0.3288 - dense_2_acc: 0.9409 - dense_3_acc: 0.8583\n",
      "Epoch 90/100\n",
      "1404/1404 [==============================] - 1s 866us/step - loss: 0.4226 - dense_2_loss: 0.1142 - dense_3_loss: 0.3084 - dense_2_acc: 0.9466 - dense_3_acc: 0.8689\n",
      "Epoch 91/100\n",
      "1404/1404 [==============================] - 1s 869us/step - loss: 0.4276 - dense_2_loss: 0.1302 - dense_3_loss: 0.2974 - dense_2_acc: 0.9274 - dense_3_acc: 0.8739\n",
      "Epoch 92/100\n",
      "1404/1404 [==============================] - 1s 877us/step - loss: 0.4611 - dense_2_loss: 0.1203 - dense_3_loss: 0.3409 - dense_2_acc: 0.9430 - dense_3_acc: 0.8526\n",
      "Epoch 93/100\n"
     ]
    },
    {
     "name": "stdout",
     "output_type": "stream",
     "text": [
      "1404/1404 [==============================] - 1s 946us/step - loss: 0.4722 - dense_2_loss: 0.1373 - dense_3_loss: 0.3349 - dense_2_acc: 0.9316 - dense_3_acc: 0.8647\n",
      "Epoch 94/100\n",
      "1404/1404 [==============================] - 1s 859us/step - loss: 0.4813 - dense_2_loss: 0.1329 - dense_3_loss: 0.3484 - dense_2_acc: 0.9395 - dense_3_acc: 0.8575\n",
      "Epoch 95/100\n",
      "1404/1404 [==============================] - 1s 875us/step - loss: 0.3844 - dense_2_loss: 0.1063 - dense_3_loss: 0.2781 - dense_2_acc: 0.9494 - dense_3_acc: 0.8818\n",
      "Epoch 96/100\n",
      "1404/1404 [==============================] - 1s 904us/step - loss: 0.4473 - dense_2_loss: 0.1282 - dense_3_loss: 0.3191 - dense_2_acc: 0.9402 - dense_3_acc: 0.8554\n",
      "Epoch 97/100\n",
      "1404/1404 [==============================] - 1s 865us/step - loss: 0.4473 - dense_2_loss: 0.1111 - dense_3_loss: 0.3362 - dense_2_acc: 0.9494 - dense_3_acc: 0.8426\n",
      "Epoch 98/100\n",
      "1404/1404 [==============================] - 1s 846us/step - loss: 0.4813 - dense_2_loss: 0.1338 - dense_3_loss: 0.3474 - dense_2_acc: 0.9330 - dense_3_acc: 0.8504\n",
      "Epoch 99/100\n",
      "1404/1404 [==============================] - 1s 853us/step - loss: 0.4643 - dense_2_loss: 0.1261 - dense_3_loss: 0.3382 - dense_2_acc: 0.9373 - dense_3_acc: 0.8632\n",
      "Epoch 100/100\n",
      "1404/1404 [==============================] - 1s 867us/step - loss: 0.4677 - dense_2_loss: 0.1287 - dense_3_loss: 0.3390 - dense_2_acc: 0.9373 - dense_3_acc: 0.8447\n"
     ]
    }
   ],
   "source": [
    "h = model.fit(images, [labels_speed, labels_dir], batch_size=128, epochs=100, verbose=1)"
   ]
  },
  {
   "cell_type": "code",
   "execution_count": 75,
   "metadata": {},
   "outputs": [
    {
     "data": {
      "text/plain": [
       "<matplotlib.axes._subplots.AxesSubplot at 0x24043a6eb70>"
      ]
     },
     "execution_count": 75,
     "metadata": {},
     "output_type": "execute_result"
    },
    {
     "data": {
      "image/png": "[encoded data removed]",
      "text/plain": [
       "<Figure size 432x288 with 1 Axes>"
      ]
     },
     "metadata": {},
     "output_type": "display_data"
    }
   ],
   "source": [
    "#print History graph\n",
    "historydf = pd.DataFrame(h.history, index=h.epoch)\n",
    "historydf.plot(ylim=(0,1))"
   ]
  },
  {
   "cell_type": "code",
   "execution_count": 65,
   "metadata": {},
   "outputs": [],
   "source": [
    "model.save('model_multi5_lt.h5')"
   ]
  },
  {
   "cell_type": "code",
   "execution_count": null,
   "metadata": {},
   "outputs": [],
   "source": []
  },
  {
   "cell_type": "code",
   "execution_count": 107,
   "metadata": {},
   "outputs": [],
   "source": [
    "#######################  VALIDATION"
   ]
  },
  {
   "cell_type": "code",
   "execution_count": 108,
   "metadata": {},
   "outputs": [],
   "source": []
  },
  {
   "cell_type": "code",
   "execution_count": null,
   "metadata": {},
   "outputs": [],
   "source": []
  },
  {
   "cell_type": "code",
   "execution_count": 55,
   "metadata": {},
   "outputs": [],
   "source": [
    "images_val = np.array(images_val)\n",
    "images_val /= 255"
   ]
  },
  {
   "cell_type": "code",
   "execution_count": null,
   "metadata": {},
   "outputs": [],
   "source": []
  },
  {
   "cell_type": "code",
   "execution_count": 76,
   "metadata": {},
   "outputs": [],
   "source": [
    "# Get predictions\n",
    "all_preds = model.predict(images_val)\n",
    "\n",
    "speed_preds = []\n",
    "for elem in all_preds[0]:\n",
    "    speed_preds.append(np.argmax(elem))\n",
    "    \n",
    "dir_preds = []\n",
    "for elem in all_preds[1]:\n",
    "    dir_preds.append(np.argmax(elem))"
   ]
  },
  {
   "cell_type": "code",
   "execution_count": 77,
   "metadata": {},
   "outputs": [
    {
     "name": "stdout",
     "output_type": "stream",
     "text": [
      "speed_error_rate = 0.11224489795918367\n"
     ]
    }
   ],
   "source": [
    "res = 0\n",
    "for i, value in enumerate(speed_preds):\n",
    "    if value != labels_speed_val[i]:\n",
    "        res += 1\n",
    "print(\"speed_error_rate = \" + str(res/i))"
   ]
  },
  {
   "cell_type": "code",
   "execution_count": 78,
   "metadata": {},
   "outputs": [
    {
     "name": "stdout",
     "output_type": "stream",
     "text": [
      "total error = 0.3163265306122449 0_error = 0.4146341463414634 1_error = 0.7560975609756098 2_error = 0.12903225806451613 3_error = 0.7272727272727273 4_error = 0.21951219512195122\n"
     ]
    }
   ],
   "source": [
    "res = 0\n",
    "\n",
    "i_0 = 1\n",
    "res_0 = 0\n",
    "res_0_1 = 0\n",
    "res_0_2 = 0\n",
    "res_0_3 = 0\n",
    "res_0_4 = 0\n",
    "\n",
    "i_1 = 1\n",
    "res_1 = 0\n",
    "res_1_1 = 0\n",
    "res_1_2 = 0\n",
    "res_1_3 = 0\n",
    "\n",
    "i_2 = 1\n",
    "res_2 = 0\n",
    "res_2_1 = 0\n",
    "res_2_2 = 0\n",
    "\n",
    "i_3 = 1\n",
    "res_3 = 0\n",
    "res_3_1 = 0\n",
    "res_3_2 = 0\n",
    "res_3_3 = 0\n",
    "\n",
    "i_4 = 1\n",
    "res_4 = 0\n",
    "res_4_1 = 0\n",
    "res_4_2 = 0\n",
    "res_4_3 = 0\n",
    "res_4_4 = 0\n",
    "\n",
    "for value in labels_dir_val:\n",
    "    if value == 0:\n",
    "        i_0 += 1\n",
    "    elif value == 1:\n",
    "        i_1 += 1\n",
    "    elif value == 2:\n",
    "        i_2 += 1\n",
    "    elif value == 3:\n",
    "        i_3 += 1\n",
    "    elif value == 4:\n",
    "        i_4 += 1\n",
    "\n",
    "for i, value in enumerate(dir_preds):\n",
    "    if value != labels_dir_val[i]:\n",
    "        res += 1\n",
    "        if labels_dir_val[i] == 0:    \n",
    "            res_0 += 1\n",
    "            if abs(labels_dir_val[i] - value) == 1:\n",
    "                res_0_1 += 1\n",
    "            elif abs(labels_dir_val[i] - value) == 2:\n",
    "                res_0_2 += 1\n",
    "            elif abs(labels_dir_val[i] - value) == 3:\n",
    "                res_0_3 += 1\n",
    "            elif abs(labels_dir_val[i] - value) == 4:\n",
    "                res_0_4 += 1\n",
    "        elif labels_dir_val[i] == 1:\n",
    "            res_1 += 1\n",
    "            if abs(labels_dir_val[i] - value) == 1:\n",
    "                res_1_1 += 1\n",
    "            elif abs(labels_dir_val[i] - value) == 2:\n",
    "                res_1_2 += 1\n",
    "            elif abs(labels_dir_val[i] - value) == 3:\n",
    "                res_1_3 += 1\n",
    "        elif labels_dir_val[i] == 2:\n",
    "            res_2 += 1\n",
    "            if abs(labels_dir_val[i] - value) == 1:\n",
    "                res_2_1 += 1\n",
    "            elif abs(labels_dir_val[i] - value) == 2:\n",
    "                res_2_2 += 1\n",
    "        elif labels_dir_val[i] == 3:\n",
    "            res_3 += 1\n",
    "            if abs(labels_dir_val[i] - value) == 1:\n",
    "                res_3_1 += 1\n",
    "            elif abs(labels_dir_val[i] - value) == 2:\n",
    "                res_3_2 += 1\n",
    "            elif abs(labels_dir_val[i] - value) == 3:\n",
    "                res_3_3 += 1\n",
    "        elif labels_dir_val[i] == 4:\n",
    "            res_4 += 1\n",
    "            if abs(labels_dir_val[i] - value) == 1:\n",
    "                res_4_1 += 1\n",
    "            elif abs(labels_dir_val[i] - value) == 2:\n",
    "                res_4_2 += 1\n",
    "            elif abs(labels_dir_val[i] - value) == 3:\n",
    "                res_4_3 += 1\n",
    "            elif abs(labels_dir_val[i] - value) == 4:\n",
    "                res_4_4 += 1\n",
    "\n",
    "        \n",
    "print(\"total error = \" + str(res/i), \"0_error = \" + str(res_0/i_0), \"1_error = \" + str(res_1/i_1), \"2_error = \" + str(res_2/i_2), \"3_error = \" + str(res_3/i_3), \"4_error = \" + str(res_4/i_4), )"
   ]
  },
  {
   "cell_type": "code",
   "execution_count": 73,
   "metadata": {},
   "outputs": [
    {
     "data": {
      "text/plain": [
       "Text(0.5,1,'Mean Errors by direction')"
      ]
     },
     "execution_count": 73,
     "metadata": {},
     "output_type": "execute_result"
    },
    {
     "data": {
      "image/png": "[encoded data removed]",
      "text/plain": [
       "<Figure size 432x288 with 1 Axes>"
      ]
     },
     "metadata": {},
     "output_type": "display_data"
    }
   ],
   "source": [
    "x = ['0','1','2','3','4']\n",
    "plt.bar(x, height= [res_0/i_0, res_1/i_1, res_2/i_2, res_3/i_3, res_4/i_4])\n",
    "plt.xticks(x, ['0','1','2','3','4']);\n",
    "plt.title(\"Mean Errors by direction\")"
   ]
  },
  {
   "cell_type": "code",
   "execution_count": 60,
   "metadata": {},
   "outputs": [
    {
     "data": {
      "text/plain": [
       "Text(0.5,1,'0 Errors')"
      ]
     },
     "execution_count": 60,
     "metadata": {},
     "output_type": "execute_result"
    },
    {
     "data": {
      "image/png": "[encoded data removed]",
      "text/plain": [
       "<Figure size 432x288 with 1 Axes>"
      ]
     },
     "metadata": {},
     "output_type": "display_data"
    }
   ],
   "source": [
    "x = ['1','2','3','4']\n",
    "plt.bar(x, height= [res_0_1/res_0, res_0_2/res_0, res_0_3/res_0, res_0_4/res_0])\n",
    "plt.xticks(x, ['1','2','3','4']);\n",
    "plt.title(\"0 Errors\")"
   ]
  },
  {
   "cell_type": "code",
   "execution_count": 61,
   "metadata": {},
   "outputs": [
    {
     "data": {
      "text/plain": [
       "Text(0.5,1,'1 Errors')"
      ]
     },
     "execution_count": 61,
     "metadata": {},
     "output_type": "execute_result"
    },
    {
     "data": {
      "image/png": "[encoded data removed]",
      "text/plain": [
       "<Figure size 432x288 with 1 Axes>"
      ]
     },
     "metadata": {},
     "output_type": "display_data"
    }
   ],
   "source": [
    "x = ['1','2','3']\n",
    "plt.bar(x, height= [res_1_1/res_1, res_1_2/res_1, res_1_3/res_1])\n",
    "plt.xticks(x, ['0, 2','3', '4']);\n",
    "plt.title(\"1 Errors\")"
   ]
  },
  {
   "cell_type": "code",
   "execution_count": 62,
   "metadata": {},
   "outputs": [
    {
     "data": {
      "text/plain": [
       "Text(0.5,1,'2 Errors')"
      ]
     },
     "execution_count": 62,
     "metadata": {},
     "output_type": "execute_result"
    },
    {
     "data": {
      "image/png": "[encoded data removed]",
      "text/plain": [
       "<Figure size 432x288 with 1 Axes>"
      ]
     },
     "metadata": {},
     "output_type": "display_data"
    }
   ],
   "source": [
    "x = ['1','2']\n",
    "plt.bar(x, height= [res_2_1/res_2, res_2_2/res_2])\n",
    "plt.xticks(x, ['1, 3','0, 4']);\n",
    "plt.title(\"2 Errors\")"
   ]
  },
  {
   "cell_type": "code",
   "execution_count": 63,
   "metadata": {},
   "outputs": [
    {
     "data": {
      "text/plain": [
       "Text(0.5,1,'3 Errors')"
      ]
     },
     "execution_count": 63,
     "metadata": {},
     "output_type": "execute_result"
    },
    {
     "data": {
      "image/png": "[encoded data removed]",
      "text/plain": [
       "<Figure size 432x288 with 1 Axes>"
      ]
     },
     "metadata": {},
     "output_type": "display_data"
    }
   ],
   "source": [
    "x = ['1','2','3']\n",
    "plt.bar(x, height= [res_3_1/res_3, res_3_2/res_3, res_3_3/res_3])\n",
    "plt.xticks(x, ['2, 4','1', '0']);\n",
    "plt.title(\"3 Errors\")"
   ]
  },
  {
   "cell_type": "code",
   "execution_count": 64,
   "metadata": {},
   "outputs": [
    {
     "data": {
      "text/plain": [
       "Text(0.5,1,'4 Errors')"
      ]
     },
     "execution_count": 64,
     "metadata": {},
     "output_type": "execute_result"
    },
    {
     "data": {
      "image/png": "[encoded data removed]",
      "text/plain": [
       "<Figure size 432x288 with 1 Axes>"
      ]
     },
     "metadata": {},
     "output_type": "display_data"
    }
   ],
   "source": [
    "x = ['1','2','3','4']\n",
    "plt.bar(x, height= [res_4_1/res_4, res_4_2/res_4, res_4_3/res_4, res_4_4/res_4])\n",
    "plt.xticks(x, ['3','2','1','0']);\n",
    "plt.title(\"4 Errors\")"
   ]
  },
  {
   "cell_type": "code",
   "execution_count": null,
   "metadata": {},
   "outputs": [],
   "source": []
  },
  {
   "cell_type": "code",
   "execution_count": null,
   "metadata": {},
   "outputs": [],
   "source": []
  },
  {
   "cell_type": "code",
   "execution_count": null,
   "metadata": {},
   "outputs": [],
   "source": []
  }
 ],
 "metadata": {
  "kernelspec": {
   "display_name": "Python 3",
   "language": "python",
   "name": "python3"
  },
  "language_info": {
   "codemirror_mode": {
    "name": "ipython",
    "version": 3
   },
   "file_extension": ".py",
   "mimetype": "text/x-python",
   "name": "python",
   "nbconvert_exporter": "python",
   "pygments_lexer": "ipython3",
   "version": "3.6.5"
  }
 },
 "nbformat": 4,
 "nbformat_minor": 2
}
