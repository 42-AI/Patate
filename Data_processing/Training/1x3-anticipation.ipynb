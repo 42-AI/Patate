{
 "cells": [
  {
   "cell_type": "code",
   "execution_count": 1,
   "metadata": {},
   "outputs": [
    {
     "name": "stderr",
     "output_type": "stream",
     "text": [
      "Using TensorFlow backend.\n"
     ]
    }
   ],
   "source": [
    "from os import listdir\n",
    "from keras.preprocessing.image import load_img\n",
    "from keras.preprocessing.image import img_to_array\n",
    "from PIL import Image\n",
    "import numpy as np\n",
    "import pandas as pd\n",
    "%matplotlib inline\n",
    "import matplotlib.pyplot as plt"
   ]
  },
  {
   "cell_type": "code",
   "execution_count": 2,
   "metadata": {},
   "outputs": [],
   "source": [
    "def load_photos(directory):\n",
    "    images = []\n",
    "    labels = []\n",
    "    for name in listdir(directory):\n",
    "        filename = directory + '/' + name\n",
    "        # load an image from file\n",
    "        image = load_img(filename, target_size=(128, 160))\n",
    "        # convert the image pixels to a numpy array\n",
    "        image = img_to_array(image)\n",
    "        # get image id + labels\n",
    "        value = name.split('_')[0]\n",
    "        if value == '0':\n",
    "            value = 0\n",
    "        elif value == '1':\n",
    "            value = 1\n",
    "        labels.append(value)\n",
    "        images.append(image)\n",
    "    return images, labels"
   ]
  },
  {
   "cell_type": "code",
   "execution_count": 3,
   "metadata": {},
   "outputs": [],
   "source": [
    "#dataset = 'Dataset_cleaned'\n",
    "#dataset = 'RichDataset'\n",
    "dataset = 'BigDataset'"
   ]
  },
  {
   "cell_type": "code",
   "execution_count": 4,
   "metadata": {},
   "outputs": [
    {
     "name": "stdout",
     "output_type": "stream",
     "text": [
      "Loaded Images and labels for training: 794\n",
      "Loaded Images and labels for validation: 82\n"
     ]
    }
   ],
   "source": [
    "# load images from both train and test groups\n",
    "directory = '../../../Patate_data/data/'+dataset+'-anticipation/Train'\n",
    "images, labels = load_photos(directory)\n",
    "nb_images = len(images)\n",
    "print('Loaded Images and labels for training: %d' % nb_images)\n",
    "directory = '../../../Patate_data/data/'+dataset+'-anticipation/Val'\n",
    "images_val, labels_val = load_photos(directory)\n",
    "nb_images_val = len(images_val)\n",
    "print('Loaded Images and labels for validation: %d' % nb_images_val)"
   ]
  },
  {
   "cell_type": "code",
   "execution_count": 5,
   "metadata": {
    "scrolled": false
   },
   "outputs": [],
   "source": [
    "#normalise datas\n",
    "images = np.array(images)\n",
    "images = images[:, 40:58, :, :]\n",
    "images /= 255\n",
    "images_val = np.array(images_val)\n",
    "images_val = images_val[:, 40:58, :, :]\n",
    "images_val /= 255"
   ]
  },
  {
   "cell_type": "code",
   "execution_count": 6,
   "metadata": {},
   "outputs": [
    {
     "data": {
      "text/plain": [
       "((794, 18, 160, 3), <matplotlib.image.AxesImage at 0x1c8f9894080>)"
      ]
     },
     "execution_count": 6,
     "metadata": {},
     "output_type": "execute_result"
    },
    {
     "data": {
      "image/png": "[encoded data removed]",
      "text/plain": [
       "<matplotlib.figure.Figure at 0x1c8dfae8080>"
      ]
     },
     "metadata": {},
     "output_type": "display_data"
    }
   ],
   "source": [
    "images.shape, plt.imshow(images[104])"
   ]
  },
  {
   "cell_type": "code",
   "execution_count": null,
   "metadata": {},
   "outputs": [],
   "source": []
  },
  {
   "cell_type": "code",
   "execution_count": 7,
   "metadata": {},
   "outputs": [],
   "source": [
    "#convert labels to np.array\n",
    "labels = np.array(labels)\n",
    "labels_val = np.array(labels_val)"
   ]
  },
  {
   "cell_type": "code",
   "execution_count": 8,
   "metadata": {},
   "outputs": [],
   "source": [
    "#convert datas to dummyvalues\n",
    "labelsd = pd.get_dummies(labels)"
   ]
  },
  {
   "cell_type": "code",
   "execution_count": 9,
   "metadata": {},
   "outputs": [
    {
     "data": {
      "text/plain": [
       "((794, 2),      0  1\n",
       " 0    1  0\n",
       " 1    1  0\n",
       " 2    1  0\n",
       " 3    1  0\n",
       " 4    1  0\n",
       " 5    1  0\n",
       " 6    1  0\n",
       " 7    1  0\n",
       " 8    1  0\n",
       " 9    1  0\n",
       " 10   1  0\n",
       " 11   1  0\n",
       " 12   1  0\n",
       " 13   1  0\n",
       " 14   1  0\n",
       " 15   1  0\n",
       " 16   1  0\n",
       " 17   1  0\n",
       " 18   1  0\n",
       " 19   1  0\n",
       " 20   1  0\n",
       " 21   1  0\n",
       " 22   1  0\n",
       " 23   1  0\n",
       " 24   1  0\n",
       " 25   1  0\n",
       " 26   1  0\n",
       " 27   1  0\n",
       " 28   1  0\n",
       " 29   1  0\n",
       " ..  .. ..\n",
       " 764  0  1\n",
       " 765  0  1\n",
       " 766  0  1\n",
       " 767  0  1\n",
       " 768  0  1\n",
       " 769  0  1\n",
       " 770  0  1\n",
       " 771  0  1\n",
       " 772  0  1\n",
       " 773  0  1\n",
       " 774  0  1\n",
       " 775  0  1\n",
       " 776  0  1\n",
       " 777  0  1\n",
       " 778  0  1\n",
       " 779  0  1\n",
       " 780  0  1\n",
       " 781  0  1\n",
       " 782  0  1\n",
       " 783  0  1\n",
       " 784  0  1\n",
       " 785  0  1\n",
       " 786  0  1\n",
       " 787  0  1\n",
       " 788  0  1\n",
       " 789  0  1\n",
       " 790  0  1\n",
       " 791  0  1\n",
       " 792  0  1\n",
       " 793  0  1\n",
       " \n",
       " [794 rows x 2 columns])"
      ]
     },
     "execution_count": 9,
     "metadata": {},
     "output_type": "execute_result"
    }
   ],
   "source": [
    "labelsd.shape, labelsd"
   ]
  },
  {
   "cell_type": "code",
   "execution_count": null,
   "metadata": {},
   "outputs": [],
   "source": []
  },
  {
   "cell_type": "code",
   "execution_count": 10,
   "metadata": {},
   "outputs": [],
   "source": [
    "#convert to np.array again\n",
    "labelsd = np.array(labelsd)"
   ]
  },
  {
   "cell_type": "code",
   "execution_count": null,
   "metadata": {},
   "outputs": [],
   "source": []
  },
  {
   "cell_type": "code",
   "execution_count": 11,
   "metadata": {},
   "outputs": [],
   "source": [
    "from keras.models import Model, Sequential\n",
    "from keras.layers import *\n",
    "import keras.backend as K\n",
    "import keras.optimizers as Optimizers"
   ]
  },
  {
   "cell_type": "code",
   "execution_count": 12,
   "metadata": {},
   "outputs": [],
   "source": [
    "#from keras.models import load_model\n",
    "#model = load_model('model-anticipation.h5')"
   ]
  },
  {
   "cell_type": "code",
   "execution_count": 13,
   "metadata": {
    "scrolled": true
   },
   "outputs": [],
   "source": [
    "K.clear_session()\n",
    "\n",
    "img_in = Input(shape=(18, 160, 3), name='img_in')\n",
    "\n",
    "x = img_in\n",
    "\n",
    "x = Convolution2D(8, (4,4), strides=(4,4), activation='relu')(x)\n",
    "x = Convolution2D(8, (4,4), strides=(4,4), activation='relu')(x)\n",
    "#x = Convolution2D(8, (4,4), strides=(4,4), activation='relu')(x)\n",
    "#x = Convolution2D(128, (3,3), strides=(4,4), activation='relu')(x)\n",
    "\n",
    "flat = Flatten()(x)\n",
    "\n",
    "x = Dense(20)(flat)\n",
    "x = Activation('relu')(x)\n",
    "\n",
    "#categorical output\n",
    "out = Dense(2, activation='softmax')(x)\n",
    "\n",
    "model = Model(inputs=[img_in], outputs=[out])\n",
    "model.compile(loss='categorical_crossentropy', optimizer='adam', metrics=['accuracy'])"
   ]
  },
  {
   "cell_type": "code",
   "execution_count": 14,
   "metadata": {
    "scrolled": true
   },
   "outputs": [
    {
     "name": "stdout",
     "output_type": "stream",
     "text": [
      "_________________________________________________________________\n",
      "Layer (type)                 Output Shape              Param #   \n",
      "=================================================================\n",
      "img_in (InputLayer)          (None, 18, 160, 3)        0         \n",
      "_________________________________________________________________\n",
      "conv2d_1 (Conv2D)            (None, 4, 40, 8)          392       \n",
      "_________________________________________________________________\n",
      "conv2d_2 (Conv2D)            (None, 1, 10, 8)          1032      \n",
      "_________________________________________________________________\n",
      "flatten_1 (Flatten)          (None, 80)                0         \n",
      "_________________________________________________________________\n",
      "dense_1 (Dense)              (None, 20)                1620      \n",
      "_________________________________________________________________\n",
      "activation_1 (Activation)    (None, 20)                0         \n",
      "_________________________________________________________________\n",
      "dense_2 (Dense)              (None, 2)                 42        \n",
      "=================================================================\n",
      "Total params: 3,086\n",
      "Trainable params: 3,086\n",
      "Non-trainable params: 0\n",
      "_________________________________________________________________\n"
     ]
    }
   ],
   "source": [
    "model.summary()"
   ]
  },
  {
   "cell_type": "code",
   "execution_count": 36,
   "metadata": {
    "scrolled": false
   },
   "outputs": [
    {
     "name": "stdout",
     "output_type": "stream",
     "text": [
      "Epoch 1/10\n",
      "794/794 [==============================] - 0s - loss: 0.0010 - acc: 1.0000         \n",
      "Epoch 2/10\n",
      "794/794 [==============================] - 0s - loss: 0.0011 - acc: 1.0000        \n",
      "Epoch 3/10\n",
      "794/794 [==============================] - 0s - loss: 9.8353e-04 - acc: 1.0000    \n",
      "Epoch 4/10\n",
      "794/794 [==============================] - 0s - loss: 9.9823e-04 - acc: 1.0000    \n",
      "Epoch 5/10\n",
      "794/794 [==============================] - 0s - loss: 0.0010 - acc: 1.0000         \n",
      "Epoch 6/10\n",
      "794/794 [==============================] - 0s - loss: 9.1101e-04 - acc: 1.0000     \n",
      "Epoch 7/10\n",
      "794/794 [==============================] - 0s - loss: 8.8268e-04 - acc: 1.0000     \n",
      "Epoch 8/10\n",
      "794/794 [==============================] - 0s - loss: 8.7884e-04 - acc: 1.0000     \n",
      "Epoch 9/10\n",
      "794/794 [==============================] - 0s - loss: 8.8658e-04 - acc: 1.0000     \n",
      "Epoch 10/10\n",
      "794/794 [==============================] - 0s - loss: 9.6777e-04 - acc: 1.0000     \n"
     ]
    }
   ],
   "source": [
    "h = model.fit(images, labelsd, batch_size=32, epochs=10, verbose=1)"
   ]
  },
  {
   "cell_type": "code",
   "execution_count": 37,
   "metadata": {},
   "outputs": [
    {
     "data": {
      "text/plain": [
       "<matplotlib.axes._subplots.AxesSubplot at 0x1c8f9f6be48>"
      ]
     },
     "execution_count": 37,
     "metadata": {},
     "output_type": "execute_result"
    },
    {
     "data": {
      "image/png": "[encoded data removed]",
      "text/plain": [
       "<matplotlib.figure.Figure at 0x1c8f9f746d8>"
      ]
     },
     "metadata": {},
     "output_type": "display_data"
    }
   ],
   "source": [
    "#print History graph\n",
    "historydf = pd.DataFrame(h.history, index=h.epoch)\n",
    "historydf.plot(ylim=(0,1))"
   ]
  },
  {
   "cell_type": "code",
   "execution_count": 38,
   "metadata": {},
   "outputs": [
    {
     "data": {
      "text/plain": [
       "(array([1, 0, 1, 0, 0, 0, 0, 0, 0, 0, 0, 1, 1, 1, 0, 0, 1, 0, 1, 0, 0, 0, 0,\n",
       "        1, 0, 0, 0, 0, 0, 0, 1, 0, 0, 0, 1, 0, 1, 0, 0, 0, 0, 0, 1, 0, 0, 1,\n",
       "        0, 0, 1, 1, 1, 1, 1, 1, 1, 1, 1, 1, 0, 1, 1, 1, 1, 0, 1, 0, 0, 1, 1,\n",
       "        0, 1, 1, 1, 1, 1, 1, 1, 1, 1, 0, 1, 1], dtype=int64),\n",
       " array([0, 0, 0, 0, 0, 0, 0, 0, 0, 0, 0, 0, 0, 0, 0, 0, 0, 0, 0, 0, 0, 0, 0,\n",
       "        0, 0, 0, 0, 0, 0, 0, 0, 0, 0, 0, 0, 0, 0, 0, 0, 0, 0, 0, 0, 0, 1, 1,\n",
       "        1, 1, 1, 1, 1, 1, 1, 1, 1, 1, 1, 1, 1, 1, 1, 1, 1, 1, 1, 1, 1, 1, 1,\n",
       "        1, 1, 1, 1, 1, 1, 1, 1, 1, 1, 1, 1, 1]))"
      ]
     },
     "execution_count": 38,
     "metadata": {},
     "output_type": "execute_result"
    }
   ],
   "source": [
    "# Get predictions\n",
    "all_preds = np.argmax(model.predict(images_val), axis=1)\n",
    "\n",
    "all_preds, labels_val"
   ]
  },
  {
   "cell_type": "code",
   "execution_count": 39,
   "metadata": {},
   "outputs": [
    {
     "data": {
      "text/plain": [
       "0.25609756097560976"
      ]
     },
     "execution_count": 39,
     "metadata": {},
     "output_type": "execute_result"
    }
   ],
   "source": [
    "import math\n",
    "i = 0\n",
    "res = 0\n",
    "for value in all_preds:\n",
    "    if value != labels_val[i]:\n",
    "        res = res + 1\n",
    "    i = i + 1\n",
    "res/i"
   ]
  },
  {
   "cell_type": "code",
   "execution_count": null,
   "metadata": {},
   "outputs": [],
   "source": []
  },
  {
   "cell_type": "code",
   "execution_count": null,
   "metadata": {},
   "outputs": [],
   "source": []
  },
  {
   "cell_type": "code",
   "execution_count": 40,
   "metadata": {},
   "outputs": [],
   "source": [
    "model.save('model-'+dataset+'-anticipation_clean.h5')"
   ]
  },
  {
   "cell_type": "code",
   "execution_count": null,
   "metadata": {},
   "outputs": [],
   "source": []
  },
  {
   "cell_type": "code",
   "execution_count": null,
   "metadata": {},
   "outputs": [],
   "source": []
  },
  {
   "cell_type": "code",
   "execution_count": null,
   "metadata": {},
   "outputs": [],
   "source": []
  },
  {
   "cell_type": "code",
   "execution_count": null,
   "metadata": {},
   "outputs": [],
   "source": []
  }
 ],
 "metadata": {
  "kernelspec": {
   "display_name": "Python 3",
   "language": "python",
   "name": "python3"
  },
  "language_info": {
   "codemirror_mode": {
    "name": "ipython",
    "version": 3
   },
   "file_extension": ".py",
   "mimetype": "text/x-python",
   "name": "python",
   "nbconvert_exporter": "python",
   "pygments_lexer": "ipython3",
   "version": "3.5.5"
  }
 },
 "nbformat": 4,
 "nbformat_minor": 2
}
