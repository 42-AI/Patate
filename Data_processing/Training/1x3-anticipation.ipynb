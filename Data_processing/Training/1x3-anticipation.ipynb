{
 "cells": [
  {
   "cell_type": "code",
   "execution_count": 1,
   "metadata": {},
   "outputs": [
    {
     "name": "stderr",
     "output_type": "stream",
     "text": [
      "Using TensorFlow backend.\n"
     ]
    }
   ],
   "source": [
    "from os import listdir\n",
    "from keras.preprocessing.image import load_img\n",
    "from keras.preprocessing.image import img_to_array\n",
    "from PIL import Image\n",
    "import numpy as np\n",
    "import pandas as pd\n",
    "%matplotlib inline\n",
    "import matplotlib.pyplot as plt"
   ]
  },
  {
   "cell_type": "code",
   "execution_count": 2,
   "metadata": {},
   "outputs": [],
   "source": [
    "def load_photos(directory):\n",
    "    images = []\n",
    "    labels = []\n",
    "    for name in listdir(directory):\n",
    "        filename = directory + '/' + name\n",
    "        # load an image from file\n",
    "        image = load_img(filename, target_size=(128, 160))\n",
    "        # convert the image pixels to a numpy array\n",
    "        image = img_to_array(image)\n",
    "        # get image id + labels\n",
    "        value = name.split('_')[0]\n",
    "        if value == '0':\n",
    "            value = 0\n",
    "        elif value == '1':\n",
    "            value = 1\n",
    "        labels.append(value)\n",
    "        images.append(image)\n",
    "    return images, labels"
   ]
  },
  {
   "cell_type": "code",
   "execution_count": 3,
   "metadata": {},
   "outputs": [
    {
     "name": "stdout",
     "output_type": "stream",
     "text": [
      "Loaded Images and labels for training: 611\n",
      "Loaded Images and labels for validation: 61\n"
     ]
    }
   ],
   "source": [
    "# load images from both train and test groups\n",
    "directory = '../data/BigDataset-anticipation/Train'\n",
    "images, labels = load_photos(directory)\n",
    "nb_images = len(images)\n",
    "print('Loaded Images and labels for training: %d' % nb_images)\n",
    "directory = '../data/BigDataset-anticipation/Val'\n",
    "images_val, labels_val = load_photos(directory)\n",
    "nb_images_val = len(images_val)\n",
    "print('Loaded Images and labels for validation: %d' % nb_images_val)"
   ]
  },
  {
   "cell_type": "code",
   "execution_count": 4,
   "metadata": {
    "scrolled": false
   },
   "outputs": [],
   "source": [
    "#normalise datas\n",
    "images = np.array(images)\n",
    "images = images[:, 40:58, :, :]\n",
    "images /= 255\n",
    "images_val = np.array(images_val)\n",
    "images_val = images_val[:, 40:58, :, :]\n",
    "images_val /= 255"
   ]
  },
  {
   "cell_type": "code",
   "execution_count": 5,
   "metadata": {},
   "outputs": [
    {
     "data": {
      "text/plain": [
       "((611, 18, 160, 3), <matplotlib.image.AxesImage at 0x1e3762ab278>)"
      ]
     },
     "execution_count": 5,
     "metadata": {},
     "output_type": "execute_result"
    },
    {
     "data": {
      "image/png": "[encoded data removed]",
      "text/plain": [
       "<matplotlib.figure.Figure at 0x1e3624847b8>"
      ]
     },
     "metadata": {},
     "output_type": "display_data"
    }
   ],
   "source": [
    "images.shape, plt.imshow(images[104])"
   ]
  },
  {
   "cell_type": "code",
   "execution_count": null,
   "metadata": {},
   "outputs": [],
   "source": []
  },
  {
   "cell_type": "code",
   "execution_count": 6,
   "metadata": {},
   "outputs": [],
   "source": [
    "#convert labels to np.array\n",
    "labels = np.array(labels)\n",
    "labels_val = np.array(labels_val)"
   ]
  },
  {
   "cell_type": "code",
   "execution_count": 7,
   "metadata": {},
   "outputs": [],
   "source": [
    "#convert datas to dummyvalues\n",
    "labelsd = pd.get_dummies(labels)"
   ]
  },
  {
   "cell_type": "code",
   "execution_count": 8,
   "metadata": {},
   "outputs": [
    {
     "data": {
      "text/plain": [
       "((611, 2),      0  1\n",
       " 0    1  0\n",
       " 1    1  0\n",
       " 2    1  0\n",
       " 3    1  0\n",
       " 4    1  0\n",
       " 5    1  0\n",
       " 6    1  0\n",
       " 7    1  0\n",
       " 8    1  0\n",
       " 9    1  0\n",
       " 10   1  0\n",
       " 11   1  0\n",
       " 12   1  0\n",
       " 13   1  0\n",
       " 14   1  0\n",
       " 15   1  0\n",
       " 16   1  0\n",
       " 17   1  0\n",
       " 18   1  0\n",
       " 19   1  0\n",
       " 20   1  0\n",
       " 21   1  0\n",
       " 22   1  0\n",
       " 23   1  0\n",
       " 24   1  0\n",
       " 25   1  0\n",
       " 26   1  0\n",
       " 27   1  0\n",
       " 28   1  0\n",
       " 29   1  0\n",
       " ..  .. ..\n",
       " 581  0  1\n",
       " 582  0  1\n",
       " 583  0  1\n",
       " 584  0  1\n",
       " 585  0  1\n",
       " 586  0  1\n",
       " 587  0  1\n",
       " 588  0  1\n",
       " 589  0  1\n",
       " 590  0  1\n",
       " 591  0  1\n",
       " 592  0  1\n",
       " 593  0  1\n",
       " 594  0  1\n",
       " 595  0  1\n",
       " 596  0  1\n",
       " 597  0  1\n",
       " 598  0  1\n",
       " 599  0  1\n",
       " 600  0  1\n",
       " 601  0  1\n",
       " 602  0  1\n",
       " 603  0  1\n",
       " 604  0  1\n",
       " 605  0  1\n",
       " 606  0  1\n",
       " 607  0  1\n",
       " 608  0  1\n",
       " 609  0  1\n",
       " 610  0  1\n",
       " \n",
       " [611 rows x 2 columns])"
      ]
     },
     "execution_count": 8,
     "metadata": {},
     "output_type": "execute_result"
    }
   ],
   "source": [
    "labelsd.shape, labelsd"
   ]
  },
  {
   "cell_type": "code",
   "execution_count": null,
   "metadata": {},
   "outputs": [],
   "source": []
  },
  {
   "cell_type": "code",
   "execution_count": 9,
   "metadata": {},
   "outputs": [],
   "source": [
    "#convert to np.array again\n",
    "labelsd = np.array(labelsd)"
   ]
  },
  {
   "cell_type": "code",
   "execution_count": null,
   "metadata": {},
   "outputs": [],
   "source": []
  },
  {
   "cell_type": "code",
   "execution_count": 10,
   "metadata": {},
   "outputs": [],
   "source": [
    "from keras.models import Model, Sequential\n",
    "from keras.layers import *\n",
    "import keras.backend as K\n",
    "import keras.optimizers as Optimizers"
   ]
  },
  {
   "cell_type": "code",
   "execution_count": 11,
   "metadata": {},
   "outputs": [],
   "source": [
    "#from keras.models import load_model\n",
    "#model = load_model('model-anticipation.h5')"
   ]
  },
  {
   "cell_type": "code",
   "execution_count": 12,
   "metadata": {
    "scrolled": true
   },
   "outputs": [],
   "source": [
    "K.clear_session()\n",
    "\n",
    "img_in = Input(shape=(18, 160, 3), name='img_in')\n",
    "\n",
    "x = img_in\n",
    "\n",
    "x = Conv2D(1, (3, 3), activation='relu', padding='same')(x)\n",
    "x = MaxPooling2D(pool_size=(2, 2), strides=(2,2))(x)\n",
    "\n",
    "x = Conv2D(2, (3, 3), activation='relu', padding='same')(x)\n",
    "x = MaxPooling2D(pool_size=(2, 2), strides=(2,2))(x)\n",
    "\n",
    "x = Conv2D(2, (3, 3), activation='relu', padding='same')(x)\n",
    "x = MaxPooling2D(pool_size=(2, 2), strides=(2,2))(x)\n",
    "\n",
    "x = Conv2D(4, (3, 3), activation='relu', padding='same')(x)\n",
    "x = MaxPooling2D(pool_size=(2, 2), strides=(2,2))(x)\n",
    "\n",
    "flat = Flatten()(x)\n",
    "\n",
    "x = Dense(20)(flat)\n",
    "x = Activation('relu')(x)\n",
    "\n",
    "#categorical output\n",
    "out = Dense(2, activation='softmax')(x)\n",
    "\n",
    "model = Model(inputs=[img_in], outputs=[out])\n",
    "model.compile(loss='categorical_crossentropy', optimizer='adam', metrics=['accuracy'])"
   ]
  },
  {
   "cell_type": "code",
   "execution_count": 13,
   "metadata": {
    "scrolled": true
   },
   "outputs": [
    {
     "name": "stdout",
     "output_type": "stream",
     "text": [
      "_________________________________________________________________\n",
      "Layer (type)                 Output Shape              Param #   \n",
      "=================================================================\n",
      "img_in (InputLayer)          (None, 18, 160, 3)        0         \n",
      "_________________________________________________________________\n",
      "conv2d_1 (Conv2D)            (None, 18, 160, 1)        28        \n",
      "_________________________________________________________________\n",
      "max_pooling2d_1 (MaxPooling2 (None, 9, 80, 1)          0         \n",
      "_________________________________________________________________\n",
      "conv2d_2 (Conv2D)            (None, 9, 80, 2)          20        \n",
      "_________________________________________________________________\n",
      "max_pooling2d_2 (MaxPooling2 (None, 4, 40, 2)          0         \n",
      "_________________________________________________________________\n",
      "conv2d_3 (Conv2D)            (None, 4, 40, 2)          38        \n",
      "_________________________________________________________________\n",
      "max_pooling2d_3 (MaxPooling2 (None, 2, 20, 2)          0         \n",
      "_________________________________________________________________\n",
      "conv2d_4 (Conv2D)            (None, 2, 20, 4)          76        \n",
      "_________________________________________________________________\n",
      "max_pooling2d_4 (MaxPooling2 (None, 1, 10, 4)          0         \n",
      "_________________________________________________________________\n",
      "flatten_1 (Flatten)          (None, 40)                0         \n",
      "_________________________________________________________________\n",
      "dense_1 (Dense)              (None, 20)                820       \n",
      "_________________________________________________________________\n",
      "activation_1 (Activation)    (None, 20)                0         \n",
      "_________________________________________________________________\n",
      "dense_2 (Dense)              (None, 2)                 42        \n",
      "=================================================================\n",
      "Total params: 1,024\n",
      "Trainable params: 1,024\n",
      "Non-trainable params: 0\n",
      "_________________________________________________________________\n"
     ]
    }
   ],
   "source": [
    "model.summary()"
   ]
  },
  {
   "cell_type": "code",
   "execution_count": 23,
   "metadata": {
    "scrolled": false
   },
   "outputs": [
    {
     "name": "stdout",
     "output_type": "stream",
     "text": [
      "Epoch 1/30\n",
      "611/611 [==============================] - 0s - loss: 0.0574 - acc: 0.9902     \n",
      "Epoch 2/30\n",
      "611/611 [==============================] - 0s - loss: 0.0562 - acc: 0.9885     \n",
      "Epoch 3/30\n",
      "611/611 [==============================] - 0s - loss: 0.0545 - acc: 0.9902     \n",
      "Epoch 4/30\n",
      "611/611 [==============================] - 0s - loss: 0.0594 - acc: 0.9885     \n",
      "Epoch 5/30\n",
      "611/611 [==============================] - 0s - loss: 0.0534 - acc: 0.9853     \n",
      "Epoch 6/30\n",
      "611/611 [==============================] - 0s - loss: 0.0502 - acc: 0.9869     \n",
      "Epoch 7/30\n",
      "611/611 [==============================] - 0s - loss: 0.0490 - acc: 0.9869     \n",
      "Epoch 8/30\n",
      "611/611 [==============================] - 0s - loss: 0.0480 - acc: 0.9902     \n",
      "Epoch 9/30\n",
      "611/611 [==============================] - 0s - loss: 0.0470 - acc: 0.9902     \n",
      "Epoch 10/30\n",
      "611/611 [==============================] - 0s - loss: 0.0495 - acc: 0.9869     \n",
      "Epoch 11/30\n",
      "611/611 [==============================] - 0s - loss: 0.0473 - acc: 0.9869     \n",
      "Epoch 12/30\n",
      "611/611 [==============================] - 0s - loss: 0.0453 - acc: 0.9885     \n",
      "Epoch 13/30\n",
      "611/611 [==============================] - 0s - loss: 0.0504 - acc: 0.9869     \n",
      "Epoch 14/30\n",
      "611/611 [==============================] - 0s - loss: 0.0536 - acc: 0.9869     \n",
      "Epoch 15/30\n",
      "611/611 [==============================] - 0s - loss: 0.0471 - acc: 0.9836     \n",
      "Epoch 16/30\n",
      "611/611 [==============================] - 0s - loss: 0.0407 - acc: 0.9918     \n",
      "Epoch 17/30\n",
      "611/611 [==============================] - 0s - loss: 0.0482 - acc: 0.9869     \n",
      "Epoch 18/30\n",
      "611/611 [==============================] - 0s - loss: 0.0451 - acc: 0.9869     \n",
      "Epoch 19/30\n",
      "611/611 [==============================] - 0s - loss: 0.0412 - acc: 0.9902     \n",
      "Epoch 20/30\n",
      "611/611 [==============================] - 0s - loss: 0.0394 - acc: 0.9902     \n",
      "Epoch 21/30\n",
      "611/611 [==============================] - 0s - loss: 0.0699 - acc: 0.9705     \n",
      "Epoch 22/30\n",
      "611/611 [==============================] - 0s - loss: 0.0394 - acc: 0.9869     \n",
      "Epoch 23/30\n",
      "611/611 [==============================] - 0s - loss: 0.0341 - acc: 0.9885     \n",
      "Epoch 24/30\n",
      "611/611 [==============================] - 0s - loss: 0.0321 - acc: 0.9918     \n",
      "Epoch 25/30\n",
      "611/611 [==============================] - 0s - loss: 0.0320 - acc: 0.9918     \n",
      "Epoch 26/30\n",
      "611/611 [==============================] - 0s - loss: 0.0300 - acc: 0.9918     \n",
      "Epoch 27/30\n",
      "611/611 [==============================] - 0s - loss: 0.0278 - acc: 0.9935     \n",
      "Epoch 28/30\n",
      "611/611 [==============================] - 0s - loss: 0.0305 - acc: 0.9902     \n",
      "Epoch 29/30\n",
      "611/611 [==============================] - 0s - loss: 0.0275 - acc: 0.9935     \n",
      "Epoch 30/30\n",
      "611/611 [==============================] - 0s - loss: 0.0359 - acc: 0.9902     \n"
     ]
    }
   ],
   "source": [
    "h = model.fit(images, labelsd, batch_size=32, epochs=30, verbose=1)"
   ]
  },
  {
   "cell_type": "code",
   "execution_count": 24,
   "metadata": {},
   "outputs": [
    {
     "data": {
      "text/plain": [
       "<matplotlib.axes._subplots.AxesSubplot at 0x1e376c50240>"
      ]
     },
     "execution_count": 24,
     "metadata": {},
     "output_type": "execute_result"
    },
    {
     "data": {
      "image/png": "[encoded data removed]",
      "text/plain": [
       "<matplotlib.figure.Figure at 0x1e376c0a438>"
      ]
     },
     "metadata": {},
     "output_type": "display_data"
    }
   ],
   "source": [
    "#print History graph\n",
    "historydf = pd.DataFrame(h.history, index=h.epoch)\n",
    "historydf.plot(ylim=(0,1))"
   ]
  },
  {
   "cell_type": "code",
   "execution_count": 25,
   "metadata": {},
   "outputs": [
    {
     "data": {
      "text/plain": [
       "(array([0, 0, 0, 1, 1, 0, 1, 1, 0, 1, 0, 1, 0, 0, 0, 0, 0, 1, 1, 0, 0, 1, 1,\n",
       "        0, 0, 0, 0, 1, 0, 1, 1, 1, 1, 1, 1, 0, 1, 1, 1, 1, 1, 1, 1, 1, 0, 1,\n",
       "        1, 1, 1, 0, 1, 1, 0, 1, 1, 1, 1, 1, 1, 1, 1], dtype=int64),\n",
       " array([0, 0, 0, 0, 0, 0, 0, 0, 0, 0, 0, 0, 0, 0, 0, 0, 0, 0, 0, 0, 0, 0, 0,\n",
       "        0, 0, 0, 0, 1, 1, 1, 1, 1, 1, 1, 1, 1, 1, 1, 1, 1, 1, 1, 1, 1, 1, 1,\n",
       "        1, 1, 1, 1, 1, 1, 1, 1, 1, 1, 1, 1, 1, 1, 1]))"
      ]
     },
     "execution_count": 25,
     "metadata": {},
     "output_type": "execute_result"
    }
   ],
   "source": [
    "# Get predictions\n",
    "all_preds = np.argmax(model.predict(images_val), axis=1)\n",
    "\n",
    "all_preds, labels_val"
   ]
  },
  {
   "cell_type": "code",
   "execution_count": 26,
   "metadata": {},
   "outputs": [
    {
     "data": {
      "text/plain": [
       "0.2459016393442623"
      ]
     },
     "execution_count": 26,
     "metadata": {},
     "output_type": "execute_result"
    }
   ],
   "source": [
    "import math\n",
    "i = 0\n",
    "res = 0\n",
    "for value in all_preds:\n",
    "    if value != labels_val[i]:\n",
    "        res = res + 1\n",
    "    i = i + 1\n",
    "res/i"
   ]
  },
  {
   "cell_type": "code",
   "execution_count": null,
   "metadata": {},
   "outputs": [],
   "source": []
  },
  {
   "cell_type": "code",
   "execution_count": null,
   "metadata": {},
   "outputs": [],
   "source": []
  },
  {
   "cell_type": "code",
   "execution_count": 27,
   "metadata": {},
   "outputs": [],
   "source": [
    "model.save('model-BigDataset-anticipation.h5')"
   ]
  },
  {
   "cell_type": "code",
   "execution_count": null,
   "metadata": {},
   "outputs": [],
   "source": []
  },
  {
   "cell_type": "code",
   "execution_count": null,
   "metadata": {},
   "outputs": [],
   "source": []
  },
  {
   "cell_type": "code",
   "execution_count": null,
   "metadata": {},
   "outputs": [],
   "source": []
  },
  {
   "cell_type": "code",
   "execution_count": null,
   "metadata": {},
   "outputs": [],
   "source": []
  }
 ],
 "metadata": {
  "kernelspec": {
   "display_name": "Python 3",
   "language": "python",
   "name": "python3"
  },
  "language_info": {
   "codemirror_mode": {
    "name": "ipython",
    "version": 3
   },
   "file_extension": ".py",
   "mimetype": "text/x-python",
   "name": "python",
   "nbconvert_exporter": "python",
   "pygments_lexer": "ipython3",
   "version": "3.5.4"
  }
 },
 "nbformat": 4,
 "nbformat_minor": 2
}
