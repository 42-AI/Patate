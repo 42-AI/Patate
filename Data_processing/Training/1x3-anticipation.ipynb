{
 "cells": [
  {
   "cell_type": "code",
   "execution_count": 1,
   "metadata": {},
   "outputs": [
    {
     "name": "stderr",
     "output_type": "stream",
     "text": [
      "Using TensorFlow backend.\n"
     ]
    }
   ],
   "source": [
    "from os import listdir\n",
    "from keras.preprocessing.image import load_img\n",
    "from keras.preprocessing.image import img_to_array\n",
    "from PIL import Image\n",
    "import numpy as np\n",
    "import pandas as pd\n",
    "%matplotlib inline\n",
    "import matplotlib.pyplot as plt\n",
    "from skimage.transform import resize"
   ]
  },
  {
   "cell_type": "code",
   "execution_count": 91,
   "metadata": {},
   "outputs": [],
   "source": [
    "def load_photos(directory):\n",
    "    images = []\n",
    "    labels = []\n",
    "    for name in listdir(directory):\n",
    "        filename = directory + '/' + name\n",
    "        # load an image from file\n",
    "        image = load_img(filename, target_size=(128, 160))\n",
    "        # convert the image pixels to a numpy array\n",
    "        image = img_to_array(image)\n",
    "        # get image id + labels\n",
    "        value = name.split('_')[0]\n",
    "        if value == 'F':\n",
    "            value = 0\n",
    "        elif value == 'C':\n",
    "            value = 1\n",
    "        labels.append(value)\n",
    "        images.append(image)\n",
    "    return images, labels"
   ]
  },
  {
   "cell_type": "code",
   "execution_count": 148,
   "metadata": {},
   "outputs": [
    {
     "name": "stdout",
     "output_type": "stream",
     "text": [
      "Loaded Images and labels for training: 323\n",
      "Loaded Images and labels for validation: 34\n"
     ]
    }
   ],
   "source": [
    "# load images from both train and test groups\n",
    "directory = '../data/Dataset-anticipation/Train'\n",
    "images, labels = load_photos(directory)\n",
    "nb_images = len(images)\n",
    "print('Loaded Images and labels for training: %d' % nb_images)\n",
    "directory = '../data/Dataset-anticipation/Val'\n",
    "images_val, labels_val = load_photos(directory)\n",
    "nb_images_val = len(images_val)\n",
    "print('Loaded Images and labels for validation: %d' % nb_images_val)"
   ]
  },
  {
   "cell_type": "code",
   "execution_count": 149,
   "metadata": {
    "scrolled": false
   },
   "outputs": [],
   "source": [
    "#normalise datas\n",
    "images = np.array(images)\n",
    "images = images[:, 40:58, :, :]\n",
    "images /= 255\n",
    "images_val = np.array(images_val)\n",
    "images_val = images_val[:, 40:58, :, :]\n",
    "images_val /= 255"
   ]
  },
  {
   "cell_type": "code",
   "execution_count": 150,
   "metadata": {},
   "outputs": [
    {
     "data": {
      "text/plain": [
       "((323, 18, 160, 3), <matplotlib.image.AxesImage at 0x1d4b1beaa90>)"
      ]
     },
     "execution_count": 150,
     "metadata": {},
     "output_type": "execute_result"
    },
    {
     "data": {
      "image/png": "[encoded data removed]",
      "text/plain": [
       "<matplotlib.figure.Figure at 0x1d4b08827f0>"
      ]
     },
     "metadata": {},
     "output_type": "display_data"
    }
   ],
   "source": [
    "images.shape, plt.imshow(images[56])"
   ]
  },
  {
   "cell_type": "code",
   "execution_count": null,
   "metadata": {},
   "outputs": [],
   "source": []
  },
  {
   "cell_type": "code",
   "execution_count": 151,
   "metadata": {},
   "outputs": [],
   "source": [
    "#convert labels to np.array\n",
    "labels = np.array(labels)\n",
    "labels_val = np.array(labels_val)"
   ]
  },
  {
   "cell_type": "code",
   "execution_count": 152,
   "metadata": {},
   "outputs": [],
   "source": [
    "#convert datas to dummyvalues\n",
    "labelsd = pd.get_dummies(labels)"
   ]
  },
  {
   "cell_type": "code",
   "execution_count": 153,
   "metadata": {},
   "outputs": [
    {
     "data": {
      "text/plain": [
       "((323, 2),      0  1\n",
       " 0    0  1\n",
       " 1    0  1\n",
       " 2    0  1\n",
       " 3    0  1\n",
       " 4    0  1\n",
       " 5    0  1\n",
       " 6    0  1\n",
       " 7    0  1\n",
       " 8    0  1\n",
       " 9    0  1\n",
       " 10   0  1\n",
       " 11   0  1\n",
       " 12   0  1\n",
       " 13   0  1\n",
       " 14   0  1\n",
       " 15   0  1\n",
       " 16   0  1\n",
       " 17   0  1\n",
       " 18   0  1\n",
       " 19   0  1\n",
       " 20   0  1\n",
       " 21   0  1\n",
       " 22   0  1\n",
       " 23   0  1\n",
       " 24   0  1\n",
       " 25   0  1\n",
       " 26   0  1\n",
       " 27   0  1\n",
       " 28   0  1\n",
       " 29   0  1\n",
       " ..  .. ..\n",
       " 293  1  0\n",
       " 294  1  0\n",
       " 295  1  0\n",
       " 296  1  0\n",
       " 297  1  0\n",
       " 298  1  0\n",
       " 299  1  0\n",
       " 300  1  0\n",
       " 301  1  0\n",
       " 302  1  0\n",
       " 303  1  0\n",
       " 304  1  0\n",
       " 305  1  0\n",
       " 306  1  0\n",
       " 307  1  0\n",
       " 308  1  0\n",
       " 309  1  0\n",
       " 310  1  0\n",
       " 311  1  0\n",
       " 312  1  0\n",
       " 313  1  0\n",
       " 314  1  0\n",
       " 315  1  0\n",
       " 316  1  0\n",
       " 317  1  0\n",
       " 318  1  0\n",
       " 319  1  0\n",
       " 320  1  0\n",
       " 321  1  0\n",
       " 322  1  0\n",
       " \n",
       " [323 rows x 2 columns])"
      ]
     },
     "execution_count": 153,
     "metadata": {},
     "output_type": "execute_result"
    }
   ],
   "source": [
    "labelsd.shape, labelsd"
   ]
  },
  {
   "cell_type": "code",
   "execution_count": null,
   "metadata": {},
   "outputs": [],
   "source": []
  },
  {
   "cell_type": "code",
   "execution_count": 158,
   "metadata": {},
   "outputs": [],
   "source": [
    "#convert to np.array again\n",
    "labelsd = np.array(labelsd)"
   ]
  },
  {
   "cell_type": "code",
   "execution_count": null,
   "metadata": {},
   "outputs": [],
   "source": []
  },
  {
   "cell_type": "code",
   "execution_count": 159,
   "metadata": {},
   "outputs": [],
   "source": [
    "from keras.models import Model, Sequential\n",
    "from keras.layers import *\n",
    "import keras.backend as K\n",
    "import keras.optimizers as Optimizers"
   ]
  },
  {
   "cell_type": "code",
   "execution_count": 160,
   "metadata": {
    "scrolled": true
   },
   "outputs": [],
   "source": [
    "K.clear_session()\n",
    "\n",
    "img_in = Input(shape=(18, 160, 3), name='img_in')\n",
    "\n",
    "x = img_in\n",
    "\n",
    "x = Conv2D(1, (3, 3), activation='relu', padding='same')(x)\n",
    "x = MaxPooling2D(pool_size=(2, 2), strides=(2,2))(x)\n",
    "\n",
    "x = Conv2D(2, (3, 3), activation='relu', padding='same')(x)\n",
    "x = MaxPooling2D(pool_size=(2, 2), strides=(2,2))(x)\n",
    "\n",
    "x = Conv2D(2, (3, 3), activation='relu', padding='same')(x)\n",
    "x = MaxPooling2D(pool_size=(2, 2), strides=(2,2))(x)\n",
    "\n",
    "x = Conv2D(4, (3, 3), activation='relu', padding='same')(x)\n",
    "x = MaxPooling2D(pool_size=(2, 2), strides=(2,2))(x)\n",
    "\n",
    "flat = Flatten()(x)\n",
    "\n",
    "x = Dense(20)(flat)\n",
    "x = Activation('relu')(x)\n",
    "\n",
    "#categorical output\n",
    "out = Dense(2, activation='softmax')(x)\n",
    "\n",
    "model = Model(inputs=[img_in], outputs=[out])\n",
    "model.compile(loss='categorical_crossentropy', optimizer='adam', metrics=['accuracy'])"
   ]
  },
  {
   "cell_type": "code",
   "execution_count": 161,
   "metadata": {
    "scrolled": true
   },
   "outputs": [
    {
     "name": "stdout",
     "output_type": "stream",
     "text": [
      "_________________________________________________________________\n",
      "Layer (type)                 Output Shape              Param #   \n",
      "=================================================================\n",
      "img_in (InputLayer)          (None, 18, 160, 3)        0         \n",
      "_________________________________________________________________\n",
      "conv2d_1 (Conv2D)            (None, 18, 160, 1)        28        \n",
      "_________________________________________________________________\n",
      "max_pooling2d_1 (MaxPooling2 (None, 9, 80, 1)          0         \n",
      "_________________________________________________________________\n",
      "conv2d_2 (Conv2D)            (None, 9, 80, 2)          20        \n",
      "_________________________________________________________________\n",
      "max_pooling2d_2 (MaxPooling2 (None, 4, 40, 2)          0         \n",
      "_________________________________________________________________\n",
      "conv2d_3 (Conv2D)            (None, 4, 40, 2)          38        \n",
      "_________________________________________________________________\n",
      "max_pooling2d_3 (MaxPooling2 (None, 2, 20, 2)          0         \n",
      "_________________________________________________________________\n",
      "conv2d_4 (Conv2D)            (None, 2, 20, 4)          76        \n",
      "_________________________________________________________________\n",
      "max_pooling2d_4 (MaxPooling2 (None, 1, 10, 4)          0         \n",
      "_________________________________________________________________\n",
      "flatten_1 (Flatten)          (None, 40)                0         \n",
      "_________________________________________________________________\n",
      "dense_1 (Dense)              (None, 20)                820       \n",
      "_________________________________________________________________\n",
      "activation_1 (Activation)    (None, 20)                0         \n",
      "_________________________________________________________________\n",
      "dense_2 (Dense)              (None, 2)                 42        \n",
      "=================================================================\n",
      "Total params: 1,024\n",
      "Trainable params: 1,024\n",
      "Non-trainable params: 0\n",
      "_________________________________________________________________\n"
     ]
    }
   ],
   "source": [
    "model.summary()"
   ]
  },
  {
   "cell_type": "code",
   "execution_count": 163,
   "metadata": {
    "scrolled": false
   },
   "outputs": [
    {
     "name": "stdout",
     "output_type": "stream",
     "text": [
      "Epoch 1/20\n",
      "323/323 [==============================] - 1s - loss: 0.0544 - acc: 0.9814     \n",
      "Epoch 2/20\n",
      "323/323 [==============================] - 1s - loss: 0.0459 - acc: 0.9876     \n",
      "Epoch 3/20\n",
      "323/323 [==============================] - 1s - loss: 0.0592 - acc: 0.9721     \n",
      "Epoch 4/20\n",
      "323/323 [==============================] - 1s - loss: 0.0430 - acc: 0.9876     \n",
      "Epoch 5/20\n",
      "323/323 [==============================] - 1s - loss: 0.0256 - acc: 0.9938     \n",
      "Epoch 6/20\n",
      "323/323 [==============================] - 1s - loss: 0.0168 - acc: 0.9969     \n",
      "Epoch 7/20\n",
      "323/323 [==============================] - 1s - loss: 0.1056 - acc: 0.9628     \n",
      "Epoch 8/20\n",
      "323/323 [==============================] - 1s - loss: 0.0344 - acc: 0.9876     \n",
      "Epoch 9/20\n",
      "323/323 [==============================] - 1s - loss: 0.0412 - acc: 0.9845     \n",
      "Epoch 10/20\n",
      "323/323 [==============================] - 1s - loss: 0.0380 - acc: 0.9907     \n",
      "Epoch 11/20\n",
      "323/323 [==============================] - 1s - loss: 0.0135 - acc: 1.0000     \n",
      "Epoch 12/20\n",
      "323/323 [==============================] - 1s - loss: 0.0096 - acc: 1.0000     \n",
      "Epoch 13/20\n",
      "323/323 [==============================] - 1s - loss: 0.0104 - acc: 1.0000     \n",
      "Epoch 14/20\n",
      "323/323 [==============================] - 1s - loss: 0.0071 - acc: 1.0000     \n",
      "Epoch 15/20\n",
      "323/323 [==============================] - 1s - loss: 0.0044 - acc: 1.0000     \n",
      "Epoch 16/20\n",
      "323/323 [==============================] - 1s - loss: 0.0037 - acc: 1.0000     \n",
      "Epoch 17/20\n",
      "323/323 [==============================] - 1s - loss: 0.0719 - acc: 0.9752     \n",
      "Epoch 18/20\n",
      "323/323 [==============================] - 1s - loss: 0.1021 - acc: 0.9659     \n",
      "Epoch 19/20\n",
      "323/323 [==============================] - 1s - loss: 0.0615 - acc: 0.9752     \n",
      "Epoch 20/20\n",
      "323/323 [==============================] - 1s - loss: 0.0087 - acc: 1.0000     \n"
     ]
    }
   ],
   "source": [
    "h = model.fit(images, labelsd, batch_size=1, epochs=20, verbose=1)"
   ]
  },
  {
   "cell_type": "code",
   "execution_count": 164,
   "metadata": {},
   "outputs": [
    {
     "data": {
      "text/plain": [
       "<matplotlib.axes._subplots.AxesSubplot at 0x1d4aed73588>"
      ]
     },
     "execution_count": 164,
     "metadata": {},
     "output_type": "execute_result"
    },
    {
     "data": {
      "image/png": "[encoded data removed]",
      "text/plain": [
       "<matplotlib.figure.Figure at 0x1d4aed73668>"
      ]
     },
     "metadata": {},
     "output_type": "display_data"
    }
   ],
   "source": [
    "#print History graph\n",
    "historydf = pd.DataFrame(h.history, index=h.epoch)\n",
    "historydf.plot(ylim=(0,1))"
   ]
  },
  {
   "cell_type": "code",
   "execution_count": 168,
   "metadata": {},
   "outputs": [
    {
     "data": {
      "text/plain": [
       "(array([1, 1, 1, 0, 1, 1, 1, 1, 1, 0, 1, 0, 1, 0, 0, 0, 0, 0, 0, 1, 0, 0, 1,\n",
       "        1, 0, 0, 0, 0, 0, 0, 0, 0, 0, 1], dtype=int64),\n",
       " array([1, 1, 1, 1, 1, 1, 1, 1, 1, 1, 1, 0, 0, 0, 0, 0, 0, 0, 0, 0, 0, 0, 0,\n",
       "        0, 0, 0, 0, 0, 0, 0, 0, 0, 0, 0]))"
      ]
     },
     "execution_count": 168,
     "metadata": {},
     "output_type": "execute_result"
    }
   ],
   "source": [
    "# Get predictions\n",
    "all_preds = np.argmax(model.predict(images_val), axis=1)\n",
    "\n",
    "all_preds, labels_val"
   ]
  },
  {
   "cell_type": "code",
   "execution_count": 169,
   "metadata": {},
   "outputs": [
    {
     "data": {
      "text/plain": [
       "0.3235294117647059"
      ]
     },
     "execution_count": 169,
     "metadata": {},
     "output_type": "execute_result"
    }
   ],
   "source": [
    "import math\n",
    "i = 0\n",
    "res = 0\n",
    "for value in idx:\n",
    "    if value != labels_val[i]:\n",
    "        res = res + 1\n",
    "    i = i + 1\n",
    "res/i"
   ]
  },
  {
   "cell_type": "code",
   "execution_count": null,
   "metadata": {},
   "outputs": [],
   "source": []
  },
  {
   "cell_type": "code",
   "execution_count": null,
   "metadata": {},
   "outputs": [],
   "source": []
  },
  {
   "cell_type": "code",
   "execution_count": 84,
   "metadata": {},
   "outputs": [],
   "source": [
    "model.save('model-anticipation.h5')"
   ]
  },
  {
   "cell_type": "code",
   "execution_count": 3,
   "metadata": {},
   "outputs": [],
   "source": []
  },
  {
   "cell_type": "code",
   "execution_count": null,
   "metadata": {},
   "outputs": [],
   "source": []
  },
  {
   "cell_type": "code",
   "execution_count": null,
   "metadata": {},
   "outputs": [],
   "source": [
    "from keras.models import load_model\n",
    "model = load_model('test_model.h5')"
   ]
  }
 ],
 "metadata": {
  "kernelspec": {
   "display_name": "Python 3",
   "language": "python",
   "name": "python3"
  },
  "language_info": {
   "codemirror_mode": {
    "name": "ipython",
    "version": 3
   },
   "file_extension": ".py",
   "mimetype": "text/x-python",
   "name": "python",
   "nbconvert_exporter": "python",
   "pygments_lexer": "ipython3",
   "version": "3.5.4"
  }
 },
 "nbformat": 4,
 "nbformat_minor": 2
}
