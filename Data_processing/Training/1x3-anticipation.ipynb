{
 "cells": [
  {
   "cell_type": "code",
   "execution_count": 1,
   "metadata": {},
   "outputs": [
    {
     "name": "stderr",
     "output_type": "stream",
     "text": [
      "C:\\Users\\Rock_\\Anaconda3\\lib\\site-packages\\h5py\\__init__.py:36: FutureWarning: Conversion of the second argument of issubdtype from `float` to `np.floating` is deprecated. In future, it will be treated as `np.float64 == np.dtype(float).type`.\n",
      "  from ._conv import register_converters as _register_converters\n",
      "Using TensorFlow backend.\n"
     ]
    }
   ],
   "source": [
    "from os import listdir\n",
    "from keras.preprocessing.image import load_img\n",
    "from keras.preprocessing.image import img_to_array\n",
    "from PIL import Image\n",
    "import numpy as np\n",
    "import pandas as pd\n",
    "%matplotlib inline\n",
    "import matplotlib.pyplot as plt"
   ]
  },
  {
   "cell_type": "code",
   "execution_count": 2,
   "metadata": {},
   "outputs": [],
   "source": [
    "def load_photos(directory):\n",
    "    images = []\n",
    "    labels = []\n",
    "    for name in listdir(directory):\n",
    "        filename = directory + '/' + name\n",
    "        # load an image from file\n",
    "        image = load_img(filename, target_size=(128, 160))\n",
    "        # convert the image pixels to a numpy array\n",
    "        image = img_to_array(image)\n",
    "        # get image id + labels\n",
    "        value = name.split('_')[0]\n",
    "        if value == '0':\n",
    "            value = 0\n",
    "        elif value == '1':\n",
    "            value = 1\n",
    "        labels.append(value)\n",
    "        images.append(image)\n",
    "    return images, labels"
   ]
  },
  {
   "cell_type": "code",
   "execution_count": 24,
   "metadata": {},
   "outputs": [],
   "source": [
    "#dataset = 'Dataset_cleaned'\n",
    "#dataset = 'RichDataset'\n",
    "dataset = 'BigDataset'"
   ]
  },
  {
   "cell_type": "code",
   "execution_count": 25,
   "metadata": {},
   "outputs": [
    {
     "name": "stdout",
     "output_type": "stream",
     "text": [
      "Loaded Images and labels for training: 794\n",
      "Loaded Images and labels for validation: 82\n"
     ]
    }
   ],
   "source": [
    "# load images from both train and test groups\n",
    "directory = '../../../Patate_data/data/'+dataset+'-anticipation/Train'\n",
    "images, labels = load_photos(directory)\n",
    "nb_images = len(images)\n",
    "print('Loaded Images and labels for training: %d' % nb_images)\n",
    "directory = '../../../Patate_data/data/'+dataset+'-anticipation/Val'\n",
    "images_val, labels_val = load_photos(directory)\n",
    "nb_images_val = len(images_val)\n",
    "print('Loaded Images and labels for validation: %d' % nb_images_val)"
   ]
  },
  {
   "cell_type": "code",
   "execution_count": 26,
   "metadata": {
    "scrolled": false
   },
   "outputs": [],
   "source": [
    "#normalise datas\n",
    "images = np.array(images)\n",
    "images = images[:, 40:58, :, :]\n",
    "images /= 255\n",
    "images_val = np.array(images_val)\n",
    "images_val = images_val[:, 40:58, :, :]\n",
    "images_val /= 255"
   ]
  },
  {
   "cell_type": "code",
   "execution_count": 27,
   "metadata": {},
   "outputs": [
    {
     "data": {
      "text/plain": [
       "((794, 18, 160, 3), <matplotlib.image.AxesImage at 0x23bc0db30f0>)"
      ]
     },
     "execution_count": 27,
     "metadata": {},
     "output_type": "execute_result"
    },
    {
     "data": {
      "image/png": "[encoded data removed]",
      "text/plain": [
       "<Figure size 432x288 with 1 Axes>"
      ]
     },
     "metadata": {},
     "output_type": "display_data"
    }
   ],
   "source": [
    "images.shape, plt.imshow(images[104])"
   ]
  },
  {
   "cell_type": "code",
   "execution_count": null,
   "metadata": {},
   "outputs": [],
   "source": []
  },
  {
   "cell_type": "code",
   "execution_count": 28,
   "metadata": {},
   "outputs": [],
   "source": [
    "#convert labels to np.array\n",
    "labels = np.array(labels)\n",
    "labels_val = np.array(labels_val)"
   ]
  },
  {
   "cell_type": "code",
   "execution_count": 29,
   "metadata": {},
   "outputs": [],
   "source": [
    "#convert datas to dummyvalues\n",
    "labelsd = pd.get_dummies(labels)"
   ]
  },
  {
   "cell_type": "code",
   "execution_count": 30,
   "metadata": {},
   "outputs": [
    {
     "data": {
      "text/plain": [
       "((794, 2),      0  1\n",
       " 0    1  0\n",
       " 1    1  0\n",
       " 2    1  0\n",
       " 3    1  0\n",
       " 4    1  0\n",
       " 5    1  0\n",
       " 6    1  0\n",
       " 7    1  0\n",
       " 8    1  0\n",
       " 9    1  0\n",
       " 10   1  0\n",
       " 11   1  0\n",
       " 12   1  0\n",
       " 13   1  0\n",
       " 14   1  0\n",
       " 15   1  0\n",
       " 16   1  0\n",
       " 17   1  0\n",
       " 18   1  0\n",
       " 19   1  0\n",
       " 20   1  0\n",
       " 21   1  0\n",
       " 22   1  0\n",
       " 23   1  0\n",
       " 24   1  0\n",
       " 25   1  0\n",
       " 26   1  0\n",
       " 27   1  0\n",
       " 28   1  0\n",
       " 29   1  0\n",
       " ..  .. ..\n",
       " 764  0  1\n",
       " 765  0  1\n",
       " 766  0  1\n",
       " 767  0  1\n",
       " 768  0  1\n",
       " 769  0  1\n",
       " 770  0  1\n",
       " 771  0  1\n",
       " 772  0  1\n",
       " 773  0  1\n",
       " 774  0  1\n",
       " 775  0  1\n",
       " 776  0  1\n",
       " 777  0  1\n",
       " 778  0  1\n",
       " 779  0  1\n",
       " 780  0  1\n",
       " 781  0  1\n",
       " 782  0  1\n",
       " 783  0  1\n",
       " 784  0  1\n",
       " 785  0  1\n",
       " 786  0  1\n",
       " 787  0  1\n",
       " 788  0  1\n",
       " 789  0  1\n",
       " 790  0  1\n",
       " 791  0  1\n",
       " 792  0  1\n",
       " 793  0  1\n",
       " \n",
       " [794 rows x 2 columns])"
      ]
     },
     "execution_count": 30,
     "metadata": {},
     "output_type": "execute_result"
    }
   ],
   "source": [
    "labelsd.shape, labelsd"
   ]
  },
  {
   "cell_type": "code",
   "execution_count": null,
   "metadata": {},
   "outputs": [],
   "source": []
  },
  {
   "cell_type": "code",
   "execution_count": 31,
   "metadata": {},
   "outputs": [],
   "source": [
    "#convert to np.array again\n",
    "labelsd = np.array(labelsd)"
   ]
  },
  {
   "cell_type": "code",
   "execution_count": null,
   "metadata": {},
   "outputs": [],
   "source": []
  },
  {
   "cell_type": "code",
   "execution_count": 32,
   "metadata": {},
   "outputs": [],
   "source": [
    "from keras.models import Model, Sequential\n",
    "from keras.layers import *\n",
    "import keras.backend as K\n",
    "import keras.optimizers as Optimizers"
   ]
  },
  {
   "cell_type": "code",
   "execution_count": 33,
   "metadata": {},
   "outputs": [],
   "source": [
    "#from keras.models import load_model\n",
    "#model = load_model('model-anticipation.h5')"
   ]
  },
  {
   "cell_type": "code",
   "execution_count": 34,
   "metadata": {
    "scrolled": true
   },
   "outputs": [],
   "source": [
    "K.clear_session()\n",
    "\n",
    "img_in = Input(shape=(18, 160, 3), name='img_in')\n",
    "\n",
    "x = img_in\n",
    "\n",
    "x = Convolution2D(8, (4,4), strides=(4,4), activation='relu')(x)\n",
    "x = Convolution2D(8, (4,4), strides=(4,4), activation='relu')(x)\n",
    "#x = Convolution2D(8, (4,4), strides=(4,4), activation='relu')(x)\n",
    "#x = Convolution2D(128, (3,3), strides=(4,4), activation='relu')(x)\n",
    "\n",
    "flat = Flatten()(x)\n",
    "\n",
    "x = Dense(20)(flat)\n",
    "x = Activation('relu')(x)\n",
    "\n",
    "#categorical output\n",
    "out = Dense(2, activation='softmax')(x)\n",
    "\n",
    "model = Model(inputs=[img_in], outputs=[out])\n",
    "model.compile(loss='categorical_crossentropy', optimizer='adam', metrics=['accuracy'])"
   ]
  },
  {
   "cell_type": "code",
   "execution_count": 35,
   "metadata": {
    "scrolled": true
   },
   "outputs": [
    {
     "name": "stdout",
     "output_type": "stream",
     "text": [
      "_________________________________________________________________\n",
      "Layer (type)                 Output Shape              Param #   \n",
      "=================================================================\n",
      "img_in (InputLayer)          (None, 18, 160, 3)        0         \n",
      "_________________________________________________________________\n",
      "conv2d_1 (Conv2D)            (None, 4, 40, 8)          392       \n",
      "_________________________________________________________________\n",
      "conv2d_2 (Conv2D)            (None, 1, 10, 8)          1032      \n",
      "_________________________________________________________________\n",
      "flatten_1 (Flatten)          (None, 80)                0         \n",
      "_________________________________________________________________\n",
      "dense_1 (Dense)              (None, 20)                1620      \n",
      "_________________________________________________________________\n",
      "activation_1 (Activation)    (None, 20)                0         \n",
      "_________________________________________________________________\n",
      "dense_2 (Dense)              (None, 2)                 42        \n",
      "=================================================================\n",
      "Total params: 3,086\n",
      "Trainable params: 3,086\n",
      "Non-trainable params: 0\n",
      "_________________________________________________________________\n"
     ]
    }
   ],
   "source": [
    "model.summary()"
   ]
  },
  {
   "cell_type": "code",
   "execution_count": 41,
   "metadata": {
    "scrolled": false
   },
   "outputs": [
    {
     "name": "stdout",
     "output_type": "stream",
     "text": [
      "Epoch 1/50\n",
      "794/794 [==============================] - 0s 118us/step - loss: 0.0156 - acc: 1.0000\n",
      "Epoch 2/50\n",
      "794/794 [==============================] - 0s 147us/step - loss: 0.0157 - acc: 0.9987\n",
      "Epoch 3/50\n",
      "794/794 [==============================] - 0s 126us/step - loss: 0.0136 - acc: 1.0000\n",
      "Epoch 4/50\n",
      "794/794 [==============================] - 0s 157us/step - loss: 0.0173 - acc: 0.9987\n",
      "Epoch 5/50\n",
      "794/794 [==============================] - 0s 123us/step - loss: 0.0153 - acc: 0.9987\n",
      "Epoch 6/50\n",
      "794/794 [==============================] - 0s 119us/step - loss: 0.0155 - acc: 0.9987\n",
      "Epoch 7/50\n",
      "794/794 [==============================] - 0s 142us/step - loss: 0.0129 - acc: 1.0000\n",
      "Epoch 8/50\n",
      "794/794 [==============================] - 0s 123us/step - loss: 0.0117 - acc: 1.0000\n",
      "Epoch 9/50\n",
      "794/794 [==============================] - 0s 144us/step - loss: 0.0108 - acc: 1.0000\n",
      "Epoch 10/50\n",
      "794/794 [==============================] - 0s 146us/step - loss: 0.0111 - acc: 1.0000\n",
      "Epoch 11/50\n",
      "794/794 [==============================] - 0s 123us/step - loss: 0.0108 - acc: 1.0000\n",
      "Epoch 12/50\n",
      "794/794 [==============================] - 0s 154us/step - loss: 0.0108 - acc: 1.0000\n",
      "Epoch 13/50\n",
      "794/794 [==============================] - 0s 134us/step - loss: 0.0114 - acc: 1.0000\n",
      "Epoch 14/50\n",
      "794/794 [==============================] - 0s 149us/step - loss: 0.0108 - acc: 1.0000\n",
      "Epoch 15/50\n",
      "794/794 [==============================] - 0s 153us/step - loss: 0.0117 - acc: 1.0000\n",
      "Epoch 16/50\n",
      "794/794 [==============================] - 0s 132us/step - loss: 0.0101 - acc: 1.0000\n",
      "Epoch 17/50\n",
      "794/794 [==============================] - 0s 122us/step - loss: 0.0109 - acc: 1.0000\n",
      "Epoch 18/50\n",
      "794/794 [==============================] - 0s 154us/step - loss: 0.0096 - acc: 1.0000\n",
      "Epoch 19/50\n",
      "794/794 [==============================] - 0s 137us/step - loss: 0.0091 - acc: 1.0000\n",
      "Epoch 20/50\n",
      "794/794 [==============================] - 0s 128us/step - loss: 0.0099 - acc: 1.0000\n",
      "Epoch 21/50\n",
      "794/794 [==============================] - 0s 119us/step - loss: 0.0106 - acc: 1.0000\n",
      "Epoch 22/50\n",
      "794/794 [==============================] - 0s 119us/step - loss: 0.0083 - acc: 1.0000\n",
      "Epoch 23/50\n",
      "794/794 [==============================] - 0s 124us/step - loss: 0.0087 - acc: 1.0000\n",
      "Epoch 24/50\n",
      "794/794 [==============================] - 0s 139us/step - loss: 0.0082 - acc: 1.0000\n",
      "Epoch 25/50\n",
      "794/794 [==============================] - 0s 152us/step - loss: 0.0081 - acc: 1.0000\n",
      "Epoch 26/50\n",
      "794/794 [==============================] - 0s 163us/step - loss: 0.0088 - acc: 1.0000\n",
      "Epoch 27/50\n",
      "794/794 [==============================] - 0s 125us/step - loss: 0.0090 - acc: 1.0000\n",
      "Epoch 28/50\n",
      "794/794 [==============================] - 0s 125us/step - loss: 0.0077 - acc: 1.0000\n",
      "Epoch 29/50\n",
      "794/794 [==============================] - 0s 132us/step - loss: 0.0082 - acc: 1.0000\n",
      "Epoch 30/50\n",
      "794/794 [==============================] - 0s 142us/step - loss: 0.0085 - acc: 1.0000\n",
      "Epoch 31/50\n",
      "794/794 [==============================] - 0s 121us/step - loss: 0.0099 - acc: 1.0000\n",
      "Epoch 32/50\n",
      "794/794 [==============================] - 0s 122us/step - loss: 0.0089 - acc: 1.0000\n",
      "Epoch 33/50\n",
      "794/794 [==============================] - 0s 127us/step - loss: 0.0122 - acc: 0.9975\n",
      "Epoch 34/50\n",
      "794/794 [==============================] - 0s 141us/step - loss: 0.0143 - acc: 0.9987\n",
      "Epoch 35/50\n",
      "794/794 [==============================] - 0s 137us/step - loss: 0.0096 - acc: 1.0000\n",
      "Epoch 36/50\n",
      "794/794 [==============================] - 0s 132us/step - loss: 0.0098 - acc: 1.0000\n",
      "Epoch 37/50\n",
      "794/794 [==============================] - 0s 124us/step - loss: 0.0107 - acc: 0.9987\n",
      "Epoch 38/50\n",
      "794/794 [==============================] - 0s 116us/step - loss: 0.0073 - acc: 1.0000\n",
      "Epoch 39/50\n",
      "794/794 [==============================] - 0s 147us/step - loss: 0.0099 - acc: 1.0000\n",
      "Epoch 40/50\n",
      "794/794 [==============================] - 0s 174us/step - loss: 0.0085 - acc: 1.0000\n",
      "Epoch 41/50\n",
      "794/794 [==============================] - 0s 142us/step - loss: 0.0078 - acc: 1.0000\n",
      "Epoch 42/50\n",
      "794/794 [==============================] - 0s 138us/step - loss: 0.0062 - acc: 1.0000\n",
      "Epoch 43/50\n",
      "794/794 [==============================] - 0s 124us/step - loss: 0.0053 - acc: 1.0000\n",
      "Epoch 44/50\n",
      "794/794 [==============================] - 0s 121us/step - loss: 0.0051 - acc: 1.0000\n",
      "Epoch 45/50\n",
      "794/794 [==============================] - 0s 123us/step - loss: 0.0059 - acc: 1.0000\n",
      "Epoch 46/50\n",
      "794/794 [==============================] - 0s 139us/step - loss: 0.0053 - acc: 1.0000\n",
      "Epoch 47/50\n",
      "794/794 [==============================] - 0s 144us/step - loss: 0.0050 - acc: 1.0000\n",
      "Epoch 48/50\n",
      "794/794 [==============================] - 0s 134us/step - loss: 0.0052 - acc: 1.0000\n",
      "Epoch 49/50\n",
      "794/794 [==============================] - 0s 134us/step - loss: 0.0051 - acc: 1.0000\n",
      "Epoch 50/50\n",
      "794/794 [==============================] - 0s 141us/step - loss: 0.0054 - acc: 1.0000\n"
     ]
    }
   ],
   "source": [
    "h = model.fit(images, labelsd, batch_size=32, epochs=50, verbose=1)"
   ]
  },
  {
   "cell_type": "code",
   "execution_count": 42,
   "metadata": {},
   "outputs": [
    {
     "data": {
      "text/plain": [
       "<matplotlib.axes._subplots.AxesSubplot at 0x23bc2627240>"
      ]
     },
     "execution_count": 42,
     "metadata": {},
     "output_type": "execute_result"
    },
    {
     "data": {
      "image/png": "[encoded data removed]",
      "text/plain": [
       "<Figure size 432x288 with 1 Axes>"
      ]
     },
     "metadata": {},
     "output_type": "display_data"
    }
   ],
   "source": [
    "#print History graph\n",
    "historydf = pd.DataFrame(h.history, index=h.epoch)\n",
    "historydf.plot(ylim=(0,1))"
   ]
  },
  {
   "cell_type": "code",
   "execution_count": 43,
   "metadata": {},
   "outputs": [
    {
     "data": {
      "text/plain": [
       "(array([0, 0, 0, 0, 0, 0, 1, 0, 0, 0, 0, 0, 1, 1, 0, 0, 0, 0, 1, 0, 0, 0,\n",
       "        0, 1, 0, 0, 0, 0, 0, 1, 1, 1, 0, 0, 0, 0, 0, 1, 0, 0, 0, 0, 1, 0,\n",
       "        1, 0, 1, 0, 1, 1, 1, 1, 1, 1, 1, 1, 1, 1, 1, 1, 1, 1, 1, 1, 1, 1,\n",
       "        0, 1, 0, 0, 1, 1, 1, 1, 1, 0, 1, 1, 1, 1, 1, 1], dtype=int64),\n",
       " array([0, 0, 0, 0, 0, 0, 0, 0, 0, 0, 0, 0, 0, 0, 0, 0, 0, 0, 0, 0, 0, 0,\n",
       "        0, 0, 0, 0, 0, 0, 0, 0, 0, 0, 0, 0, 0, 0, 0, 0, 0, 0, 0, 0, 0, 0,\n",
       "        1, 1, 1, 1, 1, 1, 1, 1, 1, 1, 1, 1, 1, 1, 1, 1, 1, 1, 1, 1, 1, 1,\n",
       "        1, 1, 1, 1, 1, 1, 1, 1, 1, 1, 1, 1, 1, 1, 1, 1]))"
      ]
     },
     "execution_count": 43,
     "metadata": {},
     "output_type": "execute_result"
    }
   ],
   "source": [
    "# Get predictions\n",
    "all_preds = np.argmax(model.predict(images_val), axis=1)\n",
    "\n",
    "all_preds, labels_val"
   ]
  },
  {
   "cell_type": "code",
   "execution_count": 44,
   "metadata": {},
   "outputs": [
    {
     "data": {
      "text/plain": [
       "0.1951219512195122"
      ]
     },
     "execution_count": 44,
     "metadata": {},
     "output_type": "execute_result"
    }
   ],
   "source": [
    "import math\n",
    "i = 0\n",
    "res = 0\n",
    "for value in all_preds:\n",
    "    if value != labels_val[i]:\n",
    "        res = res + 1\n",
    "    i = i + 1\n",
    "res/i"
   ]
  },
  {
   "cell_type": "code",
   "execution_count": null,
   "metadata": {},
   "outputs": [],
   "source": []
  },
  {
   "cell_type": "code",
   "execution_count": null,
   "metadata": {},
   "outputs": [],
   "source": []
  },
  {
   "cell_type": "code",
   "execution_count": 45,
   "metadata": {},
   "outputs": [],
   "source": [
    "model.save('model-'+dataset+'-anticipation_clean.h5')"
   ]
  },
  {
   "cell_type": "code",
   "execution_count": null,
   "metadata": {},
   "outputs": [],
   "source": []
  },
  {
   "cell_type": "code",
   "execution_count": null,
   "metadata": {},
   "outputs": [],
   "source": []
  },
  {
   "cell_type": "code",
   "execution_count": null,
   "metadata": {},
   "outputs": [],
   "source": []
  },
  {
   "cell_type": "code",
   "execution_count": null,
   "metadata": {},
   "outputs": [],
   "source": []
  }
 ],
 "metadata": {
  "kernelspec": {
   "display_name": "Python 3",
   "language": "python",
   "name": "python3"
  },
  "language_info": {
   "codemirror_mode": {
    "name": "ipython",
    "version": 3
   },
   "file_extension": ".py",
   "mimetype": "text/x-python",
   "name": "python",
   "nbconvert_exporter": "python",
   "pygments_lexer": "ipython3",
   "version": "3.6.5"
  }
 },
 "nbformat": 4,
 "nbformat_minor": 2
}
