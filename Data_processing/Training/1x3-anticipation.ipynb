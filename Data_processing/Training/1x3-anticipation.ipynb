{
 "cells": [
  {
   "cell_type": "code",
   "execution_count": 1,
   "metadata": {},
   "outputs": [
    {
     "name": "stderr",
     "output_type": "stream",
     "text": [
      "Using TensorFlow backend.\n"
     ]
    }
   ],
   "source": [
    "from os import listdir\n",
    "from keras.preprocessing.image import load_img\n",
    "from keras.preprocessing.image import img_to_array\n",
    "from PIL import Image\n",
    "import numpy as np\n",
    "import pandas as pd\n",
    "%matplotlib inline\n",
    "import matplotlib.pyplot as plt"
   ]
  },
  {
   "cell_type": "code",
   "execution_count": 2,
   "metadata": {},
   "outputs": [],
   "source": [
    "def load_photos(directory):\n",
    "    images = []\n",
    "    labels = []\n",
    "    for name in listdir(directory):\n",
    "        filename = directory + '/' + name\n",
    "        # load an image from file\n",
    "        image = load_img(filename, target_size=(128, 160))\n",
    "        # convert the image pixels to a numpy array\n",
    "        image = img_to_array(image)\n",
    "        # get image id + labels\n",
    "        value = name.split('_')[0]\n",
    "        if value == '0':\n",
    "            value = 0\n",
    "        elif value == '1':\n",
    "            value = 1\n",
    "        labels.append(value)\n",
    "        images.append(image)\n",
    "    return images, labels"
   ]
  },
  {
   "cell_type": "code",
   "execution_count": 3,
   "metadata": {},
   "outputs": [],
   "source": [
    "#dataset = 'Dataset_cleaned'\n",
    "#dataset = 'RichDataset'\n",
    "#dataset = 'BigDataset'\n",
    "dataset = 'AugmentedDataset'"
   ]
  },
  {
   "cell_type": "code",
   "execution_count": 4,
   "metadata": {},
   "outputs": [
    {
     "name": "stdout",
     "output_type": "stream",
     "text": [
      "Loaded Images and labels for training: 721\n",
      "Loaded Images and labels for validation: 155\n"
     ]
    }
   ],
   "source": [
    "# load images from both train and test groups\n",
    "directory = '../../../Patate_data/data/'+dataset+'-anticipation/Train'\n",
    "images, labels = load_photos(directory)\n",
    "nb_images = len(images)\n",
    "print('Loaded Images and labels for training: %d' % nb_images)\n",
    "directory = '../../../Patate_data/data/'+dataset+'-anticipation/Val'\n",
    "images_val, labels_val = load_photos(directory)\n",
    "nb_images_val = len(images_val)\n",
    "print('Loaded Images and labels for validation: %d' % nb_images_val)"
   ]
  },
  {
   "cell_type": "code",
   "execution_count": 5,
   "metadata": {
    "scrolled": false
   },
   "outputs": [],
   "source": [
    "#normalise datas\n",
    "images = np.array(images)\n",
    "images = images[:, 40:58, :, :]\n",
    "images /= 255\n",
    "images_val = np.array(images_val)\n",
    "images_val = images_val[:, 40:58, :, :]\n",
    "images_val /= 255"
   ]
  },
  {
   "cell_type": "code",
   "execution_count": 6,
   "metadata": {},
   "outputs": [
    {
     "data": {
      "text/plain": [
       "((721, 18, 160, 3), <matplotlib.image.AxesImage at 0x2d1bdfa70f0>)"
      ]
     },
     "execution_count": 6,
     "metadata": {},
     "output_type": "execute_result"
    },
    {
     "data": {
      "image/png": "[encoded data removed]",
      "text/plain": [
       "<matplotlib.figure.Figure at 0x2d19d2c3940>"
      ]
     },
     "metadata": {},
     "output_type": "display_data"
    }
   ],
   "source": [
    "images.shape, plt.imshow(images[104])"
   ]
  },
  {
   "cell_type": "code",
   "execution_count": null,
   "metadata": {},
   "outputs": [],
   "source": []
  },
  {
   "cell_type": "code",
   "execution_count": 7,
   "metadata": {},
   "outputs": [],
   "source": [
    "#convert labels to np.array\n",
    "labels = np.array(labels)\n",
    "labels_val = np.array(labels_val)"
   ]
  },
  {
   "cell_type": "code",
   "execution_count": 8,
   "metadata": {},
   "outputs": [],
   "source": [
    "#convert datas to dummyvalues\n",
    "labelsd = pd.get_dummies(labels)"
   ]
  },
  {
   "cell_type": "code",
   "execution_count": 9,
   "metadata": {},
   "outputs": [
    {
     "data": {
      "text/plain": [
       "((721, 2),      0  1\n",
       " 0    1  0\n",
       " 1    1  0\n",
       " 2    1  0\n",
       " 3    1  0\n",
       " 4    1  0\n",
       " 5    1  0\n",
       " 6    1  0\n",
       " 7    1  0\n",
       " 8    1  0\n",
       " 9    1  0\n",
       " 10   1  0\n",
       " 11   1  0\n",
       " 12   1  0\n",
       " 13   1  0\n",
       " 14   1  0\n",
       " 15   1  0\n",
       " 16   1  0\n",
       " 17   1  0\n",
       " 18   1  0\n",
       " 19   1  0\n",
       " 20   1  0\n",
       " 21   1  0\n",
       " 22   1  0\n",
       " 23   1  0\n",
       " 24   1  0\n",
       " 25   1  0\n",
       " 26   1  0\n",
       " 27   1  0\n",
       " 28   1  0\n",
       " 29   1  0\n",
       " ..  .. ..\n",
       " 691  0  1\n",
       " 692  0  1\n",
       " 693  0  1\n",
       " 694  0  1\n",
       " 695  0  1\n",
       " 696  0  1\n",
       " 697  0  1\n",
       " 698  0  1\n",
       " 699  0  1\n",
       " 700  0  1\n",
       " 701  0  1\n",
       " 702  0  1\n",
       " 703  0  1\n",
       " 704  0  1\n",
       " 705  0  1\n",
       " 706  0  1\n",
       " 707  0  1\n",
       " 708  0  1\n",
       " 709  0  1\n",
       " 710  0  1\n",
       " 711  0  1\n",
       " 712  0  1\n",
       " 713  0  1\n",
       " 714  0  1\n",
       " 715  0  1\n",
       " 716  0  1\n",
       " 717  0  1\n",
       " 718  0  1\n",
       " 719  0  1\n",
       " 720  0  1\n",
       " \n",
       " [721 rows x 2 columns])"
      ]
     },
     "execution_count": 9,
     "metadata": {},
     "output_type": "execute_result"
    }
   ],
   "source": [
    "labelsd.shape, labelsd"
   ]
  },
  {
   "cell_type": "code",
   "execution_count": null,
   "metadata": {},
   "outputs": [],
   "source": []
  },
  {
   "cell_type": "code",
   "execution_count": 10,
   "metadata": {},
   "outputs": [],
   "source": [
    "#convert to np.array again\n",
    "labelsd = np.array(labelsd)"
   ]
  },
  {
   "cell_type": "code",
   "execution_count": null,
   "metadata": {},
   "outputs": [],
   "source": []
  },
  {
   "cell_type": "code",
   "execution_count": 11,
   "metadata": {},
   "outputs": [],
   "source": [
    "from keras.models import Model, Sequential\n",
    "from keras.layers import *\n",
    "import keras.backend as K\n",
    "import keras.optimizers as Optimizers"
   ]
  },
  {
   "cell_type": "code",
   "execution_count": 12,
   "metadata": {},
   "outputs": [],
   "source": [
    "#from keras.models import load_model\n",
    "#model = load_model('model-anticipation.h5')"
   ]
  },
  {
   "cell_type": "code",
   "execution_count": 35,
   "metadata": {
    "scrolled": true
   },
   "outputs": [],
   "source": [
    "K.clear_session()\n",
    "\n",
    "img_in = Input(shape=(18, 160, 3), name='img_in')\n",
    "\n",
    "x = img_in\n",
    "\n",
    "x = Convolution2D(8, (4,4), strides=(4,4), activation='relu')(x)\n",
    "x = Convolution2D(8, (4,4), strides=(4,4), activation='relu')(x)\n",
    "#x = Convolution2D(8, (4,4), strides=(4,4), activation='relu')(x)\n",
    "#x = Convolution2D(128, (3,3), strides=(4,4), activation='relu')(x)\n",
    "\n",
    "flat = Flatten()(x)\n",
    "\n",
    "x = Dense(20)(flat)\n",
    "x = Activation('relu')(x)\n",
    "\n",
    "#categorical output\n",
    "out = Dense(2, activation='softmax')(x)\n",
    "\n",
    "model = Model(inputs=[img_in], outputs=[out])\n",
    "model.compile(loss='categorical_crossentropy', optimizer='adam', metrics=['accuracy'])"
   ]
  },
  {
   "cell_type": "code",
   "execution_count": 36,
   "metadata": {
    "scrolled": true
   },
   "outputs": [
    {
     "name": "stdout",
     "output_type": "stream",
     "text": [
      "_________________________________________________________________\n",
      "Layer (type)                 Output Shape              Param #   \n",
      "=================================================================\n",
      "img_in (InputLayer)          (None, 18, 160, 3)        0         \n",
      "_________________________________________________________________\n",
      "conv2d_1 (Conv2D)            (None, 4, 40, 8)          392       \n",
      "_________________________________________________________________\n",
      "conv2d_2 (Conv2D)            (None, 1, 10, 8)          1032      \n",
      "_________________________________________________________________\n",
      "flatten_1 (Flatten)          (None, 80)                0         \n",
      "_________________________________________________________________\n",
      "dense_1 (Dense)              (None, 20)                1620      \n",
      "_________________________________________________________________\n",
      "activation_1 (Activation)    (None, 20)                0         \n",
      "_________________________________________________________________\n",
      "dense_2 (Dense)              (None, 2)                 42        \n",
      "=================================================================\n",
      "Total params: 3,086\n",
      "Trainable params: 3,086\n",
      "Non-trainable params: 0\n",
      "_________________________________________________________________\n"
     ]
    }
   ],
   "source": [
    "model.summary()"
   ]
  },
  {
   "cell_type": "code",
   "execution_count": 37,
   "metadata": {
    "scrolled": false
   },
   "outputs": [
    {
     "name": "stdout",
     "output_type": "stream",
     "text": [
      "Epoch 1/200\n",
      "721/721 [==============================] - 0s - loss: 0.6561 - acc: 0.6394     \n",
      "Epoch 2/200\n",
      "721/721 [==============================] - 0s - loss: 0.6313 - acc: 0.6394     \n",
      "Epoch 3/200\n",
      "721/721 [==============================] - 0s - loss: 0.5977 - acc: 0.6574     \n",
      "Epoch 4/200\n",
      "721/721 [==============================] - 0s - loss: 0.5712 - acc: 0.7004     \n",
      "Epoch 5/200\n",
      "721/721 [==============================] - 0s - loss: 0.5571 - acc: 0.6907     \n",
      "Epoch 6/200\n",
      "721/721 [==============================] - 0s - loss: 0.5347 - acc: 0.7434     \n",
      "Epoch 7/200\n",
      "721/721 [==============================] - 0s - loss: 0.5264 - acc: 0.7268     \n",
      "Epoch 8/200\n",
      "721/721 [==============================] - 0s - loss: 0.4999 - acc: 0.7503     \n",
      "Epoch 9/200\n",
      "721/721 [==============================] - 0s - loss: 0.4866 - acc: 0.7809     \n",
      "Epoch 10/200\n",
      "721/721 [==============================] - 0s - loss: 0.4774 - acc: 0.7753     - ETA: 0s - loss: 0.4752 - acc: 0.773\n",
      "Epoch 11/200\n",
      "721/721 [==============================] - 0s - loss: 0.4658 - acc: 0.7836     \n",
      "Epoch 12/200\n",
      "721/721 [==============================] - 0s - loss: 0.4794 - acc: 0.7809     \n",
      "Epoch 13/200\n",
      "721/721 [==============================] - 0s - loss: 0.4552 - acc: 0.7933     \n",
      "Epoch 14/200\n",
      "721/721 [==============================] - 0s - loss: 0.4602 - acc: 0.7809     \n",
      "Epoch 15/200\n",
      "721/721 [==============================] - 0s - loss: 0.4383 - acc: 0.8017     \n",
      "Epoch 16/200\n",
      "721/721 [==============================] - 0s - loss: 0.4288 - acc: 0.8225     \n",
      "Epoch 17/200\n",
      "721/721 [==============================] - 0s - loss: 0.4562 - acc: 0.7878     \n",
      "Epoch 18/200\n",
      "721/721 [==============================] - 0s - loss: 0.4214 - acc: 0.8058     \n",
      "Epoch 19/200\n",
      "721/721 [==============================] - 0s - loss: 0.4086 - acc: 0.8266     \n",
      "Epoch 20/200\n",
      "721/721 [==============================] - 0s - loss: 0.3982 - acc: 0.8322     \n",
      "Epoch 21/200\n",
      "721/721 [==============================] - 0s - loss: 0.4018 - acc: 0.8336     \n",
      "Epoch 22/200\n",
      "721/721 [==============================] - 0s - loss: 0.3922 - acc: 0.8294     \n",
      "Epoch 23/200\n",
      "721/721 [==============================] - 0s - loss: 0.4029 - acc: 0.8336     \n",
      "Epoch 24/200\n",
      "721/721 [==============================] - 0s - loss: 0.3828 - acc: 0.8377     \n",
      "Epoch 25/200\n",
      "721/721 [==============================] - 0s - loss: 0.3879 - acc: 0.8336     \n",
      "Epoch 26/200\n",
      "721/721 [==============================] - 0s - loss: 0.3750 - acc: 0.8474     \n",
      "Epoch 27/200\n",
      "721/721 [==============================] - 0s - loss: 0.3670 - acc: 0.8433     \n",
      "Epoch 28/200\n",
      "721/721 [==============================] - 0s - loss: 0.3536 - acc: 0.8544     \n",
      "Epoch 29/200\n",
      "721/721 [==============================] - 0s - loss: 0.3637 - acc: 0.8350     \n",
      "Epoch 30/200\n",
      "721/721 [==============================] - 0s - loss: 0.3500 - acc: 0.8599     \n",
      "Epoch 31/200\n",
      "721/721 [==============================] - 0s - loss: 0.3555 - acc: 0.8502     \n",
      "Epoch 32/200\n",
      "721/721 [==============================] - 0s - loss: 0.3466 - acc: 0.8585     - ETA: 0s - loss: 0.3518 - acc: 0.856\n",
      "Epoch 33/200\n",
      "721/721 [==============================] - 0s - loss: 0.3434 - acc: 0.8696     \n",
      "Epoch 34/200\n",
      "721/721 [==============================] - 0s - loss: 0.3373 - acc: 0.8599     \n",
      "Epoch 35/200\n",
      "721/721 [==============================] - 0s - loss: 0.3304 - acc: 0.8682     \n",
      "Epoch 36/200\n",
      "721/721 [==============================] - 0s - loss: 0.3265 - acc: 0.8738     \n",
      "Epoch 37/200\n",
      "721/721 [==============================] - 0s - loss: 0.3245 - acc: 0.8724     \n",
      "Epoch 38/200\n",
      "721/721 [==============================] - 0s - loss: 0.3246 - acc: 0.8599     \n",
      "Epoch 39/200\n",
      "721/721 [==============================] - 0s - loss: 0.3230 - acc: 0.8766     \n",
      "Epoch 40/200\n",
      "721/721 [==============================] - 0s - loss: 0.3032 - acc: 0.8821     \n",
      "Epoch 41/200\n",
      "721/721 [==============================] - 0s - loss: 0.3024 - acc: 0.8779     \n",
      "Epoch 42/200\n",
      "721/721 [==============================] - 0s - loss: 0.3091 - acc: 0.8738     \n",
      "Epoch 43/200\n",
      "721/721 [==============================] - 0s - loss: 0.3076 - acc: 0.8724     \n",
      "Epoch 44/200\n",
      "721/721 [==============================] - 0s - loss: 0.3171 - acc: 0.8807     \n",
      "Epoch 45/200\n",
      "721/721 [==============================] - 0s - loss: 0.3050 - acc: 0.8793     \n",
      "Epoch 46/200\n",
      "721/721 [==============================] - 0s - loss: 0.2896 - acc: 0.8849     \n",
      "Epoch 47/200\n",
      "721/721 [==============================] - 0s - loss: 0.2839 - acc: 0.8890     \n",
      "Epoch 48/200\n",
      "721/721 [==============================] - 0s - loss: 0.2889 - acc: 0.8974     \n",
      "Epoch 49/200\n",
      "721/721 [==============================] - 0s - loss: 0.2723 - acc: 0.8918     \n",
      "Epoch 50/200\n",
      "721/721 [==============================] - 0s - loss: 0.2774 - acc: 0.8946     \n",
      "Epoch 51/200\n",
      "721/721 [==============================] - 0s - loss: 0.2599 - acc: 0.9098     \n",
      "Epoch 52/200\n",
      "721/721 [==============================] - 0s - loss: 0.2638 - acc: 0.8904     \n",
      "Epoch 53/200\n",
      "721/721 [==============================] - 0s - loss: 0.2598 - acc: 0.8960     \n",
      "Epoch 54/200\n",
      "721/721 [==============================] - 0s - loss: 0.2503 - acc: 0.9029     \n",
      "Epoch 55/200\n",
      "721/721 [==============================] - 0s - loss: 0.2530 - acc: 0.9001     \n",
      "Epoch 56/200\n",
      "721/721 [==============================] - 0s - loss: 0.2769 - acc: 0.8849     \n",
      "Epoch 57/200\n",
      "721/721 [==============================] - 0s - loss: 0.2809 - acc: 0.8710     \n",
      "Epoch 58/200\n",
      "721/721 [==============================] - 0s - loss: 0.2569 - acc: 0.9015     \n",
      "Epoch 59/200\n",
      "721/721 [==============================] - 0s - loss: 0.2640 - acc: 0.8960     \n",
      "Epoch 60/200\n",
      "721/721 [==============================] - 0s - loss: 0.2461 - acc: 0.9001     \n",
      "Epoch 61/200\n",
      "721/721 [==============================] - 0s - loss: 0.2432 - acc: 0.9154     \n",
      "Epoch 62/200\n",
      "721/721 [==============================] - 0s - loss: 0.2426 - acc: 0.9015     \n",
      "Epoch 63/200\n",
      "721/721 [==============================] - 0s - loss: 0.2276 - acc: 0.9140     - ETA: 0s - loss: 0.2814 - acc: 0.8\n",
      "Epoch 64/200\n",
      "721/721 [==============================] - 0s - loss: 0.2199 - acc: 0.9209     \n",
      "Epoch 65/200\n",
      "721/721 [==============================] - 0s - loss: 0.2198 - acc: 0.9182     \n",
      "Epoch 66/200\n",
      "721/721 [==============================] - 0s - loss: 0.2164 - acc: 0.9168     \n",
      "Epoch 67/200\n",
      "721/721 [==============================] - 0s - loss: 0.2223 - acc: 0.9168     \n",
      "Epoch 68/200\n",
      "721/721 [==============================] - 0s - loss: 0.2241 - acc: 0.9043     \n",
      "Epoch 69/200\n",
      "721/721 [==============================] - 0s - loss: 0.2256 - acc: 0.9126     \n",
      "Epoch 70/200\n",
      "721/721 [==============================] - 0s - loss: 0.2222 - acc: 0.9112     \n",
      "Epoch 71/200\n",
      "721/721 [==============================] - 0s - loss: 0.2025 - acc: 0.9279     \n",
      "Epoch 72/200\n",
      "721/721 [==============================] - 0s - loss: 0.2035 - acc: 0.9223     \n",
      "Epoch 73/200\n",
      "721/721 [==============================] - 0s - loss: 0.2014 - acc: 0.9196     \n",
      "Epoch 74/200\n",
      "721/721 [==============================] - 0s - loss: 0.2367 - acc: 0.9029     \n",
      "Epoch 75/200\n",
      "721/721 [==============================] - 0s - loss: 0.2109 - acc: 0.9112     \n",
      "Epoch 76/200\n",
      "721/721 [==============================] - 0s - loss: 0.1920 - acc: 0.9334     \n",
      "Epoch 77/200\n",
      "721/721 [==============================] - 0s - loss: 0.1873 - acc: 0.9320     \n",
      "Epoch 78/200\n",
      "721/721 [==============================] - 0s - loss: 0.1782 - acc: 0.9362     \n",
      "Epoch 79/200\n",
      "721/721 [==============================] - 0s - loss: 0.1933 - acc: 0.9251     \n",
      "Epoch 80/200\n",
      "721/721 [==============================] - 0s - loss: 0.1933 - acc: 0.9223     \n",
      "Epoch 81/200\n",
      "721/721 [==============================] - 0s - loss: 0.1804 - acc: 0.9348     \n",
      "Epoch 82/200\n",
      "721/721 [==============================] - 0s - loss: 0.1906 - acc: 0.9223     \n",
      "Epoch 83/200\n",
      "721/721 [==============================] - 0s - loss: 0.1841 - acc: 0.9279     \n",
      "Epoch 84/200\n",
      "721/721 [==============================] - 0s - loss: 0.1725 - acc: 0.9376     \n",
      "Epoch 85/200\n",
      "721/721 [==============================] - 0s - loss: 0.1779 - acc: 0.9404     \n",
      "Epoch 86/200\n",
      "721/721 [==============================] - 0s - loss: 0.1640 - acc: 0.9348     \n",
      "Epoch 87/200\n",
      "721/721 [==============================] - 0s - loss: 0.1538 - acc: 0.9501     \n",
      "Epoch 88/200\n"
     ]
    },
    {
     "name": "stdout",
     "output_type": "stream",
     "text": [
      "721/721 [==============================] - 0s - loss: 0.1556 - acc: 0.9515     \n",
      "Epoch 89/200\n",
      "721/721 [==============================] - 0s - loss: 0.1482 - acc: 0.9501     \n",
      "Epoch 90/200\n",
      "721/721 [==============================] - 0s - loss: 0.1467 - acc: 0.9556     \n",
      "Epoch 91/200\n",
      "721/721 [==============================] - 0s - loss: 0.1555 - acc: 0.9320     \n",
      "Epoch 92/200\n",
      "721/721 [==============================] - 0s - loss: 0.1575 - acc: 0.9431     \n",
      "Epoch 93/200\n",
      "721/721 [==============================] - 0s - loss: 0.1410 - acc: 0.9598     \n",
      "Epoch 94/200\n",
      "721/721 [==============================] - 0s - loss: 0.1369 - acc: 0.9570     \n",
      "Epoch 95/200\n",
      "721/721 [==============================] - 0s - loss: 0.1596 - acc: 0.9390     \n",
      "Epoch 96/200\n",
      "721/721 [==============================] - 0s - loss: 0.1530 - acc: 0.9417     \n",
      "Epoch 97/200\n",
      "721/721 [==============================] - 0s - loss: 0.1418 - acc: 0.9515     \n",
      "Epoch 98/200\n",
      "721/721 [==============================] - 0s - loss: 0.1358 - acc: 0.9501     \n",
      "Epoch 99/200\n",
      "721/721 [==============================] - 0s - loss: 0.1353 - acc: 0.9556     \n",
      "Epoch 100/200\n",
      "721/721 [==============================] - 0s - loss: 0.1299 - acc: 0.9584     \n",
      "Epoch 101/200\n",
      "721/721 [==============================] - 0s - loss: 0.1314 - acc: 0.9626     \n",
      "Epoch 102/200\n",
      "721/721 [==============================] - 0s - loss: 0.1161 - acc: 0.9626     \n",
      "Epoch 103/200\n",
      "721/721 [==============================] - 0s - loss: 0.1264 - acc: 0.9542     \n",
      "Epoch 104/200\n",
      "721/721 [==============================] - 0s - loss: 0.1304 - acc: 0.9501     \n",
      "Epoch 105/200\n",
      "721/721 [==============================] - 0s - loss: 0.1215 - acc: 0.9584     \n",
      "Epoch 106/200\n",
      "721/721 [==============================] - 0s - loss: 0.1226 - acc: 0.9612     \n",
      "Epoch 107/200\n",
      "721/721 [==============================] - 0s - loss: 0.1095 - acc: 0.9598     \n",
      "Epoch 108/200\n",
      "721/721 [==============================] - 0s - loss: 0.1059 - acc: 0.9667     \n",
      "Epoch 109/200\n",
      "721/721 [==============================] - 0s - loss: 0.1033 - acc: 0.9626     \n",
      "Epoch 110/200\n",
      "721/721 [==============================] - 0s - loss: 0.1010 - acc: 0.9639     \n",
      "Epoch 111/200\n",
      "721/721 [==============================] - 0s - loss: 0.0966 - acc: 0.9736     \n",
      "Epoch 112/200\n",
      "721/721 [==============================] - 0s - loss: 0.1085 - acc: 0.9653     \n",
      "Epoch 113/200\n",
      "721/721 [==============================] - 0s - loss: 0.1153 - acc: 0.9598     \n",
      "Epoch 114/200\n",
      "721/721 [==============================] - 0s - loss: 0.0915 - acc: 0.9792     \n",
      "Epoch 115/200\n",
      "721/721 [==============================] - 0s - loss: 0.0877 - acc: 0.9750     \n",
      "Epoch 116/200\n",
      "721/721 [==============================] - 0s - loss: 0.0882 - acc: 0.9764     \n",
      "Epoch 117/200\n",
      "721/721 [==============================] - 0s - loss: 0.0946 - acc: 0.9736     \n",
      "Epoch 118/200\n",
      "721/721 [==============================] - 0s - loss: 0.0849 - acc: 0.9750     \n",
      "Epoch 119/200\n",
      "721/721 [==============================] - 0s - loss: 0.0879 - acc: 0.9750     \n",
      "Epoch 120/200\n",
      "721/721 [==============================] - 0s - loss: 0.0806 - acc: 0.9820     \n",
      "Epoch 121/200\n",
      "721/721 [==============================] - 0s - loss: 0.0813 - acc: 0.9820     \n",
      "Epoch 122/200\n",
      "721/721 [==============================] - 0s - loss: 0.1039 - acc: 0.9570     \n",
      "Epoch 123/200\n",
      "721/721 [==============================] - 0s - loss: 0.0787 - acc: 0.9806     \n",
      "Epoch 124/200\n",
      "721/721 [==============================] - 0s - loss: 0.0729 - acc: 0.9820     \n",
      "Epoch 125/200\n",
      "721/721 [==============================] - 0s - loss: 0.0667 - acc: 0.9889     \n",
      "Epoch 126/200\n",
      "721/721 [==============================] - 0s - loss: 0.0675 - acc: 0.9806     \n",
      "Epoch 127/200\n",
      "721/721 [==============================] - 0s - loss: 0.0699 - acc: 0.9861     \n",
      "Epoch 128/200\n",
      "721/721 [==============================] - 0s - loss: 0.0824 - acc: 0.9750     \n",
      "Epoch 129/200\n",
      "721/721 [==============================] - 0s - loss: 0.0883 - acc: 0.9750     \n",
      "Epoch 130/200\n",
      "721/721 [==============================] - 0s - loss: 0.0630 - acc: 0.9889     \n",
      "Epoch 131/200\n",
      "721/721 [==============================] - 0s - loss: 0.0590 - acc: 0.9889     \n",
      "Epoch 132/200\n",
      "721/721 [==============================] - 0s - loss: 0.0691 - acc: 0.9861     \n",
      "Epoch 133/200\n",
      "721/721 [==============================] - 0s - loss: 0.0596 - acc: 0.9889     \n",
      "Epoch 134/200\n",
      "721/721 [==============================] - 0s - loss: 0.0553 - acc: 0.9861     \n",
      "Epoch 135/200\n",
      "721/721 [==============================] - 0s - loss: 0.0542 - acc: 0.9889     \n",
      "Epoch 136/200\n",
      "721/721 [==============================] - 0s - loss: 0.0520 - acc: 0.9889     \n",
      "Epoch 137/200\n",
      "721/721 [==============================] - 0s - loss: 0.0520 - acc: 0.9889     \n",
      "Epoch 138/200\n",
      "721/721 [==============================] - 0s - loss: 0.0742 - acc: 0.9736     \n",
      "Epoch 139/200\n",
      "721/721 [==============================] - 0s - loss: 0.0633 - acc: 0.9806     \n",
      "Epoch 140/200\n",
      "721/721 [==============================] - 0s - loss: 0.0882 - acc: 0.9653     \n",
      "Epoch 141/200\n",
      "721/721 [==============================] - 0s - loss: 0.1183 - acc: 0.9501     \n",
      "Epoch 142/200\n",
      "721/721 [==============================] - 0s - loss: 0.0880 - acc: 0.9667     \n",
      "Epoch 143/200\n",
      "721/721 [==============================] - 0s - loss: 0.1185 - acc: 0.9528     \n",
      "Epoch 144/200\n",
      "721/721 [==============================] - 0s - loss: 0.0605 - acc: 0.9861     \n",
      "Epoch 145/200\n",
      "721/721 [==============================] - 0s - loss: 0.0551 - acc: 0.9875     \n",
      "Epoch 146/200\n",
      "721/721 [==============================] - 0s - loss: 0.0551 - acc: 0.9834     \n",
      "Epoch 147/200\n",
      "721/721 [==============================] - 0s - loss: 0.0469 - acc: 0.9917     \n",
      "Epoch 148/200\n",
      "721/721 [==============================] - 0s - loss: 0.0432 - acc: 0.9931     \n",
      "Epoch 149/200\n",
      "721/721 [==============================] - 0s - loss: 0.0364 - acc: 0.9931     \n",
      "Epoch 150/200\n",
      "721/721 [==============================] - 0s - loss: 0.0358 - acc: 0.9972     \n",
      "Epoch 151/200\n",
      "721/721 [==============================] - 0s - loss: 0.0326 - acc: 0.9958     \n",
      "Epoch 152/200\n",
      "721/721 [==============================] - 0s - loss: 0.0326 - acc: 0.9958     \n",
      "Epoch 153/200\n",
      "721/721 [==============================] - 0s - loss: 0.0343 - acc: 0.9972     \n",
      "Epoch 154/200\n",
      "721/721 [==============================] - 0s - loss: 0.0318 - acc: 0.9986     \n",
      "Epoch 155/200\n",
      "721/721 [==============================] - 0s - loss: 0.0281 - acc: 1.0000     \n",
      "Epoch 156/200\n",
      "721/721 [==============================] - 0s - loss: 0.0280 - acc: 0.9972     \n",
      "Epoch 157/200\n",
      "721/721 [==============================] - ETA: 0s - loss: 0.0245 - acc: 1.000 - 0s - loss: 0.0253 - acc: 0.9986     \n",
      "Epoch 158/200\n",
      "721/721 [==============================] - 0s - loss: 0.0261 - acc: 0.9958     \n",
      "Epoch 159/200\n",
      "721/721 [==============================] - 0s - loss: 0.0253 - acc: 1.0000     \n",
      "Epoch 160/200\n",
      "721/721 [==============================] - 0s - loss: 0.0241 - acc: 0.9986     \n",
      "Epoch 161/200\n",
      "721/721 [==============================] - 0s - loss: 0.0233 - acc: 1.0000     \n",
      "Epoch 162/200\n",
      "721/721 [==============================] - 0s - loss: 0.0205 - acc: 1.0000     \n",
      "Epoch 163/200\n",
      "721/721 [==============================] - 0s - loss: 0.0212 - acc: 1.0000     \n",
      "Epoch 164/200\n",
      "721/721 [==============================] - 0s - loss: 0.0226 - acc: 0.9986     \n",
      "Epoch 165/200\n",
      "721/721 [==============================] - 0s - loss: 0.0353 - acc: 0.9945     \n",
      "Epoch 166/200\n",
      "721/721 [==============================] - 0s - loss: 0.0252 - acc: 0.9958     \n",
      "Epoch 167/200\n",
      "721/721 [==============================] - 0s - loss: 0.0215 - acc: 0.9986     \n",
      "Epoch 168/200\n",
      "721/721 [==============================] - 0s - loss: 0.0225 - acc: 0.9986     \n",
      "Epoch 169/200\n",
      "721/721 [==============================] - 0s - loss: 0.0192 - acc: 0.9986     \n",
      "Epoch 170/200\n",
      "721/721 [==============================] - 0s - loss: 0.0265 - acc: 0.9945     \n",
      "Epoch 171/200\n",
      "721/721 [==============================] - 0s - loss: 0.0286 - acc: 0.9875     \n",
      "Epoch 172/200\n",
      "721/721 [==============================] - 0s - loss: 0.0314 - acc: 0.9958     \n",
      "Epoch 173/200\n",
      "721/721 [==============================] - 0s - loss: 0.0221 - acc: 0.9986     \n",
      "Epoch 174/200\n",
      "721/721 [==============================] - 0s - loss: 0.0166 - acc: 1.0000     \n",
      "Epoch 175/200\n"
     ]
    },
    {
     "name": "stdout",
     "output_type": "stream",
     "text": [
      "721/721 [==============================] - 0s - loss: 0.0183 - acc: 0.9986     \n",
      "Epoch 176/200\n",
      "721/721 [==============================] - 0s - loss: 0.0151 - acc: 1.0000     \n",
      "Epoch 177/200\n",
      "721/721 [==============================] - 0s - loss: 0.0151 - acc: 0.9986     \n",
      "Epoch 178/200\n",
      "721/721 [==============================] - 0s - loss: 0.0141 - acc: 1.0000     \n",
      "Epoch 179/200\n",
      "721/721 [==============================] - 0s - loss: 0.0153 - acc: 1.0000     \n",
      "Epoch 180/200\n",
      "721/721 [==============================] - 0s - loss: 0.0132 - acc: 1.0000     \n",
      "Epoch 181/200\n",
      "721/721 [==============================] - 0s - loss: 0.0160 - acc: 1.0000     \n",
      "Epoch 182/200\n",
      "721/721 [==============================] - 0s - loss: 0.0149 - acc: 1.0000     \n",
      "Epoch 183/200\n",
      "721/721 [==============================] - 0s - loss: 0.0127 - acc: 1.0000     \n",
      "Epoch 184/200\n",
      "721/721 [==============================] - 0s - loss: 0.0125 - acc: 1.0000     \n",
      "Epoch 185/200\n",
      "721/721 [==============================] - 0s - loss: 0.0128 - acc: 1.0000     \n",
      "Epoch 186/200\n",
      "721/721 [==============================] - 0s - loss: 0.0148 - acc: 0.9986     \n",
      "Epoch 187/200\n",
      "721/721 [==============================] - 0s - loss: 0.0121 - acc: 1.0000     \n",
      "Epoch 188/200\n",
      "721/721 [==============================] - 0s - loss: 0.0113 - acc: 1.0000     \n",
      "Epoch 189/200\n",
      "721/721 [==============================] - 0s - loss: 0.0100 - acc: 1.0000     \n",
      "Epoch 190/200\n",
      "721/721 [==============================] - 0s - loss: 0.0097 - acc: 1.0000     \n",
      "Epoch 191/200\n",
      "721/721 [==============================] - 0s - loss: 0.0099 - acc: 1.0000     \n",
      "Epoch 192/200\n",
      "721/721 [==============================] - 0s - loss: 0.0120 - acc: 1.0000     \n",
      "Epoch 193/200\n",
      "721/721 [==============================] - 0s - loss: 0.0100 - acc: 1.0000     \n",
      "Epoch 194/200\n",
      "721/721 [==============================] - 0s - loss: 0.0101 - acc: 1.0000     \n",
      "Epoch 195/200\n",
      "721/721 [==============================] - 0s - loss: 0.0126 - acc: 1.0000     \n",
      "Epoch 196/200\n",
      "721/721 [==============================] - 0s - loss: 0.0090 - acc: 1.0000     \n",
      "Epoch 197/200\n",
      "721/721 [==============================] - 0s - loss: 0.0084 - acc: 1.0000     \n",
      "Epoch 198/200\n",
      "721/721 [==============================] - 0s - loss: 0.0100 - acc: 1.0000     \n",
      "Epoch 199/200\n",
      "721/721 [==============================] - 0s - loss: 0.0078 - acc: 1.0000     \n",
      "Epoch 200/200\n",
      "721/721 [==============================] - 0s - loss: 0.0076 - acc: 1.0000     - ETA: 0s - loss: 0.0065 - acc: 1.0\n"
     ]
    }
   ],
   "source": [
    "h = model.fit(images, labelsd, batch_size=32, epochs=400, verbose=1)"
   ]
  },
  {
   "cell_type": "code",
   "execution_count": 42,
   "metadata": {},
   "outputs": [
    {
     "data": {
      "text/plain": [
       "<matplotlib.axes._subplots.AxesSubplot at 0x2d1be8a9518>"
      ]
     },
     "execution_count": 42,
     "metadata": {},
     "output_type": "execute_result"
    },
    {
     "data": {
      "image/png": "[encoded data removed]",
      "text/plain": [
       "<matplotlib.figure.Figure at 0x2d1be8c6978>"
      ]
     },
     "metadata": {},
     "output_type": "display_data"
    }
   ],
   "source": [
    "#print History graph\n",
    "historydf = pd.DataFrame(h.history, index=h.epoch)\n",
    "historydf.plot(ylim=(0,1))"
   ]
  },
  {
   "cell_type": "code",
   "execution_count": 43,
   "metadata": {},
   "outputs": [
    {
     "data": {
      "text/plain": [
       "(array([0, 0, 0, 0, 0, 0, 0, 0, 0, 0, 0, 0, 0, 0, 0, 0, 0, 0, 0, 0, 0, 0, 0,\n",
       "        0, 0, 0, 0, 0, 0, 0, 0, 0, 0, 0, 0, 0, 0, 0, 0, 1, 0, 0, 0, 1, 0, 0,\n",
       "        0, 0, 0, 0, 1, 0, 0, 0, 0, 0, 0, 0, 0, 0, 0, 0, 1, 0, 0, 0, 1, 0, 0,\n",
       "        0, 0, 0, 0, 0, 0, 1, 0, 0, 0, 0, 1, 1, 0, 0, 0, 0, 0, 0, 1, 0, 0, 0,\n",
       "        1, 0, 0, 0, 0, 1, 0, 1, 1, 1, 1, 0, 0, 1, 1, 1, 0, 1, 0, 0, 1, 0, 0,\n",
       "        1, 0, 0, 1, 0, 0, 1, 1, 1, 1, 0, 0, 1, 1, 1, 1, 1, 1, 0, 1, 1, 1, 1,\n",
       "        1, 1, 1, 1, 1, 1, 1, 1, 1, 0, 1, 0, 0, 1, 1, 1, 1], dtype=int64),\n",
       " array([0, 0, 0, 0, 0, 0, 0, 0, 0, 0, 0, 0, 0, 0, 0, 0, 0, 0, 0, 0, 0, 0, 0,\n",
       "        0, 0, 0, 0, 0, 0, 0, 0, 0, 0, 0, 0, 0, 0, 0, 0, 0, 0, 0, 0, 0, 0, 0,\n",
       "        0, 0, 0, 0, 0, 0, 0, 0, 0, 0, 0, 0, 0, 0, 0, 0, 0, 0, 0, 0, 0, 0, 0,\n",
       "        0, 0, 0, 0, 0, 0, 0, 0, 0, 0, 0, 0, 0, 0, 0, 0, 0, 0, 0, 0, 0, 0, 0,\n",
       "        0, 0, 0, 0, 0, 0, 0, 0, 1, 1, 1, 1, 1, 1, 1, 1, 1, 1, 1, 1, 1, 1, 1,\n",
       "        1, 1, 1, 1, 1, 1, 1, 1, 1, 1, 1, 1, 1, 1, 1, 1, 1, 1, 1, 1, 1, 1, 1,\n",
       "        1, 1, 1, 1, 1, 1, 1, 1, 1, 1, 1, 1, 1, 1, 1, 1, 1]))"
      ]
     },
     "execution_count": 43,
     "metadata": {},
     "output_type": "execute_result"
    }
   ],
   "source": [
    "# Get predictions\n",
    "all_preds = np.argmax(model.predict(images_val), axis=1)\n",
    "\n",
    "all_preds, labels_val"
   ]
  },
  {
   "cell_type": "code",
   "execution_count": 44,
   "metadata": {},
   "outputs": [
    {
     "data": {
      "text/plain": [
       "0.1870967741935484"
      ]
     },
     "execution_count": 44,
     "metadata": {},
     "output_type": "execute_result"
    }
   ],
   "source": [
    "import math\n",
    "i = 0\n",
    "res = 0\n",
    "for value in all_preds:\n",
    "    if value != labels_val[i]:\n",
    "        res = res + 1\n",
    "    i = i + 1\n",
    "res/i"
   ]
  },
  {
   "cell_type": "code",
   "execution_count": null,
   "metadata": {},
   "outputs": [],
   "source": []
  },
  {
   "cell_type": "code",
   "execution_count": null,
   "metadata": {},
   "outputs": [],
   "source": []
  },
  {
   "cell_type": "code",
   "execution_count": 45,
   "metadata": {},
   "outputs": [],
   "source": [
    "model.save('model-'+dataset+'-anticipation_clean.h5')"
   ]
  },
  {
   "cell_type": "code",
   "execution_count": null,
   "metadata": {},
   "outputs": [],
   "source": []
  },
  {
   "cell_type": "code",
   "execution_count": null,
   "metadata": {},
   "outputs": [],
   "source": []
  },
  {
   "cell_type": "code",
   "execution_count": null,
   "metadata": {},
   "outputs": [],
   "source": []
  },
  {
   "cell_type": "code",
   "execution_count": null,
   "metadata": {},
   "outputs": [],
   "source": []
  }
 ],
 "metadata": {
  "kernelspec": {
   "display_name": "Python 3",
   "language": "python",
   "name": "python3"
  },
  "language_info": {
   "codemirror_mode": {
    "name": "ipython",
    "version": 3
   },
   "file_extension": ".py",
   "mimetype": "text/x-python",
   "name": "python",
   "nbconvert_exporter": "python",
   "pygments_lexer": "ipython3",
   "version": "3.5.5"
  }
 },
 "nbformat": 4,
 "nbformat_minor": 2
}
