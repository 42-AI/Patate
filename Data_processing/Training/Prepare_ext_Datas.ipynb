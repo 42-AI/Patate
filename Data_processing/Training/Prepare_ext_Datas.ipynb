{
 "cells": [
  {
   "cell_type": "code",
   "execution_count": 6,
   "metadata": {},
   "outputs": [],
   "source": [
    "from os import listdir\n",
    "from keras.preprocessing.image import load_img\n",
    "from keras.preprocessing.image import img_to_array\n",
    "from PIL import Image\n",
    "import numpy as np\n",
    "import pandas as pd\n",
    "%matplotlib inline\n",
    "import matplotlib.pyplot as plt\n",
    "import time\n",
    "import cv2\n"
   ]
  },
  {
   "cell_type": "code",
   "execution_count": 11,
   "metadata": {},
   "outputs": [],
   "source": [
    "# load images from both train and test groups\n",
    "#data = np.load(\"../../../../Datasets_Axionable/ironcar_data/old_track/balanced_iron_X.npy\")\n",
    "#labelsd = np.load(\"../../../../Datasets_Axionable/ironcar_data/old_track/balanced_iron_Y.npy\")\n",
    "data = np.load(\"../../../../Datasets_Axionable/ironcar_data/new_track/x_chicane.npy\")\n",
    "labelsd = np.load(\"../../../../Datasets_Axionable/ironcar_data/new_track/y_chicane.npy\")"
   ]
  },
  {
   "cell_type": "code",
   "execution_count": null,
   "metadata": {},
   "outputs": [],
   "source": []
  },
  {
   "cell_type": "code",
   "execution_count": null,
   "metadata": {},
   "outputs": [],
   "source": [
    "\n",
    "\n",
    "for idx, image in enumerate(data):\n",
    "    img_name = \"../../../../Datasets_Axionable/ironcar_pics/\" + str(np.argmax(labelsd[idx])) + \"_\" + str(time.time()) + \".jpg\"\n",
    "    img = cv2.resize(image, dsize=(160, 96), interpolation=cv2.INTER_CUBIC)\n",
    "    cv2.imwrite(img_name, cv2.cvtColor(img, cv2.COLOR_RGB2BGR))\n"
   ]
  },
  {
   "cell_type": "code",
   "execution_count": null,
   "metadata": {},
   "outputs": [],
   "source": []
  },
  {
   "cell_type": "code",
   "execution_count": null,
   "metadata": {},
   "outputs": [],
   "source": [
    "plt.imshow(data[11], cmap=\"gray\")\n",
    "plt.show\n",
    "len(data)"
   ]
  },
  {
   "cell_type": "code",
   "execution_count": null,
   "metadata": {},
   "outputs": [],
   "source": []
  }
 ],
 "metadata": {
  "kernelspec": {
   "display_name": "Python 3",
   "language": "python",
   "name": "python3"
  },
  "language_info": {
   "codemirror_mode": {
    "name": "ipython",
    "version": 3
   },
   "file_extension": ".py",
   "mimetype": "text/x-python",
   "name": "python",
   "nbconvert_exporter": "python",
   "pygments_lexer": "ipython3",
   "version": "3.6.5"
  }
 },
 "nbformat": 4,
 "nbformat_minor": 2
}
