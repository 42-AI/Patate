{
 "cells": [
  {
   "cell_type": "code",
   "execution_count": 1,
   "metadata": {},
   "outputs": [
    {
     "name": "stderr",
     "output_type": "stream",
     "text": [
      "C:\\Users\\Rock_\\Anaconda3\\lib\\site-packages\\h5py\\__init__.py:36: FutureWarning: Conversion of the second argument of issubdtype from `float` to `np.floating` is deprecated. In future, it will be treated as `np.float64 == np.dtype(float).type`.\n",
      "  from ._conv import register_converters as _register_converters\n",
      "Using TensorFlow backend.\n"
     ]
    }
   ],
   "source": [
    "from os import listdir\n",
    "from keras.preprocessing.image import load_img\n",
    "from keras.preprocessing.image import img_to_array\n",
    "from PIL import Image\n",
    "import numpy as np\n",
    "import pandas as pd\n",
    "%matplotlib inline\n",
    "import matplotlib.pyplot as plt\n",
    "import random"
   ]
  },
  {
   "cell_type": "code",
   "execution_count": 2,
   "metadata": {},
   "outputs": [],
   "source": [
    "def load_photos(directory):\n",
    "    images = []\n",
    "    labels_speed = []\n",
    "    labels_dir = []\n",
    "    dir_list = listdir(directory)\n",
    "    random.shuffle(dir_list)\n",
    "    for name in dir_list:\n",
    "        filename = directory + '/' + name\n",
    "        # load an image from file\n",
    "        image = load_img(filename, target_size=(96, 160))\n",
    "        # convert the image pixels to a numpy array\n",
    "        image = img_to_array(image)\n",
    "        # get image id + labels\n",
    "        value_dir = float(name.split('_')[1])\n",
    "        value_speed = float(name.split('_')[0])\n",
    "        labels_dir.append(value_dir)\n",
    "        labels_speed.append(value_speed)\n",
    "        images.append(image)\n",
    "    return images, labels_speed, labels_dir"
   ]
  },
  {
   "cell_type": "code",
   "execution_count": 3,
   "metadata": {},
   "outputs": [],
   "source": [
    "dataset = \"Pics/BigOne_Race_5\"\n",
    "#dataset = \"Pics/SchoolTrack/SchoolTrack_Cleaned_Mirrored_5\"\n",
    "#dataset = \"Pics/RaceTrack/NewTrack_noFE_Cleaned_Mirrored_5\""
   ]
  },
  {
   "cell_type": "code",
   "execution_count": 5,
   "metadata": {},
   "outputs": [
    {
     "name": "stdout",
     "output_type": "stream",
     "text": [
      "Loaded Images and labels for training: 7953\n"
     ]
    }
   ],
   "source": [
    "# load images from both train and test groups\n",
    "directory = '../../../../'+dataset+'/Train'\n",
    "images, labels_speed, labels_dir = load_photos(directory)\n",
    "nb_images = len(images)\n",
    "print('Loaded Images and labels for training: %d' % nb_images)"
   ]
  },
  {
   "cell_type": "code",
   "execution_count": null,
   "metadata": {},
   "outputs": [],
   "source": []
  },
  {
   "cell_type": "code",
   "execution_count": 6,
   "metadata": {},
   "outputs": [],
   "source": [
    "#Normalise images\n",
    "images = np.array(images)\n",
    "images /= 255"
   ]
  },
  {
   "cell_type": "code",
   "execution_count": 7,
   "metadata": {},
   "outputs": [],
   "source": [
    "#convert datas to dummyvalues\n",
    "labels_speed = np.array(pd.get_dummies(labels_speed))\n",
    "labels_dir = np.array(pd.get_dummies(labels_dir))"
   ]
  },
  {
   "cell_type": "code",
   "execution_count": 8,
   "metadata": {},
   "outputs": [
    {
     "data": {
      "text/plain": [
       "(array([0, 1], dtype=uint8),\n",
       " array([0, 0, 1, 0, 0], dtype=uint8),\n",
       " <matplotlib.image.AxesImage at 0x183954e0438>)"
      ]
     },
     "execution_count": 8,
     "metadata": {},
     "output_type": "execute_result"
    },
    {
     "data": {
      "image/png": "[encoded data removed]",
      "text/plain": [
       "<Figure size 432x288 with 1 Axes>"
      ]
     },
     "metadata": {},
     "output_type": "display_data"
    }
   ],
   "source": [
    "labels_speed[42], labels_dir[42], plt.imshow(images[42])"
   ]
  },
  {
   "cell_type": "code",
   "execution_count": null,
   "metadata": {},
   "outputs": [],
   "source": []
  },
  {
   "cell_type": "code",
   "execution_count": 9,
   "metadata": {},
   "outputs": [],
   "source": [
    "from keras.models import Model, Sequential\n",
    "from keras.layers import *\n",
    "import keras.backend as K\n",
    "import keras.optimizers as Optimizers\n",
    "import keras.callbacks"
   ]
  },
  {
   "cell_type": "code",
   "execution_count": 10,
   "metadata": {},
   "outputs": [],
   "source": [
    "#from keras.models import load_model\n",
    "#model = load_model(\"model.h5\")"
   ]
  },
  {
   "cell_type": "code",
   "execution_count": null,
   "metadata": {},
   "outputs": [],
   "source": []
  },
  {
   "cell_type": "code",
   "execution_count": 11,
   "metadata": {},
   "outputs": [
    {
     "name": "stdout",
     "output_type": "stream",
     "text": [
      "__________________________________________________________________________________________________\n",
      "Layer (type)                    Output Shape         Param #     Connected to                     \n",
      "==================================================================================================\n",
      "img_in (InputLayer)             (None, 96, 160, 3)   0                                            \n",
      "__________________________________________________________________________________________________\n",
      "conv2d_1 (Conv2D)               (None, 47, 79, 16)   448         img_in[0][0]                     \n",
      "__________________________________________________________________________________________________\n",
      "max_pooling2d_1 (MaxPooling2D)  (None, 24, 40, 16)   0           conv2d_1[0][0]                   \n",
      "__________________________________________________________________________________________________\n",
      "activation_1 (Activation)       (None, 24, 40, 16)   0           max_pooling2d_1[0][0]            \n",
      "__________________________________________________________________________________________________\n",
      "batch_normalization_1 (BatchNor (None, 24, 40, 16)   64          activation_1[0][0]               \n",
      "__________________________________________________________________________________________________\n",
      "conv2d_3 (Conv2D)               (None, 24, 40, 32)   3616        batch_normalization_1[0][0]      \n",
      "__________________________________________________________________________________________________\n",
      "activation_2 (Activation)       (None, 24, 40, 32)   0           conv2d_3[0][0]                   \n",
      "__________________________________________________________________________________________________\n",
      "conv2d_4 (Conv2D)               (None, 24, 40, 32)   7200        activation_2[0][0]               \n",
      "__________________________________________________________________________________________________\n",
      "batch_normalization_2 (BatchNor (None, 24, 40, 32)   128         conv2d_4[0][0]                   \n",
      "__________________________________________________________________________________________________\n",
      "conv2d_2 (Conv2D)               (None, 24, 40, 32)   544         batch_normalization_1[0][0]      \n",
      "__________________________________________________________________________________________________\n",
      "activation_3 (Activation)       (None, 24, 40, 32)   0           batch_normalization_2[0][0]      \n",
      "__________________________________________________________________________________________________\n",
      "concatenate_1 (Concatenate)     (None, 24, 40, 64)   0           conv2d_2[0][0]                   \n",
      "                                                                 activation_3[0][0]               \n",
      "__________________________________________________________________________________________________\n",
      "conv2d_5 (Conv2D)               (None, 10, 18, 32)   51232       concatenate_1[0][0]              \n",
      "__________________________________________________________________________________________________\n",
      "conv2d_6 (Conv2D)               (None, 3, 7, 64)     51264       conv2d_5[0][0]                   \n",
      "__________________________________________________________________________________________________\n",
      "conv2d_7 (Conv2D)               (None, 1, 3, 64)     36928       conv2d_6[0][0]                   \n",
      "__________________________________________________________________________________________________\n",
      "batch_normalization_3 (BatchNor (None, 1, 3, 64)     256         conv2d_7[0][0]                   \n",
      "__________________________________________________________________________________________________\n",
      "flatten_1 (Flatten)             (None, 192)          0           batch_normalization_3[0][0]      \n",
      "__________________________________________________________________________________________________\n",
      "dense_1 (Dense)                 (None, 1124)         216932      flatten_1[0][0]                  \n",
      "__________________________________________________________________________________________________\n",
      "batch_normalization_4 (BatchNor (None, 1124)         4496        dense_1[0][0]                    \n",
      "__________________________________________________________________________________________________\n",
      "activation_4 (Activation)       (None, 1124)         0           batch_normalization_4[0][0]      \n",
      "__________________________________________________________________________________________________\n",
      "dropout_1 (Dropout)             (None, 1124)         0           activation_4[0][0]               \n",
      "__________________________________________________________________________________________________\n",
      "dense_2 (Dense)                 (None, 100)          112400      dropout_1[0][0]                  \n",
      "__________________________________________________________________________________________________\n",
      "batch_normalization_5 (BatchNor (None, 100)          400         dense_2[0][0]                    \n",
      "__________________________________________________________________________________________________\n",
      "activation_5 (Activation)       (None, 100)          0           batch_normalization_5[0][0]      \n",
      "__________________________________________________________________________________________________\n",
      "dropout_2 (Dropout)             (None, 100)          0           activation_5[0][0]               \n",
      "__________________________________________________________________________________________________\n",
      "dense_3 (Dense)                 (None, 50)           5000        dropout_2[0][0]                  \n",
      "__________________________________________________________________________________________________\n",
      "batch_normalization_6 (BatchNor (None, 50)           200         dense_3[0][0]                    \n",
      "__________________________________________________________________________________________________\n",
      "activation_6 (Activation)       (None, 50)           0           batch_normalization_6[0][0]      \n",
      "__________________________________________________________________________________________________\n",
      "dense_4 (Dense)                 (None, 10)           500         activation_6[0][0]               \n",
      "__________________________________________________________________________________________________\n",
      "batch_normalization_7 (BatchNor (None, 10)           40          dense_4[0][0]                    \n",
      "__________________________________________________________________________________________________\n",
      "activation_7 (Activation)       (None, 10)           0           batch_normalization_7[0][0]      \n",
      "__________________________________________________________________________________________________\n",
      "dense_5 (Dense)                 (None, 2)            22          activation_7[0][0]               \n",
      "__________________________________________________________________________________________________\n",
      "dense_6 (Dense)                 (None, 5)            55          activation_7[0][0]               \n",
      "==================================================================================================\n",
      "Total params: 491,725\n",
      "Trainable params: 488,933\n",
      "Non-trainable params: 2,792\n",
      "__________________________________________________________________________________________________\n"
     ]
    }
   ],
   "source": [
    "'''\n",
    "Model from https://github.com/rdjondo/CarND-Behavioral-Cloning-P3/blob/master/model.py, inspired from Inception V4\n",
    "'''\n",
    "\n",
    "K.clear_session()\n",
    "############################################################# \n",
    "\n",
    "img_in = Input(shape=(96, 160, 3), name='img_in')\n",
    "x = img_in\n",
    "\n",
    "model_stem = Convolution2D(16, (3, 3), strides=(2,2), padding='valid')(x)\n",
    "model_stem = MaxPooling2D(pool_size=(2, 2), strides=None, padding='same') (model_stem)\n",
    "branch_input = Activation('elu')(model_stem)\n",
    "\n",
    "branch_input = BatchNormalization() (branch_input)\n",
    "\n",
    "left_branch = Convolution2D(32, (1 , 1), padding='same')(branch_input)\n",
    "\n",
    "right_branch = Convolution2D(32, (7, 1), padding='same')(branch_input)\n",
    "right_branch = Activation('elu') (right_branch)\n",
    "right_branch = Convolution2D(32, (1, 7), padding='same')(right_branch)\n",
    "right_branch = BatchNormalization() (right_branch)\n",
    "right_branch = Activation('elu') (right_branch)\n",
    "\n",
    "merged = concatenate([left_branch, right_branch]) \n",
    "\n",
    "merged = Convolution2D(32, (5, 5), strides=(2, 2), padding='valid', activation='elu')(merged)\n",
    "merged = Convolution2D(64, (5, 5), strides=(2, 2), padding='valid', activation='elu')(merged)\n",
    "merged = Convolution2D(64, (3, 3), strides=(2, 2), padding='valid', activation='elu')(merged)\n",
    "merged = BatchNormalization()(merged)\n",
    "\n",
    "x = Flatten()(merged)\n",
    "\n",
    "# Fully Connected Layers\n",
    "x = Dense(1124)(x)\n",
    "x = BatchNormalization()(x)\n",
    "x = Activation(\"relu\")(x)\n",
    "x = Dropout(0.2)(x)\n",
    "x = Dense(100, use_bias=False)(x)\n",
    "x = BatchNormalization()(x)\n",
    "x = Activation(\"relu\")(x)\n",
    "x = Dropout(0.2)(x)\n",
    "x = Dense(50, use_bias=False)(x)\n",
    "x = BatchNormalization()(x)\n",
    "x = Activation(\"relu\")(x)\n",
    "x = Dense(10, use_bias=False)(x)\n",
    "x = BatchNormalization()(x)\n",
    "x = Activation(\"relu\")(x)\n",
    "\n",
    "# Multitask Output\n",
    "out_speed = Dense(2, activation='softmax')(x)\n",
    "out_dir = Dense(5, activation='softmax')(x)\n",
    "\n",
    "\n",
    "# Compile Model\n",
    "model = Model(inputs=[img_in], outputs=[out_speed, out_dir])\n",
    "model.compile(loss='categorical_crossentropy', optimizer='adadelta', metrics=['accuracy'])\n",
    "\n",
    "model.summary()"
   ]
  },
  {
   "cell_type": "code",
   "execution_count": 15,
   "metadata": {},
   "outputs": [],
   "source": [
    "model_name=\"model_bigrace_insept_5.h5\""
   ]
  },
  {
   "cell_type": "code",
   "execution_count": 16,
   "metadata": {},
   "outputs": [],
   "source": [
    "#save best model if model improved\n",
    "best_checkpoint = keras.callbacks.ModelCheckpoint(model_name, monitor='val_loss', verbose=1, save_best_only=True, mode='min')"
   ]
  },
  {
   "cell_type": "code",
   "execution_count": null,
   "metadata": {
    "scrolled": false
   },
   "outputs": [
    {
     "name": "stdout",
     "output_type": "stream",
     "text": [
      "Train on 5567 samples, validate on 2386 samples\n",
      "Epoch 1/10\n",
      "2464/5567 [============>.................] - ETA: 19:46 - loss: 2.1015 - dense_5_loss: 0.5383 - dense_6_loss: 1.5631 - dense_5_acc: 0.7232 - dense_6_acc: 0.3145"
     ]
    }
   ],
   "source": [
    "h = model.fit(images, [labels_speed, labels_dir], batch_size=32, epochs=10, validation_split=0.3, verbose=1, callbacks=[best_checkpoint])"
   ]
  },
  {
   "cell_type": "code",
   "execution_count": null,
   "metadata": {},
   "outputs": [],
   "source": [
    "#print History graph\n",
    "historydf = pd.DataFrame(h.history, index=h.epoch)\n",
    "historydf.plot(ylim=(0,1))"
   ]
  },
  {
   "cell_type": "code",
   "execution_count": null,
   "metadata": {},
   "outputs": [],
   "source": []
  },
  {
   "cell_type": "code",
   "execution_count": null,
   "metadata": {},
   "outputs": [],
   "source": []
  },
  {
   "cell_type": "code",
   "execution_count": 66,
   "metadata": {},
   "outputs": [],
   "source": [
    "#######################  VALIDATION"
   ]
  },
  {
   "cell_type": "code",
   "execution_count": 67,
   "metadata": {},
   "outputs": [],
   "source": [
    "#from keras.models import load_model\n",
    "#model = load_model(\"../../model_multi_race5.h5\")"
   ]
  },
  {
   "cell_type": "code",
   "execution_count": 68,
   "metadata": {},
   "outputs": [],
   "source": [
    "#print(model.to_json())"
   ]
  },
  {
   "cell_type": "code",
   "execution_count": 69,
   "metadata": {},
   "outputs": [
    {
     "name": "stdout",
     "output_type": "stream",
     "text": [
      "Loaded Images and labels for validation: 350\n"
     ]
    }
   ],
   "source": [
    "directory = '../../../../'+dataset+'/Val'\n",
    "images_val, labels_speed_val, labels_dir_val = load_photos(directory)\n",
    "nb_images_val = len(images_val)\n",
    "print('Loaded Images and labels for validation: %d' % nb_images_val)"
   ]
  },
  {
   "cell_type": "code",
   "execution_count": 70,
   "metadata": {},
   "outputs": [],
   "source": [
    "images_val = np.array(images_val)\n",
    "images_val /= 255"
   ]
  },
  {
   "cell_type": "code",
   "execution_count": null,
   "metadata": {},
   "outputs": [],
   "source": []
  },
  {
   "cell_type": "code",
   "execution_count": 71,
   "metadata": {},
   "outputs": [],
   "source": [
    "# Get predictions\n",
    "all_preds = model.predict(images_val)\n",
    "\n",
    "speed_preds = []\n",
    "for elem in all_preds[0]:\n",
    "    speed_preds.append(np.argmax(elem))\n",
    "    \n",
    "dir_preds = []\n",
    "for elem in all_preds[1]:\n",
    "    dir_preds.append(np.argmax(elem))"
   ]
  },
  {
   "cell_type": "code",
   "execution_count": 72,
   "metadata": {},
   "outputs": [
    {
     "name": "stdout",
     "output_type": "stream",
     "text": [
      "error_rate = 0.07736389684813753\n"
     ]
    }
   ],
   "source": [
    "res = 0\n",
    "for i, value in enumerate(speed_preds):\n",
    "    if value != labels_speed_val[i]:\n",
    "        res += 1\n",
    "print(\"error_rate = \" + str(res/i))"
   ]
  },
  {
   "cell_type": "code",
   "execution_count": 73,
   "metadata": {},
   "outputs": [
    {
     "name": "stdout",
     "output_type": "stream",
     "text": [
      "total error = 0.15472779369627507 0_error = 0.13725490196078433 1_error = 0.19444444444444445 2_error = 0.07272727272727272 3_error = 0.17567567567567569 4_error = 0.25\n"
     ]
    }
   ],
   "source": [
    "res = 0\n",
    "\n",
    "i_0 = 1\n",
    "res_0 = 0\n",
    "res_0_1 = 0\n",
    "res_0_2 = 0\n",
    "res_0_3 = 0\n",
    "res_0_4 = 0\n",
    "\n",
    "i_1 = 1\n",
    "res_1 = 0\n",
    "res_1_1 = 0\n",
    "res_1_2 = 0\n",
    "res_1_3 = 0\n",
    "\n",
    "i_2 = 1\n",
    "res_2 = 0\n",
    "res_2_1 = 0\n",
    "res_2_2 = 0\n",
    "\n",
    "i_3 = 1\n",
    "res_3 = 0\n",
    "res_3_1 = 0\n",
    "res_3_2 = 0\n",
    "res_3_3 = 0\n",
    "\n",
    "i_4 = 1\n",
    "res_4 = 0\n",
    "res_4_1 = 0\n",
    "res_4_2 = 0\n",
    "res_4_3 = 0\n",
    "res_4_4 = 0\n",
    "\n",
    "for value in labels_dir_val:\n",
    "    if value == 0:\n",
    "        i_0 += 1\n",
    "    elif value == 1:\n",
    "        i_1 += 1\n",
    "    elif value == 2:\n",
    "        i_2 += 1\n",
    "    elif value == 3:\n",
    "        i_3 += 1\n",
    "    elif value == 4:\n",
    "        i_4 += 1\n",
    "\n",
    "for i, value in enumerate(dir_preds):\n",
    "    if value != labels_dir_val[i]:\n",
    "        res += 1\n",
    "        if labels_dir_val[i] == 0:    \n",
    "            res_0 += 1\n",
    "            if abs(labels_dir_val[i] - value) == 1:\n",
    "                res_0_1 += 1\n",
    "            elif abs(labels_dir_val[i] - value) == 2:\n",
    "                res_0_2 += 1\n",
    "            elif abs(labels_dir_val[i] - value) == 3:\n",
    "                res_0_3 += 1\n",
    "            elif abs(labels_dir_val[i] - value) == 4:\n",
    "                res_0_4 += 1\n",
    "        elif labels_dir_val[i] == 1:\n",
    "            res_1 += 1\n",
    "            if abs(labels_dir_val[i] - value) == 1:\n",
    "                res_1_1 += 1\n",
    "            elif abs(labels_dir_val[i] - value) == 2:\n",
    "                res_1_2 += 1\n",
    "            elif abs(labels_dir_val[i] - value) == 3:\n",
    "                res_1_3 += 1\n",
    "        elif labels_dir_val[i] == 2:\n",
    "            res_2 += 1\n",
    "            if abs(labels_dir_val[i] - value) == 1:\n",
    "                res_2_1 += 1\n",
    "            elif abs(labels_dir_val[i] - value) == 2:\n",
    "                res_2_2 += 1\n",
    "        elif labels_dir_val[i] == 3:\n",
    "            res_3 += 1\n",
    "            if abs(labels_dir_val[i] - value) == 1:\n",
    "                res_3_1 += 1\n",
    "            elif abs(labels_dir_val[i] - value) == 2:\n",
    "                res_3_2 += 1\n",
    "            elif abs(labels_dir_val[i] - value) == 3:\n",
    "                res_3_3 += 1\n",
    "        elif labels_dir_val[i] == 4:\n",
    "            res_4 += 1\n",
    "            if abs(labels_dir_val[i] - value) == 1:\n",
    "                res_4_1 += 1\n",
    "            elif abs(labels_dir_val[i] - value) == 2:\n",
    "                res_4_2 += 1\n",
    "            elif abs(labels_dir_val[i] - value) == 3:\n",
    "                res_4_3 += 1\n",
    "            elif abs(labels_dir_val[i] - value) == 4:\n",
    "                res_4_4 += 1\n",
    "\n",
    "        \n",
    "print(\"total error = \" + str(res/i), \"0_error = \" + str(res_0/i_0), \"1_error = \" + str(res_1/i_1), \"2_error = \" + str(res_2/i_2), \"3_error = \" + str(res_3/i_3), \"4_error = \" + str(res_4/i_4), )"
   ]
  },
  {
   "cell_type": "code",
   "execution_count": 74,
   "metadata": {},
   "outputs": [
    {
     "data": {
      "text/plain": [
       "Text(0.5,1,'Mean Errors by direction')"
      ]
     },
     "execution_count": 74,
     "metadata": {},
     "output_type": "execute_result"
    },
    {
     "data": {
      "image/png": "[encoded data removed]",
      "text/plain": [
       "<Figure size 432x288 with 1 Axes>"
      ]
     },
     "metadata": {},
     "output_type": "display_data"
    }
   ],
   "source": [
    "x = ['0','1','2','3','4']\n",
    "plt.bar(x, height= [res_0/i_0, res_1/i_1, res_2/i_2, res_3/i_3, res_4/i_4])\n",
    "plt.xticks(x, ['0','1','2','3','4']);\n",
    "plt.title(\"Mean Errors by direction\")"
   ]
  },
  {
   "cell_type": "code",
   "execution_count": 75,
   "metadata": {},
   "outputs": [
    {
     "data": {
      "text/plain": [
       "Text(0.5,1,'0 Errors')"
      ]
     },
     "execution_count": 75,
     "metadata": {},
     "output_type": "execute_result"
    },
    {
     "data": {
      "image/png": "[encoded data removed]",
      "text/plain": [
       "<Figure size 432x288 with 1 Axes>"
      ]
     },
     "metadata": {},
     "output_type": "display_data"
    }
   ],
   "source": [
    "x = ['1','2','3','4']\n",
    "plt.bar(x, height= [res_0_1/res_0, res_0_2/res_0, res_0_3/res_0, res_0_4/res_0])\n",
    "plt.xticks(x, ['1','2','3','4']);\n",
    "plt.title(\"0 Errors\")"
   ]
  },
  {
   "cell_type": "code",
   "execution_count": 76,
   "metadata": {},
   "outputs": [
    {
     "data": {
      "text/plain": [
       "Text(0.5,1,'1 Errors')"
      ]
     },
     "execution_count": 76,
     "metadata": {},
     "output_type": "execute_result"
    },
    {
     "data": {
      "image/png": "[encoded data removed]",
      "text/plain": [
       "<Figure size 432x288 with 1 Axes>"
      ]
     },
     "metadata": {},
     "output_type": "display_data"
    }
   ],
   "source": [
    "x = ['1','2','3']\n",
    "plt.bar(x, height= [res_1_1/res_1, res_1_2/res_1, res_1_3/res_1])\n",
    "plt.xticks(x, ['0, 2','3', '4']);\n",
    "plt.title(\"1 Errors\")"
   ]
  },
  {
   "cell_type": "code",
   "execution_count": 77,
   "metadata": {},
   "outputs": [
    {
     "data": {
      "text/plain": [
       "Text(0.5,1,'2 Errors')"
      ]
     },
     "execution_count": 77,
     "metadata": {},
     "output_type": "execute_result"
    },
    {
     "data": {
      "image/png": "[encoded data removed]",
      "text/plain": [
       "<Figure size 432x288 with 1 Axes>"
      ]
     },
     "metadata": {},
     "output_type": "display_data"
    }
   ],
   "source": [
    "x = ['1','2']\n",
    "plt.bar(x, height= [res_2_1/res_2, res_2_2/res_2])\n",
    "plt.xticks(x, ['1, 3','0, 4']);\n",
    "plt.title(\"2 Errors\")"
   ]
  },
  {
   "cell_type": "code",
   "execution_count": 78,
   "metadata": {},
   "outputs": [
    {
     "data": {
      "text/plain": [
       "Text(0.5,1,'3 Errors')"
      ]
     },
     "execution_count": 78,
     "metadata": {},
     "output_type": "execute_result"
    },
    {
     "data": {
      "image/png": "[encoded data removed]",
      "text/plain": [
       "<Figure size 432x288 with 1 Axes>"
      ]
     },
     "metadata": {},
     "output_type": "display_data"
    }
   ],
   "source": [
    "x = ['1','2','3']\n",
    "plt.bar(x, height= [res_3_1/res_3, res_3_2/res_3, res_3_3/res_3])\n",
    "plt.xticks(x, ['2, 4','1', '0']);\n",
    "plt.title(\"3 Errors\")"
   ]
  },
  {
   "cell_type": "code",
   "execution_count": 79,
   "metadata": {},
   "outputs": [
    {
     "data": {
      "text/plain": [
       "Text(0.5,1,'4 Errors')"
      ]
     },
     "execution_count": 79,
     "metadata": {},
     "output_type": "execute_result"
    },
    {
     "data": {
      "image/png": "[encoded data removed]",
      "text/plain": [
       "<Figure size 432x288 with 1 Axes>"
      ]
     },
     "metadata": {},
     "output_type": "display_data"
    }
   ],
   "source": [
    "x = ['1','2','3','4']\n",
    "plt.bar(x, height= [res_4_1/res_4, res_4_2/res_4, res_4_3/res_4, res_4_4/res_4])\n",
    "plt.xticks(x, ['3','2','1','0']);\n",
    "plt.title(\"4 Errors\")"
   ]
  },
  {
   "cell_type": "code",
   "execution_count": null,
   "metadata": {},
   "outputs": [],
   "source": []
  },
  {
   "cell_type": "code",
   "execution_count": null,
   "metadata": {},
   "outputs": [],
   "source": []
  }
 ],
 "metadata": {
  "kernelspec": {
   "display_name": "Python 3",
   "language": "python",
   "name": "python3"
  },
  "language_info": {
   "codemirror_mode": {
    "name": "ipython",
    "version": 3
   },
   "file_extension": ".py",
   "mimetype": "text/x-python",
   "name": "python",
   "nbconvert_exporter": "python",
   "pygments_lexer": "ipython3",
   "version": "3.6.5"
  }
 },
 "nbformat": 4,
 "nbformat_minor": 2
}
