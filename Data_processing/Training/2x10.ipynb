{
 "cells": [
  {
   "cell_type": "code",
   "execution_count": 1,
   "metadata": {},
   "outputs": [
    {
     "name": "stderr",
     "output_type": "stream",
     "text": [
      "Using TensorFlow backend.\n"
     ]
    }
   ],
   "source": [
    "from os import listdir\n",
    "from keras.preprocessing.image import load_img\n",
    "from keras.preprocessing.image import img_to_array\n",
    "from PIL import Image\n",
    "import numpy as np\n",
    "import pandas as pd\n",
    "%matplotlib inline\n",
    "import matplotlib.pyplot as plt"
   ]
  },
  {
   "cell_type": "code",
   "execution_count": 8,
   "metadata": {},
   "outputs": [],
   "source": [
    "def load_photos(directory):\n",
    "    images = []\n",
    "    labels1 = []\n",
    "    labels2 = []\n",
    "    for name in listdir(directory):\n",
    "        filename = directory + '/' + name\n",
    "        # convert image to gray\n",
    "        #img = Image.open(filename).convert('L')\n",
    "        #img.save(filename)\n",
    "        # load an image from file\n",
    "        image = load_img(filename, target_size=(160, 128))\n",
    "        # convert the image pixels to a numpy array\n",
    "        image = img_to_array(image)\n",
    "        # get image id + labels\n",
    "        labels1.append(round(float(name.split('_')[0].split('-')[0]), 1))\n",
    "        labels2.append(round(float(name.split('_')[0].split('-')[1]), 1))\n",
    "        images.append(image)\n",
    "    return images, labels1, labels2"
   ]
  },
  {
   "cell_type": "code",
   "execution_count": 29,
   "metadata": {},
   "outputs": [
    {
     "name": "stdout",
     "output_type": "stream",
     "text": [
      "Loaded Images and labels for training: 896\n",
      "Loaded Images and labels for validation: 150\n"
     ]
    }
   ],
   "source": [
    "# load images from both train and test groups\n",
    "directory = '../data/Patate_Pics/Training'\n",
    "images, labels1, labels2 = load_photos(directory)\n",
    "nb_images = len(images)\n",
    "print('Loaded Images and labels for training: %d' % nb_images)\n",
    "directory = '../data/Patate_Pics/Validation'\n",
    "images_val, labels1_val, labels2_val = load_photos(directory)\n",
    "nb_images_val = len(images_val)\n",
    "print('Loaded Images and labels for validation: %d' % nb_images_val)"
   ]
  },
  {
   "cell_type": "code",
   "execution_count": 30,
   "metadata": {
    "scrolled": false
   },
   "outputs": [],
   "source": [
    "#normalise datas\n",
    "images = np.array(images)\n",
    "images /= 255\n",
    "images_val = np.array(images_val)\n",
    "images_val /= 255"
   ]
  },
  {
   "cell_type": "code",
   "execution_count": 31,
   "metadata": {},
   "outputs": [],
   "source": [
    "#convert to np.array\n",
    "labels1 = np.array(labels1)\n",
    "labels2 = np.array(labels2)\n",
    "labels1_val = np.array(labels1_val)\n",
    "labels2_val = np.array(labels2_val)"
   ]
  },
  {
   "cell_type": "code",
   "execution_count": null,
   "metadata": {},
   "outputs": [],
   "source": []
  },
  {
   "cell_type": "code",
   "execution_count": 32,
   "metadata": {},
   "outputs": [],
   "source": [
    "#convert datas to dummyvalues\n",
    "labels1d = pd.get_dummies(labels1)\n",
    "labels2d = pd.get_dummies(labels2)"
   ]
  },
  {
   "cell_type": "code",
   "execution_count": 33,
   "metadata": {},
   "outputs": [
    {
     "data": {
      "text/plain": [
       "(     0.2  0.3  0.4  0.5  0.6  0.7  0.8  0.9  1.0\n",
       " 0      1    0    0    0    0    0    0    0    0\n",
       " 1      0    1    0    0    0    0    0    0    0\n",
       " 2      0    1    0    0    0    0    0    0    0\n",
       " 3      0    1    0    0    0    0    0    0    0\n",
       " 4      0    1    0    0    0    0    0    0    0\n",
       " 5      0    1    0    0    0    0    0    0    0\n",
       " 6      0    1    0    0    0    0    0    0    0\n",
       " 7      0    0    1    0    0    0    0    0    0\n",
       " 8      0    0    1    0    0    0    0    0    0\n",
       " 9      0    0    1    0    0    0    0    0    0\n",
       " 10     0    0    1    0    0    0    0    0    0\n",
       " 11     0    0    1    0    0    0    0    0    0\n",
       " 12     0    0    1    0    0    0    0    0    0\n",
       " 13     0    0    0    1    0    0    0    0    0\n",
       " 14     0    0    0    1    0    0    0    0    0\n",
       " 15     0    0    0    1    0    0    0    0    0\n",
       " 16     0    0    0    1    0    0    0    0    0\n",
       " 17     0    0    0    1    0    0    0    0    0\n",
       " 18     0    0    0    1    0    0    0    0    0\n",
       " 19     0    0    0    1    0    0    0    0    0\n",
       " 20     0    0    0    1    0    0    0    0    0\n",
       " 21     0    0    0    1    0    0    0    0    0\n",
       " 22     0    0    0    1    0    0    0    0    0\n",
       " 23     0    0    0    1    0    0    0    0    0\n",
       " 24     0    0    0    1    0    0    0    0    0\n",
       " 25     0    0    0    1    0    0    0    0    0\n",
       " 26     0    0    0    1    0    0    0    0    0\n",
       " 27     0    0    0    1    0    0    0    0    0\n",
       " 28     0    0    0    1    0    0    0    0    0\n",
       " 29     0    0    0    1    0    0    0    0    0\n",
       " ..   ...  ...  ...  ...  ...  ...  ...  ...  ...\n",
       " 866    0    0    0    0    0    0    0    1    0\n",
       " 867    0    0    0    0    0    0    0    1    0\n",
       " 868    0    0    0    0    0    0    0    1    0\n",
       " 869    0    0    0    0    0    0    0    1    0\n",
       " 870    0    0    0    0    0    0    0    1    0\n",
       " 871    0    0    0    0    0    0    0    1    0\n",
       " 872    0    0    0    0    0    0    0    1    0\n",
       " 873    0    0    0    0    0    0    0    1    0\n",
       " 874    0    0    0    0    0    0    0    1    0\n",
       " 875    0    0    0    0    0    0    0    1    0\n",
       " 876    0    0    0    0    0    0    0    1    0\n",
       " 877    0    0    0    0    0    0    0    1    0\n",
       " 878    0    0    0    0    0    0    0    1    0\n",
       " 879    0    0    0    0    0    0    0    1    0\n",
       " 880    0    0    0    0    0    0    0    1    0\n",
       " 881    0    0    0    0    0    0    0    1    0\n",
       " 882    0    0    0    0    0    0    0    1    0\n",
       " 883    0    0    0    0    0    0    0    1    0\n",
       " 884    0    0    0    0    0    0    0    1    0\n",
       " 885    0    0    0    0    0    0    0    1    0\n",
       " 886    0    0    0    0    0    0    0    1    0\n",
       " 887    0    0    0    0    0    0    0    0    1\n",
       " 888    0    0    0    0    0    0    0    0    1\n",
       " 889    0    0    0    0    0    0    0    0    1\n",
       " 890    0    0    0    0    0    0    0    0    1\n",
       " 891    0    0    0    0    0    0    0    0    1\n",
       " 892    0    0    0    0    0    0    0    0    1\n",
       " 893    0    0    0    0    0    0    0    0    1\n",
       " 894    0    0    0    0    0    0    0    0    1\n",
       " 895    0    0    0    0    0    0    0    0    1\n",
       " \n",
       " [896 rows x 9 columns],      0.3  0.4  0.5  0.6  0.7  0.8  0.9  1.0\n",
       " 0      0    0    0    1    0    0    0    0\n",
       " 1      1    0    0    0    0    0    0    0\n",
       " 2      0    0    0    1    0    0    0    0\n",
       " 3      0    0    0    1    0    0    0    0\n",
       " 4      1    0    0    0    0    0    0    0\n",
       " 5      0    0    0    0    1    0    0    0\n",
       " 6      0    0    0    0    1    0    0    0\n",
       " 7      0    0    1    0    0    0    0    0\n",
       " 8      0    0    0    0    1    0    0    0\n",
       " 9      0    0    0    1    0    0    0    0\n",
       " 10     0    0    0    0    1    0    0    0\n",
       " 11     0    0    1    0    0    0    0    0\n",
       " 12     0    0    0    0    1    0    0    0\n",
       " 13     1    0    0    0    0    0    0    0\n",
       " 14     0    1    0    0    0    0    0    0\n",
       " 15     0    1    0    0    0    0    0    0\n",
       " 16     0    0    1    0    0    0    0    0\n",
       " 17     0    0    1    0    0    0    0    0\n",
       " 18     0    1    0    0    0    0    0    0\n",
       " 19     0    0    1    0    0    0    0    0\n",
       " 20     0    0    0    0    1    0    0    0\n",
       " 21     0    0    0    0    1    0    0    0\n",
       " 22     0    0    0    0    1    0    0    0\n",
       " 23     0    0    0    1    0    0    0    0\n",
       " 24     0    0    0    0    1    0    0    0\n",
       " 25     0    1    0    0    0    0    0    0\n",
       " 26     0    0    1    0    0    0    0    0\n",
       " 27     0    1    0    0    0    0    0    0\n",
       " 28     0    0    1    0    0    0    0    0\n",
       " 29     0    0    0    1    0    0    0    0\n",
       " ..   ...  ...  ...  ...  ...  ...  ...  ...\n",
       " 866    0    0    0    0    0    0    1    0\n",
       " 867    0    0    0    0    0    0    1    0\n",
       " 868    0    0    0    0    1    0    0    0\n",
       " 869    0    0    0    0    0    1    0    0\n",
       " 870    0    0    0    0    0    1    0    0\n",
       " 871    0    0    0    0    0    1    0    0\n",
       " 872    0    0    0    0    0    0    1    0\n",
       " 873    0    0    0    0    0    0    1    0\n",
       " 874    0    0    0    0    0    0    0    1\n",
       " 875    0    0    0    0    0    0    0    1\n",
       " 876    0    0    0    0    0    1    0    0\n",
       " 877    0    0    0    0    0    0    1    0\n",
       " 878    0    0    0    0    0    0    1    0\n",
       " 879    0    0    0    0    0    1    0    0\n",
       " 880    0    0    0    0    0    0    1    0\n",
       " 881    0    0    0    0    0    0    0    1\n",
       " 882    0    0    0    0    1    0    0    0\n",
       " 883    0    0    0    0    0    1    0    0\n",
       " 884    0    0    0    0    0    0    1    0\n",
       " 885    0    0    0    0    0    0    1    0\n",
       " 886    0    0    0    0    0    0    0    1\n",
       " 887    0    0    0    0    0    0    1    0\n",
       " 888    0    0    0    0    0    0    0    1\n",
       " 889    0    0    0    0    0    0    1    0\n",
       " 890    0    0    0    0    0    0    1    0\n",
       " 891    0    0    0    0    0    0    0    1\n",
       " 892    0    0    0    0    1    0    0    0\n",
       " 893    0    0    0    0    0    1    0    0\n",
       " 894    0    0    0    0    0    1    0    0\n",
       " 895    0    0    0    0    0    0    1    0\n",
       " \n",
       " [896 rows x 8 columns])"
      ]
     },
     "execution_count": 33,
     "metadata": {},
     "output_type": "execute_result"
    }
   ],
   "source": [
    "labels1d.shape, labels2d.shape\n",
    "labels1d, labels2d"
   ]
  },
  {
   "cell_type": "code",
   "execution_count": 34,
   "metadata": {},
   "outputs": [
    {
     "data": {
      "text/plain": [
       "(     0.1  0.2  0.3  0.4  0.5  0.6  0.7  0.8  0.9  1.0\n",
       " 0      0    1    0    0    0    0    0    0    0    0\n",
       " 1      0    0    1    0    0    0    0    0    0    0\n",
       " 2      0    0    1    0    0    0    0    0    0    0\n",
       " 3      0    0    1    0    0    0    0    0    0    0\n",
       " 4      0    0    1    0    0    0    0    0    0    0\n",
       " 5      0    0    1    0    0    0    0    0    0    0\n",
       " 6      0    0    1    0    0    0    0    0    0    0\n",
       " 7      0    0    0    1    0    0    0    0    0    0\n",
       " 8      0    0    0    1    0    0    0    0    0    0\n",
       " 9      0    0    0    1    0    0    0    0    0    0\n",
       " 10     0    0    0    1    0    0    0    0    0    0\n",
       " 11     0    0    0    1    0    0    0    0    0    0\n",
       " 12     0    0    0    1    0    0    0    0    0    0\n",
       " 13     0    0    0    0    1    0    0    0    0    0\n",
       " 14     0    0    0    0    1    0    0    0    0    0\n",
       " 15     0    0    0    0    1    0    0    0    0    0\n",
       " 16     0    0    0    0    1    0    0    0    0    0\n",
       " 17     0    0    0    0    1    0    0    0    0    0\n",
       " 18     0    0    0    0    1    0    0    0    0    0\n",
       " 19     0    0    0    0    1    0    0    0    0    0\n",
       " 20     0    0    0    0    1    0    0    0    0    0\n",
       " 21     0    0    0    0    1    0    0    0    0    0\n",
       " 22     0    0    0    0    1    0    0    0    0    0\n",
       " 23     0    0    0    0    1    0    0    0    0    0\n",
       " 24     0    0    0    0    1    0    0    0    0    0\n",
       " 25     0    0    0    0    1    0    0    0    0    0\n",
       " 26     0    0    0    0    1    0    0    0    0    0\n",
       " 27     0    0    0    0    1    0    0    0    0    0\n",
       " 28     0    0    0    0    1    0    0    0    0    0\n",
       " 29     0    0    0    0    1    0    0    0    0    0\n",
       " ..   ...  ...  ...  ...  ...  ...  ...  ...  ...  ...\n",
       " 866    0    0    0    0    0    0    0    0    1    0\n",
       " 867    0    0    0    0    0    0    0    0    1    0\n",
       " 868    0    0    0    0    0    0    0    0    1    0\n",
       " 869    0    0    0    0    0    0    0    0    1    0\n",
       " 870    0    0    0    0    0    0    0    0    1    0\n",
       " 871    0    0    0    0    0    0    0    0    1    0\n",
       " 872    0    0    0    0    0    0    0    0    1    0\n",
       " 873    0    0    0    0    0    0    0    0    1    0\n",
       " 874    0    0    0    0    0    0    0    0    1    0\n",
       " 875    0    0    0    0    0    0    0    0    1    0\n",
       " 876    0    0    0    0    0    0    0    0    1    0\n",
       " 877    0    0    0    0    0    0    0    0    1    0\n",
       " 878    0    0    0    0    0    0    0    0    1    0\n",
       " 879    0    0    0    0    0    0    0    0    1    0\n",
       " 880    0    0    0    0    0    0    0    0    1    0\n",
       " 881    0    0    0    0    0    0    0    0    1    0\n",
       " 882    0    0    0    0    0    0    0    0    1    0\n",
       " 883    0    0    0    0    0    0    0    0    1    0\n",
       " 884    0    0    0    0    0    0    0    0    1    0\n",
       " 885    0    0    0    0    0    0    0    0    1    0\n",
       " 886    0    0    0    0    0    0    0    0    1    0\n",
       " 887    0    0    0    0    0    0    0    0    0    1\n",
       " 888    0    0    0    0    0    0    0    0    0    1\n",
       " 889    0    0    0    0    0    0    0    0    0    1\n",
       " 890    0    0    0    0    0    0    0    0    0    1\n",
       " 891    0    0    0    0    0    0    0    0    0    1\n",
       " 892    0    0    0    0    0    0    0    0    0    1\n",
       " 893    0    0    0    0    0    0    0    0    0    1\n",
       " 894    0    0    0    0    0    0    0    0    0    1\n",
       " 895    0    0    0    0    0    0    0    0    0    1\n",
       " \n",
       " [896 rows x 10 columns],      0.1  0.2  0.3  0.4  0.5  0.6  0.7  0.8  0.9  1.0\n",
       " 0      0    0    0    0    0    1    0    0    0    0\n",
       " 1      0    0    1    0    0    0    0    0    0    0\n",
       " 2      0    0    0    0    0    1    0    0    0    0\n",
       " 3      0    0    0    0    0    1    0    0    0    0\n",
       " 4      0    0    1    0    0    0    0    0    0    0\n",
       " 5      0    0    0    0    0    0    1    0    0    0\n",
       " 6      0    0    0    0    0    0    1    0    0    0\n",
       " 7      0    0    0    0    1    0    0    0    0    0\n",
       " 8      0    0    0    0    0    0    1    0    0    0\n",
       " 9      0    0    0    0    0    1    0    0    0    0\n",
       " 10     0    0    0    0    0    0    1    0    0    0\n",
       " 11     0    0    0    0    1    0    0    0    0    0\n",
       " 12     0    0    0    0    0    0    1    0    0    0\n",
       " 13     0    0    1    0    0    0    0    0    0    0\n",
       " 14     0    0    0    1    0    0    0    0    0    0\n",
       " 15     0    0    0    1    0    0    0    0    0    0\n",
       " 16     0    0    0    0    1    0    0    0    0    0\n",
       " 17     0    0    0    0    1    0    0    0    0    0\n",
       " 18     0    0    0    1    0    0    0    0    0    0\n",
       " 19     0    0    0    0    1    0    0    0    0    0\n",
       " 20     0    0    0    0    0    0    1    0    0    0\n",
       " 21     0    0    0    0    0    0    1    0    0    0\n",
       " 22     0    0    0    0    0    0    1    0    0    0\n",
       " 23     0    0    0    0    0    1    0    0    0    0\n",
       " 24     0    0    0    0    0    0    1    0    0    0\n",
       " 25     0    0    0    1    0    0    0    0    0    0\n",
       " 26     0    0    0    0    1    0    0    0    0    0\n",
       " 27     0    0    0    1    0    0    0    0    0    0\n",
       " 28     0    0    0    0    1    0    0    0    0    0\n",
       " 29     0    0    0    0    0    1    0    0    0    0\n",
       " ..   ...  ...  ...  ...  ...  ...  ...  ...  ...  ...\n",
       " 866    0    0    0    0    0    0    0    0    1    0\n",
       " 867    0    0    0    0    0    0    0    0    1    0\n",
       " 868    0    0    0    0    0    0    1    0    0    0\n",
       " 869    0    0    0    0    0    0    0    1    0    0\n",
       " 870    0    0    0    0    0    0    0    1    0    0\n",
       " 871    0    0    0    0    0    0    0    1    0    0\n",
       " 872    0    0    0    0    0    0    0    0    1    0\n",
       " 873    0    0    0    0    0    0    0    0    1    0\n",
       " 874    0    0    0    0    0    0    0    0    0    1\n",
       " 875    0    0    0    0    0    0    0    0    0    1\n",
       " 876    0    0    0    0    0    0    0    1    0    0\n",
       " 877    0    0    0    0    0    0    0    0    1    0\n",
       " 878    0    0    0    0    0    0    0    0    1    0\n",
       " 879    0    0    0    0    0    0    0    1    0    0\n",
       " 880    0    0    0    0    0    0    0    0    1    0\n",
       " 881    0    0    0    0    0    0    0    0    0    1\n",
       " 882    0    0    0    0    0    0    1    0    0    0\n",
       " 883    0    0    0    0    0    0    0    1    0    0\n",
       " 884    0    0    0    0    0    0    0    0    1    0\n",
       " 885    0    0    0    0    0    0    0    0    1    0\n",
       " 886    0    0    0    0    0    0    0    0    0    1\n",
       " 887    0    0    0    0    0    0    0    0    1    0\n",
       " 888    0    0    0    0    0    0    0    0    0    1\n",
       " 889    0    0    0    0    0    0    0    0    1    0\n",
       " 890    0    0    0    0    0    0    0    0    1    0\n",
       " 891    0    0    0    0    0    0    0    0    0    1\n",
       " 892    0    0    0    0    0    0    1    0    0    0\n",
       " 893    0    0    0    0    0    0    0    1    0    0\n",
       " 894    0    0    0    0    0    0    0    1    0    0\n",
       " 895    0    0    0    0    0    0    0    0    1    0\n",
       " \n",
       " [896 rows x 10 columns])"
      ]
     },
     "execution_count": 34,
     "metadata": {},
     "output_type": "execute_result"
    }
   ],
   "source": [
    "#append empty columns\n",
    "labels1d.insert(0, column='0.1', value=0, allow_duplicates=False)\n",
    "labels2d.insert(0, column='0.2', value=0, allow_duplicates=False)\n",
    "labels2d.insert(0, column='0.1', value=0, allow_duplicates=False)\n",
    "\n",
    "labels1d, labels2d"
   ]
  },
  {
   "cell_type": "code",
   "execution_count": 35,
   "metadata": {},
   "outputs": [],
   "source": [
    "#convert to np.array again\n",
    "labels1d = np.array(labels1d)\n",
    "labels2d = np.array(labels2d)"
   ]
  },
  {
   "cell_type": "code",
   "execution_count": 36,
   "metadata": {},
   "outputs": [
    {
     "data": {
      "text/plain": [
       "(0.29999999999999999, array([0, 0, 1, 0, 0, 0, 0, 0, 0, 0], dtype=int64))"
      ]
     },
     "execution_count": 36,
     "metadata": {},
     "output_type": "execute_result"
    }
   ],
   "source": [
    "#check if OK\n",
    "labels1[1], labels1d[1]"
   ]
  },
  {
   "cell_type": "code",
   "execution_count": 37,
   "metadata": {},
   "outputs": [],
   "source": [
    "from keras.models import Model\n",
    "from keras.layers import *\n",
    "import keras.backend as K\n",
    "import keras.optimizers as Optimizers"
   ]
  },
  {
   "cell_type": "code",
   "execution_count": 38,
   "metadata": {
    "scrolled": true
   },
   "outputs": [],
   "source": [
    "K.clear_session()\n",
    "\n",
    "img_in = Input(shape=(160, 128, 3), name='img_in')\n",
    "\n",
    "x = img_in\n",
    "\n",
    "x = Conv2D(8, (3, 3), padding='same', activation='relu')(x)\n",
    "x = MaxPooling2D(pool_size=(2, 2))(x)\n",
    "\n",
    "x = Conv2D(16, (3, 3), padding='same', activation='relu')(x)\n",
    "x = MaxPooling2D(pool_size=(2, 2))(x)\n",
    "\n",
    "x = Conv2D(32, (3, 3), padding='same', activation='relu')(x)\n",
    "x = MaxPooling2D(pool_size=(2, 2))(x)\n",
    "\n",
    "x = Conv2D(64, (3, 3), padding='same', activation='relu')(x)\n",
    "x = MaxPooling2D(pool_size=(2, 2))(x)\n",
    "\n",
    "flat = Flatten()(x)\n",
    "\n",
    "out1 = Dense(10, activation='softmax')(flat)\n",
    "out2 = Dense(10, activation='softmax')(flat)\n",
    "\n",
    "model = Model(inputs=[img_in], outputs=[out1, out2])\n",
    "model.compile(loss=['categorical_crossentropy', 'categorical_crossentropy'], optimizer='adadelta', metrics=['accuracy'])"
   ]
  },
  {
   "cell_type": "code",
   "execution_count": 39,
   "metadata": {
    "scrolled": true
   },
   "outputs": [
    {
     "name": "stdout",
     "output_type": "stream",
     "text": [
      "____________________________________________________________________________________________________\n",
      "Layer (type)                     Output Shape          Param #     Connected to                     \n",
      "====================================================================================================\n",
      "img_in (InputLayer)              (None, 160, 128, 3)   0                                            \n",
      "____________________________________________________________________________________________________\n",
      "conv2d_1 (Conv2D)                (None, 160, 128, 8)   224         img_in[0][0]                     \n",
      "____________________________________________________________________________________________________\n",
      "max_pooling2d_1 (MaxPooling2D)   (None, 80, 64, 8)     0           conv2d_1[0][0]                   \n",
      "____________________________________________________________________________________________________\n",
      "conv2d_2 (Conv2D)                (None, 80, 64, 16)    1168        max_pooling2d_1[0][0]            \n",
      "____________________________________________________________________________________________________\n",
      "max_pooling2d_2 (MaxPooling2D)   (None, 40, 32, 16)    0           conv2d_2[0][0]                   \n",
      "____________________________________________________________________________________________________\n",
      "conv2d_3 (Conv2D)                (None, 40, 32, 32)    4640        max_pooling2d_2[0][0]            \n",
      "____________________________________________________________________________________________________\n",
      "max_pooling2d_3 (MaxPooling2D)   (None, 20, 16, 32)    0           conv2d_3[0][0]                   \n",
      "____________________________________________________________________________________________________\n",
      "conv2d_4 (Conv2D)                (None, 20, 16, 64)    18496       max_pooling2d_3[0][0]            \n",
      "____________________________________________________________________________________________________\n",
      "max_pooling2d_4 (MaxPooling2D)   (None, 10, 8, 64)     0           conv2d_4[0][0]                   \n",
      "____________________________________________________________________________________________________\n",
      "flatten_1 (Flatten)              (None, 5120)          0           max_pooling2d_4[0][0]            \n",
      "____________________________________________________________________________________________________\n",
      "dense_1 (Dense)                  (None, 10)            51210       flatten_1[0][0]                  \n",
      "____________________________________________________________________________________________________\n",
      "dense_2 (Dense)                  (None, 10)            51210       flatten_1[0][0]                  \n",
      "====================================================================================================\n",
      "Total params: 126,948\n",
      "Trainable params: 126,948\n",
      "Non-trainable params: 0\n",
      "____________________________________________________________________________________________________\n"
     ]
    }
   ],
   "source": [
    "model.summary()"
   ]
  },
  {
   "cell_type": "code",
   "execution_count": 45,
   "metadata": {},
   "outputs": [
    {
     "name": "stdout",
     "output_type": "stream",
     "text": [
      "Epoch 1/35\n",
      "896/896 [==============================] - 13s - loss: 0.2312 - dense_1_loss: 0.1180 - dense_2_loss: 0.1132 - dense_1_acc: 0.9654 - dense_2_acc: 0.9665    \n",
      "Epoch 2/35\n",
      "896/896 [==============================] - 14s - loss: 0.1801 - dense_1_loss: 0.0866 - dense_2_loss: 0.0936 - dense_1_acc: 0.9777 - dense_2_acc: 0.9799    \n",
      "Epoch 3/35\n",
      "896/896 [==============================] - 13s - loss: 0.1574 - dense_1_loss: 0.0755 - dense_2_loss: 0.0818 - dense_1_acc: 0.9732 - dense_2_acc: 0.9799    \n",
      "Epoch 4/35\n",
      "896/896 [==============================] - 13s - loss: 0.1188 - dense_1_loss: 0.0642 - dense_2_loss: 0.0547 - dense_1_acc: 0.9833 - dense_2_acc: 0.9911    \n",
      "Epoch 5/35\n",
      "896/896 [==============================] - 13s - loss: 0.1007 - dense_1_loss: 0.0456 - dense_2_loss: 0.0551 - dense_1_acc: 0.9877 - dense_2_acc: 0.9866    \n",
      "Epoch 6/35\n",
      "896/896 [==============================] - 13s - loss: 0.0742 - dense_1_loss: 0.0395 - dense_2_loss: 0.0347 - dense_1_acc: 0.9900 - dense_2_acc: 0.9922    \n",
      "Epoch 7/35\n",
      "896/896 [==============================] - 13s - loss: 0.0524 - dense_1_loss: 0.0312 - dense_2_loss: 0.0212 - dense_1_acc: 0.9933 - dense_2_acc: 0.9978    \n",
      "Epoch 8/35\n",
      "896/896 [==============================] - 14s - loss: 0.0460 - dense_1_loss: 0.0252 - dense_2_loss: 0.0208 - dense_1_acc: 0.9911 - dense_2_acc: 0.9955    \n",
      "Epoch 9/35\n",
      "896/896 [==============================] - 14s - loss: 0.0272 - dense_1_loss: 0.0129 - dense_2_loss: 0.0143 - dense_1_acc: 0.9989 - dense_2_acc: 0.9989    \n",
      "Epoch 10/35\n",
      "896/896 [==============================] - 14s - loss: 0.0250 - dense_1_loss: 0.0122 - dense_2_loss: 0.0127 - dense_1_acc: 0.9989 - dense_2_acc: 0.9967    \n",
      "Epoch 11/35\n",
      "896/896 [==============================] - 14s - loss: 0.0177 - dense_1_loss: 0.0110 - dense_2_loss: 0.0067 - dense_1_acc: 0.9978 - dense_2_acc: 0.9967    \n",
      "Epoch 12/35\n",
      "896/896 [==============================] - 15s - loss: 0.0308 - dense_1_loss: 0.0178 - dense_2_loss: 0.0129 - dense_1_acc: 0.9944 - dense_2_acc: 0.9967    \n",
      "Epoch 13/35\n",
      "896/896 [==============================] - 15s - loss: 0.0118 - dense_1_loss: 0.0046 - dense_2_loss: 0.0071 - dense_1_acc: 0.9989 - dense_2_acc: 0.9978    \n",
      "Epoch 14/35\n",
      "896/896 [==============================] - 16s - loss: 0.0083 - dense_1_loss: 0.0040 - dense_2_loss: 0.0043 - dense_1_acc: 0.9989 - dense_2_acc: 0.9989    \n",
      "Epoch 15/35\n",
      "896/896 [==============================] - 16s - loss: 0.0130 - dense_1_loss: 0.0103 - dense_2_loss: 0.0027 - dense_1_acc: 0.9989 - dense_2_acc: 0.9989    \n",
      "Epoch 16/35\n",
      "896/896 [==============================] - 15s - loss: 0.0108 - dense_1_loss: 0.0090 - dense_2_loss: 0.0018 - dense_1_acc: 0.9978 - dense_2_acc: 1.0000    \n",
      "Epoch 17/35\n",
      "896/896 [==============================] - 14s - loss: 0.0119 - dense_1_loss: 0.0079 - dense_2_loss: 0.0040 - dense_1_acc: 0.9978 - dense_2_acc: 0.9978    \n",
      "Epoch 18/35\n",
      "896/896 [==============================] - 14s - loss: 8.6514e-04 - dense_1_loss: 5.0998e-04 - dense_2_loss: 3.5516e-04 - dense_1_acc: 1.0000 - dense_2_acc: 1.0000    \n",
      "Epoch 19/35\n",
      "896/896 [==============================] - 14s - loss: 0.0015 - dense_1_loss: 0.0012 - dense_2_loss: 3.1823e-04 - dense_1_acc: 0.9989 - dense_2_acc: 1.0000    \n",
      "Epoch 20/35\n",
      "896/896 [==============================] - 14s - loss: 0.0067 - dense_1_loss: 0.0059 - dense_2_loss: 8.1873e-04 - dense_1_acc: 0.9989 - dense_2_acc: 1.0000    \n",
      "Epoch 21/35\n",
      "896/896 [==============================] - 14s - loss: 0.0194 - dense_1_loss: 0.0193 - dense_2_loss: 9.9302e-05 - dense_1_acc: 0.9989 - dense_2_acc: 1.0000    \n",
      "Epoch 22/35\n",
      "896/896 [==============================] - 15s - loss: 3.8889e-04 - dense_1_loss: 3.3901e-04 - dense_2_loss: 4.9879e-05 - dense_1_acc: 1.0000 - dense_2_acc: 1.0000    \n",
      "Epoch 23/35\n",
      "896/896 [==============================] - 15s - loss: 0.0023 - dense_1_loss: 0.0021 - dense_2_loss: 1.2746e-04 - dense_1_acc: 0.9989 - dense_2_acc: 1.0000    \n",
      "Epoch 24/35\n",
      "896/896 [==============================] - 16s - loss: 7.2223e-04 - dense_1_loss: 6.7602e-04 - dense_2_loss: 4.6212e-05 - dense_1_acc: 1.0000 - dense_2_acc: 1.0000    \n",
      "Epoch 25/35\n",
      "896/896 [==============================] - 16s - loss: 5.1196e-04 - dense_1_loss: 4.8355e-05 - dense_2_loss: 4.6360e-04 - dense_1_acc: 1.0000 - dense_2_acc: 1.0000    \n",
      "Epoch 26/35\n",
      "896/896 [==============================] - 16s - loss: 7.3319e-05 - dense_1_loss: 5.2978e-05 - dense_2_loss: 2.0341e-05 - dense_1_acc: 1.0000 - dense_2_acc: 1.0000    \n",
      "Epoch 27/35\n",
      "896/896 [==============================] - 16s - loss: 1.5382e-05 - dense_1_loss: 1.2547e-05 - dense_2_loss: 2.8353e-06 - dense_1_acc: 1.0000 - dense_2_acc: 1.0000    \n",
      "Epoch 28/35\n",
      "896/896 [==============================] - 15s - loss: 1.6344e-05 - dense_1_loss: 1.4184e-05 - dense_2_loss: 2.1603e-06 - dense_1_acc: 1.0000 - dense_2_acc: 1.0000    \n",
      "Epoch 29/35\n",
      "896/896 [==============================] - 14s - loss: 3.2902e-06 - dense_1_loss: 2.1834e-06 - dense_2_loss: 1.1068e-06 - dense_1_acc: 1.0000 - dense_2_acc: 1.0000    \n",
      "Epoch 30/35\n",
      "896/896 [==============================] - 15s - loss: 1.5034e-06 - dense_1_loss: 8.8277e-07 - dense_2_loss: 6.2060e-07 - dense_1_acc: 1.0000 - dense_2_acc: 1.0000    \n",
      "Epoch 31/35\n",
      "896/896 [==============================] - 15s - loss: 1.0698e-06 - dense_1_loss: 5.7689e-07 - dense_2_loss: 4.9294e-07 - dense_1_acc: 1.0000 - dense_2_acc: 1.0000    \n",
      "Epoch 32/35\n",
      "896/896 [==============================] - 16s - loss: 9.2607e-07 - dense_1_loss: 5.2001e-07 - dense_2_loss: 4.0606e-07 - dense_1_acc: 1.0000 - dense_2_acc: 1.0000    \n",
      "Epoch 33/35\n",
      "896/896 [==============================] - 16s - loss: 8.3939e-07 - dense_1_loss: 4.5848e-07 - dense_2_loss: 3.8091e-07 - dense_1_acc: 1.0000 - dense_2_acc: 1.0000    \n",
      "Epoch 34/35\n",
      "896/896 [==============================] - 16s - loss: 7.9036e-07 - dense_1_loss: 4.4005e-07 - dense_2_loss: 3.5031e-07 - dense_1_acc: 1.0000 - dense_2_acc: 1.0000    \n",
      "Epoch 35/35\n",
      "896/896 [==============================] - 17s - loss: 7.1752e-07 - dense_1_loss: 3.9029e-07 - dense_2_loss: 3.2723e-07 - dense_1_acc: 1.0000 - dense_2_acc: 1.0000    \n"
     ]
    }
   ],
   "source": [
    "h = model.fit(images, [labels1d, labels2d], batch_size=1, epochs=35, verbose=1)"
   ]
  },
  {
   "cell_type": "code",
   "execution_count": 46,
   "metadata": {},
   "outputs": [
    {
     "data": {
      "text/plain": [
       "<matplotlib.axes._subplots.AxesSubplot at 0x1f34f341eb8>"
      ]
     },
     "execution_count": 46,
     "metadata": {},
     "output_type": "execute_result"
    },
    {
     "data": {
      "image/png": "[encoded data removed]",
      "text/plain": [
       "<matplotlib.figure.Figure at 0x1f34f3904a8>"
      ]
     },
     "metadata": {},
     "output_type": "display_data"
    }
   ],
   "source": [
    "#print History graph\n",
    "historydf = pd.DataFrame(h.history, index=h.epoch)\n",
    "historydf.plot(ylim=(0,1))"
   ]
  },
  {
   "cell_type": "code",
   "execution_count": 47,
   "metadata": {},
   "outputs": [
    {
     "data": {
      "text/plain": [
       "(array([ 8,  8,  8,  6,  8,  8,  6,  7,  6,  8,  6,  8,  7,  6,  6,  7,  8,\n",
       "         6,  6,  7,  7,  6,  7,  6,  6,  8,  8,  8,  7,  7,  7,  6,  8,  7,\n",
       "         7, 10,  6,  7,  8,  9,  7,  8,  8,  8,  6,  8,  7,  8,  8,  7,  8,\n",
       "         7,  8,  7,  8,  9,  5,  7,  6,  7,  8,  6,  6,  6,  7,  8,  7,  6,\n",
       "         6,  6,  8,  6,  7,  8,  7,  7,  7,  8,  6,  6,  8,  8,  7,  8,  7,\n",
       "         7,  8,  8,  8,  8,  7,  8,  5,  7,  7,  9,  7,  7,  8,  9,  7,  7,\n",
       "         8,  9,  8,  7,  8,  7,  8,  8,  7,  9,  7,  8,  9,  8,  8,  8,  8,\n",
       "         7,  8,  8,  9,  6,  9,  8,  9,  8,  8,  8,  8,  9,  9,  8,  8,  8,\n",
       "         7,  7,  6,  7,  8,  8,  8,  6,  8,  7,  9,  7,  7,  8], dtype=int64),\n",
       " array([ 7,  8,  8,  7,  5,  8,  6,  7,  6,  8,  6,  7,  9,  7,  9,  7,  6,\n",
       "         7,  9,  7,  7,  6,  6,  8,  6,  7,  8,  5,  5,  8,  7,  8,  8,  7,\n",
       "         8,  7,  6,  8,  8,  9,  5,  5,  6,  8,  8,  7,  7,  8,  8,  7,  8,\n",
       "         8,  8,  7,  9,  8,  7,  7,  9,  7,  8,  6,  9,  7,  4,  8,  8,  7,\n",
       "         7,  6,  8,  6,  7,  9,  7,  7,  5,  9,  6,  9,  6,  9,  8,  8,  8,\n",
       "         5,  7,  7,  8,  8,  8,  5,  7,  5,  7,  8,  7,  7,  8,  9,  7,  8,\n",
       "         7,  8,  6,  9,  9,  8,  5, 10,  8,  9,  7,  8,  9,  7,  8,  7,  6,\n",
       "         9,  7,  9,  8,  9,  7,  9,  9,  8,  9,  7,  8,  9,  8,  7,  8,  8,\n",
       "         7,  8,  8,  7,  8,  5,  8,  6,  6,  8,  8,  6,  5,  8], dtype=int64),\n",
       " array([ 0.3,  0.5,  0.5,  0.5,  0.5,  0.5,  0.5,  0.6,  0.6,  0.6,  0.6,\n",
       "         0.6,  0.7,  0.7,  0.7,  0.6,  0.6,  0.6,  0.7,  0.7,  0.6,  0.6,\n",
       "         0.7,  0.7,  0.7,  0.4,  0.5,  0.5,  0.6,  0.6,  0.8,  0.8,  0.8,\n",
       "         0.8,  0.8,  0.6,  0.6,  0.7,  0.7,  0.7,  0.3,  0.5,  0.6,  0.7,\n",
       "         0.7,  0.7,  0.7,  0.7,  0.7,  0.7,  0.7,  0.8,  0.8,  0.8,  0.8,\n",
       "         0.8,  0.8,  0.8,  0.8,  0.9,  0.8,  0.9,  0.9,  0.9,  0.4,  0.8,\n",
       "         0.8,  0.8,  0.8,  0.8,  0.8,  0.8,  0.8,  0.8,  0.8,  0.8,  0.8,\n",
       "         0.8,  0.8,  0.8,  0.7,  0.8,  0.8,  0.8,  0.8,  0.7,  0.7,  0.7,\n",
       "         0.7,  0.7,  0.5,  0.5,  0.6,  0.6,  0.6,  0.7,  0.7,  0.7,  0.7,\n",
       "         0.8,  0.7,  0.7,  0.7,  0.7,  0.7,  0.9,  0.9,  1. ,  0.7,  0.7,\n",
       "         0.7,  0.7,  0.7,  0.7,  0.7,  0.7,  0.7,  0.7,  0.8,  0.8,  0.8,\n",
       "         0.8,  0.8,  0.9,  0.9,  0.9,  0.9,  0.9,  0.8,  0.8,  0.9,  0.9,\n",
       "         0.9,  0.9,  0.9,  0.9,  0.9,  0.9,  0.7,  0.9,  0.9,  0.7,  0.8,\n",
       "         0.8,  0.8,  0.9,  0.8,  0.8,  0.9,  0.9]),\n",
       " array([ 0.5,  0.5,  0.5,  0.5,  0.5,  0.5,  0.5,  0.5,  0.5,  0.5,  0.6,\n",
       "         0.6,  0.6,  0.6,  0.6,  0.6,  0.6,  0.6,  0.6,  0.6,  0.6,  0.6,\n",
       "         0.6,  0.6,  0.6,  0.6,  0.6,  0.6,  0.6,  0.6,  0.6,  0.6,  0.6,\n",
       "         0.6,  0.6,  0.7,  0.7,  0.7,  0.7,  0.7,  0.7,  0.7,  0.7,  0.7,\n",
       "         0.7,  0.7,  0.7,  0.7,  0.7,  0.7,  0.7,  0.7,  0.7,  0.7,  0.7,\n",
       "         0.7,  0.7,  0.7,  0.7,  0.7,  0.7,  0.7,  0.7,  0.7,  0.7,  0.7,\n",
       "         0.7,  0.7,  0.7,  0.7,  0.7,  0.7,  0.7,  0.7,  0.7,  0.7,  0.7,\n",
       "         0.7,  0.7,  0.7,  0.8,  0.8,  0.8,  0.8,  0.8,  0.8,  0.8,  0.8,\n",
       "         0.8,  0.8,  0.8,  0.8,  0.8,  0.8,  0.8,  0.8,  0.8,  0.8,  0.8,\n",
       "         0.8,  0.8,  0.8,  0.8,  0.8,  0.8,  0.8,  0.8,  0.8,  0.8,  0.8,\n",
       "         0.8,  0.8,  0.8,  0.8,  0.8,  0.8,  0.8,  0.8,  0.8,  0.8,  0.8,\n",
       "         0.8,  0.8,  0.8,  0.8,  0.8,  0.8,  0.8,  0.9,  0.9,  0.9,  0.9,\n",
       "         0.9,  0.9,  0.9,  0.9,  0.9,  0.9,  0.9,  0.9,  0.9,  0.9,  0.9,\n",
       "         0.9,  0.9,  1. ,  1. ,  1. ,  1. ,  1. ]))"
      ]
     },
     "execution_count": 47,
     "metadata": {},
     "output_type": "execute_result"
    }
   ],
   "source": [
    "# Get predictions\n",
    "all_preds = model.predict(images_val)\n",
    "\n",
    "# Check predictions\n",
    "idx1 = np.argmax(all_preds[0], axis=1)\n",
    "idx2 = np.argmax(all_preds[1], axis=1)\n",
    "\n",
    "i = 0\n",
    "for value1 in idx1:\n",
    "    idx1[i] = value1 + 1\n",
    "    i = i + 1\n",
    "i = 0\n",
    "for value2 in idx2:\n",
    "    idx2[i] = value2 + 1\n",
    "    i = i + 1\n",
    "\n",
    "idx1, idx2, labels2_val, labels1_val"
   ]
  },
  {
   "cell_type": "code",
   "execution_count": null,
   "metadata": {},
   "outputs": [],
   "source": []
  },
  {
   "cell_type": "code",
   "execution_count": 48,
   "metadata": {},
   "outputs": [
    {
     "data": {
      "text/plain": [
       "0.045443161585621894"
      ]
     },
     "execution_count": 48,
     "metadata": {},
     "output_type": "execute_result"
    }
   ],
   "source": [
    "predicted_ratio = []\n",
    "label_ratio = []\n",
    "se = 0\n",
    "i = 0\n",
    "for value in idx1:\n",
    "    predicted_ratio.append(value / idx2[i])\n",
    "    label_ratio.append(labels1_val[i] / labels2_val[i])\n",
    "    se += ((predicted_ratio[i]-label_ratio[i])*(predicted_ratio[i]-label_ratio[i]))\n",
    "    i = i + 1\n",
    "mse = se/nb_images_val\n",
    "mse"
   ]
  },
  {
   "cell_type": "code",
   "execution_count": null,
   "metadata": {},
   "outputs": [],
   "source": []
  },
  {
   "cell_type": "code",
   "execution_count": 49,
   "metadata": {},
   "outputs": [],
   "source": [
    "model.save('model-2x10.h5')"
   ]
  },
  {
   "cell_type": "code",
   "execution_count": 3,
   "metadata": {},
   "outputs": [],
   "source": []
  },
  {
   "cell_type": "code",
   "execution_count": null,
   "metadata": {},
   "outputs": [],
   "source": []
  },
  {
   "cell_type": "code",
   "execution_count": null,
   "metadata": {},
   "outputs": [],
   "source": [
    "from keras.models import load_model\n",
    "model = load_model('test_model.h5')"
   ]
  }
 ],
 "metadata": {
  "kernelspec": {
   "display_name": "Python 3",
   "language": "python",
   "name": "python3"
  },
  "language_info": {
   "codemirror_mode": {
    "name": "ipython",
    "version": 3
   },
   "file_extension": ".py",
   "mimetype": "text/x-python",
   "name": "python",
   "nbconvert_exporter": "python",
   "pygments_lexer": "ipython3",
   "version": "3.5.4"
  }
 },
 "nbformat": 4,
 "nbformat_minor": 2
}
