{
 "cells": [
  {
   "cell_type": "code",
   "execution_count": 1,
   "metadata": {},
   "outputs": [
    {
     "name": "stderr",
     "output_type": "stream",
     "text": [
      "Using TensorFlow backend.\n"
     ]
    }
   ],
   "source": [
    "from os import listdir\n",
    "from keras.preprocessing.image import load_img\n",
    "from keras.preprocessing.image import img_to_array\n",
    "from PIL import Image\n",
    "import numpy as np\n",
    "import pandas as pd\n",
    "%matplotlib inline\n",
    "import matplotlib.pyplot as plt"
   ]
  },
  {
   "cell_type": "code",
   "execution_count": 8,
   "metadata": {},
   "outputs": [],
   "source": [
    "def load_photos(directory):\n",
    "    images = []\n",
    "    labels1 = []\n",
    "    labels2 = []\n",
    "    for name in listdir(directory):\n",
    "        filename = directory + '/' + name\n",
    "        # convert image to gray\n",
    "        #img = Image.open(filename).convert('L')\n",
    "        #img.save(filename)\n",
    "        # load an image from file\n",
    "        image = load_img(filename, target_size=(160, 128))\n",
    "        # convert the image pixels to a numpy array\n",
    "        image = img_to_array(image)\n",
    "        # get image id + labels\n",
    "        labels1.append(round(float(name.split('_')[0].split('-')[0]), 1))\n",
    "        labels2.append(round(float(name.split('_')[0].split('-')[1]), 1))\n",
    "        images.append(image)\n",
    "    return images, labels1, labels2"
   ]
  },
  {
   "cell_type": "code",
   "execution_count": 29,
   "metadata": {},
   "outputs": [
    {
     "name": "stdout",
     "output_type": "stream",
     "text": [
      "Loaded Images and labels for training: 896\n",
      "Loaded Images and labels for validation: 150\n"
     ]
    }
   ],
   "source": [
    "# load images from both train and test groups\n",
    "directory = '../data/Patate_Pics/Training'\n",
    "images, labels1, labels2 = load_photos(directory)\n",
    "nb_images = len(images)\n",
    "print('Loaded Images and labels for training: %d' % nb_images)\n",
    "directory = '../data/Patate_Pics/Validation'\n",
    "images_val, labels1_val, labels2_val = load_photos(directory)\n",
    "nb_images_val = len(images_val)\n",
    "print('Loaded Images and labels for validation: %d' % nb_images_val)"
   ]
  },
  {
   "cell_type": "code",
   "execution_count": 30,
   "metadata": {
    "scrolled": false
   },
   "outputs": [],
   "source": [
    "#normalise datas\n",
    "images = np.array(images)\n",
    "images /= 255\n",
    "images_val = np.array(images_val)\n",
    "images_val /= 255"
   ]
  },
  {
   "cell_type": "code",
   "execution_count": 31,
   "metadata": {},
   "outputs": [],
   "source": [
    "#convert to np.array\n",
    "labels1 = np.array(labels1)\n",
    "labels2 = np.array(labels2)\n",
    "labels1_val = np.array(labels1_val)\n",
    "labels2_val = np.array(labels2_val)"
   ]
  },
  {
   "cell_type": "code",
   "execution_count": null,
   "metadata": {},
   "outputs": [],
   "source": []
  },
  {
   "cell_type": "code",
   "execution_count": 32,
   "metadata": {},
   "outputs": [],
   "source": [
    "#convert datas to dummyvalues\n",
    "labels1d = pd.get_dummies(labels1)\n",
    "labels2d = pd.get_dummies(labels2)"
   ]
  },
  {
   "cell_type": "code",
   "execution_count": 33,
   "metadata": {},
   "outputs": [
    {
     "data": {
      "text/plain": [
       "(     0.2  0.3  0.4  0.5  0.6  0.7  0.8  0.9  1.0\n",
       " 0      1    0    0    0    0    0    0    0    0\n",
       " 1      0    1    0    0    0    0    0    0    0\n",
       " 2      0    1    0    0    0    0    0    0    0\n",
       " 3      0    1    0    0    0    0    0    0    0\n",
       " 4      0    1    0    0    0    0    0    0    0\n",
       " 5      0    1    0    0    0    0    0    0    0\n",
       " 6      0    1    0    0    0    0    0    0    0\n",
       " 7      0    0    1    0    0    0    0    0    0\n",
       " 8      0    0    1    0    0    0    0    0    0\n",
       " 9      0    0    1    0    0    0    0    0    0\n",
       " 10     0    0    1    0    0    0    0    0    0\n",
       " 11     0    0    1    0    0    0    0    0    0\n",
       " 12     0    0    1    0    0    0    0    0    0\n",
       " 13     0    0    0    1    0    0    0    0    0\n",
       " 14     0    0    0    1    0    0    0    0    0\n",
       " 15     0    0    0    1    0    0    0    0    0\n",
       " 16     0    0    0    1    0    0    0    0    0\n",
       " 17     0    0    0    1    0    0    0    0    0\n",
       " 18     0    0    0    1    0    0    0    0    0\n",
       " 19     0    0    0    1    0    0    0    0    0\n",
       " 20     0    0    0    1    0    0    0    0    0\n",
       " 21     0    0    0    1    0    0    0    0    0\n",
       " 22     0    0    0    1    0    0    0    0    0\n",
       " 23     0    0    0    1    0    0    0    0    0\n",
       " 24     0    0    0    1    0    0    0    0    0\n",
       " 25     0    0    0    1    0    0    0    0    0\n",
       " 26     0    0    0    1    0    0    0    0    0\n",
       " 27     0    0    0    1    0    0    0    0    0\n",
       " 28     0    0    0    1    0    0    0    0    0\n",
       " 29     0    0    0    1    0    0    0    0    0\n",
       " ..   ...  ...  ...  ...  ...  ...  ...  ...  ...\n",
       " 866    0    0    0    0    0    0    0    1    0\n",
       " 867    0    0    0    0    0    0    0    1    0\n",
       " 868    0    0    0    0    0    0    0    1    0\n",
       " 869    0    0    0    0    0    0    0    1    0\n",
       " 870    0    0    0    0    0    0    0    1    0\n",
       " 871    0    0    0    0    0    0    0    1    0\n",
       " 872    0    0    0    0    0    0    0    1    0\n",
       " 873    0    0    0    0    0    0    0    1    0\n",
       " 874    0    0    0    0    0    0    0    1    0\n",
       " 875    0    0    0    0    0    0    0    1    0\n",
       " 876    0    0    0    0    0    0    0    1    0\n",
       " 877    0    0    0    0    0    0    0    1    0\n",
       " 878    0    0    0    0    0    0    0    1    0\n",
       " 879    0    0    0    0    0    0    0    1    0\n",
       " 880    0    0    0    0    0    0    0    1    0\n",
       " 881    0    0    0    0    0    0    0    1    0\n",
       " 882    0    0    0    0    0    0    0    1    0\n",
       " 883    0    0    0    0    0    0    0    1    0\n",
       " 884    0    0    0    0    0    0    0    1    0\n",
       " 885    0    0    0    0    0    0    0    1    0\n",
       " 886    0    0    0    0    0    0    0    1    0\n",
       " 887    0    0    0    0    0    0    0    0    1\n",
       " 888    0    0    0    0    0    0    0    0    1\n",
       " 889    0    0    0    0    0    0    0    0    1\n",
       " 890    0    0    0    0    0    0    0    0    1\n",
       " 891    0    0    0    0    0    0    0    0    1\n",
       " 892    0    0    0    0    0    0    0    0    1\n",
       " 893    0    0    0    0    0    0    0    0    1\n",
       " 894    0    0    0    0    0    0    0    0    1\n",
       " 895    0    0    0    0    0    0    0    0    1\n",
       " \n",
       " [896 rows x 9 columns],      0.3  0.4  0.5  0.6  0.7  0.8  0.9  1.0\n",
       " 0      0    0    0    1    0    0    0    0\n",
       " 1      1    0    0    0    0    0    0    0\n",
       " 2      0    0    0    1    0    0    0    0\n",
       " 3      0    0    0    1    0    0    0    0\n",
       " 4      1    0    0    0    0    0    0    0\n",
       " 5      0    0    0    0    1    0    0    0\n",
       " 6      0    0    0    0    1    0    0    0\n",
       " 7      0    0    1    0    0    0    0    0\n",
       " 8      0    0    0    0    1    0    0    0\n",
       " 9      0    0    0    1    0    0    0    0\n",
       " 10     0    0    0    0    1    0    0    0\n",
       " 11     0    0    1    0    0    0    0    0\n",
       " 12     0    0    0    0    1    0    0    0\n",
       " 13     1    0    0    0    0    0    0    0\n",
       " 14     0    1    0    0    0    0    0    0\n",
       " 15     0    1    0    0    0    0    0    0\n",
       " 16     0    0    1    0    0    0    0    0\n",
       " 17     0    0    1    0    0    0    0    0\n",
       " 18     0    1    0    0    0    0    0    0\n",
       " 19     0    0    1    0    0    0    0    0\n",
       " 20     0    0    0    0    1    0    0    0\n",
       " 21     0    0    0    0    1    0    0    0\n",
       " 22     0    0    0    0    1    0    0    0\n",
       " 23     0    0    0    1    0    0    0    0\n",
       " 24     0    0    0    0    1    0    0    0\n",
       " 25     0    1    0    0    0    0    0    0\n",
       " 26     0    0    1    0    0    0    0    0\n",
       " 27     0    1    0    0    0    0    0    0\n",
       " 28     0    0    1    0    0    0    0    0\n",
       " 29     0    0    0    1    0    0    0    0\n",
       " ..   ...  ...  ...  ...  ...  ...  ...  ...\n",
       " 866    0    0    0    0    0    0    1    0\n",
       " 867    0    0    0    0    0    0    1    0\n",
       " 868    0    0    0    0    1    0    0    0\n",
       " 869    0    0    0    0    0    1    0    0\n",
       " 870    0    0    0    0    0    1    0    0\n",
       " 871    0    0    0    0    0    1    0    0\n",
       " 872    0    0    0    0    0    0    1    0\n",
       " 873    0    0    0    0    0    0    1    0\n",
       " 874    0    0    0    0    0    0    0    1\n",
       " 875    0    0    0    0    0    0    0    1\n",
       " 876    0    0    0    0    0    1    0    0\n",
       " 877    0    0    0    0    0    0    1    0\n",
       " 878    0    0    0    0    0    0    1    0\n",
       " 879    0    0    0    0    0    1    0    0\n",
       " 880    0    0    0    0    0    0    1    0\n",
       " 881    0    0    0    0    0    0    0    1\n",
       " 882    0    0    0    0    1    0    0    0\n",
       " 883    0    0    0    0    0    1    0    0\n",
       " 884    0    0    0    0    0    0    1    0\n",
       " 885    0    0    0    0    0    0    1    0\n",
       " 886    0    0    0    0    0    0    0    1\n",
       " 887    0    0    0    0    0    0    1    0\n",
       " 888    0    0    0    0    0    0    0    1\n",
       " 889    0    0    0    0    0    0    1    0\n",
       " 890    0    0    0    0    0    0    1    0\n",
       " 891    0    0    0    0    0    0    0    1\n",
       " 892    0    0    0    0    1    0    0    0\n",
       " 893    0    0    0    0    0    1    0    0\n",
       " 894    0    0    0    0    0    1    0    0\n",
       " 895    0    0    0    0    0    0    1    0\n",
       " \n",
       " [896 rows x 8 columns])"
      ]
     },
     "execution_count": 33,
     "metadata": {},
     "output_type": "execute_result"
    }
   ],
   "source": [
    "labels1d.shape, labels2d.shape\n",
    "labels1d, labels2d"
   ]
  },
  {
   "cell_type": "code",
   "execution_count": 34,
   "metadata": {},
   "outputs": [
    {
     "data": {
      "text/plain": [
       "(     0.1  0.2  0.3  0.4  0.5  0.6  0.7  0.8  0.9  1.0\n",
       " 0      0    1    0    0    0    0    0    0    0    0\n",
       " 1      0    0    1    0    0    0    0    0    0    0\n",
       " 2      0    0    1    0    0    0    0    0    0    0\n",
       " 3      0    0    1    0    0    0    0    0    0    0\n",
       " 4      0    0    1    0    0    0    0    0    0    0\n",
       " 5      0    0    1    0    0    0    0    0    0    0\n",
       " 6      0    0    1    0    0    0    0    0    0    0\n",
       " 7      0    0    0    1    0    0    0    0    0    0\n",
       " 8      0    0    0    1    0    0    0    0    0    0\n",
       " 9      0    0    0    1    0    0    0    0    0    0\n",
       " 10     0    0    0    1    0    0    0    0    0    0\n",
       " 11     0    0    0    1    0    0    0    0    0    0\n",
       " 12     0    0    0    1    0    0    0    0    0    0\n",
       " 13     0    0    0    0    1    0    0    0    0    0\n",
       " 14     0    0    0    0    1    0    0    0    0    0\n",
       " 15     0    0    0    0    1    0    0    0    0    0\n",
       " 16     0    0    0    0    1    0    0    0    0    0\n",
       " 17     0    0    0    0    1    0    0    0    0    0\n",
       " 18     0    0    0    0    1    0    0    0    0    0\n",
       " 19     0    0    0    0    1    0    0    0    0    0\n",
       " 20     0    0    0    0    1    0    0    0    0    0\n",
       " 21     0    0    0    0    1    0    0    0    0    0\n",
       " 22     0    0    0    0    1    0    0    0    0    0\n",
       " 23     0    0    0    0    1    0    0    0    0    0\n",
       " 24     0    0    0    0    1    0    0    0    0    0\n",
       " 25     0    0    0    0    1    0    0    0    0    0\n",
       " 26     0    0    0    0    1    0    0    0    0    0\n",
       " 27     0    0    0    0    1    0    0    0    0    0\n",
       " 28     0    0    0    0    1    0    0    0    0    0\n",
       " 29     0    0    0    0    1    0    0    0    0    0\n",
       " ..   ...  ...  ...  ...  ...  ...  ...  ...  ...  ...\n",
       " 866    0    0    0    0    0    0    0    0    1    0\n",
       " 867    0    0    0    0    0    0    0    0    1    0\n",
       " 868    0    0    0    0    0    0    0    0    1    0\n",
       " 869    0    0    0    0    0    0    0    0    1    0\n",
       " 870    0    0    0    0    0    0    0    0    1    0\n",
       " 871    0    0    0    0    0    0    0    0    1    0\n",
       " 872    0    0    0    0    0    0    0    0    1    0\n",
       " 873    0    0    0    0    0    0    0    0    1    0\n",
       " 874    0    0    0    0    0    0    0    0    1    0\n",
       " 875    0    0    0    0    0    0    0    0    1    0\n",
       " 876    0    0    0    0    0    0    0    0    1    0\n",
       " 877    0    0    0    0    0    0    0    0    1    0\n",
       " 878    0    0    0    0    0    0    0    0    1    0\n",
       " 879    0    0    0    0    0    0    0    0    1    0\n",
       " 880    0    0    0    0    0    0    0    0    1    0\n",
       " 881    0    0    0    0    0    0    0    0    1    0\n",
       " 882    0    0    0    0    0    0    0    0    1    0\n",
       " 883    0    0    0    0    0    0    0    0    1    0\n",
       " 884    0    0    0    0    0    0    0    0    1    0\n",
       " 885    0    0    0    0    0    0    0    0    1    0\n",
       " 886    0    0    0    0    0    0    0    0    1    0\n",
       " 887    0    0    0    0    0    0    0    0    0    1\n",
       " 888    0    0    0    0    0    0    0    0    0    1\n",
       " 889    0    0    0    0    0    0    0    0    0    1\n",
       " 890    0    0    0    0    0    0    0    0    0    1\n",
       " 891    0    0    0    0    0    0    0    0    0    1\n",
       " 892    0    0    0    0    0    0    0    0    0    1\n",
       " 893    0    0    0    0    0    0    0    0    0    1\n",
       " 894    0    0    0    0    0    0    0    0    0    1\n",
       " 895    0    0    0    0    0    0    0    0    0    1\n",
       " \n",
       " [896 rows x 10 columns],      0.1  0.2  0.3  0.4  0.5  0.6  0.7  0.8  0.9  1.0\n",
       " 0      0    0    0    0    0    1    0    0    0    0\n",
       " 1      0    0    1    0    0    0    0    0    0    0\n",
       " 2      0    0    0    0    0    1    0    0    0    0\n",
       " 3      0    0    0    0    0    1    0    0    0    0\n",
       " 4      0    0    1    0    0    0    0    0    0    0\n",
       " 5      0    0    0    0    0    0    1    0    0    0\n",
       " 6      0    0    0    0    0    0    1    0    0    0\n",
       " 7      0    0    0    0    1    0    0    0    0    0\n",
       " 8      0    0    0    0    0    0    1    0    0    0\n",
       " 9      0    0    0    0    0    1    0    0    0    0\n",
       " 10     0    0    0    0    0    0    1    0    0    0\n",
       " 11     0    0    0    0    1    0    0    0    0    0\n",
       " 12     0    0    0    0    0    0    1    0    0    0\n",
       " 13     0    0    1    0    0    0    0    0    0    0\n",
       " 14     0    0    0    1    0    0    0    0    0    0\n",
       " 15     0    0    0    1    0    0    0    0    0    0\n",
       " 16     0    0    0    0    1    0    0    0    0    0\n",
       " 17     0    0    0    0    1    0    0    0    0    0\n",
       " 18     0    0    0    1    0    0    0    0    0    0\n",
       " 19     0    0    0    0    1    0    0    0    0    0\n",
       " 20     0    0    0    0    0    0    1    0    0    0\n",
       " 21     0    0    0    0    0    0    1    0    0    0\n",
       " 22     0    0    0    0    0    0    1    0    0    0\n",
       " 23     0    0    0    0    0    1    0    0    0    0\n",
       " 24     0    0    0    0    0    0    1    0    0    0\n",
       " 25     0    0    0    1    0    0    0    0    0    0\n",
       " 26     0    0    0    0    1    0    0    0    0    0\n",
       " 27     0    0    0    1    0    0    0    0    0    0\n",
       " 28     0    0    0    0    1    0    0    0    0    0\n",
       " 29     0    0    0    0    0    1    0    0    0    0\n",
       " ..   ...  ...  ...  ...  ...  ...  ...  ...  ...  ...\n",
       " 866    0    0    0    0    0    0    0    0    1    0\n",
       " 867    0    0    0    0    0    0    0    0    1    0\n",
       " 868    0    0    0    0    0    0    1    0    0    0\n",
       " 869    0    0    0    0    0    0    0    1    0    0\n",
       " 870    0    0    0    0    0    0    0    1    0    0\n",
       " 871    0    0    0    0    0    0    0    1    0    0\n",
       " 872    0    0    0    0    0    0    0    0    1    0\n",
       " 873    0    0    0    0    0    0    0    0    1    0\n",
       " 874    0    0    0    0    0    0    0    0    0    1\n",
       " 875    0    0    0    0    0    0    0    0    0    1\n",
       " 876    0    0    0    0    0    0    0    1    0    0\n",
       " 877    0    0    0    0    0    0    0    0    1    0\n",
       " 878    0    0    0    0    0    0    0    0    1    0\n",
       " 879    0    0    0    0    0    0    0    1    0    0\n",
       " 880    0    0    0    0    0    0    0    0    1    0\n",
       " 881    0    0    0    0    0    0    0    0    0    1\n",
       " 882    0    0    0    0    0    0    1    0    0    0\n",
       " 883    0    0    0    0    0    0    0    1    0    0\n",
       " 884    0    0    0    0    0    0    0    0    1    0\n",
       " 885    0    0    0    0    0    0    0    0    1    0\n",
       " 886    0    0    0    0    0    0    0    0    0    1\n",
       " 887    0    0    0    0    0    0    0    0    1    0\n",
       " 888    0    0    0    0    0    0    0    0    0    1\n",
       " 889    0    0    0    0    0    0    0    0    1    0\n",
       " 890    0    0    0    0    0    0    0    0    1    0\n",
       " 891    0    0    0    0    0    0    0    0    0    1\n",
       " 892    0    0    0    0    0    0    1    0    0    0\n",
       " 893    0    0    0    0    0    0    0    1    0    0\n",
       " 894    0    0    0    0    0    0    0    1    0    0\n",
       " 895    0    0    0    0    0    0    0    0    1    0\n",
       " \n",
       " [896 rows x 10 columns])"
      ]
     },
     "execution_count": 34,
     "metadata": {},
     "output_type": "execute_result"
    }
   ],
   "source": [
    "#append empty columns\n",
    "labels1d.insert(0, column='0.1', value=0, allow_duplicates=False)\n",
    "labels2d.insert(0, column='0.2', value=0, allow_duplicates=False)\n",
    "labels2d.insert(0, column='0.1', value=0, allow_duplicates=False)\n",
    "\n",
    "labels1d, labels2d"
   ]
  },
  {
   "cell_type": "code",
   "execution_count": 35,
   "metadata": {},
   "outputs": [],
   "source": [
    "#convert to np.array again\n",
    "labels1d = np.array(labels1d)\n",
    "labels2d = np.array(labels2d)"
   ]
  },
  {
   "cell_type": "code",
   "execution_count": 36,
   "metadata": {},
   "outputs": [
    {
     "data": {
      "text/plain": [
       "(0.29999999999999999, array([0, 0, 1, 0, 0, 0, 0, 0, 0, 0], dtype=int64))"
      ]
     },
     "execution_count": 36,
     "metadata": {},
     "output_type": "execute_result"
    }
   ],
   "source": [
    "#check if OK\n",
    "labels1[1], labels1d[1]"
   ]
  },
  {
   "cell_type": "code",
   "execution_count": 56,
   "metadata": {},
   "outputs": [],
   "source": [
    "from keras.models import Model\n",
    "from keras.layers import *\n",
    "import keras.backend as K\n",
    "import keras.optimizers as Optimizers"
   ]
  },
  {
   "cell_type": "code",
   "execution_count": 57,
   "metadata": {
    "scrolled": true
   },
   "outputs": [],
   "source": [
    "K.clear_session()\n",
    "\n",
    "img_in = Input(shape=(160, 128, 3), name='img_in')\n",
    "\n",
    "x = img_in\n",
    "\n",
    "x = Convolution2D(24, (5,5), strides=(2,2), activation='relu')(x)       # 24 features, 5 pixel x 5 pixel kernel (convolution, feauture) window, 2wx2h stride, relu activation\n",
    "x = Convolution2D(32, (5,5), strides=(2,2), activation='relu')(x)       # 32 features, 5px5p kernel window, 2wx2h stride, relu activatiion\n",
    "x = Convolution2D(64, (5,5), strides=(2,2), activation='relu')(x)       # 64 features, 5px5p kernal window, 2wx2h stride, relu\n",
    "x = Convolution2D(64, (3,3), strides=(2,2), activation='relu')(x)       # 64 features, 3px3p kernal window, 2wx2h stride, relu\n",
    "x = Convolution2D(64, (3,3), strides=(1,1), activation='relu')(x)       # 64 features, 3px3p kernal window, 1wx1h stride, relu\n",
    "\n",
    "# Possibly add MaxPooling (will make it less sensitive to position in image).  Camera angle fixed, so may not to be needed\n",
    "\n",
    "x = Flatten(name='flattened')(x)                                        # Flatten to 1D (Fully connected)\n",
    "x = Dense(100, activation='relu')(x)                                    # Classify the data into 100 features, make all negatives 0\n",
    "x = Dropout(.1)(x)                                                      # Randomly drop out (turn off) 10% of the neurons (Prevent overfitting)\n",
    "x = Dense(50, activation='relu')(x)                                     # Classify the data into 50 features, make all negatives 0\n",
    "x = Dropout(.1)(x)                                                      # Randomly drop out 10% of the neurons (Prevent overfitting)\n",
    "\n",
    "#categorical output\n",
    "out1 = Dense(10, activation='softmax')(x)\n",
    "out2 = Dense(10, activation='softmax')(x)\n",
    "\n",
    "model = Model(inputs=[img_in], outputs=[out1, out2])\n",
    "model.compile(loss=['categorical_crossentropy', 'categorical_crossentropy'], optimizer='adadelta', metrics=['accuracy'])"
   ]
  },
  {
   "cell_type": "code",
   "execution_count": 58,
   "metadata": {
    "scrolled": true
   },
   "outputs": [
    {
     "name": "stdout",
     "output_type": "stream",
     "text": [
      "____________________________________________________________________________________________________\n",
      "Layer (type)                     Output Shape          Param #     Connected to                     \n",
      "====================================================================================================\n",
      "img_in (InputLayer)              (None, 160, 128, 3)   0                                            \n",
      "____________________________________________________________________________________________________\n",
      "conv2d_1 (Conv2D)                (None, 78, 62, 24)    1824        img_in[0][0]                     \n",
      "____________________________________________________________________________________________________\n",
      "conv2d_2 (Conv2D)                (None, 37, 29, 32)    19232       conv2d_1[0][0]                   \n",
      "____________________________________________________________________________________________________\n",
      "conv2d_3 (Conv2D)                (None, 17, 13, 64)    51264       conv2d_2[0][0]                   \n",
      "____________________________________________________________________________________________________\n",
      "conv2d_4 (Conv2D)                (None, 8, 6, 64)      36928       conv2d_3[0][0]                   \n",
      "____________________________________________________________________________________________________\n",
      "conv2d_5 (Conv2D)                (None, 6, 4, 64)      36928       conv2d_4[0][0]                   \n",
      "____________________________________________________________________________________________________\n",
      "flattened (Flatten)              (None, 1536)          0           conv2d_5[0][0]                   \n",
      "____________________________________________________________________________________________________\n",
      "dense_1 (Dense)                  (None, 100)           153700      flattened[0][0]                  \n",
      "____________________________________________________________________________________________________\n",
      "dropout_1 (Dropout)              (None, 100)           0           dense_1[0][0]                    \n",
      "____________________________________________________________________________________________________\n",
      "dense_2 (Dense)                  (None, 50)            5050        dropout_1[0][0]                  \n",
      "____________________________________________________________________________________________________\n",
      "dropout_2 (Dropout)              (None, 50)            0           dense_2[0][0]                    \n",
      "____________________________________________________________________________________________________\n",
      "dense_3 (Dense)                  (None, 10)            510         dropout_2[0][0]                  \n",
      "____________________________________________________________________________________________________\n",
      "dense_4 (Dense)                  (None, 10)            510         dropout_2[0][0]                  \n",
      "====================================================================================================\n",
      "Total params: 305,946\n",
      "Trainable params: 305,946\n",
      "Non-trainable params: 0\n",
      "____________________________________________________________________________________________________\n"
     ]
    }
   ],
   "source": [
    "model.summary()"
   ]
  },
  {
   "cell_type": "code",
   "execution_count": 65,
   "metadata": {},
   "outputs": [
    {
     "name": "stdout",
     "output_type": "stream",
     "text": [
      "Epoch 1/10\n",
      "896/896 [==============================] - 13s - loss: 0.1165 - dense_3_loss: 0.0803 - dense_4_loss: 0.0361 - dense_3_acc: 0.9821 - dense_4_acc: 0.9844    \n",
      "Epoch 2/10\n",
      "896/896 [==============================] - 15s - loss: 0.1222 - dense_3_loss: 0.0535 - dense_4_loss: 0.0687 - dense_3_acc: 0.9877 - dense_4_acc: 0.9844    \n",
      "Epoch 3/10\n",
      "896/896 [==============================] - 15s - loss: 0.1005 - dense_3_loss: 0.0655 - dense_4_loss: 0.0350 - dense_3_acc: 0.9810 - dense_4_acc: 0.9911    \n",
      "Epoch 4/10\n",
      "896/896 [==============================] - 15s - loss: 0.1405 - dense_3_loss: 0.0959 - dense_4_loss: 0.0446 - dense_3_acc: 0.9754 - dense_4_acc: 0.9855    \n",
      "Epoch 5/10\n",
      "896/896 [==============================] - 16s - loss: 0.1595 - dense_3_loss: 0.0733 - dense_4_loss: 0.0862 - dense_3_acc: 0.9788 - dense_4_acc: 0.9799    \n",
      "Epoch 6/10\n",
      "896/896 [==============================] - 16s - loss: 0.0983 - dense_3_loss: 0.0698 - dense_4_loss: 0.0285 - dense_3_acc: 0.9833 - dense_4_acc: 0.9888    \n",
      "Epoch 7/10\n",
      "896/896 [==============================] - 16s - loss: 0.1143 - dense_3_loss: 0.0548 - dense_4_loss: 0.0595 - dense_3_acc: 0.9777 - dense_4_acc: 0.9844    \n",
      "Epoch 8/10\n",
      "896/896 [==============================] - 16s - loss: 0.1003 - dense_3_loss: 0.0446 - dense_4_loss: 0.0557 - dense_3_acc: 0.9810 - dense_4_acc: 0.9888    \n",
      "Epoch 9/10\n",
      "896/896 [==============================] - 16s - loss: 0.1192 - dense_3_loss: 0.0575 - dense_4_loss: 0.0617 - dense_3_acc: 0.9855 - dense_4_acc: 0.9766    \n",
      "Epoch 10/10\n",
      "896/896 [==============================] - 17s - loss: 0.1197 - dense_3_loss: 0.0343 - dense_4_loss: 0.0854 - dense_3_acc: 0.9922 - dense_4_acc: 0.9788    \n"
     ]
    }
   ],
   "source": [
    "h = model.fit(images, [labels1d, labels2d], batch_size=1, epochs=50, verbose=1)"
   ]
  },
  {
   "cell_type": "code",
   "execution_count": 66,
   "metadata": {},
   "outputs": [
    {
     "data": {
      "text/plain": [
       "<matplotlib.axes._subplots.AxesSubplot at 0x1f350319400>"
      ]
     },
     "execution_count": 66,
     "metadata": {},
     "output_type": "execute_result"
    },
    {
     "data": {
      "image/png": "[encoded data removed]",
      "text/plain": [
       "<matplotlib.figure.Figure at 0x1f350192da0>"
      ]
     },
     "metadata": {},
     "output_type": "display_data"
    }
   ],
   "source": [
    "#print History graph\n",
    "historydf = pd.DataFrame(h.history, index=h.epoch)\n",
    "historydf.plot(ylim=(0,1))"
   ]
  },
  {
   "cell_type": "code",
   "execution_count": 67,
   "metadata": {},
   "outputs": [
    {
     "data": {
      "text/plain": [
       "(array([8, 9, 8, 6, 8, 8, 5, 3, 6, 5, 6, 8, 8, 8, 6, 6, 6, 6, 9, 7, 8, 9, 7,\n",
       "        6, 6, 8, 8, 7, 7, 7, 8, 6, 7, 6, 7, 7, 7, 7, 9, 8, 6, 7, 8, 8, 6, 8,\n",
       "        7, 7, 7, 6, 9, 7, 7, 7, 8, 7, 6, 7, 6, 7, 7, 6, 6, 6, 7, 8, 8, 8, 6,\n",
       "        7, 8, 7, 7, 9, 6, 6, 6, 8, 8, 7, 8, 9, 7, 9, 7, 7, 6, 8, 8, 7, 7, 7,\n",
       "        9, 5, 7, 9, 7, 9, 6, 8, 7, 8, 8, 7, 8, 7, 6, 7, 6, 8, 7, 8, 9, 9, 7,\n",
       "        9, 7, 8, 8, 9, 8, 8, 7, 8, 9, 9, 5, 8, 9, 8, 8, 9, 8, 6, 7, 9, 7, 6,\n",
       "        9, 8, 9, 6, 8, 7, 8, 9, 9, 7, 7, 8], dtype=int64),\n",
       " array([ 9, 10,  8,  6,  7,  8,  4,  8,  8,  5,  6,  7, 10,  8,  4,  8,  7,\n",
       "         8,  9,  8,  8,  7,  8,  9,  8,  8,  8,  5,  6,  7,  8,  8,  9,  8,\n",
       "         8, 10,  8,  7, 10,  8,  5,  5,  7,  8,  9,  8,  8,  8,  9,  5,  8,\n",
       "         9,  7,  8,  9,  7,  7,  8,  4,  8,  7,  4,  9,  9,  9,  9,  8,  7,\n",
       "         8,  6,  8,  7,  7,  8,  4,  7,  8,  9,  8,  9,  8,  8,  8,  8,  8,\n",
       "         6,  7,  7,  9,  7,  7,  6,  8,  5,  7,  8,  6, 10,  6,  9,  7,  8,\n",
       "         7,  7,  8,  9,  8,  8,  6,  7,  8,  8,  9,  9,  7,  8,  8,  8,  9,\n",
       "         7,  7,  8,  7,  8,  8,  7,  9,  8,  9,  8,  7,  8,  8,  7,  8,  9,\n",
       "         8,  8,  7,  8,  8,  5,  8,  8,  9,  8,  8,  9,  9,  8], dtype=int64),\n",
       " array([ 0.3,  0.5,  0.5,  0.5,  0.5,  0.5,  0.5,  0.6,  0.6,  0.6,  0.6,\n",
       "         0.6,  0.7,  0.7,  0.7,  0.6,  0.6,  0.6,  0.7,  0.7,  0.6,  0.6,\n",
       "         0.7,  0.7,  0.7,  0.4,  0.5,  0.5,  0.6,  0.6,  0.8,  0.8,  0.8,\n",
       "         0.8,  0.8,  0.6,  0.6,  0.7,  0.7,  0.7,  0.3,  0.5,  0.6,  0.7,\n",
       "         0.7,  0.7,  0.7,  0.7,  0.7,  0.7,  0.7,  0.8,  0.8,  0.8,  0.8,\n",
       "         0.8,  0.8,  0.8,  0.8,  0.9,  0.8,  0.9,  0.9,  0.9,  0.4,  0.8,\n",
       "         0.8,  0.8,  0.8,  0.8,  0.8,  0.8,  0.8,  0.8,  0.8,  0.8,  0.8,\n",
       "         0.8,  0.8,  0.8,  0.7,  0.8,  0.8,  0.8,  0.8,  0.7,  0.7,  0.7,\n",
       "         0.7,  0.7,  0.5,  0.5,  0.6,  0.6,  0.6,  0.7,  0.7,  0.7,  0.7,\n",
       "         0.8,  0.7,  0.7,  0.7,  0.7,  0.7,  0.9,  0.9,  1. ,  0.7,  0.7,\n",
       "         0.7,  0.7,  0.7,  0.7,  0.7,  0.7,  0.7,  0.7,  0.8,  0.8,  0.8,\n",
       "         0.8,  0.8,  0.9,  0.9,  0.9,  0.9,  0.9,  0.8,  0.8,  0.9,  0.9,\n",
       "         0.9,  0.9,  0.9,  0.9,  0.9,  0.9,  0.7,  0.9,  0.9,  0.7,  0.8,\n",
       "         0.8,  0.8,  0.9,  0.8,  0.8,  0.9,  0.9]),\n",
       " array([ 0.5,  0.5,  0.5,  0.5,  0.5,  0.5,  0.5,  0.5,  0.5,  0.5,  0.6,\n",
       "         0.6,  0.6,  0.6,  0.6,  0.6,  0.6,  0.6,  0.6,  0.6,  0.6,  0.6,\n",
       "         0.6,  0.6,  0.6,  0.6,  0.6,  0.6,  0.6,  0.6,  0.6,  0.6,  0.6,\n",
       "         0.6,  0.6,  0.7,  0.7,  0.7,  0.7,  0.7,  0.7,  0.7,  0.7,  0.7,\n",
       "         0.7,  0.7,  0.7,  0.7,  0.7,  0.7,  0.7,  0.7,  0.7,  0.7,  0.7,\n",
       "         0.7,  0.7,  0.7,  0.7,  0.7,  0.7,  0.7,  0.7,  0.7,  0.7,  0.7,\n",
       "         0.7,  0.7,  0.7,  0.7,  0.7,  0.7,  0.7,  0.7,  0.7,  0.7,  0.7,\n",
       "         0.7,  0.7,  0.7,  0.8,  0.8,  0.8,  0.8,  0.8,  0.8,  0.8,  0.8,\n",
       "         0.8,  0.8,  0.8,  0.8,  0.8,  0.8,  0.8,  0.8,  0.8,  0.8,  0.8,\n",
       "         0.8,  0.8,  0.8,  0.8,  0.8,  0.8,  0.8,  0.8,  0.8,  0.8,  0.8,\n",
       "         0.8,  0.8,  0.8,  0.8,  0.8,  0.8,  0.8,  0.8,  0.8,  0.8,  0.8,\n",
       "         0.8,  0.8,  0.8,  0.8,  0.8,  0.8,  0.8,  0.9,  0.9,  0.9,  0.9,\n",
       "         0.9,  0.9,  0.9,  0.9,  0.9,  0.9,  0.9,  0.9,  0.9,  0.9,  0.9,\n",
       "         0.9,  0.9,  1. ,  1. ,  1. ,  1. ,  1. ]))"
      ]
     },
     "execution_count": 67,
     "metadata": {},
     "output_type": "execute_result"
    }
   ],
   "source": [
    "# Get predictions\n",
    "all_preds = model.predict(images_val)\n",
    "\n",
    "# Check predictions\n",
    "idx1 = np.argmax(all_preds[0], axis=1)\n",
    "idx2 = np.argmax(all_preds[1], axis=1)\n",
    "\n",
    "i = 0\n",
    "for value1 in idx1:\n",
    "    idx1[i] = value1 + 1\n",
    "    i = i + 1\n",
    "i = 0\n",
    "for value2 in idx2:\n",
    "    idx2[i] = value2 + 1\n",
    "    i = i + 1\n",
    "\n",
    "idx1, idx2, labels2_val, labels1_val"
   ]
  },
  {
   "cell_type": "code",
   "execution_count": null,
   "metadata": {},
   "outputs": [],
   "source": []
  },
  {
   "cell_type": "code",
   "execution_count": 70,
   "metadata": {},
   "outputs": [
    {
     "data": {
      "text/plain": [
       "0.14666666666666667"
      ]
     },
     "execution_count": 70,
     "metadata": {},
     "output_type": "execute_result"
    }
   ],
   "source": [
    "import math\n",
    "i = 0\n",
    "res = 0\n",
    "for value in idx1:\n",
    "    if value > idx2[i] and labels1_val[i] < labels2_val[i]:\n",
    "        res = res + 1\n",
    "    elif value < idx2[i] and labels1_val[i] > labels2_val[i]:\n",
    "        res = res + 1\n",
    "    i = i + 1\n",
    "res/i"
   ]
  },
  {
   "cell_type": "code",
   "execution_count": null,
   "metadata": {},
   "outputs": [],
   "source": []
  },
  {
   "cell_type": "code",
   "execution_count": 71,
   "metadata": {},
   "outputs": [],
   "source": [
    "model.save('model-2x10.h5')"
   ]
  },
  {
   "cell_type": "code",
   "execution_count": 3,
   "metadata": {},
   "outputs": [],
   "source": []
  },
  {
   "cell_type": "code",
   "execution_count": null,
   "metadata": {},
   "outputs": [],
   "source": []
  },
  {
   "cell_type": "code",
   "execution_count": null,
   "metadata": {},
   "outputs": [],
   "source": [
    "from keras.models import load_model\n",
    "model = load_model('test_model.h5')"
   ]
  }
 ],
 "metadata": {
  "kernelspec": {
   "display_name": "Python 3",
   "language": "python",
   "name": "python3"
  },
  "language_info": {
   "codemirror_mode": {
    "name": "ipython",
    "version": 3
   },
   "file_extension": ".py",
   "mimetype": "text/x-python",
   "name": "python",
   "nbconvert_exporter": "python",
   "pygments_lexer": "ipython3",
   "version": "3.5.4"
  }
 },
 "nbformat": 4,
 "nbformat_minor": 2
}
