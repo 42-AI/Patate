{
 "cells": [
  {
   "cell_type": "code",
   "execution_count": 1,
   "metadata": {},
   "outputs": [
    {
     "name": "stderr",
     "output_type": "stream",
     "text": [
      "C:\\Users\\Rock_\\Anaconda3\\lib\\site-packages\\h5py\\__init__.py:36: FutureWarning: Conversion of the second argument of issubdtype from `float` to `np.floating` is deprecated. In future, it will be treated as `np.float64 == np.dtype(float).type`.\n",
      "  from ._conv import register_converters as _register_converters\n",
      "Using TensorFlow backend.\n"
     ]
    }
   ],
   "source": [
    "from os import listdir\n",
    "from keras.preprocessing.image import load_img\n",
    "from keras.preprocessing.image import img_to_array\n",
    "from PIL import Image\n",
    "import numpy as np\n",
    "import pandas as pd\n",
    "%matplotlib inline\n",
    "import matplotlib.pyplot as plt\n",
    "import random\n"
   ]
  },
  {
   "cell_type": "code",
   "execution_count": 5,
   "metadata": {},
   "outputs": [],
   "source": [
    "def load_photos(directory):\n",
    "    images = []\n",
    "    labels_speed = []\n",
    "    labels_dir = []\n",
    "    dir_list = listdir(directory)\n",
    "    random.shuffle(dir_list)\n",
    "    for name in dir_list:\n",
    "        filename = directory + '/' + name\n",
    "        # load an image from file\n",
    "        image = load_img(filename, target_size=(128, 160))\n",
    "        # convert the image pixels to a numpy array\n",
    "        image = img_to_array(image)\n",
    "        # get image id + labels\n",
    "        value_speed = int(name.split('_')[0])\n",
    "        value_dir = int(name.split('_')[1])\n",
    "        labels_speed.append(value_speed)\n",
    "        labels_dir.append(value_dir)\n",
    "        images.append(image)\n",
    "    return images, labels_speed, labels_dir"
   ]
  },
  {
   "cell_type": "code",
   "execution_count": 6,
   "metadata": {},
   "outputs": [],
   "source": [
    "dataset = \"Pics/Auto\""
   ]
  },
  {
   "cell_type": "code",
   "execution_count": 7,
   "metadata": {},
   "outputs": [
    {
     "name": "stdout",
     "output_type": "stream",
     "text": [
      "Loaded Images and labels: 17547\n"
     ]
    }
   ],
   "source": [
    "# load images from both train and test groups\n",
    "directory = '../../' + dataset\n",
    "images, labels_speed, labels_dir = load_photos(directory)\n",
    "nb_images = len(images)\n",
    "print('Loaded Images and labels: %d' % nb_images)"
   ]
  },
  {
   "cell_type": "code",
   "execution_count": 8,
   "metadata": {},
   "outputs": [],
   "source": [
    "images = np.array(images)\n",
    "images = images[:, 40:, :, :]\n",
    "images /= 255"
   ]
  },
  {
   "cell_type": "code",
   "execution_count": 9,
   "metadata": {},
   "outputs": [],
   "source": [
    "#convert datas to dummyvalues\n",
    "labels_speed = np.array(pd.get_dummies(labels_speed))\n",
    "labels_dir = np.array(pd.get_dummies(labels_dir))"
   ]
  },
  {
   "cell_type": "code",
   "execution_count": 10,
   "metadata": {},
   "outputs": [
    {
     "data": {
      "text/plain": [
       "(array([1], dtype=uint8), array([1, 0, 0, 0, 0], dtype=uint8))"
      ]
     },
     "execution_count": 10,
     "metadata": {},
     "output_type": "execute_result"
    }
   ],
   "source": [
    "labels_speed[4200], labels_dir[4200]"
   ]
  },
  {
   "cell_type": "code",
   "execution_count": 11,
   "metadata": {},
   "outputs": [
    {
     "data": {
      "text/plain": [
       "<matplotlib.image.AxesImage at 0x222997fceb8>"
      ]
     },
     "execution_count": 11,
     "metadata": {},
     "output_type": "execute_result"
    },
    {
     "data": {
      "image/png": "[encoded data removed]",
      "text/plain": [
       "<Figure size 432x288 with 1 Axes>"
      ]
     },
     "metadata": {},
     "output_type": "display_data"
    }
   ],
   "source": [
    "plt.imshow(images[4200])"
   ]
  },
  {
   "cell_type": "code",
   "execution_count": 12,
   "metadata": {},
   "outputs": [],
   "source": [
    "from keras.models import Model, Sequential\n",
    "from keras.layers import *\n",
    "import keras.backend as K\n",
    "import keras.optimizers as Optimizers"
   ]
  },
  {
   "cell_type": "code",
   "execution_count": 16,
   "metadata": {},
   "outputs": [],
   "source": [
    "K.clear_session()\n",
    "############################################################# Simple Dir Model  \n",
    "\n",
    "img_in = Input(shape=(88, 160, 3), name='img_in')\n",
    "\n",
    "x = img_in\n",
    "\n",
    "x = Convolution2D(2, (16,16), strides=(8,8), activation='relu', padding='same')(x)\n",
    "x = Dropout(.1)(x)\n",
    "flat = Flatten()(x)\n",
    "out = Dense(5, activation='softmax')(flat)\n",
    "\n",
    "model = Model(inputs=[img_in], outputs=[out])\n",
    "model.compile(loss='categorical_crossentropy', optimizer='adadelta', metrics=['accuracy'])\n",
    "\n",
    "model.summary()"
   ]
  },
  {
   "cell_type": "code",
   "execution_count": 24,
   "metadata": {},
   "outputs": [
    {
     "name": "stdout",
     "output_type": "stream",
     "text": [
      "Train on 14037 samples, validate on 3510 samples\n",
      "Epoch 1/20\n",
      "14037/14037 [==============================] - 12s 856us/step - loss: 0.2037 - acc: 0.9246 - val_loss: 0.1704 - val_acc: 0.9433\n",
      "Epoch 2/20\n",
      "14037/14037 [==============================] - 12s 866us/step - loss: 0.2040 - acc: 0.9266 - val_loss: 0.1760 - val_acc: 0.9387\n",
      "Epoch 3/20\n",
      "14037/14037 [==============================] - 12s 850us/step - loss: 0.1966 - acc: 0.9276 - val_loss: 0.1899 - val_acc: 0.9350\n",
      "Epoch 4/20\n",
      "14037/14037 [==============================] - 12s 830us/step - loss: 0.2009 - acc: 0.9257 - val_loss: 0.1662 - val_acc: 0.9439\n",
      "Epoch 5/20\n",
      "14037/14037 [==============================] - 12s 838us/step - loss: 0.2033 - acc: 0.9257 - val_loss: 0.1743 - val_acc: 0.9450\n",
      "Epoch 6/20\n",
      "14037/14037 [==============================] - 12s 840us/step - loss: 0.1993 - acc: 0.9284 - val_loss: 0.1623 - val_acc: 0.9442\n",
      "Epoch 7/20\n",
      "14037/14037 [==============================] - 12s 864us/step - loss: 0.2007 - acc: 0.9282 - val_loss: 0.1602 - val_acc: 0.9453\n",
      "Epoch 8/20\n",
      "14037/14037 [==============================] - 13s 898us/step - loss: 0.2018 - acc: 0.9268 - val_loss: 0.1810 - val_acc: 0.9399\n",
      "Epoch 9/20\n",
      "14037/14037 [==============================] - 12s 858us/step - loss: 0.1955 - acc: 0.9280 - val_loss: 0.1798 - val_acc: 0.9348\n",
      "Epoch 10/20\n",
      "14037/14037 [==============================] - 13s 909us/step - loss: 0.1911 - acc: 0.9321 - val_loss: 0.1976 - val_acc: 0.9254\n",
      "Epoch 11/20\n",
      "14037/14037 [==============================] - 13s 913us/step - loss: 0.1931 - acc: 0.9303 - val_loss: 0.1564 - val_acc: 0.9481\n",
      "Epoch 12/20\n",
      "14037/14037 [==============================] - 13s 921us/step - loss: 0.1927 - acc: 0.9283 - val_loss: 0.1692 - val_acc: 0.9450\n",
      "Epoch 13/20\n",
      "14037/14037 [==============================] - 13s 944us/step - loss: 0.1908 - acc: 0.9310 - val_loss: 0.1578 - val_acc: 0.9453\n",
      "Epoch 14/20\n",
      "14037/14037 [==============================] - 14s 983us/step - loss: 0.1910 - acc: 0.9291 - val_loss: 0.1817 - val_acc: 0.9336\n",
      "Epoch 15/20\n",
      "14037/14037 [==============================] - 14s 981us/step - loss: 0.1941 - acc: 0.9291 - val_loss: 0.1557 - val_acc: 0.9467\n",
      "Epoch 16/20\n",
      "14037/14037 [==============================] - 14s 992us/step - loss: 0.1936 - acc: 0.9305 - val_loss: 0.1656 - val_acc: 0.9419\n",
      "Epoch 17/20\n",
      "14037/14037 [==============================] - 14s 1ms/step - loss: 0.1843 - acc: 0.9326 - val_loss: 0.1611 - val_acc: 0.9479\n",
      "Epoch 18/20\n",
      "14037/14037 [==============================] - 15s 1ms/step - loss: 0.1867 - acc: 0.9310 - val_loss: 0.1753 - val_acc: 0.9399\n",
      "Epoch 19/20\n",
      "14037/14037 [==============================] - 15s 1ms/step - loss: 0.1861 - acc: 0.9309 - val_loss: 0.1907 - val_acc: 0.9285\n",
      "Epoch 20/20\n",
      "14037/14037 [==============================] - 14s 971us/step - loss: 0.1864 - acc: 0.9326 - val_loss: 0.1976 - val_acc: 0.9271\n"
     ]
    }
   ],
   "source": [
    "h = model.fit(images, labels_dir, batch_size=128, epochs=20, verbose=1, validation_split=0.2)"
   ]
  },
  {
   "cell_type": "code",
   "execution_count": 25,
   "metadata": {},
   "outputs": [
    {
     "data": {
      "text/plain": [
       "<matplotlib.axes._subplots.AxesSubplot at 0x224952d7c18>"
      ]
     },
     "execution_count": 25,
     "metadata": {},
     "output_type": "execute_result"
    },
    {
     "data": {
      "image/png": "[encoded data removed]",
      "text/plain": [
       "<Figure size 432x288 with 1 Axes>"
      ]
     },
     "metadata": {},
     "output_type": "display_data"
    }
   ],
   "source": [
    "#print History graph\n",
    "historydf = pd.DataFrame(h.history, index=h.epoch)\n",
    "historydf.plot(ylim=(0,1))"
   ]
  },
  {
   "cell_type": "code",
   "execution_count": 27,
   "metadata": {},
   "outputs": [],
   "source": [
    "model.save('model_dir.h5')"
   ]
  },
  {
   "cell_type": "code",
   "execution_count": null,
   "metadata": {},
   "outputs": [],
   "source": [
    "K.clear_session()\n",
    "############################################################# Simple Speed Model  \n",
    "\n",
    "img_in = Input(shape=(88, 160, 3), name='img_in')\n",
    "\n",
    "x = img_in\n",
    "\n",
    "x = Convolution2D(2, (16,16), strides=(8,8), activation='relu', padding='same')(x)\n",
    "x = Dropout(.1)(x)\n",
    "flat = Flatten()(x)\n",
    "out = Dense(2, activation='softmax')(flat)\n",
    "\n",
    "model = Model(inputs=[img_in], outputs=[out])\n",
    "model.compile(loss='categorical_crossentropy', optimizer='adadelta', metrics=['accuracy'])\n",
    "\n",
    "model.summary()"
   ]
  },
  {
   "cell_type": "code",
   "execution_count": null,
   "metadata": {},
   "outputs": [],
   "source": [
    "h = model.fit(images, labels_speed, batch_size=128, epochs=20, verbose=1, validation_split=0.2)"
   ]
  },
  {
   "cell_type": "code",
   "execution_count": null,
   "metadata": {},
   "outputs": [],
   "source": [
    "#print History graph\n",
    "historydf = pd.DataFrame(h.history, index=h.epoch)\n",
    "historydf.plot(ylim=(0,1))"
   ]
  },
  {
   "cell_type": "code",
   "execution_count": null,
   "metadata": {},
   "outputs": [],
   "source": [
    "model.save('model_speed_dir.h5')"
   ]
  },
  {
   "cell_type": "code",
   "execution_count": null,
   "metadata": {},
   "outputs": [],
   "source": [
    "K.clear_session()\n",
    "############################################################# Multitask Model  \n",
    "\n",
    "img_in = Input(shape=(88, 160, 3), name='img_in')\n",
    "\n",
    "x = img_in\n",
    "\n",
    "x = Convolution2D(2, (16,16), strides=(8,8), activation='relu', padding='same')(x)\n",
    "x = Dropout(.1)(x)\n",
    "flat = Flatten()(x)\n",
    "out_speed = Dense(2, activation='softmax')(flat)\n",
    "out_dir = Dense(5, activation='softmax')(flat)\n",
    "\n",
    "model = Model(inputs=[img_in], outputs=[out_speed, out_dir])\n",
    "model.compile(loss='categorical_crossentropy', optimizer='adadelta', metrics=['accuracy'])\n",
    "\n",
    "model.summary()"
   ]
  },
  {
   "cell_type": "code",
   "execution_count": null,
   "metadata": {},
   "outputs": [],
   "source": [
    "h = model.fit(images, [labels_speed, labels_dir], batch_size=128, epochs=20, verbose=1, validation_split=0.2)"
   ]
  },
  {
   "cell_type": "code",
   "execution_count": null,
   "metadata": {},
   "outputs": [],
   "source": [
    "#print History graph\n",
    "historydf = pd.DataFrame(h.history, index=h.epoch)\n",
    "historydf.plot(ylim=(0,1))"
   ]
  },
  {
   "cell_type": "code",
   "execution_count": null,
   "metadata": {},
   "outputs": [],
   "source": [
    "model.save('model_multi.h5')"
   ]
  }
 ],
 "metadata": {
  "kernelspec": {
   "display_name": "Python 3",
   "language": "python",
   "name": "python3"
  },
  "language_info": {
   "codemirror_mode": {
    "name": "ipython",
    "version": 3
   },
   "file_extension": ".py",
   "mimetype": "text/x-python",
   "name": "python",
   "nbconvert_exporter": "python",
   "pygments_lexer": "ipython3",
   "version": "3.6.5"
  }
 },
 "nbformat": 4,
 "nbformat_minor": 2
}
