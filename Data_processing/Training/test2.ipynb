{
 "cells": [
  {
   "cell_type": "code",
   "execution_count": 1,
   "metadata": {},
   "outputs": [
    {
     "name": "stderr",
     "output_type": "stream",
     "text": [
      "Using TensorFlow backend.\n"
     ]
    }
   ],
   "source": [
    "from os import listdir\n",
    "from keras.preprocessing.image import load_img\n",
    "from keras.preprocessing.image import img_to_array\n",
    "from PIL import Image\n",
    "import numpy as np\n",
    "import pandas as pd\n",
    "%matplotlib inline\n",
    "import matplotlib.pyplot as plt"
   ]
  },
  {
   "cell_type": "code",
   "execution_count": 10,
   "metadata": {},
   "outputs": [],
   "source": [
    "def load_photos(directory):\n",
    "    images = []\n",
    "    labelsR = []\n",
    "    labelsS = []\n",
    "    for name in listdir(directory):\n",
    "        filename = directory + '/' + name\n",
    "        # convert image to gray\n",
    "        img = Image.open(filename).convert('L')\n",
    "        img.save(filename)\n",
    "        # load an image from file\n",
    "        image = load_img(filename, target_size=(160, 128), grayscale=True)\n",
    "        # convert the image pixels to a numpy array\n",
    "        image = img_to_array(image)\n",
    "        # get image id + labels\n",
    "        labelsR.append(round(float(name.split('_')[0].split('-')[0]) / float(name.split('_')[0].split('-')[1]), 1))\n",
    "        labelsS.append(round(((float(name.split('_')[0].split('-')[0]) + float(name.split('_')[0].split('-')[1])) / 2), 1))\n",
    "        images.append(image)\n",
    "    return images, labelsR, labelsS"
   ]
  },
  {
   "cell_type": "code",
   "execution_count": 11,
   "metadata": {},
   "outputs": [
    {
     "name": "stdout",
     "output_type": "stream",
     "text": [
      "Loaded Images and labels for training: 643\n",
      "Loaded Images and labels for validation: 105\n"
     ]
    }
   ],
   "source": [
    "# load images from both train and test groups\n",
    "directory = '../data/Patate_Pics/Training'\n",
    "images, labelsR, labelsS = load_photos(directory)\n",
    "nb_images = len(images)\n",
    "print('Loaded Images and labels for training: %d' % nb_images)\n",
    "directory = '../data/Patate_Pics/Validation'\n",
    "images_val, labelsR_val, labelsS_val = load_photos(directory)\n",
    "nb_images_val = len(images_val)\n",
    "print('Loaded Images and labels for validation: %d' % nb_images_val)"
   ]
  },
  {
   "cell_type": "code",
   "execution_count": 12,
   "metadata": {
    "scrolled": false
   },
   "outputs": [],
   "source": [
    "#normalise datas\n",
    "images = np.array(images)\n",
    "images /= 255\n",
    "images_val = np.array(images_val)\n",
    "images_val /= 255"
   ]
  },
  {
   "cell_type": "code",
   "execution_count": 13,
   "metadata": {},
   "outputs": [],
   "source": [
    "#convert to np.array\n",
    "labelsR = np.array(labelsR)\n",
    "labelsS = np.array(labelsS)\n",
    "labelsR_val = np.array(labelsR_val)\n",
    "labelsS_val = np.array(labelsS_val)"
   ]
  },
  {
   "cell_type": "code",
   "execution_count": null,
   "metadata": {},
   "outputs": [],
   "source": []
  },
  {
   "cell_type": "code",
   "execution_count": 14,
   "metadata": {},
   "outputs": [],
   "source": [
    "#convert datas to dummyvalues\n",
    "labelsRd = pd.get_dummies(labelsR)\n",
    "labelsSd = pd.get_dummies(labelsS)"
   ]
  },
  {
   "cell_type": "code",
   "execution_count": 15,
   "metadata": {},
   "outputs": [
    {
     "data": {
      "text/plain": [
       "((643, 17), (643, 8))"
      ]
     },
     "execution_count": 15,
     "metadata": {},
     "output_type": "execute_result"
    }
   ],
   "source": [
    "labelsRd.shape, labelsSd.shape"
   ]
  },
  {
   "cell_type": "code",
   "execution_count": 16,
   "metadata": {},
   "outputs": [
    {
     "data": {
      "text/plain": [
       "(     0.4  0.5  0.6  0.7  0.8  0.9  1.0  1.1  1.2  1.3  1.4  1.5  1.6  1.7  \\\n",
       " 0      1    0    0    0    0    0    0    0    0    0    0    0    0    0   \n",
       " 1      0    0    1    0    0    0    0    0    0    0    0    0    0    0   \n",
       " 2      0    0    1    0    0    0    0    0    0    0    0    0    0    0   \n",
       " 3      0    0    0    0    0    0    0    1    0    0    0    0    0    0   \n",
       " 4      0    1    0    0    0    0    0    0    0    0    0    0    0    0   \n",
       " 5      0    0    1    0    0    0    0    0    0    0    0    0    0    0   \n",
       " 6      0    0    0    0    0    0    0    0    0    0    0    0    0    0   \n",
       " 7      0    0    0    0    0    0    0    0    1    0    0    0    0    0   \n",
       " 8      0    0    0    0    0    0    0    1    0    0    0    0    0    0   \n",
       " 9      0    0    0    0    0    0    1    0    0    0    0    0    0    0   \n",
       " 10     0    0    0    0    0    1    0    0    0    0    0    0    0    0   \n",
       " 11     0    0    0    0    0    0    0    0    1    0    0    0    0    0   \n",
       " 12     0    0    0    1    0    0    0    0    0    0    0    0    0    0   \n",
       " 13     0    0    0    0    0    0    1    0    0    0    0    0    0    0   \n",
       " 14     0    0    0    0    0    0    1    0    0    0    0    0    0    0   \n",
       " 15     0    0    1    0    0    0    0    0    0    0    0    0    0    0   \n",
       " 16     0    0    1    0    0    0    0    0    0    0    0    0    0    0   \n",
       " 17     0    0    0    1    0    0    0    0    0    0    0    0    0    0   \n",
       " 18     0    0    0    0    0    0    0    0    1    0    0    0    0    0   \n",
       " 19     0    0    0    0    0    1    0    0    0    0    0    0    0    0   \n",
       " 20     0    0    0    0    0    0    0    0    0    0    1    0    0    0   \n",
       " 21     0    0    0    0    0    0    0    1    0    0    0    0    0    0   \n",
       " 22     0    0    0    0    0    0    1    0    0    0    0    0    0    0   \n",
       " 23     0    0    0    1    0    0    0    0    0    0    0    0    0    0   \n",
       " 24     0    0    0    1    0    0    0    0    0    0    0    0    0    0   \n",
       " 25     0    0    0    1    0    0    0    0    0    0    0    0    0    0   \n",
       " 26     0    0    0    0    0    0    0    1    0    0    0    0    0    0   \n",
       " 27     0    0    0    0    0    0    0    0    0    0    0    0    1    0   \n",
       " 28     0    0    0    0    1    0    0    0    0    0    0    0    0    0   \n",
       " 29     0    0    0    0    0    1    0    0    0    0    0    0    0    0   \n",
       " ..   ...  ...  ...  ...  ...  ...  ...  ...  ...  ...  ...  ...  ...  ...   \n",
       " 613    0    0    0    0    0    0    1    0    0    0    0    0    0    0   \n",
       " 614    0    0    0    0    0    0    0    1    0    0    0    0    0    0   \n",
       " 615    0    0    0    0    0    0    1    0    0    0    0    0    0    0   \n",
       " 616    0    0    0    0    0    1    0    0    0    0    0    0    0    0   \n",
       " 617    0    0    0    0    0    0    0    1    0    0    0    0    0    0   \n",
       " 618    0    0    0    0    0    0    0    1    0    0    0    0    0    0   \n",
       " 619    0    0    0    0    0    0    0    1    0    0    0    0    0    0   \n",
       " 620    0    0    0    0    0    0    1    0    0    0    0    0    0    0   \n",
       " 621    0    0    0    0    0    1    0    0    0    0    0    0    0    0   \n",
       " 622    0    0    0    0    0    0    0    0    0    0    1    0    0    0   \n",
       " 623    0    0    0    0    0    0    0    1    0    0    0    0    0    0   \n",
       " 624    0    0    0    0    0    0    0    1    0    0    0    0    0    0   \n",
       " 625    0    0    0    0    0    0    0    1    0    0    0    0    0    0   \n",
       " 626    0    0    0    0    0    0    1    0    0    0    0    0    0    0   \n",
       " 627    0    0    0    0    0    0    0    1    0    0    0    0    0    0   \n",
       " 628    0    0    0    0    0    0    0    1    0    0    0    0    0    0   \n",
       " 629    0    0    0    0    0    0    0    1    0    0    0    0    0    0   \n",
       " 630    0    0    0    0    0    0    1    0    0    0    0    0    0    0   \n",
       " 631    0    0    0    0    0    0    0    0    1    0    0    0    0    0   \n",
       " 632    0    0    0    0    0    0    0    0    1    0    0    0    0    0   \n",
       " 633    0    0    0    0    0    0    0    1    0    0    0    0    0    0   \n",
       " 634    0    0    0    0    0    0    1    0    0    0    0    0    0    0   \n",
       " 635    0    0    0    0    0    0    0    1    0    0    0    0    0    0   \n",
       " 636    0    0    0    0    0    0    0    1    0    0    0    0    0    0   \n",
       " 637    0    0    0    0    0    0    1    0    0    0    0    0    0    0   \n",
       " 638    0    0    0    0    0    0    1    0    0    0    0    0    0    0   \n",
       " 639    0    0    0    0    0    0    0    0    0    0    1    0    0    0   \n",
       " 640    0    0    0    0    0    0    0    0    1    0    0    0    0    0   \n",
       " 641    0    0    0    0    0    0    0    0    1    0    0    0    0    0   \n",
       " 642    0    0    0    0    0    0    0    1    0    0    0    0    0    0   \n",
       " \n",
       "      1.8  1.9  2.1  \n",
       " 0      0    0    0  \n",
       " 1      0    0    0  \n",
       " 2      0    0    0  \n",
       " 3      0    0    0  \n",
       " 4      0    0    0  \n",
       " 5      0    0    0  \n",
       " 6      1    0    0  \n",
       " 7      0    0    0  \n",
       " 8      0    0    0  \n",
       " 9      0    0    0  \n",
       " 10     0    0    0  \n",
       " 11     0    0    0  \n",
       " 12     0    0    0  \n",
       " 13     0    0    0  \n",
       " 14     0    0    0  \n",
       " 15     0    0    0  \n",
       " 16     0    0    0  \n",
       " 17     0    0    0  \n",
       " 18     0    0    0  \n",
       " 19     0    0    0  \n",
       " 20     0    0    0  \n",
       " 21     0    0    0  \n",
       " 22     0    0    0  \n",
       " 23     0    0    0  \n",
       " 24     0    0    0  \n",
       " 25     0    0    0  \n",
       " 26     0    0    0  \n",
       " 27     0    0    0  \n",
       " 28     0    0    0  \n",
       " 29     0    0    0  \n",
       " ..   ...  ...  ...  \n",
       " 613    0    0    0  \n",
       " 614    0    0    0  \n",
       " 615    0    0    0  \n",
       " 616    0    0    0  \n",
       " 617    0    0    0  \n",
       " 618    0    0    0  \n",
       " 619    0    0    0  \n",
       " 620    0    0    0  \n",
       " 621    0    0    0  \n",
       " 622    0    0    0  \n",
       " 623    0    0    0  \n",
       " 624    0    0    0  \n",
       " 625    0    0    0  \n",
       " 626    0    0    0  \n",
       " 627    0    0    0  \n",
       " 628    0    0    0  \n",
       " 629    0    0    0  \n",
       " 630    0    0    0  \n",
       " 631    0    0    0  \n",
       " 632    0    0    0  \n",
       " 633    0    0    0  \n",
       " 634    0    0    0  \n",
       " 635    0    0    0  \n",
       " 636    0    0    0  \n",
       " 637    0    0    0  \n",
       " 638    0    0    0  \n",
       " 639    0    0    0  \n",
       " 640    0    0    0  \n",
       " 641    0    0    0  \n",
       " 642    0    0    0  \n",
       " \n",
       " [643 rows x 17 columns],      0.3  0.4  0.5  0.6  0.7  0.8  0.9  1.0\n",
       " 0      0    1    0    0    0    0    0    0\n",
       " 1      0    1    0    0    0    0    0    0\n",
       " 2      0    1    0    0    0    0    0    0\n",
       " 3      1    0    0    0    0    0    0    0\n",
       " 4      0    0    1    0    0    0    0    0\n",
       " 5      0    0    1    0    0    0    0    0\n",
       " 6      1    0    0    0    0    0    0    0\n",
       " 7      0    1    0    0    0    0    0    0\n",
       " 8      0    1    0    0    0    0    0    0\n",
       " 9      0    0    1    0    0    0    0    0\n",
       " 10     0    0    1    0    0    0    0    0\n",
       " 11     0    1    0    0    0    0    0    0\n",
       " 12     0    0    0    1    0    0    0    0\n",
       " 13     0    0    1    0    0    0    0    0\n",
       " 14     0    0    1    0    0    0    0    0\n",
       " 15     0    0    0    1    0    0    0    0\n",
       " 16     0    0    0    1    0    0    0    0\n",
       " 17     0    0    0    1    0    0    0    0\n",
       " 18     0    0    1    0    0    0    0    0\n",
       " 19     0    0    1    0    0    0    0    0\n",
       " 20     0    1    0    0    0    0    0    0\n",
       " 21     0    0    1    0    0    0    0    0\n",
       " 22     0    0    1    0    0    0    0    0\n",
       " 23     0    0    0    1    0    0    0    0\n",
       " 24     0    0    0    1    0    0    0    0\n",
       " 25     0    0    0    1    0    0    0    0\n",
       " 26     0    0    1    0    0    0    0    0\n",
       " 27     0    1    0    0    0    0    0    0\n",
       " 28     0    0    0    1    0    0    0    0\n",
       " 29     0    0    0    1    0    0    0    0\n",
       " ..   ...  ...  ...  ...  ...  ...  ...  ...\n",
       " 613    0    0    0    0    0    0    1    0\n",
       " 614    0    0    0    0    0    0    1    0\n",
       " 615    0    0    0    0    0    0    1    0\n",
       " 616    0    0    0    0    0    0    0    1\n",
       " 617    0    0    0    0    0    0    1    0\n",
       " 618    0    0    0    0    0    0    1    0\n",
       " 619    0    0    0    0    0    0    1    0\n",
       " 620    0    0    0    0    0    0    1    0\n",
       " 621    0    0    0    0    0    0    0    1\n",
       " 622    0    0    0    0    0    1    0    0\n",
       " 623    0    0    0    0    0    0    1    0\n",
       " 624    0    0    0    0    0    0    1    0\n",
       " 625    0    0    0    0    0    0    1    0\n",
       " 626    0    0    0    0    0    0    0    1\n",
       " 627    0    0    0    0    0    0    1    0\n",
       " 628    0    0    0    0    0    0    1    0\n",
       " 629    0    0    0    0    0    0    1    0\n",
       " 630    0    0    0    0    0    0    1    0\n",
       " 631    0    0    0    0    0    0    1    0\n",
       " 632    0    0    0    0    0    0    1    0\n",
       " 633    0    0    0    0    0    0    1    0\n",
       " 634    0    0    0    0    0    0    0    1\n",
       " 635    0    0    0    0    0    0    1    0\n",
       " 636    0    0    0    0    0    0    1    0\n",
       " 637    0    0    0    0    0    0    0    1\n",
       " 638    0    0    0    0    0    0    0    1\n",
       " 639    0    0    0    0    0    1    0    0\n",
       " 640    0    0    0    0    0    0    1    0\n",
       " 641    0    0    0    0    0    0    1    0\n",
       " 642    0    0    0    0    0    0    0    1\n",
       " \n",
       " [643 rows x 8 columns])"
      ]
     },
     "execution_count": 16,
     "metadata": {},
     "output_type": "execute_result"
    }
   ],
   "source": [
    "#append empty columns\n",
    "#labelsRd.insert(0, column='0.1', value=0, allow_duplicates=False)\n",
    "#labelsSd.insert(0, column='0.1', value=0, allow_duplicates=False)\n",
    "labelsRd, labelsSd"
   ]
  },
  {
   "cell_type": "code",
   "execution_count": 17,
   "metadata": {},
   "outputs": [],
   "source": [
    "#convert to np.array again\n",
    "labelsRd = np.array(labelsRd)\n",
    "labelsSd = np.array(labelsSd)"
   ]
  },
  {
   "cell_type": "code",
   "execution_count": 19,
   "metadata": {},
   "outputs": [
    {
     "data": {
      "text/plain": [
       "(0.59999999999999998,\n",
       " array([0, 0, 1, 0, 0, 0, 0, 0, 0, 0, 0, 0, 0, 0, 0, 0, 0], dtype=uint8))"
      ]
     },
     "execution_count": 19,
     "metadata": {},
     "output_type": "execute_result"
    }
   ],
   "source": [
    "#check if OK\n",
    "labelsR[1], labelsRd[1]"
   ]
  },
  {
   "cell_type": "code",
   "execution_count": 20,
   "metadata": {},
   "outputs": [],
   "source": [
    "from keras.models import Model\n",
    "from keras.layers import *\n",
    "import keras.backend as K\n",
    "import keras.optimizers as Optimizers"
   ]
  },
  {
   "cell_type": "code",
   "execution_count": 21,
   "metadata": {
    "scrolled": true
   },
   "outputs": [],
   "source": [
    "K.clear_session()\n",
    "\n",
    "img_in = Input(shape=(160, 128, 1), name='img_in')\n",
    "\n",
    "x = img_in\n",
    "\n",
    "x = Conv2D(8, (3, 3), padding='same', activation='relu')(x)\n",
    "x = MaxPooling2D(pool_size=(2, 2))(x)\n",
    "\n",
    "x = Conv2D(16, (3, 3), padding='same', activation='relu')(x)\n",
    "x = MaxPooling2D(pool_size=(2, 2))(x)\n",
    "\n",
    "x = Conv2D(32, (3, 3), padding='same', activation='relu')(x)\n",
    "x = MaxPooling2D(pool_size=(2, 2))(x)\n",
    "\n",
    "x = Conv2D(64, (3, 3), padding='same', activation='relu')(x)\n",
    "x = MaxPooling2D(pool_size=(2, 2))(x)\n",
    "\n",
    "x = Conv2D(128, (3, 3), padding='same', activation='relu')(x)\n",
    "x = MaxPooling2D(pool_size=(2, 2))(x)\n",
    "\n",
    "flat = Flatten()(x)\n",
    "\n",
    "out1 = Dense(17, activation='softmax')(flat)\n",
    "out2 = Dense(8, activation='softmax')(flat)\n",
    "\n",
    "model = Model(inputs=[img_in], outputs=[out1, out2])\n",
    "model.compile(loss=['categorical_crossentropy', 'categorical_crossentropy'], optimizer='adadelta', metrics=['accuracy'])"
   ]
  },
  {
   "cell_type": "code",
   "execution_count": 22,
   "metadata": {
    "scrolled": true
   },
   "outputs": [
    {
     "name": "stdout",
     "output_type": "stream",
     "text": [
      "____________________________________________________________________________________________________\n",
      "Layer (type)                     Output Shape          Param #     Connected to                     \n",
      "====================================================================================================\n",
      "img_in (InputLayer)              (None, 160, 128, 1)   0                                            \n",
      "____________________________________________________________________________________________________\n",
      "conv2d_1 (Conv2D)                (None, 160, 128, 8)   80          img_in[0][0]                     \n",
      "____________________________________________________________________________________________________\n",
      "max_pooling2d_1 (MaxPooling2D)   (None, 80, 64, 8)     0           conv2d_1[0][0]                   \n",
      "____________________________________________________________________________________________________\n",
      "conv2d_2 (Conv2D)                (None, 80, 64, 16)    1168        max_pooling2d_1[0][0]            \n",
      "____________________________________________________________________________________________________\n",
      "max_pooling2d_2 (MaxPooling2D)   (None, 40, 32, 16)    0           conv2d_2[0][0]                   \n",
      "____________________________________________________________________________________________________\n",
      "conv2d_3 (Conv2D)                (None, 40, 32, 32)    4640        max_pooling2d_2[0][0]            \n",
      "____________________________________________________________________________________________________\n",
      "max_pooling2d_3 (MaxPooling2D)   (None, 20, 16, 32)    0           conv2d_3[0][0]                   \n",
      "____________________________________________________________________________________________________\n",
      "conv2d_4 (Conv2D)                (None, 20, 16, 64)    18496       max_pooling2d_3[0][0]            \n",
      "____________________________________________________________________________________________________\n",
      "max_pooling2d_4 (MaxPooling2D)   (None, 10, 8, 64)     0           conv2d_4[0][0]                   \n",
      "____________________________________________________________________________________________________\n",
      "conv2d_5 (Conv2D)                (None, 10, 8, 128)    73856       max_pooling2d_4[0][0]            \n",
      "____________________________________________________________________________________________________\n",
      "max_pooling2d_5 (MaxPooling2D)   (None, 5, 4, 128)     0           conv2d_5[0][0]                   \n",
      "____________________________________________________________________________________________________\n",
      "flatten_1 (Flatten)              (None, 2560)          0           max_pooling2d_5[0][0]            \n",
      "____________________________________________________________________________________________________\n",
      "dense_1 (Dense)                  (None, 17)            43537       flatten_1[0][0]                  \n",
      "____________________________________________________________________________________________________\n",
      "dense_2 (Dense)                  (None, 8)             20488       flatten_1[0][0]                  \n",
      "====================================================================================================\n",
      "Total params: 162,265\n",
      "Trainable params: 162,265\n",
      "Non-trainable params: 0\n",
      "____________________________________________________________________________________________________\n"
     ]
    }
   ],
   "source": [
    "model.summary()"
   ]
  },
  {
   "cell_type": "code",
   "execution_count": 24,
   "metadata": {},
   "outputs": [
    {
     "name": "stdout",
     "output_type": "stream",
     "text": [
      "Epoch 1/50\n",
      "643/643 [==============================] - 8s - loss: 3.5913 - dense_1_loss: 2.0004 - dense_2_loss: 1.5910 - dense_1_acc: 0.2691 - dense_2_acc: 0.3219     \n",
      "Epoch 2/50\n",
      "643/643 [==============================] - 8s - loss: 3.4453 - dense_1_loss: 1.9045 - dense_2_loss: 1.5408 - dense_1_acc: 0.3406 - dense_2_acc: 0.3406     \n",
      "Epoch 3/50\n",
      "643/643 [==============================] - 9s - loss: 3.2017 - dense_1_loss: 1.6922 - dense_2_loss: 1.5094 - dense_1_acc: 0.4448 - dense_2_acc: 0.3810     \n",
      "Epoch 4/50\n",
      "643/643 [==============================] - 9s - loss: 3.0068 - dense_1_loss: 1.5286 - dense_2_loss: 1.4782 - dense_1_acc: 0.4541 - dense_2_acc: 0.4199     \n",
      "Epoch 5/50\n",
      "643/643 [==============================] - 8s - loss: 2.9200 - dense_1_loss: 1.4610 - dense_2_loss: 1.4591 - dense_1_acc: 0.4868 - dense_2_acc: 0.4323     \n",
      "Epoch 6/50\n",
      "643/643 [==============================] - 8s - loss: 2.8643 - dense_1_loss: 1.4177 - dense_2_loss: 1.4465 - dense_1_acc: 0.4946 - dense_2_acc: 0.4339     \n",
      "Epoch 7/50\n",
      "643/643 [==============================] - 8s - loss: 2.8144 - dense_1_loss: 1.3846 - dense_2_loss: 1.4298 - dense_1_acc: 0.5070 - dense_2_acc: 0.4277     \n",
      "Epoch 8/50\n",
      "643/643 [==============================] - 8s - loss: 2.7572 - dense_1_loss: 1.3527 - dense_2_loss: 1.4045 - dense_1_acc: 0.5163 - dense_2_acc: 0.4495     \n",
      "Epoch 9/50\n",
      "643/643 [==============================] - 8s - loss: 2.7105 - dense_1_loss: 1.3194 - dense_2_loss: 1.3911 - dense_1_acc: 0.5179 - dense_2_acc: 0.4666     \n",
      "Epoch 10/50\n",
      "643/643 [==============================] - 8s - loss: 2.6498 - dense_1_loss: 1.2880 - dense_2_loss: 1.3618 - dense_1_acc: 0.5428 - dense_2_acc: 0.4806     \n",
      "Epoch 11/50\n",
      "643/643 [==============================] - 8s - loss: 2.5696 - dense_1_loss: 1.2537 - dense_2_loss: 1.3159 - dense_1_acc: 0.5552 - dense_2_acc: 0.5008     \n",
      "Epoch 12/50\n",
      "643/643 [==============================] - 8s - loss: 2.4910 - dense_1_loss: 1.2049 - dense_2_loss: 1.2861 - dense_1_acc: 0.5599 - dense_2_acc: 0.5117     \n",
      "Epoch 13/50\n",
      "643/643 [==============================] - 9s - loss: 2.4125 - dense_1_loss: 1.1660 - dense_2_loss: 1.2466 - dense_1_acc: 0.5925 - dense_2_acc: 0.5350     \n",
      "Epoch 14/50\n",
      "643/643 [==============================] - 9s - loss: 2.3015 - dense_1_loss: 1.1160 - dense_2_loss: 1.1854 - dense_1_acc: 0.6050 - dense_2_acc: 0.5770     \n",
      "Epoch 15/50\n",
      "643/643 [==============================] - 9s - loss: 2.1820 - dense_1_loss: 1.0638 - dense_2_loss: 1.1182 - dense_1_acc: 0.6345 - dense_2_acc: 0.6299     \n",
      "Epoch 16/50\n",
      "643/643 [==============================] - 9s - loss: 2.0484 - dense_1_loss: 1.0022 - dense_2_loss: 1.0462 - dense_1_acc: 0.6672 - dense_2_acc: 0.6439     \n",
      "Epoch 17/50\n",
      "643/643 [==============================] - 9s - loss: 1.8953 - dense_1_loss: 0.9436 - dense_2_loss: 0.9517 - dense_1_acc: 0.6796 - dense_2_acc: 0.6765     \n",
      "Epoch 18/50\n",
      "643/643 [==============================] - 9s - loss: 1.7312 - dense_1_loss: 0.8607 - dense_2_loss: 0.8705 - dense_1_acc: 0.7216 - dense_2_acc: 0.7061     \n",
      "Epoch 19/50\n",
      "643/643 [==============================] - 9s - loss: 1.5465 - dense_1_loss: 0.7743 - dense_2_loss: 0.7723 - dense_1_acc: 0.7543 - dense_2_acc: 0.7527     \n",
      "Epoch 20/50\n",
      "643/643 [==============================] - 9s - loss: 1.3623 - dense_1_loss: 0.6794 - dense_2_loss: 0.6828 - dense_1_acc: 0.7932 - dense_2_acc: 0.7792     \n",
      "Epoch 21/50\n",
      "643/643 [==============================] - 10s - loss: 1.1755 - dense_1_loss: 0.5951 - dense_2_loss: 0.5805 - dense_1_acc: 0.8212 - dense_2_acc: 0.7947    \n",
      "Epoch 22/50\n",
      "643/643 [==============================] - 9s - loss: 0.9876 - dense_1_loss: 0.4994 - dense_2_loss: 0.4882 - dense_1_acc: 0.8569 - dense_2_acc: 0.8491     \n",
      "Epoch 23/50\n",
      "643/643 [==============================] - 10s - loss: 0.8052 - dense_1_loss: 0.4021 - dense_2_loss: 0.4030 - dense_1_acc: 0.8927 - dense_2_acc: 0.8631    \n",
      "Epoch 24/50\n",
      "643/643 [==============================] - 11s - loss: 0.6406 - dense_1_loss: 0.3313 - dense_2_loss: 0.3093 - dense_1_acc: 0.9036 - dense_2_acc: 0.9005    \n",
      "Epoch 25/50\n",
      "643/643 [==============================] - 12s - loss: 0.4926 - dense_1_loss: 0.2390 - dense_2_loss: 0.2536 - dense_1_acc: 0.9393 - dense_2_acc: 0.9269    \n",
      "Epoch 26/50\n",
      "643/643 [==============================] - 11s - loss: 0.3440 - dense_1_loss: 0.1638 - dense_2_loss: 0.1802 - dense_1_acc: 0.9565 - dense_2_acc: 0.9502    \n",
      "Epoch 27/50\n",
      "643/643 [==============================] - 11s - loss: 0.2624 - dense_1_loss: 0.1314 - dense_2_loss: 0.1311 - dense_1_acc: 0.9580 - dense_2_acc: 0.9565    \n",
      "Epoch 28/50\n",
      "643/643 [==============================] - 11s - loss: 0.1760 - dense_1_loss: 0.0924 - dense_2_loss: 0.0836 - dense_1_acc: 0.9720 - dense_2_acc: 0.9720    \n",
      "Epoch 29/50\n",
      "643/643 [==============================] - 11s - loss: 0.1169 - dense_1_loss: 0.0438 - dense_2_loss: 0.0731 - dense_1_acc: 0.9938 - dense_2_acc: 0.9751    \n",
      "Epoch 30/50\n",
      "643/643 [==============================] - 11s - loss: 0.0836 - dense_1_loss: 0.0447 - dense_2_loss: 0.0389 - dense_1_acc: 0.9876 - dense_2_acc: 0.9907    \n",
      "Epoch 31/50\n",
      "643/643 [==============================] - 11s - loss: 0.0547 - dense_1_loss: 0.0253 - dense_2_loss: 0.0293 - dense_1_acc: 0.9922 - dense_2_acc: 0.9953    \n",
      "Epoch 32/50\n",
      "643/643 [==============================] - 11s - loss: 0.0427 - dense_1_loss: 0.0181 - dense_2_loss: 0.0246 - dense_1_acc: 0.9969 - dense_2_acc: 0.9953    \n",
      "Epoch 33/50\n",
      "643/643 [==============================] - 11s - loss: 0.0339 - dense_1_loss: 0.0204 - dense_2_loss: 0.0135 - dense_1_acc: 0.9953 - dense_2_acc: 0.9969    \n",
      "Epoch 34/50\n",
      "643/643 [==============================] - 11s - loss: 0.0271 - dense_1_loss: 0.0192 - dense_2_loss: 0.0079 - dense_1_acc: 0.9907 - dense_2_acc: 1.0000    \n",
      "Epoch 35/50\n",
      "643/643 [==============================] - 11s - loss: 0.0153 - dense_1_loss: 0.0049 - dense_2_loss: 0.0104 - dense_1_acc: 1.0000 - dense_2_acc: 0.9969    \n",
      "Epoch 36/50\n",
      "643/643 [==============================] - 11s - loss: 0.0141 - dense_1_loss: 0.0028 - dense_2_loss: 0.0113 - dense_1_acc: 1.0000 - dense_2_acc: 0.9953    \n",
      "Epoch 37/50\n",
      "643/643 [==============================] - 11s - loss: 0.0285 - dense_1_loss: 0.0039 - dense_2_loss: 0.0246 - dense_1_acc: 0.9984 - dense_2_acc: 0.9938    \n",
      "Epoch 38/50\n",
      "643/643 [==============================] - 10s - loss: 0.0031 - dense_1_loss: 0.0022 - dense_2_loss: 8.9861e-04 - dense_1_acc: 1.0000 - dense_2_acc: 1.0000    \n",
      "Epoch 39/50\n",
      "643/643 [==============================] - 10s - loss: 0.0061 - dense_1_loss: 0.0051 - dense_2_loss: 9.3172e-04 - dense_1_acc: 0.9984 - dense_2_acc: 1.0000    \n",
      "Epoch 40/50\n",
      "643/643 [==============================] - 10s - loss: 0.0021 - dense_1_loss: 0.0018 - dense_2_loss: 2.9671e-04 - dense_1_acc: 1.0000 - dense_2_acc: 1.0000    \n",
      "Epoch 41/50\n",
      "643/643 [==============================] - 10s - loss: 0.0906 - dense_1_loss: 0.0202 - dense_2_loss: 0.0704 - dense_1_acc: 0.9922 - dense_2_acc: 0.9860    \n",
      "Epoch 42/50\n",
      "643/643 [==============================] - 10s - loss: 0.0168 - dense_1_loss: 0.0011 - dense_2_loss: 0.0158 - dense_1_acc: 1.0000 - dense_2_acc: 0.9953    \n",
      "Epoch 43/50\n",
      "643/643 [==============================] - 11s - loss: 7.7073e-04 - dense_1_loss: 6.0587e-04 - dense_2_loss: 1.6486e-04 - dense_1_acc: 1.0000 - dense_2_acc: 1.0000    \n",
      "Epoch 44/50\n",
      "643/643 [==============================] - 11s - loss: 0.0032 - dense_1_loss: 0.0021 - dense_2_loss: 0.0012 - dense_1_acc: 0.9984 - dense_2_acc: 1.0000    \n",
      "Epoch 45/50\n",
      "643/643 [==============================] - 11s - loss: 0.0105 - dense_1_loss: 0.0010 - dense_2_loss: 0.0094 - dense_1_acc: 1.0000 - dense_2_acc: 0.9969        \n",
      "Epoch 46/50\n",
      "643/643 [==============================] - 11s - loss: 0.0183 - dense_1_loss: 0.0038 - dense_2_loss: 0.0145 - dense_1_acc: 0.9984 - dense_2_acc: 0.9984    \n",
      "Epoch 47/50\n",
      "643/643 [==============================] - 11s - loss: 0.0063 - dense_1_loss: 0.0053 - dense_2_loss: 0.0010 - dense_1_acc: 0.9984 - dense_2_acc: 1.0000    \n",
      "Epoch 48/50\n",
      "643/643 [==============================] - 11s - loss: 0.0276 - dense_1_loss: 3.9832e-05 - dense_2_loss: 0.0275 - dense_1_acc: 1.0000 - dense_2_acc: 0.9969    \n",
      "Epoch 49/50\n"
     ]
    },
    {
     "name": "stdout",
     "output_type": "stream",
     "text": [
      "643/643 [==============================] - 10s - loss: 0.0179 - dense_1_loss: 3.0888e-05 - dense_2_loss: 0.0178 - dense_1_acc: 1.0000 - dense_2_acc: 0.9969    \n",
      "Epoch 50/50\n",
      "643/643 [==============================] - 10s - loss: 0.0012 - dense_1_loss: 5.8433e-05 - dense_2_loss: 0.0011 - dense_1_acc: 1.0000 - dense_2_acc: 1.0000    \n"
     ]
    }
   ],
   "source": [
    "h = model.fit(images, [labelsRd, labelsSd], batch_size=1, epochs=50, verbose=1)"
   ]
  },
  {
   "cell_type": "code",
   "execution_count": 26,
   "metadata": {},
   "outputs": [
    {
     "data": {
      "text/plain": [
       "<matplotlib.axes._subplots.AxesSubplot at 0x26990274eb8>"
      ]
     },
     "execution_count": 26,
     "metadata": {},
     "output_type": "execute_result"
    },
    {
     "data": {
      "image/png": "[encoded data removed]",
      "text/plain": [
       "<matplotlib.figure.Figure at 0x2699014c7b8>"
      ]
     },
     "metadata": {},
     "output_type": "display_data"
    }
   ],
   "source": [
    "#print History graph\n",
    "historydf = pd.DataFrame(h.history, index=h.epoch)\n",
    "historydf.plot(ylim=(0,1))"
   ]
  },
  {
   "cell_type": "code",
   "execution_count": 29,
   "metadata": {},
   "outputs": [
    {
     "data": {
      "text/plain": [
       "(array([ 7,  5,  3,  5,  3,  6,  2,  7,  3,  7,  4,  7,  8,  5,  8,  7,  5,\n",
       "         6,  5,  5,  5, 10, 10,  7,  6,  7, 10,  6,  7,  7,  8,  7,  6,  6,\n",
       "         5,  6,  6,  5,  3,  6,  5,  4,  5,  6,  5,  8,  6,  6,  6,  5,  6,\n",
       "         6,  6,  6,  4,  5,  5,  5,  6,  6,  7,  7,  8,  4,  7,  7,  6,  5,\n",
       "         7,  5,  8,  7,  7,  8,  6,  7,  7,  7,  7,  8,  7,  7,  7,  7,  6,\n",
       "         5,  6,  6,  7,  7,  6,  6,  5,  5,  7,  7,  6,  8,  5,  6, 10,  7,\n",
       "         7,  7,  5], dtype=int64),\n",
       " array([5, 4, 5, 6, 5, 5, 6, 5, 4, 3, 4, 5, 4, 5, 5, 3, 4, 6, 3, 5, 4, 1, 3,\n",
       "        5, 5, 3, 3, 4, 3, 3, 3, 4, 5, 5, 5, 4, 6, 5, 4, 6, 4, 4, 4, 6, 5, 4,\n",
       "        4, 4, 6, 5, 5, 5, 5, 4, 5, 4, 6, 5, 5, 5, 4, 4, 4, 4, 4, 4, 5, 4, 5,\n",
       "        2, 3, 4, 4, 5, 6, 3, 5, 4, 3, 3, 4, 4, 3, 4, 6, 5, 3, 6, 5, 3, 5, 5,\n",
       "        6, 5, 3, 4, 5, 7, 4, 4, 3, 3, 5, 4, 3], dtype=int64),\n",
       " array([ 0.8,  0.6,  0.5,  0.7,  0.7,  0.8,  0.8,  0.7,  0.7,  1. ,  0.7,\n",
       "         1.4,  1.3,  1.1,  1. ,  1. ,  0.9,  0.9,  0.9,  0.9,  0.7,  1.9,\n",
       "         1.4,  1. ,  1. ,  1.5,  1.5,  1.4,  1.2,  1.2,  1.3,  1.3,  1. ,\n",
       "         1. ,  0.9,  0.9,  0.9,  0.9,  0.9,  0.9,  0.9,  0.9,  0.9,  0.9,\n",
       "         0.8,  1. ,  1. ,  1. ,  0.9,  0.9,  1. ,  1. ,  1. ,  0.9,  0.9,\n",
       "         0.9,  0.9,  0.9,  0.9,  0.9,  1.3,  1.2,  1.2,  1.1,  1.1,  1.1,\n",
       "         1.1,  1.1,  1.1,  1.1,  1.1,  1.1,  1.1,  1.1,  1. ,  1.1,  1.1,\n",
       "         1.1,  1. ,  1. ,  1.2,  1.1,  1.1,  1. ,  1. ,  0.9,  0.9,  0.9,\n",
       "         1.1,  1.1,  0.9,  0.9,  0.9,  0.9,  1.1,  1.1,  1.1,  1.1,  1.1,\n",
       "         1.1,  1.3,  1.1,  1.1,  1.1,  1. ]),\n",
       " array([ 0.4,  0.5,  0.5,  0.5,  0.5,  0.6,  0.6,  0.7,  0.7,  0.6,  0.7,\n",
       "         0.5,  0.6,  0.6,  0.6,  0.7,  0.7,  0.7,  0.7,  0.7,  0.8,  0.5,\n",
       "         0.6,  0.7,  0.7,  0.6,  0.6,  0.6,  0.6,  0.6,  0.6,  0.6,  0.7,\n",
       "         0.7,  0.8,  0.7,  0.7,  0.8,  0.8,  0.8,  0.8,  0.8,  0.8,  0.8,\n",
       "         0.8,  0.7,  0.7,  0.7,  0.8,  0.8,  0.8,  0.8,  0.8,  0.8,  0.8,\n",
       "         0.8,  0.8,  0.8,  0.8,  0.8,  0.7,  0.7,  0.7,  0.7,  0.7,  0.8,\n",
       "         0.8,  0.8,  0.8,  0.8,  0.8,  0.8,  0.8,  0.8,  0.8,  0.8,  0.8,\n",
       "         0.8,  0.8,  0.8,  0.8,  0.8,  0.8,  0.8,  0.8,  0.9,  0.9,  0.9,\n",
       "         0.8,  0.8,  0.9,  0.9,  0.9,  0.9,  0.8,  0.8,  0.8,  0.9,  0.9,\n",
       "         0.9,  0.8,  0.9,  0.9,  0.9,  0.9]))"
      ]
     },
     "execution_count": 29,
     "metadata": {},
     "output_type": "execute_result"
    }
   ],
   "source": [
    "# Get predictions\n",
    "all_preds = model.predict(images_val)\n",
    "\n",
    "# Check predictions\n",
    "idxR = np.argmax(all_preds[0], axis=1)\n",
    "idxS = np.argmax(all_preds[1], axis=1)\n",
    "\n",
    "idxR, idxS, labelsR_val, labelsS_val"
   ]
  },
  {
   "cell_type": "code",
   "execution_count": null,
   "metadata": {},
   "outputs": [],
   "source": []
  },
  {
   "cell_type": "code",
   "execution_count": null,
   "metadata": {},
   "outputs": [],
   "source": []
  },
  {
   "cell_type": "code",
   "execution_count": 43,
   "metadata": {},
   "outputs": [],
   "source": []
  },
  {
   "cell_type": "code",
   "execution_count": 41,
   "metadata": {},
   "outputs": [],
   "source": [
    "model.save('test_model.h5')"
   ]
  },
  {
   "cell_type": "code",
   "execution_count": null,
   "metadata": {},
   "outputs": [],
   "source": []
  }
 ],
 "metadata": {
  "kernelspec": {
   "display_name": "Python 3",
   "language": "python",
   "name": "python3"
  },
  "language_info": {
   "codemirror_mode": {
    "name": "ipython",
    "version": 3
   },
   "file_extension": ".py",
   "mimetype": "text/x-python",
   "name": "python",
   "nbconvert_exporter": "python",
   "pygments_lexer": "ipython3",
   "version": "3.5.4"
  }
 },
 "nbformat": 4,
 "nbformat_minor": 2
}
