{
 "cells": [
  {
   "cell_type": "code",
   "execution_count": 1,
   "metadata": {},
   "outputs": [
    {
     "name": "stderr",
     "output_type": "stream",
     "text": [
      "C:\\Users\\Rock_\\Anaconda3\\lib\\site-packages\\h5py\\__init__.py:36: FutureWarning: Conversion of the second argument of issubdtype from `float` to `np.floating` is deprecated. In future, it will be treated as `np.float64 == np.dtype(float).type`.\n",
      "  from ._conv import register_converters as _register_converters\n",
      "Using TensorFlow backend.\n"
     ]
    }
   ],
   "source": [
    "from os import listdir\n",
    "from keras.preprocessing.image import load_img\n",
    "from keras.preprocessing.image import img_to_array\n",
    "from keras.preprocessing.sequence import TimeseriesGenerator\n",
    "from PIL import Image\n",
    "import numpy as np\n",
    "import pandas as pd\n",
    "%matplotlib inline\n",
    "import matplotlib.pyplot as plt\n",
    "import random"
   ]
  },
  {
   "cell_type": "code",
   "execution_count": 2,
   "metadata": {},
   "outputs": [],
   "source": [
    "def load_photos(directory):\n",
    "    images = []\n",
    "    labels_speed = []\n",
    "    labels_dir = []\n",
    "    time_stamps = []\n",
    "    dir_list = listdir(directory)\n",
    "    for name in dir_list:\n",
    "        filename = directory + '/' + name\n",
    "        # load an image from file\n",
    "        image = load_img(filename, target_size=(96, 160))\n",
    "        # convert the image pixels to a numpy array\n",
    "        image = img_to_array(image)\n",
    "        # get image id + labels\n",
    "        time_stamp = float(name.split('_')[0])\n",
    "        value_dir = float(name.split('_')[1])\n",
    "        value_speed = float(name.split('_')[2].split(\".\")[0])\n",
    "        labels_dir.append(value_dir)\n",
    "        labels_speed.append(value_speed)\n",
    "        time_stamps.append(time_stamp)\n",
    "        images.append(image)\n",
    "    return images, time_stamps, labels_speed, labels_dir"
   ]
  },
  {
   "cell_type": "code",
   "execution_count": 3,
   "metadata": {},
   "outputs": [],
   "source": [
    "dataset = \"Auto\"\n",
    "window_size = 3\n"
   ]
  },
  {
   "cell_type": "code",
   "execution_count": 4,
   "metadata": {},
   "outputs": [
    {
     "name": "stdout",
     "output_type": "stream",
     "text": [
      "Loaded Images and labels for training: 2430\n"
     ]
    }
   ],
   "source": [
    "# load images from both train and test groups\n",
    "directory = '../../../../'+dataset\n",
    "images, time_stamps, labels_speed, labels_dir = load_photos(directory)\n",
    "nb_images = len(images)\n",
    "print('Loaded Images and labels for training: %d' % nb_images)"
   ]
  },
  {
   "cell_type": "code",
   "execution_count": 5,
   "metadata": {},
   "outputs": [],
   "source": [
    "#Normalise images\n",
    "images = np.array(images)\n",
    "images /= 255.0"
   ]
  },
  {
   "cell_type": "code",
   "execution_count": 6,
   "metadata": {},
   "outputs": [],
   "source": [
    "sequences = []\n",
    "i = 0\n",
    "for i, image in enumerate(images):\n",
    "    if i + window_size <= len(images): \n",
    "        sequence = images[i:i+window_size]\n",
    "        sequences.append(sequence)"
   ]
  },
  {
   "cell_type": "code",
   "execution_count": 7,
   "metadata": {},
   "outputs": [],
   "source": [
    "#convert datas to dummyvalues\n",
    "labels_speed = np.array(pd.get_dummies(labels_speed))\n",
    "labels_dir = np.array(pd.get_dummies(labels_dir))"
   ]
  },
  {
   "cell_type": "code",
   "execution_count": 8,
   "metadata": {},
   "outputs": [],
   "source": [
    "labels_speed = labels_speed[window_size-1:]\n",
    "labels_dir = labels_dir[window_size-1:]"
   ]
  },
  {
   "cell_type": "code",
   "execution_count": 9,
   "metadata": {},
   "outputs": [
    {
     "data": {
      "text/plain": [
       "(1538151356.46,\n",
       " array([1, 0], dtype=uint8),\n",
       " array([1, 0, 0, 0, 0], dtype=uint8),\n",
       " <matplotlib.image.AxesImage at 0x227ed862828>)"
      ]
     },
     "execution_count": 9,
     "metadata": {},
     "output_type": "execute_result"
    },
    {
     "data": {
      "image/png": "[encoded data removed]",
      "text/plain": [
       "<Figure size 432x288 with 1 Axes>"
      ]
     },
     "metadata": {},
     "output_type": "display_data"
    }
   ],
   "source": [
    "time_stamps[42], labels_speed[42], labels_dir[42], plt.imshow(images[42])"
   ]
  },
  {
   "cell_type": "code",
   "execution_count": 10,
   "metadata": {},
   "outputs": [
    {
     "data": {
      "text/plain": [
       "(2428, 2428, 2428)"
      ]
     },
     "execution_count": 10,
     "metadata": {},
     "output_type": "execute_result"
    }
   ],
   "source": [
    "len(sequences), len(labels_dir), len(labels_speed)"
   ]
  },
  {
   "cell_type": "code",
   "execution_count": null,
   "metadata": {},
   "outputs": [],
   "source": []
  },
  {
   "cell_type": "code",
   "execution_count": 11,
   "metadata": {},
   "outputs": [],
   "source": [
    "from keras.models import Model, Sequential\n",
    "from keras.layers import *\n",
    "import keras.backend as K\n",
    "import keras.optimizers as Optimizers\n",
    "import keras.callbacks"
   ]
  },
  {
   "cell_type": "code",
   "execution_count": 12,
   "metadata": {},
   "outputs": [],
   "source": [
    "#from keras.models import load_model\n",
    "#model = load_model(\"model_bigrace_original_5.h5\")"
   ]
  },
  {
   "cell_type": "code",
   "execution_count": null,
   "metadata": {},
   "outputs": [],
   "source": []
  },
  {
   "cell_type": "code",
   "execution_count": 24,
   "metadata": {},
   "outputs": [
    {
     "name": "stdout",
     "output_type": "stream",
     "text": [
      "__________________________________________________________________________________________________\n",
      "Layer (type)                    Output Shape         Param #     Connected to                     \n",
      "==================================================================================================\n",
      "img_in (InputLayer)             (4, 3, 96, 160, 3)   0                                            \n",
      "__________________________________________________________________________________________________\n",
      "time_distributed_1 (TimeDistrib (4, 3, 46, 78, 24)   1800        img_in[0][0]                     \n",
      "__________________________________________________________________________________________________\n",
      "batch_normalization_1 (BatchNor (4, 3, 46, 78, 24)   96          time_distributed_1[0][0]         \n",
      "__________________________________________________________________________________________________\n",
      "activation_1 (Activation)       (4, 3, 46, 78, 24)   0           batch_normalization_1[0][0]      \n",
      "__________________________________________________________________________________________________\n",
      "time_distributed_2 (TimeDistrib (4, 3, 21, 37, 32)   19200       activation_1[0][0]               \n",
      "__________________________________________________________________________________________________\n",
      "batch_normalization_2 (BatchNor (4, 3, 21, 37, 32)   128         time_distributed_2[0][0]         \n",
      "__________________________________________________________________________________________________\n",
      "activation_2 (Activation)       (4, 3, 21, 37, 32)   0           batch_normalization_2[0][0]      \n",
      "__________________________________________________________________________________________________\n",
      "time_distributed_3 (TimeDistrib (4, 3, 9, 17, 64)    51200       activation_2[0][0]               \n",
      "__________________________________________________________________________________________________\n",
      "batch_normalization_3 (BatchNor (4, 3, 9, 17, 64)    256         time_distributed_3[0][0]         \n",
      "__________________________________________________________________________________________________\n",
      "activation_3 (Activation)       (4, 3, 9, 17, 64)    0           batch_normalization_3[0][0]      \n",
      "__________________________________________________________________________________________________\n",
      "time_distributed_4 (TimeDistrib (4, 3, 4, 8, 64)     36864       activation_3[0][0]               \n",
      "__________________________________________________________________________________________________\n",
      "batch_normalization_4 (BatchNor (4, 3, 4, 8, 64)     256         time_distributed_4[0][0]         \n",
      "__________________________________________________________________________________________________\n",
      "activation_4 (Activation)       (4, 3, 4, 8, 64)     0           batch_normalization_4[0][0]      \n",
      "__________________________________________________________________________________________________\n",
      "time_distributed_5 (TimeDistrib (4, 3, 2048)         0           activation_4[0][0]               \n",
      "__________________________________________________________________________________________________\n",
      "lstm_1 (LSTM)                   (4, 100)             859600      time_distributed_5[0][0]         \n",
      "__________________________________________________________________________________________________\n",
      "dense_1 (Dense)                 (4, 100)             10000       lstm_1[0][0]                     \n",
      "__________________________________________________________________________________________________\n",
      "batch_normalization_5 (BatchNor (4, 100)             400         dense_1[0][0]                    \n",
      "__________________________________________________________________________________________________\n",
      "activation_5 (Activation)       (4, 100)             0           batch_normalization_5[0][0]      \n",
      "__________________________________________________________________________________________________\n",
      "dropout_1 (Dropout)             (4, 100)             0           activation_5[0][0]               \n",
      "__________________________________________________________________________________________________\n",
      "dense_2 (Dense)                 (4, 50)              5000        dropout_1[0][0]                  \n",
      "__________________________________________________________________________________________________\n",
      "batch_normalization_6 (BatchNor (4, 50)              200         dense_2[0][0]                    \n",
      "__________________________________________________________________________________________________\n",
      "activation_6 (Activation)       (4, 50)              0           batch_normalization_6[0][0]      \n",
      "__________________________________________________________________________________________________\n",
      "dropout_2 (Dropout)             (4, 50)              0           activation_6[0][0]               \n",
      "__________________________________________________________________________________________________\n",
      "dense_3 (Dense)                 (4, 2)               102         dropout_2[0][0]                  \n",
      "__________________________________________________________________________________________________\n",
      "dense_4 (Dense)                 (4, 5)               255         dropout_2[0][0]                  \n",
      "==================================================================================================\n",
      "Total params: 985,357\n",
      "Trainable params: 984,689\n",
      "Non-trainable params: 668\n",
      "__________________________________________________________________________________________________\n"
     ]
    }
   ],
   "source": [
    "'''\n",
    "Model from PatateV2\n",
    "'''\n",
    "\n",
    "K.clear_session()\n",
    "############################################################# \n",
    "\n",
    "img_in = Input(shape=(window_size, 96, 160, 3), batch_shape=(4, window_size, 96, 160, 3), name='img_in')\n",
    "x = img_in\n",
    "\n",
    "x = TimeDistributed(Convolution2D(24, (5,5), strides=(2,2), use_bias=False))(x)       # 24 features, 5 pixel x 5 pixel kernel (convolution, feauture) window, 2wx2h stride, relu activation\n",
    "x = BatchNormalization()(x)\n",
    "x = Activation(\"relu\")(x)\n",
    "x = TimeDistributed(Convolution2D(32, (5,5), strides=(2,2), use_bias=False))(x)       # 32 features, 5px5p kernel window, 2wx2h stride, relu activatiion\n",
    "x = BatchNormalization()(x)\n",
    "x = Activation(\"relu\")(x)\n",
    "x = TimeDistributed(Convolution2D(64, (5,5), strides=(2,2), use_bias=False))(x)       # 64 features, 5px5p kernal window, 2wx2h stride, relu\n",
    "x = BatchNormalization()(x)\n",
    "x = Activation(\"relu\")(x)\n",
    "x = TimeDistributed(Convolution2D(64, (3,3), strides=(2,2), use_bias=False))(x)       # 64 features, 3px3p kernal window, 2wx2h stride, relu\n",
    "x = BatchNormalization()(x)\n",
    "x = Activation(\"relu\")(x)\n",
    "\n",
    "\n",
    "# Possibly add MaxPooling (will make it less sensitive to position in image).  Camera angle fixed, so may not to be needed\n",
    "\n",
    "x = TimeDistributed(Flatten(name='flattened'))(x)                                        # Flatten to 1D (Fully connected)\n",
    "\n",
    "x = LSTM(100, return_sequences=False, stateful=True)(x)\n",
    "x = Dense(100, use_bias=False)(x)                                    # Classify the data into 100 features, make all negatives 0\n",
    "x = BatchNormalization()(x)\n",
    "x = Activation(\"relu\")(x)\n",
    "x = Dropout(.2)(x)                                                      # Randomly drop out (turn off) 10% of the neurons (Prevent overfitting)\n",
    "x = Dense(50, use_bias=False)(x)                                     # Classify the data into 50 features, make all negatives 0\n",
    "x = BatchNormalization()(x)\n",
    "x = Activation(\"relu\")(x)\n",
    "x = Dropout(.2)(x)                                                      # Randomly drop out 10% of the neurons (Prevent overfitting)\n",
    "\n",
    "\n",
    "# Multitask Output\n",
    "out_speed = Dense(2, activation='softmax')(x)\n",
    "out_dir = Dense(5, activation='softmax')(x)\n",
    "\n",
    "\n",
    "# Compile Model\n",
    "model = Model(inputs=[img_in], outputs=[out_speed, out_dir])\n",
    "model.compile(loss='categorical_crossentropy', optimizer='adadelta', metrics=['accuracy'])\n",
    "\n",
    "model.summary()"
   ]
  },
  {
   "cell_type": "code",
   "execution_count": 25,
   "metadata": {},
   "outputs": [],
   "source": [
    "model_name=\"model_bigrace_original_RNN_5.h5\""
   ]
  },
  {
   "cell_type": "code",
   "execution_count": 26,
   "metadata": {},
   "outputs": [],
   "source": [
    "#save best model if model improved\n",
    "best_checkpoint = keras.callbacks.ModelCheckpoint(model_name, monitor='val_loss', verbose=1, save_best_only=True, mode='min')"
   ]
  },
  {
   "cell_type": "code",
   "execution_count": 27,
   "metadata": {
    "scrolled": true
   },
   "outputs": [
    {
     "name": "stdout",
     "output_type": "stream",
     "text": [
      "Train on 1942 samples, validate on 486 samples\n",
      "Epoch 1/10\n",
      "1940/1942 [============================>.] - ETA: 0s - loss: 2.0691 - dense_3_loss: 0.4291 - dense_4_loss: 1.6400 - dense_3_acc: 0.8412 - dense_4_acc: 0.3119"
     ]
    },
    {
     "ename": "ValueError",
     "evalue": "Cannot feed value of shape (2, 3, 96, 160, 3) for Tensor 'img_in:0', which has shape '(4, 3, 96, 160, 3)'",
     "output_type": "error",
     "traceback": [
      "\u001b[1;31m---------------------------------------------------------------------------\u001b[0m",
      "\u001b[1;31mValueError\u001b[0m                                Traceback (most recent call last)",
      "\u001b[1;32m<ipython-input-27-d6c633e511e3>\u001b[0m in \u001b[0;36m<module>\u001b[1;34m()\u001b[0m\n\u001b[1;32m----> 1\u001b[1;33m \u001b[0mh\u001b[0m \u001b[1;33m=\u001b[0m \u001b[0mmodel\u001b[0m\u001b[1;33m.\u001b[0m\u001b[0mfit\u001b[0m\u001b[1;33m(\u001b[0m\u001b[0mnp\u001b[0m\u001b[1;33m.\u001b[0m\u001b[0marray\u001b[0m\u001b[1;33m(\u001b[0m\u001b[0msequences\u001b[0m\u001b[1;33m)\u001b[0m\u001b[1;33m,\u001b[0m \u001b[1;33m[\u001b[0m\u001b[0mlabels_speed\u001b[0m\u001b[1;33m,\u001b[0m \u001b[0mlabels_dir\u001b[0m\u001b[1;33m]\u001b[0m\u001b[1;33m,\u001b[0m \u001b[0mbatch_size\u001b[0m\u001b[1;33m=\u001b[0m\u001b[1;36m4\u001b[0m\u001b[1;33m,\u001b[0m \u001b[0mepochs\u001b[0m\u001b[1;33m=\u001b[0m\u001b[1;36m10\u001b[0m\u001b[1;33m,\u001b[0m \u001b[0mvalidation_split\u001b[0m\u001b[1;33m=\u001b[0m\u001b[1;36m0.2\u001b[0m\u001b[1;33m,\u001b[0m \u001b[0mverbose\u001b[0m\u001b[1;33m=\u001b[0m\u001b[1;36m1\u001b[0m\u001b[1;33m,\u001b[0m \u001b[0mcallbacks\u001b[0m\u001b[1;33m=\u001b[0m\u001b[1;33m[\u001b[0m\u001b[0mbest_checkpoint\u001b[0m\u001b[1;33m]\u001b[0m\u001b[1;33m)\u001b[0m\u001b[1;33m\u001b[0m\u001b[0m\n\u001b[0m",
      "\u001b[1;32m~\\Anaconda3\\lib\\site-packages\\keras\\engine\\training.py\u001b[0m in \u001b[0;36mfit\u001b[1;34m(self, x, y, batch_size, epochs, verbose, callbacks, validation_split, validation_data, shuffle, class_weight, sample_weight, initial_epoch, steps_per_epoch, validation_steps, **kwargs)\u001b[0m\n\u001b[0;32m   1703\u001b[0m                               \u001b[0minitial_epoch\u001b[0m\u001b[1;33m=\u001b[0m\u001b[0minitial_epoch\u001b[0m\u001b[1;33m,\u001b[0m\u001b[1;33m\u001b[0m\u001b[0m\n\u001b[0;32m   1704\u001b[0m                               \u001b[0msteps_per_epoch\u001b[0m\u001b[1;33m=\u001b[0m\u001b[0msteps_per_epoch\u001b[0m\u001b[1;33m,\u001b[0m\u001b[1;33m\u001b[0m\u001b[0m\n\u001b[1;32m-> 1705\u001b[1;33m                               validation_steps=validation_steps)\n\u001b[0m\u001b[0;32m   1706\u001b[0m \u001b[1;33m\u001b[0m\u001b[0m\n\u001b[0;32m   1707\u001b[0m     def evaluate(self, x=None, y=None,\n",
      "\u001b[1;32m~\\Anaconda3\\lib\\site-packages\\keras\\engine\\training.py\u001b[0m in \u001b[0;36m_fit_loop\u001b[1;34m(self, f, ins, out_labels, batch_size, epochs, verbose, callbacks, val_f, val_ins, shuffle, callback_metrics, initial_epoch, steps_per_epoch, validation_steps)\u001b[0m\n\u001b[0;32m   1233\u001b[0m                         \u001b[0mins_batch\u001b[0m\u001b[1;33m[\u001b[0m\u001b[0mi\u001b[0m\u001b[1;33m]\u001b[0m \u001b[1;33m=\u001b[0m \u001b[0mins_batch\u001b[0m\u001b[1;33m[\u001b[0m\u001b[0mi\u001b[0m\u001b[1;33m]\u001b[0m\u001b[1;33m.\u001b[0m\u001b[0mtoarray\u001b[0m\u001b[1;33m(\u001b[0m\u001b[1;33m)\u001b[0m\u001b[1;33m\u001b[0m\u001b[0m\n\u001b[0;32m   1234\u001b[0m \u001b[1;33m\u001b[0m\u001b[0m\n\u001b[1;32m-> 1235\u001b[1;33m                     \u001b[0mouts\u001b[0m \u001b[1;33m=\u001b[0m \u001b[0mf\u001b[0m\u001b[1;33m(\u001b[0m\u001b[0mins_batch\u001b[0m\u001b[1;33m)\u001b[0m\u001b[1;33m\u001b[0m\u001b[0m\n\u001b[0m\u001b[0;32m   1236\u001b[0m                     \u001b[1;32mif\u001b[0m \u001b[1;32mnot\u001b[0m \u001b[0misinstance\u001b[0m\u001b[1;33m(\u001b[0m\u001b[0mouts\u001b[0m\u001b[1;33m,\u001b[0m \u001b[0mlist\u001b[0m\u001b[1;33m)\u001b[0m\u001b[1;33m:\u001b[0m\u001b[1;33m\u001b[0m\u001b[0m\n\u001b[0;32m   1237\u001b[0m                         \u001b[0mouts\u001b[0m \u001b[1;33m=\u001b[0m \u001b[1;33m[\u001b[0m\u001b[0mouts\u001b[0m\u001b[1;33m]\u001b[0m\u001b[1;33m\u001b[0m\u001b[0m\n",
      "\u001b[1;32m~\\Anaconda3\\lib\\site-packages\\keras\\backend\\tensorflow_backend.py\u001b[0m in \u001b[0;36m__call__\u001b[1;34m(self, inputs)\u001b[0m\n\u001b[0;32m   2476\u001b[0m         \u001b[0msession\u001b[0m \u001b[1;33m=\u001b[0m \u001b[0mget_session\u001b[0m\u001b[1;33m(\u001b[0m\u001b[1;33m)\u001b[0m\u001b[1;33m\u001b[0m\u001b[0m\n\u001b[0;32m   2477\u001b[0m         updated = session.run(fetches=fetches, feed_dict=feed_dict,\n\u001b[1;32m-> 2478\u001b[1;33m                               **self.session_kwargs)\n\u001b[0m\u001b[0;32m   2479\u001b[0m         \u001b[1;32mreturn\u001b[0m \u001b[0mupdated\u001b[0m\u001b[1;33m[\u001b[0m\u001b[1;33m:\u001b[0m\u001b[0mlen\u001b[0m\u001b[1;33m(\u001b[0m\u001b[0mself\u001b[0m\u001b[1;33m.\u001b[0m\u001b[0moutputs\u001b[0m\u001b[1;33m)\u001b[0m\u001b[1;33m]\u001b[0m\u001b[1;33m\u001b[0m\u001b[0m\n\u001b[0;32m   2480\u001b[0m \u001b[1;33m\u001b[0m\u001b[0m\n",
      "\u001b[1;32m~\\Anaconda3\\lib\\site-packages\\tensorflow\\python\\client\\session.py\u001b[0m in \u001b[0;36mrun\u001b[1;34m(self, fetches, feed_dict, options, run_metadata)\u001b[0m\n\u001b[0;32m    898\u001b[0m     \u001b[1;32mtry\u001b[0m\u001b[1;33m:\u001b[0m\u001b[1;33m\u001b[0m\u001b[0m\n\u001b[0;32m    899\u001b[0m       result = self._run(None, fetches, feed_dict, options_ptr,\n\u001b[1;32m--> 900\u001b[1;33m                          run_metadata_ptr)\n\u001b[0m\u001b[0;32m    901\u001b[0m       \u001b[1;32mif\u001b[0m \u001b[0mrun_metadata\u001b[0m\u001b[1;33m:\u001b[0m\u001b[1;33m\u001b[0m\u001b[0m\n\u001b[0;32m    902\u001b[0m         \u001b[0mproto_data\u001b[0m \u001b[1;33m=\u001b[0m \u001b[0mtf_session\u001b[0m\u001b[1;33m.\u001b[0m\u001b[0mTF_GetBuffer\u001b[0m\u001b[1;33m(\u001b[0m\u001b[0mrun_metadata_ptr\u001b[0m\u001b[1;33m)\u001b[0m\u001b[1;33m\u001b[0m\u001b[0m\n",
      "\u001b[1;32m~\\Anaconda3\\lib\\site-packages\\tensorflow\\python\\client\\session.py\u001b[0m in \u001b[0;36m_run\u001b[1;34m(self, handle, fetches, feed_dict, options, run_metadata)\u001b[0m\n\u001b[0;32m   1109\u001b[0m                              \u001b[1;34m'which has shape %r'\u001b[0m \u001b[1;33m%\u001b[0m\u001b[1;33m\u001b[0m\u001b[0m\n\u001b[0;32m   1110\u001b[0m                              (np_val.shape, subfeed_t.name,\n\u001b[1;32m-> 1111\u001b[1;33m                               str(subfeed_t.get_shape())))\n\u001b[0m\u001b[0;32m   1112\u001b[0m           \u001b[1;32mif\u001b[0m \u001b[1;32mnot\u001b[0m \u001b[0mself\u001b[0m\u001b[1;33m.\u001b[0m\u001b[0mgraph\u001b[0m\u001b[1;33m.\u001b[0m\u001b[0mis_feedable\u001b[0m\u001b[1;33m(\u001b[0m\u001b[0msubfeed_t\u001b[0m\u001b[1;33m)\u001b[0m\u001b[1;33m:\u001b[0m\u001b[1;33m\u001b[0m\u001b[0m\n\u001b[0;32m   1113\u001b[0m             \u001b[1;32mraise\u001b[0m \u001b[0mValueError\u001b[0m\u001b[1;33m(\u001b[0m\u001b[1;34m'Tensor %s may not be fed.'\u001b[0m \u001b[1;33m%\u001b[0m \u001b[0msubfeed_t\u001b[0m\u001b[1;33m)\u001b[0m\u001b[1;33m\u001b[0m\u001b[0m\n",
      "\u001b[1;31mValueError\u001b[0m: Cannot feed value of shape (2, 3, 96, 160, 3) for Tensor 'img_in:0', which has shape '(4, 3, 96, 160, 3)'"
     ]
    }
   ],
   "source": [
    "h = model.fit(np.array(sequences), [labels_speed, labels_dir], batch_size=4, epochs=10, validation_split=0.2, verbose=1, callbacks=[best_checkpoint])"
   ]
  },
  {
   "cell_type": "code",
   "execution_count": null,
   "metadata": {},
   "outputs": [],
   "source": [
    "#print History graph\n",
    "historydf = pd.DataFrame(h.history, index=h.epoch)\n",
    "historydf.plot(ylim=(0,1))"
   ]
  },
  {
   "cell_type": "code",
   "execution_count": null,
   "metadata": {},
   "outputs": [],
   "source": []
  },
  {
   "cell_type": "code",
   "execution_count": null,
   "metadata": {},
   "outputs": [],
   "source": []
  },
  {
   "cell_type": "code",
   "execution_count": null,
   "metadata": {},
   "outputs": [],
   "source": [
    "#######################  VALIDATION"
   ]
  },
  {
   "cell_type": "code",
   "execution_count": 17,
   "metadata": {},
   "outputs": [],
   "source": [
    "#from keras.models import load_model\n",
    "#model = load_model(\"../../best_model_bigrace_original_RNN_5.h5\")"
   ]
  },
  {
   "cell_type": "code",
   "execution_count": 18,
   "metadata": {},
   "outputs": [],
   "source": [
    "#print(model.to_json())"
   ]
  },
  {
   "cell_type": "code",
   "execution_count": 19,
   "metadata": {},
   "outputs": [
    {
     "name": "stdout",
     "output_type": "stream",
     "text": [
      "Loaded Images and labels for validation: 1645\n"
     ]
    }
   ],
   "source": [
    "directory = '../../../../'+dataset+'/Val'\n",
    "images_val, labels_speed_val, labels_dir_val = load_photos(directory)\n",
    "nb_images_val = len(images_val)\n",
    "print('Loaded Images and labels for validation: %d' % nb_images_val)"
   ]
  },
  {
   "cell_type": "code",
   "execution_count": 20,
   "metadata": {},
   "outputs": [],
   "source": [
    "images_val = np.array(images_val)\n",
    "images_val /= 255.0"
   ]
  },
  {
   "cell_type": "code",
   "execution_count": null,
   "metadata": {},
   "outputs": [],
   "source": []
  },
  {
   "cell_type": "code",
   "execution_count": 21,
   "metadata": {},
   "outputs": [],
   "source": [
    "# Get predictions\n",
    "all_preds = model.predict(images_val)\n",
    "\n",
    "speed_preds = []\n",
    "for elem in all_preds[0]:\n",
    "    speed_preds.append(np.argmax(elem))\n",
    "    \n",
    "dir_preds = []\n",
    "for elem in all_preds[1]:\n",
    "    dir_preds.append(np.argmax(elem))"
   ]
  },
  {
   "cell_type": "code",
   "execution_count": 22,
   "metadata": {},
   "outputs": [
    {
     "name": "stdout",
     "output_type": "stream",
     "text": [
      "error_rate = 0.06569343065693431\n"
     ]
    }
   ],
   "source": [
    "res = 0\n",
    "for i, value in enumerate(speed_preds):\n",
    "    if value != labels_speed_val[i]:\n",
    "        res += 1\n",
    "print(\"error_rate = \" + str(res/i))"
   ]
  },
  {
   "cell_type": "code",
   "execution_count": 23,
   "metadata": {},
   "outputs": [
    {
     "name": "stdout",
     "output_type": "stream",
     "text": [
      "total error = 0.10279805352798053 0_error = 0.168 1_error = 0.1242603550295858 2_error = 0.052521008403361345 3_error = 0.12389380530973451 4_error = 0.0728744939271255\n"
     ]
    }
   ],
   "source": [
    "res = 0\n",
    "\n",
    "i_0 = 1\n",
    "res_0 = 0\n",
    "res_0_1 = 0\n",
    "res_0_2 = 0\n",
    "res_0_3 = 0\n",
    "res_0_4 = 0\n",
    "\n",
    "i_1 = 1\n",
    "res_1 = 0\n",
    "res_1_1 = 0\n",
    "res_1_2 = 0\n",
    "res_1_3 = 0\n",
    "\n",
    "i_2 = 1\n",
    "res_2 = 0\n",
    "res_2_1 = 0\n",
    "res_2_2 = 0\n",
    "\n",
    "i_3 = 1\n",
    "res_3 = 0\n",
    "res_3_1 = 0\n",
    "res_3_2 = 0\n",
    "res_3_3 = 0\n",
    "\n",
    "i_4 = 1\n",
    "res_4 = 0\n",
    "res_4_1 = 0\n",
    "res_4_2 = 0\n",
    "res_4_3 = 0\n",
    "res_4_4 = 0\n",
    "\n",
    "for value in labels_dir_val:\n",
    "    if value == 0:\n",
    "        i_0 += 1\n",
    "    elif value == 1:\n",
    "        i_1 += 1\n",
    "    elif value == 2:\n",
    "        i_2 += 1\n",
    "    elif value == 3:\n",
    "        i_3 += 1\n",
    "    elif value == 4:\n",
    "        i_4 += 1\n",
    "\n",
    "for i, value in enumerate(dir_preds):\n",
    "    if value != labels_dir_val[i]:\n",
    "        res += 1\n",
    "        if labels_dir_val[i] == 0:    \n",
    "            res_0 += 1\n",
    "            if abs(labels_dir_val[i] - value) == 1:\n",
    "                res_0_1 += 1\n",
    "            elif abs(labels_dir_val[i] - value) == 2:\n",
    "                res_0_2 += 1\n",
    "            elif abs(labels_dir_val[i] - value) == 3:\n",
    "                res_0_3 += 1\n",
    "            elif abs(labels_dir_val[i] - value) == 4:\n",
    "                res_0_4 += 1\n",
    "        elif labels_dir_val[i] == 1:\n",
    "            res_1 += 1\n",
    "            if abs(labels_dir_val[i] - value) == 1:\n",
    "                res_1_1 += 1\n",
    "            elif abs(labels_dir_val[i] - value) == 2:\n",
    "                res_1_2 += 1\n",
    "            elif abs(labels_dir_val[i] - value) == 3:\n",
    "                res_1_3 += 1\n",
    "        elif labels_dir_val[i] == 2:\n",
    "            res_2 += 1\n",
    "            if abs(labels_dir_val[i] - value) == 1:\n",
    "                res_2_1 += 1\n",
    "            elif abs(labels_dir_val[i] - value) == 2:\n",
    "                res_2_2 += 1\n",
    "        elif labels_dir_val[i] == 3:\n",
    "            res_3 += 1\n",
    "            if abs(labels_dir_val[i] - value) == 1:\n",
    "                res_3_1 += 1\n",
    "            elif abs(labels_dir_val[i] - value) == 2:\n",
    "                res_3_2 += 1\n",
    "            elif abs(labels_dir_val[i] - value) == 3:\n",
    "                res_3_3 += 1\n",
    "        elif labels_dir_val[i] == 4:\n",
    "            res_4 += 1\n",
    "            if abs(labels_dir_val[i] - value) == 1:\n",
    "                res_4_1 += 1\n",
    "            elif abs(labels_dir_val[i] - value) == 2:\n",
    "                res_4_2 += 1\n",
    "            elif abs(labels_dir_val[i] - value) == 3:\n",
    "                res_4_3 += 1\n",
    "            elif abs(labels_dir_val[i] - value) == 4:\n",
    "                res_4_4 += 1\n",
    "\n",
    "        \n",
    "print(\"total error = \" + str(res/i), \"0_error = \" + str(res_0/i_0), \"1_error = \" + str(res_1/i_1), \"2_error = \" + str(res_2/i_2), \"3_error = \" + str(res_3/i_3), \"4_error = \" + str(res_4/i_4), )"
   ]
  },
  {
   "cell_type": "code",
   "execution_count": 24,
   "metadata": {},
   "outputs": [
    {
     "data": {
      "text/plain": [
       "Text(0.5,1,'Mean Errors by direction')"
      ]
     },
     "execution_count": 24,
     "metadata": {},
     "output_type": "execute_result"
    },
    {
     "data": {
      "image/png": "[encoded data removed]",
      "text/plain": [
       "<Figure size 432x288 with 1 Axes>"
      ]
     },
     "metadata": {},
     "output_type": "display_data"
    }
   ],
   "source": [
    "x = ['0','1','2','3','4']\n",
    "plt.bar(x, height= [res_0/i_0, res_1/i_1, res_2/i_2, res_3/i_3, res_4/i_4])\n",
    "plt.xticks(x, ['0','1','2','3','4']);\n",
    "plt.title(\"Mean Errors by direction\")"
   ]
  },
  {
   "cell_type": "code",
   "execution_count": 25,
   "metadata": {},
   "outputs": [
    {
     "data": {
      "text/plain": [
       "Text(0.5,1,'0 Errors')"
      ]
     },
     "execution_count": 25,
     "metadata": {},
     "output_type": "execute_result"
    },
    {
     "data": {
      "image/png": "[encoded data removed]",
      "text/plain": [
       "<Figure size 432x288 with 1 Axes>"
      ]
     },
     "metadata": {},
     "output_type": "display_data"
    }
   ],
   "source": [
    "x = ['1','2','3','4']\n",
    "plt.bar(x, height= [res_0_1/res_0, res_0_2/res_0, res_0_3/res_0, res_0_4/res_0])\n",
    "plt.xticks(x, ['1','2','3','4']);\n",
    "plt.title(\"0 Errors\")"
   ]
  },
  {
   "cell_type": "code",
   "execution_count": 26,
   "metadata": {},
   "outputs": [
    {
     "data": {
      "text/plain": [
       "Text(0.5,1,'1 Errors')"
      ]
     },
     "execution_count": 26,
     "metadata": {},
     "output_type": "execute_result"
    },
    {
     "data": {
      "image/png": "[encoded data removed]",
      "text/plain": [
       "<Figure size 432x288 with 1 Axes>"
      ]
     },
     "metadata": {},
     "output_type": "display_data"
    }
   ],
   "source": [
    "x = ['1','2','3']\n",
    "plt.bar(x, height= [res_1_1/res_1, res_1_2/res_1, res_1_3/res_1])\n",
    "plt.xticks(x, ['0, 2','3', '4']);\n",
    "plt.title(\"1 Errors\")"
   ]
  },
  {
   "cell_type": "code",
   "execution_count": 27,
   "metadata": {},
   "outputs": [
    {
     "data": {
      "text/plain": [
       "Text(0.5,1,'2 Errors')"
      ]
     },
     "execution_count": 27,
     "metadata": {},
     "output_type": "execute_result"
    },
    {
     "data": {
      "image/png": "[encoded data removed]",
      "text/plain": [
       "<Figure size 432x288 with 1 Axes>"
      ]
     },
     "metadata": {},
     "output_type": "display_data"
    }
   ],
   "source": [
    "x = ['1','2']\n",
    "plt.bar(x, height= [res_2_1/res_2, res_2_2/res_2])\n",
    "plt.xticks(x, ['1, 3','0, 4']);\n",
    "plt.title(\"2 Errors\")"
   ]
  },
  {
   "cell_type": "code",
   "execution_count": 28,
   "metadata": {},
   "outputs": [
    {
     "data": {
      "text/plain": [
       "Text(0.5,1,'3 Errors')"
      ]
     },
     "execution_count": 28,
     "metadata": {},
     "output_type": "execute_result"
    },
    {
     "data": {
      "image/png": "[encoded data removed]",
      "text/plain": [
       "<Figure size 432x288 with 1 Axes>"
      ]
     },
     "metadata": {},
     "output_type": "display_data"
    }
   ],
   "source": [
    "x = ['1','2','3']\n",
    "plt.bar(x, height= [res_3_1/res_3, res_3_2/res_3, res_3_3/res_3])\n",
    "plt.xticks(x, ['2, 4','1', '0']);\n",
    "plt.title(\"3 Errors\")"
   ]
  },
  {
   "cell_type": "code",
   "execution_count": 29,
   "metadata": {},
   "outputs": [
    {
     "data": {
      "text/plain": [
       "Text(0.5,1,'4 Errors')"
      ]
     },
     "execution_count": 29,
     "metadata": {},
     "output_type": "execute_result"
    },
    {
     "data": {
      "image/png": "[encoded data removed]",
      "text/plain": [
       "<Figure size 432x288 with 1 Axes>"
      ]
     },
     "metadata": {},
     "output_type": "display_data"
    }
   ],
   "source": [
    "x = ['1','2','3','4']\n",
    "plt.bar(x, height= [res_4_1/res_4, res_4_2/res_4, res_4_3/res_4, res_4_4/res_4])\n",
    "plt.xticks(x, ['3','2','1','0']);\n",
    "plt.title(\"4 Errors\")"
   ]
  },
  {
   "cell_type": "code",
   "execution_count": null,
   "metadata": {},
   "outputs": [],
   "source": []
  },
  {
   "cell_type": "code",
   "execution_count": null,
   "metadata": {},
   "outputs": [],
   "source": []
  }
 ],
 "metadata": {
  "kernelspec": {
   "display_name": "Python 3",
   "language": "python",
   "name": "python3"
  },
  "language_info": {
   "codemirror_mode": {
    "name": "ipython",
    "version": 3
   },
   "file_extension": ".py",
   "mimetype": "text/x-python",
   "name": "python",
   "nbconvert_exporter": "python",
   "pygments_lexer": "ipython3",
   "version": "3.6.5"
  }
 },
 "nbformat": 4,
 "nbformat_minor": 2
}
