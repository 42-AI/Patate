{
 "cells": [
  {
   "cell_type": "code",
   "execution_count": 1,
   "metadata": {},
   "outputs": [
    {
     "name": "stderr",
     "output_type": "stream",
     "text": [
      "C:\\Users\\Klhnikov\\Anaconda3\\lib\\site-packages\\h5py\\__init__.py:36: FutureWarning: Conversion of the second argument of issubdtype from `float` to `np.floating` is deprecated. In future, it will be treated as `np.float64 == np.dtype(float).type`.\n",
      "  from ._conv import register_converters as _register_converters\n",
      "Using TensorFlow backend.\n"
     ]
    }
   ],
   "source": [
    "from os import listdir\n",
    "from keras.preprocessing.image import load_img\n",
    "from keras.preprocessing.image import img_to_array\n",
    "from PIL import Image\n",
    "import numpy as np\n",
    "import pandas as pd\n",
    "%matplotlib inline\n",
    "import matplotlib.pyplot as plt\n",
    "import random"
   ]
  },
  {
   "cell_type": "code",
   "execution_count": 2,
   "metadata": {},
   "outputs": [],
   "source": [
    "def load_photos(directory):\n",
    "    images = []\n",
    "    labels_speed = []\n",
    "    labels_dir = []\n",
    "    dir_list = listdir(directory)\n",
    "    random.shuffle(dir_list)\n",
    "    for name in dir_list:\n",
    "        filename = directory + '/' + name\n",
    "        # load an image from file\n",
    "        image = load_img(filename, target_size=(96, 160))\n",
    "        # convert the image pixels to a numpy array\n",
    "        image = img_to_array(image)\n",
    "        # get image id + labels\n",
    "        value_dir = float(name.split('_')[1])\n",
    "        value_speed = float(name.split('_')[0])\n",
    "        labels_dir.append(value_dir)\n",
    "        labels_speed.append(value_speed)\n",
    "        images.append(image)\n",
    "    return images, labels_speed, labels_dir"
   ]
  },
  {
   "cell_type": "code",
   "execution_count": 3,
   "metadata": {},
   "outputs": [],
   "source": [
    "#dataset = \"Pics/BigOne_5\"\n",
    "dataset = \"Pics/SchoolTrack/SchoolTrack_Cleaned_Mirrored_5\"\n",
    "#dataset = \"Pics/RaceTrack/NewTrack_noFE_Cleaned_Mirrored_5\""
   ]
  },
  {
   "cell_type": "code",
   "execution_count": 4,
   "metadata": {},
   "outputs": [
    {
     "name": "stdout",
     "output_type": "stream",
     "text": [
      "Loaded Images and labels for training: 1688\n"
     ]
    }
   ],
   "source": [
    "# load images from both train and test groups\n",
    "directory = '../../../'+dataset+'/Train'\n",
    "images, labels_speed, labels_dir = load_photos(directory)\n",
    "nb_images = len(images)\n",
    "print('Loaded Images and labels for training: %d' % nb_images)"
   ]
  },
  {
   "cell_type": "code",
   "execution_count": null,
   "metadata": {},
   "outputs": [],
   "source": []
  },
  {
   "cell_type": "code",
   "execution_count": 5,
   "metadata": {},
   "outputs": [],
   "source": [
    "#Normalise images\n",
    "images = np.array(images)\n",
    "images /= 255"
   ]
  },
  {
   "cell_type": "code",
   "execution_count": 6,
   "metadata": {},
   "outputs": [],
   "source": [
    "#convert datas to dummyvalues\n",
    "labels_speed = np.array(pd.get_dummies(labels_speed))\n",
    "labels_dir = np.array(pd.get_dummies(labels_dir))"
   ]
  },
  {
   "cell_type": "code",
   "execution_count": 7,
   "metadata": {},
   "outputs": [
    {
     "data": {
      "text/plain": [
       "(array([1, 0], dtype=uint8),\n",
       " array([0, 0, 0, 0, 1], dtype=uint8),\n",
       " <matplotlib.image.AxesImage at 0x1748da88320>)"
      ]
     },
     "execution_count": 7,
     "metadata": {},
     "output_type": "execute_result"
    },
    {
     "data": {
      "image/png": "[encoded data removed]",
      "text/plain": [
       "<Figure size 432x288 with 1 Axes>"
      ]
     },
     "metadata": {},
     "output_type": "display_data"
    }
   ],
   "source": [
    "labels_speed[42], labels_dir[42], plt.imshow(images[42])"
   ]
  },
  {
   "cell_type": "code",
   "execution_count": null,
   "metadata": {},
   "outputs": [],
   "source": []
  },
  {
   "cell_type": "code",
   "execution_count": 8,
   "metadata": {},
   "outputs": [],
   "source": [
    "from keras.models import Model, Sequential\n",
    "from keras.layers import *\n",
    "import keras.backend as K\n",
    "import keras.optimizers as Optimizers\n",
    "import keras.callbacks"
   ]
  },
  {
   "cell_type": "code",
   "execution_count": 9,
   "metadata": {},
   "outputs": [],
   "source": [
    "#from keras.models import load_model\n",
    "#model = load_model(\"model.h5\")"
   ]
  },
  {
   "cell_type": "code",
   "execution_count": null,
   "metadata": {},
   "outputs": [],
   "source": []
  },
  {
   "cell_type": "code",
   "execution_count": 50,
   "metadata": {},
   "outputs": [
    {
     "name": "stdout",
     "output_type": "stream",
     "text": [
      "__________________________________________________________________________________________________\n",
      "Layer (type)                    Output Shape         Param #     Connected to                     \n",
      "==================================================================================================\n",
      "img_in (InputLayer)             (None, 96, 160, 3)   0                                            \n",
      "__________________________________________________________________________________________________\n",
      "conv2d_1 (Conv2D)               (None, 46, 78, 24)   1800        img_in[0][0]                     \n",
      "__________________________________________________________________________________________________\n",
      "batch_normalization_1 (BatchNor (None, 46, 78, 24)   96          conv2d_1[0][0]                   \n",
      "__________________________________________________________________________________________________\n",
      "activation_1 (Activation)       (None, 46, 78, 24)   0           batch_normalization_1[0][0]      \n",
      "__________________________________________________________________________________________________\n",
      "conv2d_2 (Conv2D)               (None, 21, 37, 32)   19200       activation_1[0][0]               \n",
      "__________________________________________________________________________________________________\n",
      "batch_normalization_2 (BatchNor (None, 21, 37, 32)   128         conv2d_2[0][0]                   \n",
      "__________________________________________________________________________________________________\n",
      "activation_2 (Activation)       (None, 21, 37, 32)   0           batch_normalization_2[0][0]      \n",
      "__________________________________________________________________________________________________\n",
      "conv2d_3 (Conv2D)               (None, 9, 17, 64)    51200       activation_2[0][0]               \n",
      "__________________________________________________________________________________________________\n",
      "batch_normalization_3 (BatchNor (None, 9, 17, 64)    256         conv2d_3[0][0]                   \n",
      "__________________________________________________________________________________________________\n",
      "activation_3 (Activation)       (None, 9, 17, 64)    0           batch_normalization_3[0][0]      \n",
      "__________________________________________________________________________________________________\n",
      "conv2d_4 (Conv2D)               (None, 4, 8, 64)     36864       activation_3[0][0]               \n",
      "__________________________________________________________________________________________________\n",
      "batch_normalization_4 (BatchNor (None, 4, 8, 64)     256         conv2d_4[0][0]                   \n",
      "__________________________________________________________________________________________________\n",
      "activation_4 (Activation)       (None, 4, 8, 64)     0           batch_normalization_4[0][0]      \n",
      "__________________________________________________________________________________________________\n",
      "conv2d_5 (Conv2D)               (None, 1, 3, 64)     36864       activation_4[0][0]               \n",
      "__________________________________________________________________________________________________\n",
      "batch_normalization_5 (BatchNor (None, 1, 3, 64)     256         conv2d_5[0][0]                   \n",
      "__________________________________________________________________________________________________\n",
      "activation_5 (Activation)       (None, 1, 3, 64)     0           batch_normalization_5[0][0]      \n",
      "__________________________________________________________________________________________________\n",
      "flattened (Flatten)             (None, 192)          0           activation_5[0][0]               \n",
      "__________________________________________________________________________________________________\n",
      "dense_1 (Dense)                 (None, 1124)         216932      flattened[0][0]                  \n",
      "__________________________________________________________________________________________________\n",
      "batch_normalization_6 (BatchNor (None, 1124)         4496        dense_1[0][0]                    \n",
      "__________________________________________________________________________________________________\n",
      "activation_6 (Activation)       (None, 1124)         0           batch_normalization_6[0][0]      \n",
      "__________________________________________________________________________________________________\n",
      "dropout_1 (Dropout)             (None, 1124)         0           activation_6[0][0]               \n",
      "__________________________________________________________________________________________________\n",
      "dense_2 (Dense)                 (None, 100)          112400      dropout_1[0][0]                  \n",
      "__________________________________________________________________________________________________\n",
      "batch_normalization_7 (BatchNor (None, 100)          400         dense_2[0][0]                    \n",
      "__________________________________________________________________________________________________\n",
      "activation_7 (Activation)       (None, 100)          0           batch_normalization_7[0][0]      \n",
      "__________________________________________________________________________________________________\n",
      "dropout_2 (Dropout)             (None, 100)          0           activation_7[0][0]               \n",
      "__________________________________________________________________________________________________\n",
      "dense_3 (Dense)                 (None, 50)           5000        dropout_2[0][0]                  \n",
      "__________________________________________________________________________________________________\n",
      "batch_normalization_8 (BatchNor (None, 50)           200         dense_3[0][0]                    \n",
      "__________________________________________________________________________________________________\n",
      "activation_8 (Activation)       (None, 50)           0           batch_normalization_8[0][0]      \n",
      "__________________________________________________________________________________________________\n",
      "dense_4 (Dense)                 (None, 10)           500         activation_8[0][0]               \n",
      "__________________________________________________________________________________________________\n",
      "batch_normalization_9 (BatchNor (None, 10)           40          dense_4[0][0]                    \n",
      "__________________________________________________________________________________________________\n",
      "activation_9 (Activation)       (None, 10)           0           batch_normalization_9[0][0]      \n",
      "__________________________________________________________________________________________________\n",
      "dense_5 (Dense)                 (None, 2)            22          activation_9[0][0]               \n",
      "__________________________________________________________________________________________________\n",
      "dense_6 (Dense)                 (None, 5)            55          activation_9[0][0]               \n",
      "==================================================================================================\n",
      "Total params: 486,965\n",
      "Trainable params: 483,901\n",
      "Non-trainable params: 3,064\n",
      "__________________________________________________________________________________________________\n"
     ]
    }
   ],
   "source": [
    "'''\n",
    "Model from Donkey\n",
    "'''\n",
    "\n",
    "K.clear_session()\n",
    "############################################################# \n",
    "\n",
    "img_in = Input(shape=(96, 160, 3), name='img_in')\n",
    "x = img_in\n",
    "\n",
    "# Convolution Layers\n",
    "x = Convolution2D(filters=24, kernel_size=(5, 5), strides=(2, 2), use_bias=False)(x)\n",
    "x = BatchNormalization()(x)\n",
    "x = Activation(\"relu\")(x)\n",
    "x = Convolution2D(filters=32, kernel_size=(5, 5), strides=(2, 2), use_bias=False)(x)\n",
    "x = BatchNormalization()(x)\n",
    "x = Activation(\"relu\")(x)\n",
    "x = Convolution2D(filters=64, kernel_size=(5, 5), strides=(2, 2), use_bias=False)(x)\n",
    "x = BatchNormalization()(x)\n",
    "x = Activation(\"relu\")(x)\n",
    "x = Convolution2D(filters=64, kernel_size=(3, 3), strides=(2, 2), use_bias=False)(x)\n",
    "x = BatchNormalization()(x)\n",
    "x = Activation(\"relu\")(x)\n",
    "x = Convolution2D(filters=64, kernel_size=(3, 3), strides=(2, 2), use_bias=False)(x)\n",
    "x = BatchNormalization()(x)\n",
    "x = Activation(\"relu\")(x)\n",
    "\n",
    "x = Flatten(name='flattened')(x)\n",
    "\n",
    "# Fully Connected Layers\n",
    "x = Dense(1124)(x)\n",
    "x = BatchNormalization()(x)\n",
    "x = Activation(\"relu\")(x)\n",
    "x = Dropout(0.2)(x)\n",
    "x = Dense(100, use_bias=False)(x)\n",
    "x = BatchNormalization()(x)\n",
    "x = Activation(\"relu\")(x)\n",
    "x = Dropout(0.2)(x)\n",
    "x = Dense(50, use_bias=False)(x)\n",
    "x = BatchNormalization()(x)\n",
    "x = Activation(\"relu\")(x)\n",
    "x = Dense(10, use_bias=False)(x)\n",
    "x = BatchNormalization()(x)\n",
    "x = Activation(\"relu\")(x)\n",
    "\n",
    "\n",
    "# Multitask Output\n",
    "out_speed = Dense(2, activation='softmax')(x)\n",
    "out_dir = Dense(5, activation='softmax')(x)\n",
    "\n",
    "\n",
    "# Compile Model\n",
    "model = Model(inputs=[img_in], outputs=[out_speed, out_dir])\n",
    "model.compile(loss='categorical_crossentropy', optimizer='adadelta', metrics=['accuracy'])\n",
    "\n",
    "model.summary()"
   ]
  },
  {
   "cell_type": "code",
   "execution_count": 51,
   "metadata": {},
   "outputs": [],
   "source": [
    "model_name=\"model_school_original_5.h5\""
   ]
  },
  {
   "cell_type": "code",
   "execution_count": 52,
   "metadata": {},
   "outputs": [],
   "source": [
    "#save best model if model improved\n",
    "best_checkpoint = keras.callbacks.ModelCheckpoint(model_name, monitor='val_loss', verbose=1, save_best_only=True, mode='min')"
   ]
  },
  {
   "cell_type": "code",
   "execution_count": null,
   "metadata": {
    "scrolled": false
   },
   "outputs": [
    {
     "name": "stdout",
     "output_type": "stream",
     "text": [
      "Train on 1181 samples, validate on 507 samples\n",
      "Epoch 1/10\n",
      "1181/1181 [==============================] - 193s 163ms/step - loss: 2.4443 - dense_5_loss: 0.8416 - dense_6_loss: 1.6027 - dense_5_acc: 0.4259 - dense_6_acc: 0.2972 - val_loss: 2.1699 - val_dense_5_loss: 0.5961 - val_dense_6_loss: 1.5739 - val_dense_5_acc: 0.7120 - val_dense_6_acc: 0.4142\n",
      "\n",
      "Epoch 00001: val_loss improved from inf to 2.16992, saving model to model_school_original_5.h5\n",
      "Epoch 2/10\n",
      "1181/1181 [==============================] - 215s 182ms/step - loss: 1.6546 - dense_5_loss: 0.5836 - dense_6_loss: 1.0710 - dense_5_acc: 0.7502 - dense_6_acc: 0.6655 - val_loss: 1.4344 - val_dense_5_loss: 0.5101 - val_dense_6_loss: 0.9243 - val_dense_5_acc: 0.8521 - val_dense_6_acc: 0.7791\n",
      "\n",
      "Epoch 00002: val_loss improved from 2.16992 to 1.43442, saving model to model_school_original_5.h5\n",
      "Epoch 3/10\n",
      " 448/1181 [==========>...................] - ETA: 2:07 - loss: 1.3402 - dense_5_loss: 0.4838 - dense_6_loss: 0.8564 - dense_5_acc: 0.8705 - dense_6_acc: 0.7723"
     ]
    }
   ],
   "source": [
    "h = model.fit(images, [labels_speed, labels_dir], batch_size=32, epochs=10, validation_split=0.3, verbose=1, callbacks=[best_checkpoint])"
   ]
  },
  {
   "cell_type": "code",
   "execution_count": null,
   "metadata": {},
   "outputs": [],
   "source": [
    "#print History graph\n",
    "historydf = pd.DataFrame(h.history, index=h.epoch)\n",
    "historydf.plot(ylim=(0,1))"
   ]
  },
  {
   "cell_type": "code",
   "execution_count": null,
   "metadata": {},
   "outputs": [],
   "source": []
  },
  {
   "cell_type": "code",
   "execution_count": null,
   "metadata": {},
   "outputs": [],
   "source": []
  },
  {
   "cell_type": "code",
   "execution_count": 36,
   "metadata": {},
   "outputs": [],
   "source": [
    "#######################  VALIDATION"
   ]
  },
  {
   "cell_type": "code",
   "execution_count": 37,
   "metadata": {},
   "outputs": [],
   "source": [
    "#from keras.models import load_model\n",
    "#model = load_model(\"../../model_multi_race5.h5\")"
   ]
  },
  {
   "cell_type": "code",
   "execution_count": 38,
   "metadata": {},
   "outputs": [],
   "source": [
    "#print(model.to_json())"
   ]
  },
  {
   "cell_type": "code",
   "execution_count": 39,
   "metadata": {},
   "outputs": [
    {
     "name": "stdout",
     "output_type": "stream",
     "text": [
      "Loaded Images and labels for validation: 350\n"
     ]
    }
   ],
   "source": [
    "directory = '../../../'+dataset+'/Val'\n",
    "images_val, labels_speed_val, labels_dir_val = load_photos(directory)\n",
    "nb_images_val = len(images_val)\n",
    "print('Loaded Images and labels for validation: %d' % nb_images_val)"
   ]
  },
  {
   "cell_type": "code",
   "execution_count": 40,
   "metadata": {},
   "outputs": [],
   "source": [
    "images_val = np.array(images_val)\n",
    "images_val /= 255"
   ]
  },
  {
   "cell_type": "code",
   "execution_count": null,
   "metadata": {},
   "outputs": [],
   "source": []
  },
  {
   "cell_type": "code",
   "execution_count": 41,
   "metadata": {},
   "outputs": [],
   "source": [
    "# Get predictions\n",
    "all_preds = model.predict(images_val)\n",
    "\n",
    "speed_preds = []\n",
    "for elem in all_preds[0]:\n",
    "    speed_preds.append(np.argmax(elem))\n",
    "    \n",
    "dir_preds = []\n",
    "for elem in all_preds[1]:\n",
    "    dir_preds.append(np.argmax(elem))"
   ]
  },
  {
   "cell_type": "code",
   "execution_count": 42,
   "metadata": {},
   "outputs": [
    {
     "name": "stdout",
     "output_type": "stream",
     "text": [
      "error_rate = 0.166189111747851\n"
     ]
    }
   ],
   "source": [
    "res = 0\n",
    "for i, value in enumerate(speed_preds):\n",
    "    if value != labels_speed_val[i]:\n",
    "        res += 1\n",
    "print(\"error_rate = \" + str(res/i))"
   ]
  },
  {
   "cell_type": "code",
   "execution_count": 43,
   "metadata": {},
   "outputs": [
    {
     "name": "stdout",
     "output_type": "stream",
     "text": [
      "total error = 0.2492836676217765 0_error = 0.29411764705882354 1_error = 0.5555555555555556 2_error = 0.045454545454545456 3_error = 0.14864864864864866 4_error = 0.3333333333333333\n"
     ]
    }
   ],
   "source": [
    "res = 0\n",
    "\n",
    "i_0 = 1\n",
    "res_0 = 0\n",
    "res_0_1 = 0\n",
    "res_0_2 = 0\n",
    "res_0_3 = 0\n",
    "res_0_4 = 0\n",
    "\n",
    "i_1 = 1\n",
    "res_1 = 0\n",
    "res_1_1 = 0\n",
    "res_1_2 = 0\n",
    "res_1_3 = 0\n",
    "\n",
    "i_2 = 1\n",
    "res_2 = 0\n",
    "res_2_1 = 0\n",
    "res_2_2 = 0\n",
    "\n",
    "i_3 = 1\n",
    "res_3 = 0\n",
    "res_3_1 = 0\n",
    "res_3_2 = 0\n",
    "res_3_3 = 0\n",
    "\n",
    "i_4 = 1\n",
    "res_4 = 0\n",
    "res_4_1 = 0\n",
    "res_4_2 = 0\n",
    "res_4_3 = 0\n",
    "res_4_4 = 0\n",
    "\n",
    "for value in labels_dir_val:\n",
    "    if value == 0:\n",
    "        i_0 += 1\n",
    "    elif value == 1:\n",
    "        i_1 += 1\n",
    "    elif value == 2:\n",
    "        i_2 += 1\n",
    "    elif value == 3:\n",
    "        i_3 += 1\n",
    "    elif value == 4:\n",
    "        i_4 += 1\n",
    "\n",
    "for i, value in enumerate(dir_preds):\n",
    "    if value != labels_dir_val[i]:\n",
    "        res += 1\n",
    "        if labels_dir_val[i] == 0:    \n",
    "            res_0 += 1\n",
    "            if abs(labels_dir_val[i] - value) == 1:\n",
    "                res_0_1 += 1\n",
    "            elif abs(labels_dir_val[i] - value) == 2:\n",
    "                res_0_2 += 1\n",
    "            elif abs(labels_dir_val[i] - value) == 3:\n",
    "                res_0_3 += 1\n",
    "            elif abs(labels_dir_val[i] - value) == 4:\n",
    "                res_0_4 += 1\n",
    "        elif labels_dir_val[i] == 1:\n",
    "            res_1 += 1\n",
    "            if abs(labels_dir_val[i] - value) == 1:\n",
    "                res_1_1 += 1\n",
    "            elif abs(labels_dir_val[i] - value) == 2:\n",
    "                res_1_2 += 1\n",
    "            elif abs(labels_dir_val[i] - value) == 3:\n",
    "                res_1_3 += 1\n",
    "        elif labels_dir_val[i] == 2:\n",
    "            res_2 += 1\n",
    "            if abs(labels_dir_val[i] - value) == 1:\n",
    "                res_2_1 += 1\n",
    "            elif abs(labels_dir_val[i] - value) == 2:\n",
    "                res_2_2 += 1\n",
    "        elif labels_dir_val[i] == 3:\n",
    "            res_3 += 1\n",
    "            if abs(labels_dir_val[i] - value) == 1:\n",
    "                res_3_1 += 1\n",
    "            elif abs(labels_dir_val[i] - value) == 2:\n",
    "                res_3_2 += 1\n",
    "            elif abs(labels_dir_val[i] - value) == 3:\n",
    "                res_3_3 += 1\n",
    "        elif labels_dir_val[i] == 4:\n",
    "            res_4 += 1\n",
    "            if abs(labels_dir_val[i] - value) == 1:\n",
    "                res_4_1 += 1\n",
    "            elif abs(labels_dir_val[i] - value) == 2:\n",
    "                res_4_2 += 1\n",
    "            elif abs(labels_dir_val[i] - value) == 3:\n",
    "                res_4_3 += 1\n",
    "            elif abs(labels_dir_val[i] - value) == 4:\n",
    "                res_4_4 += 1\n",
    "\n",
    "        \n",
    "print(\"total error = \" + str(res/i), \"0_error = \" + str(res_0/i_0), \"1_error = \" + str(res_1/i_1), \"2_error = \" + str(res_2/i_2), \"3_error = \" + str(res_3/i_3), \"4_error = \" + str(res_4/i_4), )"
   ]
  },
  {
   "cell_type": "code",
   "execution_count": 44,
   "metadata": {},
   "outputs": [
    {
     "data": {
      "text/plain": [
       "Text(0.5,1,'Mean Errors by direction')"
      ]
     },
     "execution_count": 44,
     "metadata": {},
     "output_type": "execute_result"
    },
    {
     "data": {
      "image/png": "[encoded data removed]",
      "text/plain": [
       "<Figure size 432x288 with 1 Axes>"
      ]
     },
     "metadata": {},
     "output_type": "display_data"
    }
   ],
   "source": [
    "x = ['0','1','2','3','4']\n",
    "plt.bar(x, height= [res_0/i_0, res_1/i_1, res_2/i_2, res_3/i_3, res_4/i_4])\n",
    "plt.xticks(x, ['0','1','2','3','4']);\n",
    "plt.title(\"Mean Errors by direction\")"
   ]
  },
  {
   "cell_type": "code",
   "execution_count": 45,
   "metadata": {},
   "outputs": [
    {
     "data": {
      "text/plain": [
       "Text(0.5,1,'0 Errors')"
      ]
     },
     "execution_count": 45,
     "metadata": {},
     "output_type": "execute_result"
    },
    {
     "data": {
      "image/png": "[encoded data removed]",
      "text/plain": [
       "<Figure size 432x288 with 1 Axes>"
      ]
     },
     "metadata": {},
     "output_type": "display_data"
    }
   ],
   "source": [
    "x = ['1','2','3','4']\n",
    "plt.bar(x, height= [res_0_1/res_0, res_0_2/res_0, res_0_3/res_0, res_0_4/res_0])\n",
    "plt.xticks(x, ['1','2','3','4']);\n",
    "plt.title(\"0 Errors\")"
   ]
  },
  {
   "cell_type": "code",
   "execution_count": 46,
   "metadata": {},
   "outputs": [
    {
     "data": {
      "text/plain": [
       "Text(0.5,1,'1 Errors')"
      ]
     },
     "execution_count": 46,
     "metadata": {},
     "output_type": "execute_result"
    },
    {
     "data": {
      "image/png": "[encoded data removed]",
      "text/plain": [
       "<Figure size 432x288 with 1 Axes>"
      ]
     },
     "metadata": {},
     "output_type": "display_data"
    }
   ],
   "source": [
    "x = ['1','2','3']\n",
    "plt.bar(x, height= [res_1_1/res_1, res_1_2/res_1, res_1_3/res_1])\n",
    "plt.xticks(x, ['0, 2','3', '4']);\n",
    "plt.title(\"1 Errors\")"
   ]
  },
  {
   "cell_type": "code",
   "execution_count": 47,
   "metadata": {},
   "outputs": [
    {
     "data": {
      "text/plain": [
       "Text(0.5,1,'2 Errors')"
      ]
     },
     "execution_count": 47,
     "metadata": {},
     "output_type": "execute_result"
    },
    {
     "data": {
      "image/png": "[encoded data removed]",
      "text/plain": [
       "<Figure size 432x288 with 1 Axes>"
      ]
     },
     "metadata": {},
     "output_type": "display_data"
    }
   ],
   "source": [
    "x = ['1','2']\n",
    "plt.bar(x, height= [res_2_1/res_2, res_2_2/res_2])\n",
    "plt.xticks(x, ['1, 3','0, 4']);\n",
    "plt.title(\"2 Errors\")"
   ]
  },
  {
   "cell_type": "code",
   "execution_count": 48,
   "metadata": {},
   "outputs": [
    {
     "data": {
      "text/plain": [
       "Text(0.5,1,'3 Errors')"
      ]
     },
     "execution_count": 48,
     "metadata": {},
     "output_type": "execute_result"
    },
    {
     "data": {
      "image/png": "[encoded data removed]",
      "text/plain": [
       "<Figure size 432x288 with 1 Axes>"
      ]
     },
     "metadata": {},
     "output_type": "display_data"
    }
   ],
   "source": [
    "x = ['1','2','3']\n",
    "plt.bar(x, height= [res_3_1/res_3, res_3_2/res_3, res_3_3/res_3])\n",
    "plt.xticks(x, ['2, 4','1', '0']);\n",
    "plt.title(\"3 Errors\")"
   ]
  },
  {
   "cell_type": "code",
   "execution_count": 49,
   "metadata": {},
   "outputs": [
    {
     "data": {
      "text/plain": [
       "Text(0.5,1,'4 Errors')"
      ]
     },
     "execution_count": 49,
     "metadata": {},
     "output_type": "execute_result"
    },
    {
     "data": {
      "image/png": "[encoded data removed]",
      "text/plain": [
       "<Figure size 432x288 with 1 Axes>"
      ]
     },
     "metadata": {},
     "output_type": "display_data"
    }
   ],
   "source": [
    "x = ['1','2','3','4']\n",
    "plt.bar(x, height= [res_4_1/res_4, res_4_2/res_4, res_4_3/res_4, res_4_4/res_4])\n",
    "plt.xticks(x, ['3','2','1','0']);\n",
    "plt.title(\"4 Errors\")"
   ]
  },
  {
   "cell_type": "code",
   "execution_count": null,
   "metadata": {},
   "outputs": [],
   "source": []
  },
  {
   "cell_type": "code",
   "execution_count": null,
   "metadata": {},
   "outputs": [],
   "source": []
  }
 ],
 "metadata": {
  "kernelspec": {
   "display_name": "Python 3",
   "language": "python",
   "name": "python3"
  },
  "language_info": {
   "codemirror_mode": {
    "name": "ipython",
    "version": 3
   },
   "file_extension": ".py",
   "mimetype": "text/x-python",
   "name": "python",
   "nbconvert_exporter": "python",
   "pygments_lexer": "ipython3",
   "version": "3.6.5"
  }
 },
 "nbformat": 4,
 "nbformat_minor": 2
}
